{
 "cells": [
  {
   "cell_type": "markdown",
   "id": "5d023321",
   "metadata": {},
   "source": [
    "# Gesture Recognition - Siddharth Parakh\n",
    "In this group project, you are going to build a 3D Conv model that will be able to predict the 5 gestures correctly. Please import the following libraries to get started."
   ]
  },
  {
   "cell_type": "code",
   "execution_count": 3,
   "id": "4f7ba517",
   "metadata": {},
   "outputs": [],
   "source": [
    "import numpy as np\n",
    "import os\n",
    "from scipy.misc import *\n",
    "#from scipy.misc import  imresize\n",
    "import imageio\n",
    "import datetime\n",
    "import os\n",
    "import warnings\n",
    "warnings.filterwarnings(\"ignore\")\n",
    "import abc\n",
    "from sys import getsizeof"
   ]
  },
  {
   "cell_type": "code",
   "execution_count": 2,
   "id": "8bb364d7",
   "metadata": {},
   "outputs": [
    {
     "name": "stdout",
     "output_type": "stream",
     "text": [
      "Collecting imageio\n",
      "  Downloading imageio-2.15.0-py3-none-any.whl (3.3 MB)\n",
      "Requirement already satisfied: numpy in c:\\users\\fv2\\.conda\\envs\\env3_6\\lib\\site-packages (from imageio) (1.19.2)\n",
      "Collecting pillow>=8.3.2\n",
      "  Downloading Pillow-8.4.0-cp36-cp36m-win_amd64.whl (3.2 MB)\n",
      "Installing collected packages: pillow, imageio\n",
      "Successfully installed imageio-2.15.0 pillow-8.4.0\n"
     ]
    }
   ],
   "source": [
    "#!pip install imageio"
   ]
  },
  {
   "cell_type": "code",
   "execution_count": 8,
   "id": "c6cab191",
   "metadata": {},
   "outputs": [
    {
     "name": "stdout",
     "output_type": "stream",
     "text": [
      "Requirement already satisfied: tensorflow in c:\\users\\fv2\\.conda\\envs\\env3_6\\lib\\site-packages (1.8.0)\n",
      "Requirement already satisfied: grpcio>=1.8.6 in c:\\users\\fv2\\.conda\\envs\\env3_6\\lib\\site-packages (from tensorflow) (1.36.1)\n",
      "Requirement already satisfied: wheel>=0.26 in c:\\users\\fv2\\.conda\\envs\\env3_6\\lib\\site-packages (from tensorflow) (0.37.1)\n",
      "Requirement already satisfied: astor>=0.6.0 in c:\\users\\fv2\\.conda\\envs\\env3_6\\lib\\site-packages (from tensorflow) (0.8.1)\n",
      "Requirement already satisfied: gast>=0.2.0 in c:\\users\\fv2\\.conda\\envs\\env3_6\\lib\\site-packages (from tensorflow) (0.5.3)\n",
      "Requirement already satisfied: tensorboard<1.9.0,>=1.8.0 in c:\\users\\fv2\\.conda\\envs\\env3_6\\lib\\site-packages (from tensorflow) (1.8.0)\n",
      "Requirement already satisfied: protobuf>=3.4.0 in c:\\users\\fv2\\.conda\\envs\\env3_6\\lib\\site-packages (from tensorflow) (3.17.2)\n",
      "Requirement already satisfied: termcolor>=1.1.0 in c:\\users\\fv2\\.conda\\envs\\env3_6\\lib\\site-packages (from tensorflow) (1.1.0)\n",
      "Requirement already satisfied: absl-py>=0.1.6 in c:\\users\\fv2\\.conda\\envs\\env3_6\\lib\\site-packages (from tensorflow) (0.15.0)\n",
      "Requirement already satisfied: numpy>=1.13.3 in c:\\users\\fv2\\.conda\\envs\\env3_6\\lib\\site-packages (from tensorflow) (1.19.2)\n",
      "Requirement already satisfied: six>=1.10.0 in c:\\users\\fv2\\.conda\\envs\\env3_6\\lib\\site-packages (from tensorflow) (1.16.0)\n",
      "Requirement already satisfied: markdown>=2.6.8 in c:\\users\\fv2\\.conda\\envs\\env3_6\\lib\\site-packages (from tensorboard<1.9.0,>=1.8.0->tensorflow) (3.3.4)\n",
      "Requirement already satisfied: html5lib==0.9999999 in c:\\users\\fv2\\.conda\\envs\\env3_6\\lib\\site-packages (from tensorboard<1.9.0,>=1.8.0->tensorflow) (0.9999999)\n",
      "Requirement already satisfied: bleach==1.5.0 in c:\\users\\fv2\\.conda\\envs\\env3_6\\lib\\site-packages (from tensorboard<1.9.0,>=1.8.0->tensorflow) (1.5.0)\n",
      "Requirement already satisfied: werkzeug>=0.11.10 in c:\\users\\fv2\\.conda\\envs\\env3_6\\lib\\site-packages (from tensorboard<1.9.0,>=1.8.0->tensorflow) (2.0.3)\n",
      "Requirement already satisfied: importlib-metadata in c:\\users\\fv2\\.conda\\envs\\env3_6\\lib\\site-packages (from markdown>=2.6.8->tensorboard<1.9.0,>=1.8.0->tensorflow) (4.8.1)\n",
      "Requirement already satisfied: dataclasses in c:\\users\\fv2\\.conda\\envs\\env3_6\\lib\\site-packages (from werkzeug>=0.11.10->tensorboard<1.9.0,>=1.8.0->tensorflow) (0.8)\n",
      "Requirement already satisfied: zipp>=0.5 in c:\\users\\fv2\\.conda\\envs\\env3_6\\lib\\site-packages (from importlib-metadata->markdown>=2.6.8->tensorboard<1.9.0,>=1.8.0->tensorflow) (3.6.0)\n",
      "Requirement already satisfied: typing-extensions>=3.6.4 in c:\\users\\fv2\\.conda\\envs\\env3_6\\lib\\site-packages (from importlib-metadata->markdown>=2.6.8->tensorboard<1.9.0,>=1.8.0->tensorflow) (4.1.1)\n"
     ]
    }
   ],
   "source": [
    "#!pip install keras\n",
    "!pip install tensorflow\n",
    "#!pip install tensorflow==1.8.0"
   ]
  },
  {
   "cell_type": "code",
   "execution_count": 2,
   "id": "bcd5632f",
   "metadata": {},
   "outputs": [],
   "source": [
    "np.random.seed(30)\n",
    "import random as rn\n",
    "rn.seed(30)\n",
    "from keras import backend as K\n",
    "import tensorflow as tf\n",
    "tf.random.set_seed(30)"
   ]
  },
  {
   "cell_type": "code",
   "execution_count": 8,
   "id": "30cf22dd",
   "metadata": {},
   "outputs": [
    {
     "name": "stdout",
     "output_type": "stream",
     "text": [
      "Defaulting to user installation because normal site-packages is not writeable\n",
      "Requirement already satisfied: opencv-python in c:\\users\\fv1\\appdata\\roaming\\python\\python310\\site-packages (4.7.0.72)\n",
      "Requirement already satisfied: numpy>=1.21.2 in c:\\programdata\\anaconda3\\lib\\site-packages (from opencv-python) (1.23.5)\n"
     ]
    }
   ],
   "source": [
    "#!pip install opencv-python"
   ]
  },
  {
   "cell_type": "code",
   "execution_count": 5,
   "id": "9e0b55fc",
   "metadata": {},
   "outputs": [],
   "source": [
    "import cv2\n",
    "import matplotlib.pyplot as plt\n",
    "%matplotlib inline"
   ]
  },
  {
   "cell_type": "code",
   "execution_count": 6,
   "id": "84a289a2",
   "metadata": {},
   "outputs": [],
   "source": [
    "from keras.models import Sequential, Model\n",
    "from keras.layers import Dense, GRU, Flatten, TimeDistributed, Flatten, BatchNormalization, Activation\n",
    "from keras.layers.convolutional import Conv3D, MaxPooling3D, Conv2D, MaxPooling2D\n",
    "#from keras.layers.recurrent import LSTM\n",
    "from keras.layers import LSTM\n",
    "from keras.callbacks import ModelCheckpoint, ReduceLROnPlateau\n",
    "from keras import optimizers\n",
    "from keras.layers import Dropout"
   ]
  },
  {
   "cell_type": "code",
   "execution_count": 7,
   "id": "e125f4cb",
   "metadata": {},
   "outputs": [],
   "source": [
    "project_folder='Project_data'"
   ]
  },
  {
   "cell_type": "markdown",
   "id": "57399e8f",
   "metadata": {},
   "source": [
    "##### Plotting"
   ]
  },
  {
   "cell_type": "code",
   "execution_count": 8,
   "id": "b1f90047",
   "metadata": {},
   "outputs": [],
   "source": [
    "def plot(history):\n",
    "    fig, axes = plt.subplots(nrows=1, ncols=2, figsize=(15,4))\n",
    "    axes[0].plot(history.history['loss'])   \n",
    "    axes[0].plot(history.history['val_loss'])\n",
    "    axes[0].legend(['loss','val_loss'])\n",
    "\n",
    "    axes[1].plot(history.history['categorical_accuracy'])   \n",
    "    axes[1].plot(history.history['val_categorical_accuracy'])\n",
    "    axes[1].legend(['categorical_accuracy','val_categorical_accuracy'])"
   ]
  },
  {
   "cell_type": "markdown",
   "id": "7bb05834",
   "metadata": {},
   "source": [
    "## Generator\n",
    "This is one of the most important part of the code. The overall structure of the generator has been given. In the generator, you are going to preprocess the images as you have images of 2 different dimensions as well as create a batch of video frames. You have to experiment with `img_idx`, `y`,`z` and normalization such that you get high accuracy."
   ]
  },
  {
   "cell_type": "code",
   "execution_count": 9,
   "id": "8c1978d7",
   "metadata": {},
   "outputs": [],
   "source": [
    "class ModelBuilder(metaclass= abc.ABCMeta):\n",
    "    \n",
    "     \n",
    "    def initialize_path(self,project_folder):\n",
    "        self.train_doc = np.random.permutation(open('train.csv').readlines())\n",
    "        self.val_doc = np.random.permutation(open('val.csv').readlines())\n",
    "        self.train_path = 'train'\n",
    "        self.val_path =  'val'\n",
    "        self.num_train_sequences = len(self.train_doc)\n",
    "        self.num_val_sequences = len(self.val_doc)\n",
    "        \n",
    "    def initialize_image_properties(self,image_height=100,image_width=100):\n",
    "        self.image_height=image_height\n",
    "        self.image_width=image_width\n",
    "        self.channels=3\n",
    "        self.num_classes=5\n",
    "        self.total_frames=30\n",
    "          \n",
    "    def initialize_hyperparams(self,frames_to_sample=30,batch_size=20,num_epochs=20):\n",
    "        self.frames_to_sample=frames_to_sample\n",
    "        self.batch_size=batch_size\n",
    "        self.num_epochs=num_epochs\n",
    "        \n",
    "        \n",
    "    def generator(self,source_path, folder_list, augment=False):\n",
    "        img_idx = np.round(np.linspace(0,self.total_frames-1,self.frames_to_sample)).astype(int)\n",
    "        batch_size=self.batch_size\n",
    "        while True:\n",
    "            t = np.random.permutation(folder_list)\n",
    "            num_batches = len(t)//batch_size\n",
    "        \n",
    "            for batch in range(num_batches): \n",
    "                batch_data, batch_labels= self.one_batch_data(source_path,t,batch,batch_size,img_idx,augment)\n",
    "                yield batch_data, batch_labels \n",
    "\n",
    "            remaining_seq=len(t)%batch_size\n",
    "        \n",
    "            if (remaining_seq != 0):\n",
    "                batch_data, batch_labels= self.one_batch_data(source_path,t,num_batches,batch_size,img_idx,augment,remaining_seq)\n",
    "                yield batch_data, batch_labels \n",
    "    \n",
    "    \n",
    "    def one_batch_data(self,source_path,t,batch,batch_size,img_idx,augment,remaining_seq=0):\n",
    "    \n",
    "        seq_len = remaining_seq if remaining_seq else batch_size\n",
    "    \n",
    "        batch_data = np.zeros((seq_len,len(img_idx),self.image_height,self.image_width,self.channels)) \n",
    "        batch_labels = np.zeros((seq_len,self.num_classes)) \n",
    "    \n",
    "        if (augment): batch_data_aug = np.zeros((seq_len,len(img_idx),self.image_height,self.image_width,self.channels))\n",
    "\n",
    "        \n",
    "        for folder in range(seq_len): \n",
    "            imgs = os.listdir(source_path+'/'+ t[folder + (batch*batch_size)].split(';')[0]) \n",
    "            for idx,item in enumerate(img_idx): \n",
    "                image = imageio.imread(source_path+'/'+ t[folder + (batch*batch_size)].strip().split(';')[0]+'/'+imgs[item]).astype(np.float32)\n",
    "                #image_resized=imresize(image,(self.image_height,self.image_width,3))\n",
    "                image_resized=cv2.resize(image, (self.image_height,self.image_width))\n",
    "                batch_data[folder,idx,:,:,0] = (image_resized[:,:,0])/255\n",
    "                batch_data[folder,idx,:,:,1] = (image_resized[:,:,1])/255\n",
    "                batch_data[folder,idx,:,:,2] = (image_resized[:,:,2])/255\n",
    "            \n",
    "                if (augment):\n",
    "                    shifted = cv2.warpAffine(image, \n",
    "                                             np.float32([[1, 0, np.random.randint(-30,30)],[0, 1, np.random.randint(-30,30)]]), \n",
    "                                            (image.shape[1], image.shape[0]))\n",
    "                    \n",
    "                    gray = cv2.cvtColor(shifted,cv2.COLOR_BGR2GRAY)\n",
    "\n",
    "                    x0, y0 = np.argwhere(gray > 0).min(axis=0)\n",
    "                    x1, y1 = np.argwhere(gray > 0).max(axis=0) \n",
    "                    \n",
    "                    cropped=shifted[x0:x1,y0:y1,:]\n",
    "                    \n",
    "                    image_resized=cv2.resize(cropped,(self.image_height,self.image_width))\n",
    "                    \n",
    "                    #shifted = cv2.warpAffine(image_resized, \n",
    "                    #                        np.float32([[1, 0, np.random.randint(-3,3)],[0, 1, np.random.randint(-3,3)]]), \n",
    "                    #                        (image_resized.shape[1], image_resized.shape[0]))\n",
    "            \n",
    "                    batch_data_aug[folder,idx,:,:,0] = (image_resized[:,:,0])/255\n",
    "                    batch_data_aug[folder,idx,:,:,1] = (image_resized[:,:,1])/255\n",
    "                    batch_data_aug[folder,idx,:,:,2] = (image_resized[:,:,2])/255\n",
    "                \n",
    "            \n",
    "            batch_labels[folder, int(t[folder + (batch*batch_size)].strip().split(';')[2])] = 1\n",
    "            \n",
    "    \n",
    "        if (augment):\n",
    "            batch_data=np.concatenate([batch_data,batch_data_aug])\n",
    "            batch_labels=np.concatenate([batch_labels,batch_labels])\n",
    "\n",
    "        \n",
    "        return(batch_data,batch_labels)\n",
    "    \n",
    "    \n",
    "    def train_model(self, model, augment_data=False):\n",
    "        train_generator = self.generator(self.train_path, self.train_doc,augment=augment_data)\n",
    "        val_generator = self.generator(self.val_path, self.val_doc)\n",
    "\n",
    "        model_name = 'model_init' + '_' + str(datetime.datetime.now()).replace(' ','').replace(':','_') + '/'\n",
    "    \n",
    "        if not os.path.exists(model_name):\n",
    "            os.mkdir(model_name)\n",
    "        \n",
    "        filepath = model_name #+ 'model-{epoch:05d}-{loss:.5f}-{categorical_accuracy:.5f}-{val_loss:.5f}-{val_categorical_accuracy:.5f}.h5'\n",
    "\n",
    "        checkpoint = ModelCheckpoint(filepath, monitor='val_loss', verbose=1, save_best_only=False, save_weights_only=False, mode='auto', save_freq=1)\n",
    "        LR = ReduceLROnPlateau(monitor='val_loss', factor=0.2, verbose=1, patience=4)\n",
    "        callbacks_list = [checkpoint, LR]\n",
    "\n",
    "        if (self.num_train_sequences%self.batch_size) == 0:\n",
    "            steps_per_epoch = int(self.num_train_sequences/self.batch_size)\n",
    "        else:\n",
    "            steps_per_epoch = (self.num_train_sequences//self.batch_size) + 1\n",
    "\n",
    "        if (self.num_val_sequences%self.batch_size) == 0:\n",
    "            validation_steps = int(self.num_val_sequences/self.batch_size)\n",
    "        else:\n",
    "            validation_steps = (self.num_val_sequences//self.batch_size) + 1\n",
    "    \n",
    "        #history=model.fit(train_generator, steps_per_epoch=steps_per_epoch, epochs=self.num_epochs, verbose=1,callbacks=callbacks_list, validation_data=val_generator,validation_steps=validation_steps, class_weight=None, workers=1, initial_epoch=0)\n",
    "        history=model.fit(train_generator, steps_per_epoch=steps_per_epoch, epochs=self.num_epochs, verbose=1,callbacks=callbacks_list, validation_data=val_generator,validation_steps=validation_steps)\n",
    "        \n",
    "        return history\n",
    "\n",
    "        \n",
    "    @abc.abstractmethod\n",
    "    def define_model(self):\n",
    "        pass"
   ]
  },
  {
   "cell_type": "markdown",
   "id": "8d697386",
   "metadata": {},
   "source": [
    "## Model\n",
    "Here you make the model using different functionalities that Keras provides. Remember to use `Conv3D` and `MaxPooling3D` and not `Conv2D` and `Maxpooling2D` for a 3D convolution model. You would want to use `TimeDistributed` while building a Conv2D + RNN model. Also remember that the last layer is the softmax. Design the network in such a way that the model is able to give good accuracy on the least number of parameters so that it can fit in the memory of the webcam."
   ]
  },
  {
   "cell_type": "markdown",
   "id": "ef6d8c81",
   "metadata": {},
   "source": [
    "## Sample Model"
   ]
  },
  {
   "cell_type": "code",
   "execution_count": 10,
   "id": "5b92bed5",
   "metadata": {},
   "outputs": [],
   "source": [
    "class ModelConv3D1(ModelBuilder):\n",
    "    \n",
    "    def define_model(self):\n",
    "\n",
    "        model = Sequential()\n",
    "        model.add(Conv3D(16, (3, 3, 3), padding='same',\n",
    "                 input_shape=(self.frames_to_sample,self.image_height,self.image_width,self.channels)))\n",
    "        model.add(Activation('relu'))\n",
    "        model.add(BatchNormalization())\n",
    "        model.add(MaxPooling3D(pool_size=(2, 2, 2)))\n",
    "\n",
    "        model.add(Conv3D(32, (2, 2, 2), padding='same'))\n",
    "        model.add(Activation('relu'))\n",
    "        model.add(BatchNormalization())\n",
    "        model.add(MaxPooling3D(pool_size=(2, 2, 2)))\n",
    "\n",
    "        model.add(Conv3D(64, (2, 2, 2), padding='same'))\n",
    "        model.add(Activation('relu'))\n",
    "        model.add(BatchNormalization())\n",
    "        model.add(MaxPooling3D(pool_size=(2, 2, 2)))\n",
    "\n",
    "        model.add(Conv3D(128, (2, 2, 2), padding='same'))\n",
    "        model.add(Activation('relu'))\n",
    "        model.add(BatchNormalization())\n",
    "        model.add(MaxPooling3D(pool_size=(2, 2, 2)))\n",
    "\n",
    "        model.add(Flatten())\n",
    "        model.add(Dense(128,activation='relu'))\n",
    "        model.add(BatchNormalization())\n",
    "        model.add(Dropout(0.5))\n",
    "\n",
    "        model.add(Dense(64,activation='relu'))\n",
    "        model.add(BatchNormalization())\n",
    "        model.add(Dropout(0.25))\n",
    "\n",
    "\n",
    "        model.add(Dense(self.num_classes,activation='softmax'))\n",
    "\n",
    "        optimiser = optimizers.Adam()\n",
    "        #optimiser = 'sgd'\n",
    "        model.compile(optimizer=optimiser, loss='categorical_crossentropy', metrics=['categorical_accuracy'])\n",
    "        return model"
   ]
  },
  {
   "cell_type": "code",
   "execution_count": 11,
   "id": "fbd53f55",
   "metadata": {
    "scrolled": true
   },
   "outputs": [
    {
     "name": "stdout",
     "output_type": "stream",
     "text": [
      "Model: \"sequential\"\n",
      "_________________________________________________________________\n",
      " Layer (type)                Output Shape              Param #   \n",
      "=================================================================\n",
      " conv3d (Conv3D)             (None, 30, 160, 160, 16)  1312      \n",
      "                                                                 \n",
      " activation (Activation)     (None, 30, 160, 160, 16)  0         \n",
      "                                                                 \n",
      " batch_normalization (BatchN  (None, 30, 160, 160, 16)  64       \n",
      " ormalization)                                                   \n",
      "                                                                 \n",
      " max_pooling3d (MaxPooling3D  (None, 15, 80, 80, 16)   0         \n",
      " )                                                               \n",
      "                                                                 \n",
      " conv3d_1 (Conv3D)           (None, 15, 80, 80, 32)    4128      \n",
      "                                                                 \n",
      " activation_1 (Activation)   (None, 15, 80, 80, 32)    0         \n",
      "                                                                 \n",
      " batch_normalization_1 (Batc  (None, 15, 80, 80, 32)   128       \n",
      " hNormalization)                                                 \n",
      "                                                                 \n",
      " max_pooling3d_1 (MaxPooling  (None, 7, 40, 40, 32)    0         \n",
      " 3D)                                                             \n",
      "                                                                 \n",
      " conv3d_2 (Conv3D)           (None, 7, 40, 40, 64)     16448     \n",
      "                                                                 \n",
      " activation_2 (Activation)   (None, 7, 40, 40, 64)     0         \n",
      "                                                                 \n",
      " batch_normalization_2 (Batc  (None, 7, 40, 40, 64)    256       \n",
      " hNormalization)                                                 \n",
      "                                                                 \n",
      " max_pooling3d_2 (MaxPooling  (None, 3, 20, 20, 64)    0         \n",
      " 3D)                                                             \n",
      "                                                                 \n",
      " conv3d_3 (Conv3D)           (None, 3, 20, 20, 128)    65664     \n",
      "                                                                 \n",
      " activation_3 (Activation)   (None, 3, 20, 20, 128)    0         \n",
      "                                                                 \n",
      " batch_normalization_3 (Batc  (None, 3, 20, 20, 128)   512       \n",
      " hNormalization)                                                 \n",
      "                                                                 \n",
      " max_pooling3d_3 (MaxPooling  (None, 1, 10, 10, 128)   0         \n",
      " 3D)                                                             \n",
      "                                                                 \n",
      " flatten (Flatten)           (None, 12800)             0         \n",
      "                                                                 \n",
      " dense (Dense)               (None, 128)               1638528   \n",
      "                                                                 \n",
      " batch_normalization_4 (Batc  (None, 128)              512       \n",
      " hNormalization)                                                 \n",
      "                                                                 \n",
      " dropout (Dropout)           (None, 128)               0         \n",
      "                                                                 \n",
      " dense_1 (Dense)             (None, 64)                8256      \n",
      "                                                                 \n",
      " batch_normalization_5 (Batc  (None, 64)               256       \n",
      " hNormalization)                                                 \n",
      "                                                                 \n",
      " dropout_1 (Dropout)         (None, 64)                0         \n",
      "                                                                 \n",
      " dense_2 (Dense)             (None, 5)                 325       \n",
      "                                                                 \n",
      "=================================================================\n",
      "Total params: 1,736,389\n",
      "Trainable params: 1,735,525\n",
      "Non-trainable params: 864\n",
      "_________________________________________________________________\n"
     ]
    }
   ],
   "source": [
    "conv_3d1=ModelConv3D1()\n",
    "conv_3d1.initialize_path(project_folder)\n",
    "conv_3d1.initialize_image_properties(image_height=160,image_width=160)\n",
    "conv_3d1.initialize_hyperparams(frames_to_sample=30,batch_size=40,num_epochs=1)\n",
    "conv_3d1_model=conv_3d1.define_model()\n",
    "conv_3d1_model.summary()"
   ]
  },
  {
   "cell_type": "markdown",
   "id": "e9bc7a29",
   "metadata": {},
   "source": [
    "##### Sample Cropping"
   ]
  },
  {
   "cell_type": "code",
   "execution_count": 12,
   "id": "b6758977",
   "metadata": {},
   "outputs": [
    {
     "data": {
      "text/plain": [
       "<matplotlib.image.AxesImage at 0x178e96573d0>"
      ]
     },
     "execution_count": 12,
     "metadata": {},
     "output_type": "execute_result"
    },
    {
     "data": {
      "image/png": "[encoded data removed]",
      "text/plain": [
       "<Figure size 640x480 with 2 Axes>"
      ]
     },
     "metadata": {},
     "output_type": "display_data"
    }
   ],
   "source": [
    "test_generator=ModelConv3D1()\n",
    "test_generator.initialize_path(project_folder)\n",
    "test_generator.initialize_image_properties(image_height=160,image_width=160)\n",
    "test_generator.initialize_hyperparams(frames_to_sample=30,batch_size=3,num_epochs=1)\n",
    "\n",
    "g=test_generator.generator(test_generator.val_path,test_generator.val_doc,augment=True)\n",
    "batch_data, batch_labels=next(g)\n",
    "fig, axes = plt.subplots(nrows=1, ncols=2)\n",
    "axes[0].imshow(batch_data[0,15,:,:,:])   \n",
    "axes[1].imshow(batch_data[3,15,:,:,:])   "
   ]
  },
  {
   "cell_type": "markdown",
   "id": "f061de90",
   "metadata": {},
   "source": [
    "## Experimenting with Image resolution, number of frames to use and batch_size"
   ]
  },
  {
   "cell_type": "code",
   "execution_count": 24,
   "id": "3c4d4b93",
   "metadata": {
    "scrolled": true
   },
   "outputs": [
    {
     "name": "stdout",
     "output_type": "stream",
     "text": [
      "\n",
      "Epoch 1: saving model to model_init_2023-05-1621_27_30.454050\\\n"
     ]
    },
    {
     "name": "stderr",
     "output_type": "stream",
     "text": [
      "WARNING:absl:Found untraced functions such as _jit_compiled_convolution_op, _jit_compiled_convolution_op, _jit_compiled_convolution_op, _jit_compiled_convolution_op while saving (showing 4 of 4). These functions will not be directly callable after loading.\n"
     ]
    },
    {
     "name": "stdout",
     "output_type": "stream",
     "text": [
      "INFO:tensorflow:Assets written to: model_init_2023-05-1621_27_30.454050\\assets\n"
     ]
    },
    {
     "name": "stderr",
     "output_type": "stream",
     "text": [
      "INFO:tensorflow:Assets written to: model_init_2023-05-1621_27_30.454050\\assets\n"
     ]
    },
    {
     "name": "stdout",
     "output_type": "stream",
     "text": [
      " 1/17 [>.............................] - ETA: 9:25 - loss: 2.3517 - categorical_accuracy: 0.1500\n",
      "Epoch 1: saving model to model_init_2023-05-1621_27_30.454050\\\n"
     ]
    },
    {
     "name": "stderr",
     "output_type": "stream",
     "text": [
      "WARNING:absl:Found untraced functions such as _jit_compiled_convolution_op, _jit_compiled_convolution_op, _jit_compiled_convolution_op, _jit_compiled_convolution_op while saving (showing 4 of 4). These functions will not be directly callable after loading.\n"
     ]
    },
    {
     "name": "stdout",
     "output_type": "stream",
     "text": [
      "INFO:tensorflow:Assets written to: model_init_2023-05-1621_27_30.454050\\assets\n"
     ]
    },
    {
     "name": "stderr",
     "output_type": "stream",
     "text": [
      "INFO:tensorflow:Assets written to: model_init_2023-05-1621_27_30.454050\\assets\n"
     ]
    },
    {
     "name": "stdout",
     "output_type": "stream",
     "text": [
      " 2/17 [==>...........................] - ETA: 8:32 - loss: 2.1402 - categorical_accuracy: 0.2375\n",
      "Epoch 1: saving model to model_init_2023-05-1621_27_30.454050\\\n"
     ]
    },
    {
     "name": "stderr",
     "output_type": "stream",
     "text": [
      "WARNING:absl:Found untraced functions such as _jit_compiled_convolution_op, _jit_compiled_convolution_op, _jit_compiled_convolution_op, _jit_compiled_convolution_op while saving (showing 4 of 4). These functions will not be directly callable after loading.\n"
     ]
    },
    {
     "name": "stdout",
     "output_type": "stream",
     "text": [
      "INFO:tensorflow:Assets written to: model_init_2023-05-1621_27_30.454050\\assets\n"
     ]
    },
    {
     "name": "stderr",
     "output_type": "stream",
     "text": [
      "INFO:tensorflow:Assets written to: model_init_2023-05-1621_27_30.454050\\assets\n"
     ]
    },
    {
     "name": "stdout",
     "output_type": "stream",
     "text": [
      " 3/17 [====>.........................] - ETA: 8:00 - loss: 1.9405 - categorical_accuracy: 0.3167\n",
      "Epoch 1: saving model to model_init_2023-05-1621_27_30.454050\\\n"
     ]
    },
    {
     "name": "stderr",
     "output_type": "stream",
     "text": [
      "WARNING:absl:Found untraced functions such as _jit_compiled_convolution_op, _jit_compiled_convolution_op, _jit_compiled_convolution_op, _jit_compiled_convolution_op while saving (showing 4 of 4). These functions will not be directly callable after loading.\n"
     ]
    },
    {
     "name": "stdout",
     "output_type": "stream",
     "text": [
      "INFO:tensorflow:Assets written to: model_init_2023-05-1621_27_30.454050\\assets\n"
     ]
    },
    {
     "name": "stderr",
     "output_type": "stream",
     "text": [
      "INFO:tensorflow:Assets written to: model_init_2023-05-1621_27_30.454050\\assets\n"
     ]
    },
    {
     "name": "stdout",
     "output_type": "stream",
     "text": [
      " 4/17 [======>.......................] - ETA: 7:20 - loss: 1.8244 - categorical_accuracy: 0.3562\n",
      "Epoch 1: saving model to model_init_2023-05-1621_27_30.454050\\\n"
     ]
    },
    {
     "name": "stderr",
     "output_type": "stream",
     "text": [
      "WARNING:absl:Found untraced functions such as _jit_compiled_convolution_op, _jit_compiled_convolution_op, _jit_compiled_convolution_op, _jit_compiled_convolution_op while saving (showing 4 of 4). These functions will not be directly callable after loading.\n"
     ]
    },
    {
     "name": "stdout",
     "output_type": "stream",
     "text": [
      "INFO:tensorflow:Assets written to: model_init_2023-05-1621_27_30.454050\\assets\n"
     ]
    },
    {
     "name": "stderr",
     "output_type": "stream",
     "text": [
      "INFO:tensorflow:Assets written to: model_init_2023-05-1621_27_30.454050\\assets\n"
     ]
    },
    {
     "name": "stdout",
     "output_type": "stream",
     "text": [
      " 5/17 [=======>......................] - ETA: 6:47 - loss: 1.7826 - categorical_accuracy: 0.3600\n",
      "Epoch 1: saving model to model_init_2023-05-1621_27_30.454050\\\n"
     ]
    },
    {
     "name": "stderr",
     "output_type": "stream",
     "text": [
      "WARNING:absl:Found untraced functions such as _jit_compiled_convolution_op, _jit_compiled_convolution_op, _jit_compiled_convolution_op, _jit_compiled_convolution_op while saving (showing 4 of 4). These functions will not be directly callable after loading.\n"
     ]
    },
    {
     "name": "stdout",
     "output_type": "stream",
     "text": [
      "INFO:tensorflow:Assets written to: model_init_2023-05-1621_27_30.454050\\assets\n"
     ]
    },
    {
     "name": "stderr",
     "output_type": "stream",
     "text": [
      "INFO:tensorflow:Assets written to: model_init_2023-05-1621_27_30.454050\\assets\n"
     ]
    },
    {
     "name": "stdout",
     "output_type": "stream",
     "text": [
      " 6/17 [=========>....................] - ETA: 6:15 - loss: 1.8504 - categorical_accuracy: 0.3625\n",
      "Epoch 1: saving model to model_init_2023-05-1621_27_30.454050\\\n"
     ]
    },
    {
     "name": "stderr",
     "output_type": "stream",
     "text": [
      "WARNING:absl:Found untraced functions such as _jit_compiled_convolution_op, _jit_compiled_convolution_op, _jit_compiled_convolution_op, _jit_compiled_convolution_op while saving (showing 4 of 4). These functions will not be directly callable after loading.\n"
     ]
    },
    {
     "name": "stdout",
     "output_type": "stream",
     "text": [
      "INFO:tensorflow:Assets written to: model_init_2023-05-1621_27_30.454050\\assets\n"
     ]
    },
    {
     "name": "stderr",
     "output_type": "stream",
     "text": [
      "INFO:tensorflow:Assets written to: model_init_2023-05-1621_27_30.454050\\assets\n"
     ]
    },
    {
     "name": "stdout",
     "output_type": "stream",
     "text": [
      " 7/17 [===========>..................] - ETA: 5:41 - loss: 1.8008 - categorical_accuracy: 0.3714\n",
      "Epoch 1: saving model to model_init_2023-05-1621_27_30.454050\\\n"
     ]
    },
    {
     "name": "stderr",
     "output_type": "stream",
     "text": [
      "WARNING:absl:Found untraced functions such as _jit_compiled_convolution_op, _jit_compiled_convolution_op, _jit_compiled_convolution_op, _jit_compiled_convolution_op while saving (showing 4 of 4). These functions will not be directly callable after loading.\n"
     ]
    },
    {
     "name": "stdout",
     "output_type": "stream",
     "text": [
      "INFO:tensorflow:Assets written to: model_init_2023-05-1621_27_30.454050\\assets\n"
     ]
    },
    {
     "name": "stderr",
     "output_type": "stream",
     "text": [
      "INFO:tensorflow:Assets written to: model_init_2023-05-1621_27_30.454050\\assets\n"
     ]
    },
    {
     "name": "stdout",
     "output_type": "stream",
     "text": [
      " 8/17 [=============>................] - ETA: 5:08 - loss: 1.7296 - categorical_accuracy: 0.3875\n",
      "Epoch 1: saving model to model_init_2023-05-1621_27_30.454050\\\n"
     ]
    },
    {
     "name": "stderr",
     "output_type": "stream",
     "text": [
      "WARNING:absl:Found untraced functions such as _jit_compiled_convolution_op, _jit_compiled_convolution_op, _jit_compiled_convolution_op, _jit_compiled_convolution_op while saving (showing 4 of 4). These functions will not be directly callable after loading.\n"
     ]
    },
    {
     "name": "stdout",
     "output_type": "stream",
     "text": [
      "INFO:tensorflow:Assets written to: model_init_2023-05-1621_27_30.454050\\assets\n"
     ]
    },
    {
     "name": "stderr",
     "output_type": "stream",
     "text": [
      "INFO:tensorflow:Assets written to: model_init_2023-05-1621_27_30.454050\\assets\n"
     ]
    },
    {
     "name": "stdout",
     "output_type": "stream",
     "text": [
      " 9/17 [==============>...............] - ETA: 4:34 - loss: 1.6793 - categorical_accuracy: 0.4028\n",
      "Epoch 1: saving model to model_init_2023-05-1621_27_30.454050\\\n"
     ]
    },
    {
     "name": "stderr",
     "output_type": "stream",
     "text": [
      "WARNING:absl:Found untraced functions such as _jit_compiled_convolution_op, _jit_compiled_convolution_op, _jit_compiled_convolution_op, _jit_compiled_convolution_op while saving (showing 4 of 4). These functions will not be directly callable after loading.\n"
     ]
    },
    {
     "name": "stdout",
     "output_type": "stream",
     "text": [
      "INFO:tensorflow:Assets written to: model_init_2023-05-1621_27_30.454050\\assets\n"
     ]
    },
    {
     "name": "stderr",
     "output_type": "stream",
     "text": [
      "INFO:tensorflow:Assets written to: model_init_2023-05-1621_27_30.454050\\assets\n"
     ]
    },
    {
     "name": "stdout",
     "output_type": "stream",
     "text": [
      "10/17 [================>.............] - ETA: 4:00 - loss: 1.6241 - categorical_accuracy: 0.4225\n",
      "Epoch 1: saving model to model_init_2023-05-1621_27_30.454050\\\n"
     ]
    },
    {
     "name": "stderr",
     "output_type": "stream",
     "text": [
      "WARNING:absl:Found untraced functions such as _jit_compiled_convolution_op, _jit_compiled_convolution_op, _jit_compiled_convolution_op, _jit_compiled_convolution_op while saving (showing 4 of 4). These functions will not be directly callable after loading.\n"
     ]
    },
    {
     "name": "stdout",
     "output_type": "stream",
     "text": [
      "INFO:tensorflow:Assets written to: model_init_2023-05-1621_27_30.454050\\assets\n"
     ]
    },
    {
     "name": "stderr",
     "output_type": "stream",
     "text": [
      "INFO:tensorflow:Assets written to: model_init_2023-05-1621_27_30.454050\\assets\n"
     ]
    },
    {
     "name": "stdout",
     "output_type": "stream",
     "text": [
      "11/17 [==================>...........] - ETA: 3:26 - loss: 1.5823 - categorical_accuracy: 0.4318\n",
      "Epoch 1: saving model to model_init_2023-05-1621_27_30.454050\\\n"
     ]
    },
    {
     "name": "stderr",
     "output_type": "stream",
     "text": [
      "WARNING:absl:Found untraced functions such as _jit_compiled_convolution_op, _jit_compiled_convolution_op, _jit_compiled_convolution_op, _jit_compiled_convolution_op while saving (showing 4 of 4). These functions will not be directly callable after loading.\n"
     ]
    },
    {
     "name": "stdout",
     "output_type": "stream",
     "text": [
      "INFO:tensorflow:Assets written to: model_init_2023-05-1621_27_30.454050\\assets\n"
     ]
    },
    {
     "name": "stderr",
     "output_type": "stream",
     "text": [
      "INFO:tensorflow:Assets written to: model_init_2023-05-1621_27_30.454050\\assets\n"
     ]
    },
    {
     "name": "stdout",
     "output_type": "stream",
     "text": [
      "12/17 [====================>.........] - ETA: 2:51 - loss: 1.5525 - categorical_accuracy: 0.4396\n",
      "Epoch 1: saving model to model_init_2023-05-1621_27_30.454050\\\n"
     ]
    },
    {
     "name": "stderr",
     "output_type": "stream",
     "text": [
      "WARNING:absl:Found untraced functions such as _jit_compiled_convolution_op, _jit_compiled_convolution_op, _jit_compiled_convolution_op, _jit_compiled_convolution_op while saving (showing 4 of 4). These functions will not be directly callable after loading.\n"
     ]
    },
    {
     "name": "stdout",
     "output_type": "stream",
     "text": [
      "INFO:tensorflow:Assets written to: model_init_2023-05-1621_27_30.454050\\assets\n"
     ]
    },
    {
     "name": "stderr",
     "output_type": "stream",
     "text": [
      "INFO:tensorflow:Assets written to: model_init_2023-05-1621_27_30.454050\\assets\n"
     ]
    },
    {
     "name": "stdout",
     "output_type": "stream",
     "text": [
      "13/17 [=====================>........] - ETA: 2:17 - loss: 1.5356 - categorical_accuracy: 0.4462\n",
      "Epoch 1: saving model to model_init_2023-05-1621_27_30.454050\\\n"
     ]
    },
    {
     "name": "stderr",
     "output_type": "stream",
     "text": [
      "WARNING:absl:Found untraced functions such as _jit_compiled_convolution_op, _jit_compiled_convolution_op, _jit_compiled_convolution_op, _jit_compiled_convolution_op while saving (showing 4 of 4). These functions will not be directly callable after loading.\n"
     ]
    },
    {
     "name": "stdout",
     "output_type": "stream",
     "text": [
      "INFO:tensorflow:Assets written to: model_init_2023-05-1621_27_30.454050\\assets\n"
     ]
    },
    {
     "name": "stderr",
     "output_type": "stream",
     "text": [
      "INFO:tensorflow:Assets written to: model_init_2023-05-1621_27_30.454050\\assets\n"
     ]
    },
    {
     "name": "stdout",
     "output_type": "stream",
     "text": [
      "14/17 [=======================>......] - ETA: 1:43 - loss: 1.5213 - categorical_accuracy: 0.4482\n",
      "Epoch 1: saving model to model_init_2023-05-1621_27_30.454050\\\n"
     ]
    },
    {
     "name": "stderr",
     "output_type": "stream",
     "text": [
      "WARNING:absl:Found untraced functions such as _jit_compiled_convolution_op, _jit_compiled_convolution_op, _jit_compiled_convolution_op, _jit_compiled_convolution_op while saving (showing 4 of 4). These functions will not be directly callable after loading.\n"
     ]
    },
    {
     "name": "stdout",
     "output_type": "stream",
     "text": [
      "INFO:tensorflow:Assets written to: model_init_2023-05-1621_27_30.454050\\assets\n"
     ]
    },
    {
     "name": "stderr",
     "output_type": "stream",
     "text": [
      "INFO:tensorflow:Assets written to: model_init_2023-05-1621_27_30.454050\\assets\n"
     ]
    },
    {
     "name": "stdout",
     "output_type": "stream",
     "text": [
      "15/17 [=========================>....] - ETA: 1:08 - loss: 1.4793 - categorical_accuracy: 0.4633\n",
      "Epoch 1: saving model to model_init_2023-05-1621_27_30.454050\\\n"
     ]
    },
    {
     "name": "stderr",
     "output_type": "stream",
     "text": [
      "WARNING:absl:Found untraced functions such as _jit_compiled_convolution_op, _jit_compiled_convolution_op, _jit_compiled_convolution_op, _jit_compiled_convolution_op while saving (showing 4 of 4). These functions will not be directly callable after loading.\n"
     ]
    },
    {
     "name": "stdout",
     "output_type": "stream",
     "text": [
      "INFO:tensorflow:Assets written to: model_init_2023-05-1621_27_30.454050\\assets\n"
     ]
    },
    {
     "name": "stderr",
     "output_type": "stream",
     "text": [
      "INFO:tensorflow:Assets written to: model_init_2023-05-1621_27_30.454050\\assets\n"
     ]
    },
    {
     "name": "stdout",
     "output_type": "stream",
     "text": [
      "16/17 [===========================>..] - ETA: 34s - loss: 1.4631 - categorical_accuracy: 0.4703 \n",
      "Epoch 1: saving model to model_init_2023-05-1621_27_30.454050\\\n"
     ]
    },
    {
     "name": "stderr",
     "output_type": "stream",
     "text": [
      "WARNING:absl:Found untraced functions such as _jit_compiled_convolution_op, _jit_compiled_convolution_op, _jit_compiled_convolution_op, _jit_compiled_convolution_op while saving (showing 4 of 4). These functions will not be directly callable after loading.\n"
     ]
    },
    {
     "name": "stdout",
     "output_type": "stream",
     "text": [
      "INFO:tensorflow:Assets written to: model_init_2023-05-1621_27_30.454050\\assets\n"
     ]
    },
    {
     "name": "stderr",
     "output_type": "stream",
     "text": [
      "INFO:tensorflow:Assets written to: model_init_2023-05-1621_27_30.454050\\assets\n"
     ]
    },
    {
     "name": "stdout",
     "output_type": "stream",
     "text": [
      "17/17 [==============================] - 596s 35s/step - loss: 1.4521 - categorical_accuracy: 0.4751 - val_loss: 2.1400 - val_categorical_accuracy: 0.2100 - lr: 0.0010\n"
     ]
    },
    {
     "data": {
      "text/plain": [
       "<keras.callbacks.History at 0x1e20018e890>"
      ]
     },
     "execution_count": 24,
     "metadata": {},
     "output_type": "execute_result"
    }
   ],
   "source": [
    "#sample 1\n",
    "conv_3d1.train_model(conv_3d1_model)"
   ]
  },
  {
   "cell_type": "markdown",
   "id": "a2f7fca8",
   "metadata": {},
   "source": [
    "### Resolution of 160x160 with 30 frames and batch_size of 40...we got 48% accuracy\n"
   ]
  },
  {
   "cell_type": "code",
   "execution_count": 25,
   "id": "33074853",
   "metadata": {},
   "outputs": [
    {
     "name": "stdout",
     "output_type": "stream",
     "text": [
      "Memory util is 3.662109538912773 Gigs\n"
     ]
    }
   ],
   "source": [
    "print(\"Memory util is {} Gigs\". format(getsizeof(np.zeros((40,16,30,160,160)))/(1024*1024*1024)))"
   ]
  },
  {
   "cell_type": "markdown",
   "id": "de4d3df6",
   "metadata": {},
   "source": [
    "So lets trade-off between these parameters.\n",
    "\n",
    "Below are the experiments to see how training time is affected by image resolution, number of images in sequence and batch size"
   ]
  },
  {
   "cell_type": "code",
   "execution_count": 26,
   "id": "5543895b",
   "metadata": {},
   "outputs": [
    {
     "name": "stdout",
     "output_type": "stream",
     "text": [
      "Total Params: 1736389\n",
      "Epoch 1/3\n",
      "\n",
      "Epoch 1: saving model to model_init_2023-05-1621_37_44.295163\\\n"
     ]
    },
    {
     "name": "stderr",
     "output_type": "stream",
     "text": [
      "WARNING:absl:Found untraced functions such as _jit_compiled_convolution_op, _jit_compiled_convolution_op, _jit_compiled_convolution_op, _jit_compiled_convolution_op while saving (showing 4 of 4). These functions will not be directly callable after loading.\n"
     ]
    },
    {
     "name": "stdout",
     "output_type": "stream",
     "text": [
      "INFO:tensorflow:Assets written to: model_init_2023-05-1621_37_44.295163\\assets\n"
     ]
    },
    {
     "name": "stderr",
     "output_type": "stream",
     "text": [
      "INFO:tensorflow:Assets written to: model_init_2023-05-1621_37_44.295163\\assets\n"
     ]
    },
    {
     "name": "stdout",
     "output_type": "stream",
     "text": [
      " 1/23 [>.............................] - ETA: 5:50 - loss: 2.3798 - categorical_accuracy: 0.2667\n",
      "Epoch 1: saving model to model_init_2023-05-1621_37_44.295163\\\n"
     ]
    },
    {
     "name": "stderr",
     "output_type": "stream",
     "text": [
      "WARNING:absl:Found untraced functions such as _jit_compiled_convolution_op, _jit_compiled_convolution_op, _jit_compiled_convolution_op, _jit_compiled_convolution_op while saving (showing 4 of 4). These functions will not be directly callable after loading.\n"
     ]
    },
    {
     "name": "stdout",
     "output_type": "stream",
     "text": [
      "INFO:tensorflow:Assets written to: model_init_2023-05-1621_37_44.295163\\assets\n"
     ]
    },
    {
     "name": "stderr",
     "output_type": "stream",
     "text": [
      "INFO:tensorflow:Assets written to: model_init_2023-05-1621_37_44.295163\\assets\n"
     ]
    },
    {
     "name": "stdout",
     "output_type": "stream",
     "text": [
      " 2/23 [=>............................] - ETA: 5:10 - loss: 2.3290 - categorical_accuracy: 0.2500\n",
      "Epoch 1: saving model to model_init_2023-05-1621_37_44.295163\\\n"
     ]
    },
    {
     "name": "stderr",
     "output_type": "stream",
     "text": [
      "WARNING:absl:Found untraced functions such as _jit_compiled_convolution_op, _jit_compiled_convolution_op, _jit_compiled_convolution_op, _jit_compiled_convolution_op while saving (showing 4 of 4). These functions will not be directly callable after loading.\n"
     ]
    },
    {
     "name": "stdout",
     "output_type": "stream",
     "text": [
      "INFO:tensorflow:Assets written to: model_init_2023-05-1621_37_44.295163\\assets\n"
     ]
    },
    {
     "name": "stderr",
     "output_type": "stream",
     "text": [
      "INFO:tensorflow:Assets written to: model_init_2023-05-1621_37_44.295163\\assets\n"
     ]
    },
    {
     "name": "stdout",
     "output_type": "stream",
     "text": [
      " 3/23 [==>...........................] - ETA: 4:57 - loss: 2.2430 - categorical_accuracy: 0.2667\n",
      "Epoch 1: saving model to model_init_2023-05-1621_37_44.295163\\\n"
     ]
    },
    {
     "name": "stderr",
     "output_type": "stream",
     "text": [
      "WARNING:absl:Found untraced functions such as _jit_compiled_convolution_op, _jit_compiled_convolution_op, _jit_compiled_convolution_op, _jit_compiled_convolution_op while saving (showing 4 of 4). These functions will not be directly callable after loading.\n"
     ]
    },
    {
     "name": "stdout",
     "output_type": "stream",
     "text": [
      "INFO:tensorflow:Assets written to: model_init_2023-05-1621_37_44.295163\\assets\n"
     ]
    },
    {
     "name": "stderr",
     "output_type": "stream",
     "text": [
      "INFO:tensorflow:Assets written to: model_init_2023-05-1621_37_44.295163\\assets\n"
     ]
    },
    {
     "name": "stdout",
     "output_type": "stream",
     "text": [
      " 4/23 [====>.........................] - ETA: 4:42 - loss: 2.1218 - categorical_accuracy: 0.2917\n",
      "Epoch 1: saving model to model_init_2023-05-1621_37_44.295163\\\n"
     ]
    },
    {
     "name": "stderr",
     "output_type": "stream",
     "text": [
      "WARNING:absl:Found untraced functions such as _jit_compiled_convolution_op, _jit_compiled_convolution_op, _jit_compiled_convolution_op, _jit_compiled_convolution_op while saving (showing 4 of 4). These functions will not be directly callable after loading.\n"
     ]
    },
    {
     "name": "stdout",
     "output_type": "stream",
     "text": [
      "INFO:tensorflow:Assets written to: model_init_2023-05-1621_37_44.295163\\assets\n"
     ]
    },
    {
     "name": "stderr",
     "output_type": "stream",
     "text": [
      "INFO:tensorflow:Assets written to: model_init_2023-05-1621_37_44.295163\\assets\n"
     ]
    },
    {
     "name": "stdout",
     "output_type": "stream",
     "text": [
      " 5/23 [=====>........................] - ETA: 4:27 - loss: 2.0112 - categorical_accuracy: 0.3200\n",
      "Epoch 1: saving model to model_init_2023-05-1621_37_44.295163\\\n"
     ]
    },
    {
     "name": "stderr",
     "output_type": "stream",
     "text": [
      "WARNING:absl:Found untraced functions such as _jit_compiled_convolution_op, _jit_compiled_convolution_op, _jit_compiled_convolution_op, _jit_compiled_convolution_op while saving (showing 4 of 4). These functions will not be directly callable after loading.\n"
     ]
    },
    {
     "name": "stdout",
     "output_type": "stream",
     "text": [
      "INFO:tensorflow:Assets written to: model_init_2023-05-1621_37_44.295163\\assets\n"
     ]
    },
    {
     "name": "stderr",
     "output_type": "stream",
     "text": [
      "INFO:tensorflow:Assets written to: model_init_2023-05-1621_37_44.295163\\assets\n"
     ]
    },
    {
     "name": "stdout",
     "output_type": "stream",
     "text": [
      " 6/23 [======>.......................] - ETA: 4:12 - loss: 1.9884 - categorical_accuracy: 0.3222\n",
      "Epoch 1: saving model to model_init_2023-05-1621_37_44.295163\\\n"
     ]
    },
    {
     "name": "stderr",
     "output_type": "stream",
     "text": [
      "WARNING:absl:Found untraced functions such as _jit_compiled_convolution_op, _jit_compiled_convolution_op, _jit_compiled_convolution_op, _jit_compiled_convolution_op while saving (showing 4 of 4). These functions will not be directly callable after loading.\n"
     ]
    },
    {
     "name": "stdout",
     "output_type": "stream",
     "text": [
      "INFO:tensorflow:Assets written to: model_init_2023-05-1621_37_44.295163\\assets\n"
     ]
    },
    {
     "name": "stderr",
     "output_type": "stream",
     "text": [
      "INFO:tensorflow:Assets written to: model_init_2023-05-1621_37_44.295163\\assets\n"
     ]
    },
    {
     "name": "stdout",
     "output_type": "stream",
     "text": [
      " 7/23 [========>.....................] - ETA: 3:57 - loss: 1.9012 - categorical_accuracy: 0.3429\n",
      "Epoch 1: saving model to model_init_2023-05-1621_37_44.295163\\\n"
     ]
    },
    {
     "name": "stderr",
     "output_type": "stream",
     "text": [
      "WARNING:absl:Found untraced functions such as _jit_compiled_convolution_op, _jit_compiled_convolution_op, _jit_compiled_convolution_op, _jit_compiled_convolution_op while saving (showing 4 of 4). These functions will not be directly callable after loading.\n"
     ]
    },
    {
     "name": "stdout",
     "output_type": "stream",
     "text": [
      "INFO:tensorflow:Assets written to: model_init_2023-05-1621_37_44.295163\\assets\n"
     ]
    },
    {
     "name": "stderr",
     "output_type": "stream",
     "text": [
      "INFO:tensorflow:Assets written to: model_init_2023-05-1621_37_44.295163\\assets\n"
     ]
    },
    {
     "name": "stdout",
     "output_type": "stream",
     "text": [
      " 8/23 [=========>....................] - ETA: 3:43 - loss: 1.8501 - categorical_accuracy: 0.3417\n",
      "Epoch 1: saving model to model_init_2023-05-1621_37_44.295163\\\n"
     ]
    },
    {
     "name": "stderr",
     "output_type": "stream",
     "text": [
      "WARNING:absl:Found untraced functions such as _jit_compiled_convolution_op, _jit_compiled_convolution_op, _jit_compiled_convolution_op, _jit_compiled_convolution_op while saving (showing 4 of 4). These functions will not be directly callable after loading.\n"
     ]
    },
    {
     "name": "stdout",
     "output_type": "stream",
     "text": [
      "INFO:tensorflow:Assets written to: model_init_2023-05-1621_37_44.295163\\assets\n"
     ]
    },
    {
     "name": "stderr",
     "output_type": "stream",
     "text": [
      "INFO:tensorflow:Assets written to: model_init_2023-05-1621_37_44.295163\\assets\n"
     ]
    },
    {
     "name": "stdout",
     "output_type": "stream",
     "text": [
      " 9/23 [==========>...................] - ETA: 3:28 - loss: 1.7763 - categorical_accuracy: 0.3667\n",
      "Epoch 1: saving model to model_init_2023-05-1621_37_44.295163\\\n"
     ]
    },
    {
     "name": "stderr",
     "output_type": "stream",
     "text": [
      "WARNING:absl:Found untraced functions such as _jit_compiled_convolution_op, _jit_compiled_convolution_op, _jit_compiled_convolution_op, _jit_compiled_convolution_op while saving (showing 4 of 4). These functions will not be directly callable after loading.\n"
     ]
    },
    {
     "name": "stdout",
     "output_type": "stream",
     "text": [
      "INFO:tensorflow:Assets written to: model_init_2023-05-1621_37_44.295163\\assets\n"
     ]
    },
    {
     "name": "stderr",
     "output_type": "stream",
     "text": [
      "INFO:tensorflow:Assets written to: model_init_2023-05-1621_37_44.295163\\assets\n"
     ]
    },
    {
     "name": "stdout",
     "output_type": "stream",
     "text": [
      "10/23 [============>.................] - ETA: 3:13 - loss: 1.7675 - categorical_accuracy: 0.3667\n",
      "Epoch 1: saving model to model_init_2023-05-1621_37_44.295163\\\n"
     ]
    },
    {
     "name": "stderr",
     "output_type": "stream",
     "text": [
      "WARNING:absl:Found untraced functions such as _jit_compiled_convolution_op, _jit_compiled_convolution_op, _jit_compiled_convolution_op, _jit_compiled_convolution_op while saving (showing 4 of 4). These functions will not be directly callable after loading.\n"
     ]
    },
    {
     "name": "stdout",
     "output_type": "stream",
     "text": [
      "INFO:tensorflow:Assets written to: model_init_2023-05-1621_37_44.295163\\assets\n"
     ]
    },
    {
     "name": "stderr",
     "output_type": "stream",
     "text": [
      "INFO:tensorflow:Assets written to: model_init_2023-05-1621_37_44.295163\\assets\n"
     ]
    },
    {
     "name": "stdout",
     "output_type": "stream",
     "text": [
      "11/23 [=============>................] - ETA: 2:58 - loss: 1.6934 - categorical_accuracy: 0.3909\n",
      "Epoch 1: saving model to model_init_2023-05-1621_37_44.295163\\\n"
     ]
    },
    {
     "name": "stderr",
     "output_type": "stream",
     "text": [
      "WARNING:absl:Found untraced functions such as _jit_compiled_convolution_op, _jit_compiled_convolution_op, _jit_compiled_convolution_op, _jit_compiled_convolution_op while saving (showing 4 of 4). These functions will not be directly callable after loading.\n"
     ]
    },
    {
     "name": "stdout",
     "output_type": "stream",
     "text": [
      "INFO:tensorflow:Assets written to: model_init_2023-05-1621_37_44.295163\\assets\n"
     ]
    },
    {
     "name": "stderr",
     "output_type": "stream",
     "text": [
      "INFO:tensorflow:Assets written to: model_init_2023-05-1621_37_44.295163\\assets\n"
     ]
    },
    {
     "name": "stdout",
     "output_type": "stream",
     "text": [
      "12/23 [==============>...............] - ETA: 2:43 - loss: 1.6438 - categorical_accuracy: 0.4111\n",
      "Epoch 1: saving model to model_init_2023-05-1621_37_44.295163\\\n"
     ]
    },
    {
     "name": "stderr",
     "output_type": "stream",
     "text": [
      "WARNING:absl:Found untraced functions such as _jit_compiled_convolution_op, _jit_compiled_convolution_op, _jit_compiled_convolution_op, _jit_compiled_convolution_op while saving (showing 4 of 4). These functions will not be directly callable after loading.\n"
     ]
    },
    {
     "name": "stdout",
     "output_type": "stream",
     "text": [
      "INFO:tensorflow:Assets written to: model_init_2023-05-1621_37_44.295163\\assets\n"
     ]
    },
    {
     "name": "stderr",
     "output_type": "stream",
     "text": [
      "INFO:tensorflow:Assets written to: model_init_2023-05-1621_37_44.295163\\assets\n"
     ]
    },
    {
     "name": "stdout",
     "output_type": "stream",
     "text": [
      "13/23 [===============>..............] - ETA: 2:28 - loss: 1.6029 - categorical_accuracy: 0.4231\n",
      "Epoch 1: saving model to model_init_2023-05-1621_37_44.295163\\\n"
     ]
    },
    {
     "name": "stderr",
     "output_type": "stream",
     "text": [
      "WARNING:absl:Found untraced functions such as _jit_compiled_convolution_op, _jit_compiled_convolution_op, _jit_compiled_convolution_op, _jit_compiled_convolution_op while saving (showing 4 of 4). These functions will not be directly callable after loading.\n"
     ]
    },
    {
     "name": "stdout",
     "output_type": "stream",
     "text": [
      "INFO:tensorflow:Assets written to: model_init_2023-05-1621_37_44.295163\\assets\n"
     ]
    },
    {
     "name": "stderr",
     "output_type": "stream",
     "text": [
      "INFO:tensorflow:Assets written to: model_init_2023-05-1621_37_44.295163\\assets\n"
     ]
    },
    {
     "name": "stdout",
     "output_type": "stream",
     "text": [
      "14/23 [=================>............] - ETA: 2:13 - loss: 1.5693 - categorical_accuracy: 0.4381\n",
      "Epoch 1: saving model to model_init_2023-05-1621_37_44.295163\\\n"
     ]
    },
    {
     "name": "stderr",
     "output_type": "stream",
     "text": [
      "WARNING:absl:Found untraced functions such as _jit_compiled_convolution_op, _jit_compiled_convolution_op, _jit_compiled_convolution_op, _jit_compiled_convolution_op while saving (showing 4 of 4). These functions will not be directly callable after loading.\n"
     ]
    },
    {
     "name": "stdout",
     "output_type": "stream",
     "text": [
      "INFO:tensorflow:Assets written to: model_init_2023-05-1621_37_44.295163\\assets\n"
     ]
    },
    {
     "name": "stderr",
     "output_type": "stream",
     "text": [
      "INFO:tensorflow:Assets written to: model_init_2023-05-1621_37_44.295163\\assets\n"
     ]
    },
    {
     "name": "stdout",
     "output_type": "stream",
     "text": [
      "15/23 [==================>...........] - ETA: 1:59 - loss: 1.5403 - categorical_accuracy: 0.4422\n",
      "Epoch 1: saving model to model_init_2023-05-1621_37_44.295163\\\n"
     ]
    },
    {
     "name": "stderr",
     "output_type": "stream",
     "text": [
      "WARNING:absl:Found untraced functions such as _jit_compiled_convolution_op, _jit_compiled_convolution_op, _jit_compiled_convolution_op, _jit_compiled_convolution_op while saving (showing 4 of 4). These functions will not be directly callable after loading.\n"
     ]
    },
    {
     "name": "stdout",
     "output_type": "stream",
     "text": [
      "INFO:tensorflow:Assets written to: model_init_2023-05-1621_37_44.295163\\assets\n"
     ]
    },
    {
     "name": "stderr",
     "output_type": "stream",
     "text": [
      "INFO:tensorflow:Assets written to: model_init_2023-05-1621_37_44.295163\\assets\n"
     ]
    },
    {
     "name": "stdout",
     "output_type": "stream",
     "text": [
      "16/23 [===================>..........] - ETA: 1:44 - loss: 1.5457 - categorical_accuracy: 0.4417\n",
      "Epoch 1: saving model to model_init_2023-05-1621_37_44.295163\\\n"
     ]
    },
    {
     "name": "stderr",
     "output_type": "stream",
     "text": [
      "WARNING:absl:Found untraced functions such as _jit_compiled_convolution_op, _jit_compiled_convolution_op, _jit_compiled_convolution_op, _jit_compiled_convolution_op while saving (showing 4 of 4). These functions will not be directly callable after loading.\n"
     ]
    },
    {
     "name": "stdout",
     "output_type": "stream",
     "text": [
      "INFO:tensorflow:Assets written to: model_init_2023-05-1621_37_44.295163\\assets\n"
     ]
    },
    {
     "name": "stderr",
     "output_type": "stream",
     "text": [
      "INFO:tensorflow:Assets written to: model_init_2023-05-1621_37_44.295163\\assets\n"
     ]
    },
    {
     "name": "stdout",
     "output_type": "stream",
     "text": [
      "17/23 [=====================>........] - ETA: 1:29 - loss: 1.5309 - categorical_accuracy: 0.4412\n",
      "Epoch 1: saving model to model_init_2023-05-1621_37_44.295163\\\n"
     ]
    },
    {
     "name": "stderr",
     "output_type": "stream",
     "text": [
      "WARNING:absl:Found untraced functions such as _jit_compiled_convolution_op, _jit_compiled_convolution_op, _jit_compiled_convolution_op, _jit_compiled_convolution_op while saving (showing 4 of 4). These functions will not be directly callable after loading.\n"
     ]
    },
    {
     "name": "stdout",
     "output_type": "stream",
     "text": [
      "INFO:tensorflow:Assets written to: model_init_2023-05-1621_37_44.295163\\assets\n"
     ]
    },
    {
     "name": "stderr",
     "output_type": "stream",
     "text": [
      "INFO:tensorflow:Assets written to: model_init_2023-05-1621_37_44.295163\\assets\n"
     ]
    },
    {
     "name": "stdout",
     "output_type": "stream",
     "text": [
      "18/23 [======================>.......] - ETA: 1:14 - loss: 1.5103 - categorical_accuracy: 0.4500\n",
      "Epoch 1: saving model to model_init_2023-05-1621_37_44.295163\\\n"
     ]
    },
    {
     "name": "stderr",
     "output_type": "stream",
     "text": [
      "WARNING:absl:Found untraced functions such as _jit_compiled_convolution_op, _jit_compiled_convolution_op, _jit_compiled_convolution_op, _jit_compiled_convolution_op while saving (showing 4 of 4). These functions will not be directly callable after loading.\n"
     ]
    },
    {
     "name": "stdout",
     "output_type": "stream",
     "text": [
      "INFO:tensorflow:Assets written to: model_init_2023-05-1621_37_44.295163\\assets\n"
     ]
    },
    {
     "name": "stderr",
     "output_type": "stream",
     "text": [
      "INFO:tensorflow:Assets written to: model_init_2023-05-1621_37_44.295163\\assets\n"
     ]
    },
    {
     "name": "stdout",
     "output_type": "stream",
     "text": [
      "19/23 [=======================>......] - ETA: 59s - loss: 1.5139 - categorical_accuracy: 0.4474 \n",
      "Epoch 1: saving model to model_init_2023-05-1621_37_44.295163\\\n"
     ]
    },
    {
     "name": "stderr",
     "output_type": "stream",
     "text": [
      "WARNING:absl:Found untraced functions such as _jit_compiled_convolution_op, _jit_compiled_convolution_op, _jit_compiled_convolution_op, _jit_compiled_convolution_op while saving (showing 4 of 4). These functions will not be directly callable after loading.\n"
     ]
    },
    {
     "name": "stdout",
     "output_type": "stream",
     "text": [
      "INFO:tensorflow:Assets written to: model_init_2023-05-1621_37_44.295163\\assets\n"
     ]
    },
    {
     "name": "stderr",
     "output_type": "stream",
     "text": [
      "INFO:tensorflow:Assets written to: model_init_2023-05-1621_37_44.295163\\assets\n"
     ]
    },
    {
     "name": "stdout",
     "output_type": "stream",
     "text": [
      "20/23 [=========================>....] - ETA: 44s - loss: 1.4820 - categorical_accuracy: 0.4550\n",
      "Epoch 1: saving model to model_init_2023-05-1621_37_44.295163\\\n"
     ]
    },
    {
     "name": "stderr",
     "output_type": "stream",
     "text": [
      "WARNING:absl:Found untraced functions such as _jit_compiled_convolution_op, _jit_compiled_convolution_op, _jit_compiled_convolution_op, _jit_compiled_convolution_op while saving (showing 4 of 4). These functions will not be directly callable after loading.\n"
     ]
    },
    {
     "name": "stdout",
     "output_type": "stream",
     "text": [
      "INFO:tensorflow:Assets written to: model_init_2023-05-1621_37_44.295163\\assets\n"
     ]
    },
    {
     "name": "stderr",
     "output_type": "stream",
     "text": [
      "INFO:tensorflow:Assets written to: model_init_2023-05-1621_37_44.295163\\assets\n"
     ]
    },
    {
     "name": "stdout",
     "output_type": "stream",
     "text": [
      "21/23 [==========================>...] - ETA: 29s - loss: 1.4565 - categorical_accuracy: 0.4651\n",
      "Epoch 1: saving model to model_init_2023-05-1621_37_44.295163\\\n"
     ]
    },
    {
     "name": "stderr",
     "output_type": "stream",
     "text": [
      "WARNING:absl:Found untraced functions such as _jit_compiled_convolution_op, _jit_compiled_convolution_op, _jit_compiled_convolution_op, _jit_compiled_convolution_op while saving (showing 4 of 4). These functions will not be directly callable after loading.\n"
     ]
    },
    {
     "name": "stdout",
     "output_type": "stream",
     "text": [
      "INFO:tensorflow:Assets written to: model_init_2023-05-1621_37_44.295163\\assets\n"
     ]
    },
    {
     "name": "stderr",
     "output_type": "stream",
     "text": [
      "INFO:tensorflow:Assets written to: model_init_2023-05-1621_37_44.295163\\assets\n"
     ]
    },
    {
     "name": "stdout",
     "output_type": "stream",
     "text": [
      "22/23 [===========================>..] - ETA: 14s - loss: 1.4432 - categorical_accuracy: 0.4697\n",
      "Epoch 1: saving model to model_init_2023-05-1621_37_44.295163\\\n"
     ]
    },
    {
     "name": "stderr",
     "output_type": "stream",
     "text": [
      "WARNING:absl:Found untraced functions such as _jit_compiled_convolution_op, _jit_compiled_convolution_op, _jit_compiled_convolution_op, _jit_compiled_convolution_op while saving (showing 4 of 4). These functions will not be directly callable after loading.\n"
     ]
    },
    {
     "name": "stdout",
     "output_type": "stream",
     "text": [
      "INFO:tensorflow:Assets written to: model_init_2023-05-1621_37_44.295163\\assets\n"
     ]
    },
    {
     "name": "stderr",
     "output_type": "stream",
     "text": [
      "INFO:tensorflow:Assets written to: model_init_2023-05-1621_37_44.295163\\assets\n"
     ]
    },
    {
     "name": "stdout",
     "output_type": "stream",
     "text": [
      "23/23 [==============================] - 343s 15s/step - loss: 1.4426 - categorical_accuracy: 0.4691 - val_loss: 1.8222 - val_categorical_accuracy: 0.2100 - lr: 0.0010\n",
      "Epoch 2/3\n",
      "\n",
      "Epoch 2: saving model to model_init_2023-05-1621_37_44.295163\\\n"
     ]
    },
    {
     "name": "stderr",
     "output_type": "stream",
     "text": [
      "WARNING:absl:Found untraced functions such as _jit_compiled_convolution_op, _jit_compiled_convolution_op, _jit_compiled_convolution_op, _jit_compiled_convolution_op while saving (showing 4 of 4). These functions will not be directly callable after loading.\n"
     ]
    },
    {
     "name": "stdout",
     "output_type": "stream",
     "text": [
      "INFO:tensorflow:Assets written to: model_init_2023-05-1621_37_44.295163\\assets\n"
     ]
    },
    {
     "name": "stderr",
     "output_type": "stream",
     "text": [
      "INFO:tensorflow:Assets written to: model_init_2023-05-1621_37_44.295163\\assets\n"
     ]
    },
    {
     "name": "stdout",
     "output_type": "stream",
     "text": [
      " 1/23 [>.............................] - ETA: 5:28 - loss: 0.9929 - categorical_accuracy: 0.6667\n",
      "Epoch 2: saving model to model_init_2023-05-1621_37_44.295163\\\n"
     ]
    },
    {
     "name": "stderr",
     "output_type": "stream",
     "text": [
      "WARNING:absl:Found untraced functions such as _jit_compiled_convolution_op, _jit_compiled_convolution_op, _jit_compiled_convolution_op, _jit_compiled_convolution_op while saving (showing 4 of 4). These functions will not be directly callable after loading.\n"
     ]
    },
    {
     "name": "stdout",
     "output_type": "stream",
     "text": [
      "INFO:tensorflow:Assets written to: model_init_2023-05-1621_37_44.295163\\assets\n"
     ]
    },
    {
     "name": "stderr",
     "output_type": "stream",
     "text": [
      "INFO:tensorflow:Assets written to: model_init_2023-05-1621_37_44.295163\\assets\n"
     ]
    },
    {
     "name": "stdout",
     "output_type": "stream",
     "text": [
      " 2/23 [=>............................] - ETA: 5:11 - loss: 0.8118 - categorical_accuracy: 0.7167\n",
      "Epoch 2: saving model to model_init_2023-05-1621_37_44.295163\\\n"
     ]
    },
    {
     "name": "stderr",
     "output_type": "stream",
     "text": [
      "WARNING:absl:Found untraced functions such as _jit_compiled_convolution_op, _jit_compiled_convolution_op, _jit_compiled_convolution_op, _jit_compiled_convolution_op while saving (showing 4 of 4). These functions will not be directly callable after loading.\n"
     ]
    },
    {
     "name": "stdout",
     "output_type": "stream",
     "text": [
      "INFO:tensorflow:Assets written to: model_init_2023-05-1621_37_44.295163\\assets\n"
     ]
    },
    {
     "name": "stderr",
     "output_type": "stream",
     "text": [
      "INFO:tensorflow:Assets written to: model_init_2023-05-1621_37_44.295163\\assets\n"
     ]
    },
    {
     "name": "stdout",
     "output_type": "stream",
     "text": [
      " 3/23 [==>...........................] - ETA: 4:58 - loss: 1.0319 - categorical_accuracy: 0.6556\n",
      "Epoch 2: saving model to model_init_2023-05-1621_37_44.295163\\\n"
     ]
    },
    {
     "name": "stderr",
     "output_type": "stream",
     "text": [
      "WARNING:absl:Found untraced functions such as _jit_compiled_convolution_op, _jit_compiled_convolution_op, _jit_compiled_convolution_op, _jit_compiled_convolution_op while saving (showing 4 of 4). These functions will not be directly callable after loading.\n"
     ]
    },
    {
     "name": "stdout",
     "output_type": "stream",
     "text": [
      "INFO:tensorflow:Assets written to: model_init_2023-05-1621_37_44.295163\\assets\n"
     ]
    },
    {
     "name": "stderr",
     "output_type": "stream",
     "text": [
      "INFO:tensorflow:Assets written to: model_init_2023-05-1621_37_44.295163\\assets\n"
     ]
    },
    {
     "name": "stdout",
     "output_type": "stream",
     "text": [
      " 4/23 [====>.........................] - ETA: 4:42 - loss: 1.0273 - categorical_accuracy: 0.6333\n",
      "Epoch 2: saving model to model_init_2023-05-1621_37_44.295163\\\n"
     ]
    },
    {
     "name": "stderr",
     "output_type": "stream",
     "text": [
      "WARNING:absl:Found untraced functions such as _jit_compiled_convolution_op, _jit_compiled_convolution_op, _jit_compiled_convolution_op, _jit_compiled_convolution_op while saving (showing 4 of 4). These functions will not be directly callable after loading.\n"
     ]
    },
    {
     "name": "stdout",
     "output_type": "stream",
     "text": [
      "INFO:tensorflow:Assets written to: model_init_2023-05-1621_37_44.295163\\assets\n"
     ]
    },
    {
     "name": "stderr",
     "output_type": "stream",
     "text": [
      "INFO:tensorflow:Assets written to: model_init_2023-05-1621_37_44.295163\\assets\n"
     ]
    },
    {
     "name": "stdout",
     "output_type": "stream",
     "text": [
      " 5/23 [=====>........................] - ETA: 4:28 - loss: 0.9974 - categorical_accuracy: 0.6333\n",
      "Epoch 2: saving model to model_init_2023-05-1621_37_44.295163\\\n"
     ]
    },
    {
     "name": "stderr",
     "output_type": "stream",
     "text": [
      "WARNING:absl:Found untraced functions such as _jit_compiled_convolution_op, _jit_compiled_convolution_op, _jit_compiled_convolution_op, _jit_compiled_convolution_op while saving (showing 4 of 4). These functions will not be directly callable after loading.\n"
     ]
    },
    {
     "name": "stdout",
     "output_type": "stream",
     "text": [
      "INFO:tensorflow:Assets written to: model_init_2023-05-1621_37_44.295163\\assets\n"
     ]
    },
    {
     "name": "stderr",
     "output_type": "stream",
     "text": [
      "INFO:tensorflow:Assets written to: model_init_2023-05-1621_37_44.295163\\assets\n"
     ]
    },
    {
     "name": "stdout",
     "output_type": "stream",
     "text": [
      " 6/23 [======>.......................] - ETA: 4:13 - loss: 0.9839 - categorical_accuracy: 0.6333\n",
      "Epoch 2: saving model to model_init_2023-05-1621_37_44.295163\\\n"
     ]
    },
    {
     "name": "stderr",
     "output_type": "stream",
     "text": [
      "WARNING:absl:Found untraced functions such as _jit_compiled_convolution_op, _jit_compiled_convolution_op, _jit_compiled_convolution_op, _jit_compiled_convolution_op while saving (showing 4 of 4). These functions will not be directly callable after loading.\n"
     ]
    },
    {
     "name": "stdout",
     "output_type": "stream",
     "text": [
      "INFO:tensorflow:Assets written to: model_init_2023-05-1621_37_44.295163\\assets\n"
     ]
    },
    {
     "name": "stderr",
     "output_type": "stream",
     "text": [
      "INFO:tensorflow:Assets written to: model_init_2023-05-1621_37_44.295163\\assets\n"
     ]
    },
    {
     "name": "stdout",
     "output_type": "stream",
     "text": [
      " 7/23 [========>.....................] - ETA: 3:59 - loss: 0.9947 - categorical_accuracy: 0.6381\n",
      "Epoch 2: saving model to model_init_2023-05-1621_37_44.295163\\\n"
     ]
    },
    {
     "name": "stderr",
     "output_type": "stream",
     "text": [
      "WARNING:absl:Found untraced functions such as _jit_compiled_convolution_op, _jit_compiled_convolution_op, _jit_compiled_convolution_op, _jit_compiled_convolution_op while saving (showing 4 of 4). These functions will not be directly callable after loading.\n"
     ]
    },
    {
     "name": "stdout",
     "output_type": "stream",
     "text": [
      "INFO:tensorflow:Assets written to: model_init_2023-05-1621_37_44.295163\\assets\n"
     ]
    },
    {
     "name": "stderr",
     "output_type": "stream",
     "text": [
      "INFO:tensorflow:Assets written to: model_init_2023-05-1621_37_44.295163\\assets\n"
     ]
    },
    {
     "name": "stdout",
     "output_type": "stream",
     "text": [
      " 8/23 [=========>....................] - ETA: 3:44 - loss: 1.0293 - categorical_accuracy: 0.6417\n",
      "Epoch 2: saving model to model_init_2023-05-1621_37_44.295163\\\n"
     ]
    },
    {
     "name": "stderr",
     "output_type": "stream",
     "text": [
      "WARNING:absl:Found untraced functions such as _jit_compiled_convolution_op, _jit_compiled_convolution_op, _jit_compiled_convolution_op, _jit_compiled_convolution_op while saving (showing 4 of 4). These functions will not be directly callable after loading.\n"
     ]
    },
    {
     "name": "stdout",
     "output_type": "stream",
     "text": [
      "INFO:tensorflow:Assets written to: model_init_2023-05-1621_37_44.295163\\assets\n"
     ]
    },
    {
     "name": "stderr",
     "output_type": "stream",
     "text": [
      "INFO:tensorflow:Assets written to: model_init_2023-05-1621_37_44.295163\\assets\n"
     ]
    },
    {
     "name": "stdout",
     "output_type": "stream",
     "text": [
      " 9/23 [==========>...................] - ETA: 3:28 - loss: 1.0048 - categorical_accuracy: 0.6444\n",
      "Epoch 2: saving model to model_init_2023-05-1621_37_44.295163\\\n"
     ]
    },
    {
     "name": "stderr",
     "output_type": "stream",
     "text": [
      "WARNING:absl:Found untraced functions such as _jit_compiled_convolution_op, _jit_compiled_convolution_op, _jit_compiled_convolution_op, _jit_compiled_convolution_op while saving (showing 4 of 4). These functions will not be directly callable after loading.\n"
     ]
    },
    {
     "name": "stdout",
     "output_type": "stream",
     "text": [
      "INFO:tensorflow:Assets written to: model_init_2023-05-1621_37_44.295163\\assets\n"
     ]
    },
    {
     "name": "stderr",
     "output_type": "stream",
     "text": [
      "INFO:tensorflow:Assets written to: model_init_2023-05-1621_37_44.295163\\assets\n"
     ]
    },
    {
     "name": "stdout",
     "output_type": "stream",
     "text": [
      "10/23 [============>.................] - ETA: 3:13 - loss: 1.0283 - categorical_accuracy: 0.6433\n",
      "Epoch 2: saving model to model_init_2023-05-1621_37_44.295163\\\n"
     ]
    },
    {
     "name": "stderr",
     "output_type": "stream",
     "text": [
      "WARNING:absl:Found untraced functions such as _jit_compiled_convolution_op, _jit_compiled_convolution_op, _jit_compiled_convolution_op, _jit_compiled_convolution_op while saving (showing 4 of 4). These functions will not be directly callable after loading.\n"
     ]
    },
    {
     "name": "stdout",
     "output_type": "stream",
     "text": [
      "INFO:tensorflow:Assets written to: model_init_2023-05-1621_37_44.295163\\assets\n"
     ]
    },
    {
     "name": "stderr",
     "output_type": "stream",
     "text": [
      "INFO:tensorflow:Assets written to: model_init_2023-05-1621_37_44.295163\\assets\n"
     ]
    },
    {
     "name": "stdout",
     "output_type": "stream",
     "text": [
      "11/23 [=============>................] - ETA: 2:58 - loss: 1.0114 - categorical_accuracy: 0.6455\n",
      "Epoch 2: saving model to model_init_2023-05-1621_37_44.295163\\\n"
     ]
    },
    {
     "name": "stderr",
     "output_type": "stream",
     "text": [
      "WARNING:absl:Found untraced functions such as _jit_compiled_convolution_op, _jit_compiled_convolution_op, _jit_compiled_convolution_op, _jit_compiled_convolution_op while saving (showing 4 of 4). These functions will not be directly callable after loading.\n"
     ]
    },
    {
     "name": "stdout",
     "output_type": "stream",
     "text": [
      "INFO:tensorflow:Assets written to: model_init_2023-05-1621_37_44.295163\\assets\n"
     ]
    },
    {
     "name": "stderr",
     "output_type": "stream",
     "text": [
      "INFO:tensorflow:Assets written to: model_init_2023-05-1621_37_44.295163\\assets\n"
     ]
    },
    {
     "name": "stdout",
     "output_type": "stream",
     "text": [
      "12/23 [==============>...............] - ETA: 2:44 - loss: 0.9991 - categorical_accuracy: 0.6389\n",
      "Epoch 2: saving model to model_init_2023-05-1621_37_44.295163\\\n"
     ]
    },
    {
     "name": "stderr",
     "output_type": "stream",
     "text": [
      "WARNING:absl:Found untraced functions such as _jit_compiled_convolution_op, _jit_compiled_convolution_op, _jit_compiled_convolution_op, _jit_compiled_convolution_op while saving (showing 4 of 4). These functions will not be directly callable after loading.\n"
     ]
    },
    {
     "name": "stdout",
     "output_type": "stream",
     "text": [
      "INFO:tensorflow:Assets written to: model_init_2023-05-1621_37_44.295163\\assets\n"
     ]
    },
    {
     "name": "stderr",
     "output_type": "stream",
     "text": [
      "INFO:tensorflow:Assets written to: model_init_2023-05-1621_37_44.295163\\assets\n"
     ]
    },
    {
     "name": "stdout",
     "output_type": "stream",
     "text": [
      "13/23 [===============>..............] - ETA: 2:29 - loss: 0.9904 - categorical_accuracy: 0.6359\n",
      "Epoch 2: saving model to model_init_2023-05-1621_37_44.295163\\\n"
     ]
    },
    {
     "name": "stderr",
     "output_type": "stream",
     "text": [
      "WARNING:absl:Found untraced functions such as _jit_compiled_convolution_op, _jit_compiled_convolution_op, _jit_compiled_convolution_op, _jit_compiled_convolution_op while saving (showing 4 of 4). These functions will not be directly callable after loading.\n"
     ]
    },
    {
     "name": "stdout",
     "output_type": "stream",
     "text": [
      "INFO:tensorflow:Assets written to: model_init_2023-05-1621_37_44.295163\\assets\n"
     ]
    },
    {
     "name": "stderr",
     "output_type": "stream",
     "text": [
      "INFO:tensorflow:Assets written to: model_init_2023-05-1621_37_44.295163\\assets\n"
     ]
    },
    {
     "name": "stdout",
     "output_type": "stream",
     "text": [
      "14/23 [=================>............] - ETA: 2:14 - loss: 0.9811 - categorical_accuracy: 0.6286\n",
      "Epoch 2: saving model to model_init_2023-05-1621_37_44.295163\\\n"
     ]
    },
    {
     "name": "stderr",
     "output_type": "stream",
     "text": [
      "WARNING:absl:Found untraced functions such as _jit_compiled_convolution_op, _jit_compiled_convolution_op, _jit_compiled_convolution_op, _jit_compiled_convolution_op while saving (showing 4 of 4). These functions will not be directly callable after loading.\n"
     ]
    },
    {
     "name": "stdout",
     "output_type": "stream",
     "text": [
      "INFO:tensorflow:Assets written to: model_init_2023-05-1621_37_44.295163\\assets\n"
     ]
    },
    {
     "name": "stderr",
     "output_type": "stream",
     "text": [
      "INFO:tensorflow:Assets written to: model_init_2023-05-1621_37_44.295163\\assets\n"
     ]
    },
    {
     "name": "stdout",
     "output_type": "stream",
     "text": [
      "15/23 [==================>...........] - ETA: 1:59 - loss: 0.9544 - categorical_accuracy: 0.6422\n",
      "Epoch 2: saving model to model_init_2023-05-1621_37_44.295163\\\n"
     ]
    },
    {
     "name": "stderr",
     "output_type": "stream",
     "text": [
      "WARNING:absl:Found untraced functions such as _jit_compiled_convolution_op, _jit_compiled_convolution_op, _jit_compiled_convolution_op, _jit_compiled_convolution_op while saving (showing 4 of 4). These functions will not be directly callable after loading.\n"
     ]
    },
    {
     "name": "stdout",
     "output_type": "stream",
     "text": [
      "INFO:tensorflow:Assets written to: model_init_2023-05-1621_37_44.295163\\assets\n"
     ]
    },
    {
     "name": "stderr",
     "output_type": "stream",
     "text": [
      "INFO:tensorflow:Assets written to: model_init_2023-05-1621_37_44.295163\\assets\n"
     ]
    },
    {
     "name": "stdout",
     "output_type": "stream",
     "text": [
      "16/23 [===================>..........] - ETA: 1:44 - loss: 0.9441 - categorical_accuracy: 0.6438\n",
      "Epoch 2: saving model to model_init_2023-05-1621_37_44.295163\\\n"
     ]
    },
    {
     "name": "stderr",
     "output_type": "stream",
     "text": [
      "WARNING:absl:Found untraced functions such as _jit_compiled_convolution_op, _jit_compiled_convolution_op, _jit_compiled_convolution_op, _jit_compiled_convolution_op while saving (showing 4 of 4). These functions will not be directly callable after loading.\n"
     ]
    },
    {
     "name": "stdout",
     "output_type": "stream",
     "text": [
      "INFO:tensorflow:Assets written to: model_init_2023-05-1621_37_44.295163\\assets\n"
     ]
    },
    {
     "name": "stderr",
     "output_type": "stream",
     "text": [
      "INFO:tensorflow:Assets written to: model_init_2023-05-1621_37_44.295163\\assets\n"
     ]
    },
    {
     "name": "stdout",
     "output_type": "stream",
     "text": [
      "17/23 [=====================>........] - ETA: 1:29 - loss: 0.9409 - categorical_accuracy: 0.6451\n",
      "Epoch 2: saving model to model_init_2023-05-1621_37_44.295163\\\n"
     ]
    },
    {
     "name": "stderr",
     "output_type": "stream",
     "text": [
      "WARNING:absl:Found untraced functions such as _jit_compiled_convolution_op, _jit_compiled_convolution_op, _jit_compiled_convolution_op, _jit_compiled_convolution_op while saving (showing 4 of 4). These functions will not be directly callable after loading.\n"
     ]
    },
    {
     "name": "stdout",
     "output_type": "stream",
     "text": [
      "INFO:tensorflow:Assets written to: model_init_2023-05-1621_37_44.295163\\assets\n"
     ]
    },
    {
     "name": "stderr",
     "output_type": "stream",
     "text": [
      "INFO:tensorflow:Assets written to: model_init_2023-05-1621_37_44.295163\\assets\n"
     ]
    },
    {
     "name": "stdout",
     "output_type": "stream",
     "text": [
      "18/23 [======================>.......] - ETA: 1:14 - loss: 0.9387 - categorical_accuracy: 0.6463\n",
      "Epoch 2: saving model to model_init_2023-05-1621_37_44.295163\\\n"
     ]
    },
    {
     "name": "stderr",
     "output_type": "stream",
     "text": [
      "WARNING:absl:Found untraced functions such as _jit_compiled_convolution_op, _jit_compiled_convolution_op, _jit_compiled_convolution_op, _jit_compiled_convolution_op while saving (showing 4 of 4). These functions will not be directly callable after loading.\n"
     ]
    },
    {
     "name": "stdout",
     "output_type": "stream",
     "text": [
      "INFO:tensorflow:Assets written to: model_init_2023-05-1621_37_44.295163\\assets\n"
     ]
    },
    {
     "name": "stderr",
     "output_type": "stream",
     "text": [
      "INFO:tensorflow:Assets written to: model_init_2023-05-1621_37_44.295163\\assets\n"
     ]
    },
    {
     "name": "stdout",
     "output_type": "stream",
     "text": [
      "19/23 [=======================>......] - ETA: 59s - loss: 0.9243 - categorical_accuracy: 0.6509 \n",
      "Epoch 2: saving model to model_init_2023-05-1621_37_44.295163\\\n"
     ]
    },
    {
     "name": "stderr",
     "output_type": "stream",
     "text": [
      "WARNING:absl:Found untraced functions such as _jit_compiled_convolution_op, _jit_compiled_convolution_op, _jit_compiled_convolution_op, _jit_compiled_convolution_op while saving (showing 4 of 4). These functions will not be directly callable after loading.\n"
     ]
    },
    {
     "name": "stdout",
     "output_type": "stream",
     "text": [
      "INFO:tensorflow:Assets written to: model_init_2023-05-1621_37_44.295163\\assets\n"
     ]
    },
    {
     "name": "stderr",
     "output_type": "stream",
     "text": [
      "INFO:tensorflow:Assets written to: model_init_2023-05-1621_37_44.295163\\assets\n"
     ]
    },
    {
     "name": "stdout",
     "output_type": "stream",
     "text": [
      "20/23 [=========================>....] - ETA: 44s - loss: 0.9136 - categorical_accuracy: 0.6533\n",
      "Epoch 2: saving model to model_init_2023-05-1621_37_44.295163\\\n"
     ]
    },
    {
     "name": "stderr",
     "output_type": "stream",
     "text": [
      "WARNING:absl:Found untraced functions such as _jit_compiled_convolution_op, _jit_compiled_convolution_op, _jit_compiled_convolution_op, _jit_compiled_convolution_op while saving (showing 4 of 4). These functions will not be directly callable after loading.\n"
     ]
    },
    {
     "name": "stdout",
     "output_type": "stream",
     "text": [
      "INFO:tensorflow:Assets written to: model_init_2023-05-1621_37_44.295163\\assets\n"
     ]
    },
    {
     "name": "stderr",
     "output_type": "stream",
     "text": [
      "INFO:tensorflow:Assets written to: model_init_2023-05-1621_37_44.295163\\assets\n"
     ]
    },
    {
     "name": "stdout",
     "output_type": "stream",
     "text": [
      "21/23 [==========================>...] - ETA: 29s - loss: 0.9137 - categorical_accuracy: 0.6540\n",
      "Epoch 2: saving model to model_init_2023-05-1621_37_44.295163\\\n"
     ]
    },
    {
     "name": "stderr",
     "output_type": "stream",
     "text": [
      "WARNING:absl:Found untraced functions such as _jit_compiled_convolution_op, _jit_compiled_convolution_op, _jit_compiled_convolution_op, _jit_compiled_convolution_op while saving (showing 4 of 4). These functions will not be directly callable after loading.\n"
     ]
    },
    {
     "name": "stdout",
     "output_type": "stream",
     "text": [
      "INFO:tensorflow:Assets written to: model_init_2023-05-1621_37_44.295163\\assets\n"
     ]
    },
    {
     "name": "stderr",
     "output_type": "stream",
     "text": [
      "INFO:tensorflow:Assets written to: model_init_2023-05-1621_37_44.295163\\assets\n"
     ]
    },
    {
     "name": "stdout",
     "output_type": "stream",
     "text": [
      "22/23 [===========================>..] - ETA: 14s - loss: 0.9058 - categorical_accuracy: 0.6591\n",
      "Epoch 2: saving model to model_init_2023-05-1621_37_44.295163\\\n"
     ]
    },
    {
     "name": "stderr",
     "output_type": "stream",
     "text": [
      "WARNING:absl:Found untraced functions such as _jit_compiled_convolution_op, _jit_compiled_convolution_op, _jit_compiled_convolution_op, _jit_compiled_convolution_op while saving (showing 4 of 4). These functions will not be directly callable after loading.\n"
     ]
    },
    {
     "name": "stdout",
     "output_type": "stream",
     "text": [
      "INFO:tensorflow:Assets written to: model_init_2023-05-1621_37_44.295163\\assets\n"
     ]
    },
    {
     "name": "stderr",
     "output_type": "stream",
     "text": [
      "INFO:tensorflow:Assets written to: model_init_2023-05-1621_37_44.295163\\assets\n"
     ]
    },
    {
     "name": "stdout",
     "output_type": "stream",
     "text": [
      "23/23 [==============================] - 342s 15s/step - loss: 0.9087 - categorical_accuracy: 0.6576 - val_loss: 2.3804 - val_categorical_accuracy: 0.2400 - lr: 0.0010\n",
      "Epoch 3/3\n",
      "\n",
      "Epoch 3: saving model to model_init_2023-05-1621_37_44.295163\\\n"
     ]
    },
    {
     "name": "stderr",
     "output_type": "stream",
     "text": [
      "WARNING:absl:Found untraced functions such as _jit_compiled_convolution_op, _jit_compiled_convolution_op, _jit_compiled_convolution_op, _jit_compiled_convolution_op while saving (showing 4 of 4). These functions will not be directly callable after loading.\n"
     ]
    },
    {
     "name": "stdout",
     "output_type": "stream",
     "text": [
      "INFO:tensorflow:Assets written to: model_init_2023-05-1621_37_44.295163\\assets\n"
     ]
    },
    {
     "name": "stderr",
     "output_type": "stream",
     "text": [
      "INFO:tensorflow:Assets written to: model_init_2023-05-1621_37_44.295163\\assets\n"
     ]
    },
    {
     "name": "stdout",
     "output_type": "stream",
     "text": [
      " 1/23 [>.............................] - ETA: 5:26 - loss: 0.8178 - categorical_accuracy: 0.7333\n",
      "Epoch 3: saving model to model_init_2023-05-1621_37_44.295163\\\n"
     ]
    },
    {
     "name": "stderr",
     "output_type": "stream",
     "text": [
      "WARNING:absl:Found untraced functions such as _jit_compiled_convolution_op, _jit_compiled_convolution_op, _jit_compiled_convolution_op, _jit_compiled_convolution_op while saving (showing 4 of 4). These functions will not be directly callable after loading.\n"
     ]
    },
    {
     "name": "stdout",
     "output_type": "stream",
     "text": [
      "INFO:tensorflow:Assets written to: model_init_2023-05-1621_37_44.295163\\assets\n"
     ]
    },
    {
     "name": "stderr",
     "output_type": "stream",
     "text": [
      "INFO:tensorflow:Assets written to: model_init_2023-05-1621_37_44.295163\\assets\n"
     ]
    },
    {
     "name": "stdout",
     "output_type": "stream",
     "text": [
      " 2/23 [=>............................] - ETA: 5:13 - loss: 0.8244 - categorical_accuracy: 0.7833\n",
      "Epoch 3: saving model to model_init_2023-05-1621_37_44.295163\\\n"
     ]
    },
    {
     "name": "stderr",
     "output_type": "stream",
     "text": [
      "WARNING:absl:Found untraced functions such as _jit_compiled_convolution_op, _jit_compiled_convolution_op, _jit_compiled_convolution_op, _jit_compiled_convolution_op while saving (showing 4 of 4). These functions will not be directly callable after loading.\n"
     ]
    },
    {
     "name": "stdout",
     "output_type": "stream",
     "text": [
      "INFO:tensorflow:Assets written to: model_init_2023-05-1621_37_44.295163\\assets\n"
     ]
    },
    {
     "name": "stderr",
     "output_type": "stream",
     "text": [
      "INFO:tensorflow:Assets written to: model_init_2023-05-1621_37_44.295163\\assets\n"
     ]
    },
    {
     "name": "stdout",
     "output_type": "stream",
     "text": [
      " 3/23 [==>...........................] - ETA: 4:56 - loss: 0.8324 - categorical_accuracy: 0.7000\n",
      "Epoch 3: saving model to model_init_2023-05-1621_37_44.295163\\\n"
     ]
    },
    {
     "name": "stderr",
     "output_type": "stream",
     "text": [
      "WARNING:absl:Found untraced functions such as _jit_compiled_convolution_op, _jit_compiled_convolution_op, _jit_compiled_convolution_op, _jit_compiled_convolution_op while saving (showing 4 of 4). These functions will not be directly callable after loading.\n"
     ]
    },
    {
     "name": "stdout",
     "output_type": "stream",
     "text": [
      "INFO:tensorflow:Assets written to: model_init_2023-05-1621_37_44.295163\\assets\n"
     ]
    },
    {
     "name": "stderr",
     "output_type": "stream",
     "text": [
      "INFO:tensorflow:Assets written to: model_init_2023-05-1621_37_44.295163\\assets\n"
     ]
    },
    {
     "name": "stdout",
     "output_type": "stream",
     "text": [
      " 4/23 [====>.........................] - ETA: 4:42 - loss: 0.7819 - categorical_accuracy: 0.7167\n",
      "Epoch 3: saving model to model_init_2023-05-1621_37_44.295163\\\n"
     ]
    },
    {
     "name": "stderr",
     "output_type": "stream",
     "text": [
      "WARNING:absl:Found untraced functions such as _jit_compiled_convolution_op, _jit_compiled_convolution_op, _jit_compiled_convolution_op, _jit_compiled_convolution_op while saving (showing 4 of 4). These functions will not be directly callable after loading.\n"
     ]
    },
    {
     "name": "stdout",
     "output_type": "stream",
     "text": [
      "INFO:tensorflow:Assets written to: model_init_2023-05-1621_37_44.295163\\assets\n"
     ]
    },
    {
     "name": "stderr",
     "output_type": "stream",
     "text": [
      "INFO:tensorflow:Assets written to: model_init_2023-05-1621_37_44.295163\\assets\n"
     ]
    },
    {
     "name": "stdout",
     "output_type": "stream",
     "text": [
      " 5/23 [=====>........................] - ETA: 4:29 - loss: 0.8075 - categorical_accuracy: 0.6867\n",
      "Epoch 3: saving model to model_init_2023-05-1621_37_44.295163\\\n"
     ]
    },
    {
     "name": "stderr",
     "output_type": "stream",
     "text": [
      "WARNING:absl:Found untraced functions such as _jit_compiled_convolution_op, _jit_compiled_convolution_op, _jit_compiled_convolution_op, _jit_compiled_convolution_op while saving (showing 4 of 4). These functions will not be directly callable after loading.\n"
     ]
    },
    {
     "name": "stdout",
     "output_type": "stream",
     "text": [
      "INFO:tensorflow:Assets written to: model_init_2023-05-1621_37_44.295163\\assets\n"
     ]
    },
    {
     "name": "stderr",
     "output_type": "stream",
     "text": [
      "INFO:tensorflow:Assets written to: model_init_2023-05-1621_37_44.295163\\assets\n"
     ]
    },
    {
     "name": "stdout",
     "output_type": "stream",
     "text": [
      " 6/23 [======>.......................] - ETA: 4:14 - loss: 0.7928 - categorical_accuracy: 0.6889\n",
      "Epoch 3: saving model to model_init_2023-05-1621_37_44.295163\\\n"
     ]
    },
    {
     "name": "stderr",
     "output_type": "stream",
     "text": [
      "WARNING:absl:Found untraced functions such as _jit_compiled_convolution_op, _jit_compiled_convolution_op, _jit_compiled_convolution_op, _jit_compiled_convolution_op while saving (showing 4 of 4). These functions will not be directly callable after loading.\n"
     ]
    },
    {
     "name": "stdout",
     "output_type": "stream",
     "text": [
      "INFO:tensorflow:Assets written to: model_init_2023-05-1621_37_44.295163\\assets\n"
     ]
    },
    {
     "name": "stderr",
     "output_type": "stream",
     "text": [
      "INFO:tensorflow:Assets written to: model_init_2023-05-1621_37_44.295163\\assets\n"
     ]
    },
    {
     "name": "stdout",
     "output_type": "stream",
     "text": [
      " 7/23 [========>.....................] - ETA: 3:59 - loss: 0.7478 - categorical_accuracy: 0.7143\n",
      "Epoch 3: saving model to model_init_2023-05-1621_37_44.295163\\\n"
     ]
    },
    {
     "name": "stderr",
     "output_type": "stream",
     "text": [
      "WARNING:absl:Found untraced functions such as _jit_compiled_convolution_op, _jit_compiled_convolution_op, _jit_compiled_convolution_op, _jit_compiled_convolution_op while saving (showing 4 of 4). These functions will not be directly callable after loading.\n"
     ]
    },
    {
     "name": "stdout",
     "output_type": "stream",
     "text": [
      "INFO:tensorflow:Assets written to: model_init_2023-05-1621_37_44.295163\\assets\n"
     ]
    },
    {
     "name": "stderr",
     "output_type": "stream",
     "text": [
      "INFO:tensorflow:Assets written to: model_init_2023-05-1621_37_44.295163\\assets\n"
     ]
    },
    {
     "name": "stdout",
     "output_type": "stream",
     "text": [
      " 8/23 [=========>....................] - ETA: 3:44 - loss: 0.7525 - categorical_accuracy: 0.7042\n",
      "Epoch 3: saving model to model_init_2023-05-1621_37_44.295163\\\n"
     ]
    },
    {
     "name": "stderr",
     "output_type": "stream",
     "text": [
      "WARNING:absl:Found untraced functions such as _jit_compiled_convolution_op, _jit_compiled_convolution_op, _jit_compiled_convolution_op, _jit_compiled_convolution_op while saving (showing 4 of 4). These functions will not be directly callable after loading.\n"
     ]
    },
    {
     "name": "stdout",
     "output_type": "stream",
     "text": [
      "INFO:tensorflow:Assets written to: model_init_2023-05-1621_37_44.295163\\assets\n"
     ]
    },
    {
     "name": "stderr",
     "output_type": "stream",
     "text": [
      "INFO:tensorflow:Assets written to: model_init_2023-05-1621_37_44.295163\\assets\n"
     ]
    },
    {
     "name": "stdout",
     "output_type": "stream",
     "text": [
      " 9/23 [==========>...................] - ETA: 3:29 - loss: 0.7434 - categorical_accuracy: 0.7111\n",
      "Epoch 3: saving model to model_init_2023-05-1621_37_44.295163\\\n"
     ]
    },
    {
     "name": "stderr",
     "output_type": "stream",
     "text": [
      "WARNING:absl:Found untraced functions such as _jit_compiled_convolution_op, _jit_compiled_convolution_op, _jit_compiled_convolution_op, _jit_compiled_convolution_op while saving (showing 4 of 4). These functions will not be directly callable after loading.\n"
     ]
    },
    {
     "name": "stdout",
     "output_type": "stream",
     "text": [
      "INFO:tensorflow:Assets written to: model_init_2023-05-1621_37_44.295163\\assets\n"
     ]
    },
    {
     "name": "stderr",
     "output_type": "stream",
     "text": [
      "INFO:tensorflow:Assets written to: model_init_2023-05-1621_37_44.295163\\assets\n"
     ]
    },
    {
     "name": "stdout",
     "output_type": "stream",
     "text": [
      "10/23 [============>.................] - ETA: 3:13 - loss: 0.7380 - categorical_accuracy: 0.7100\n",
      "Epoch 3: saving model to model_init_2023-05-1621_37_44.295163\\\n"
     ]
    },
    {
     "name": "stderr",
     "output_type": "stream",
     "text": [
      "WARNING:absl:Found untraced functions such as _jit_compiled_convolution_op, _jit_compiled_convolution_op, _jit_compiled_convolution_op, _jit_compiled_convolution_op while saving (showing 4 of 4). These functions will not be directly callable after loading.\n"
     ]
    },
    {
     "name": "stdout",
     "output_type": "stream",
     "text": [
      "INFO:tensorflow:Assets written to: model_init_2023-05-1621_37_44.295163\\assets\n"
     ]
    },
    {
     "name": "stderr",
     "output_type": "stream",
     "text": [
      "INFO:tensorflow:Assets written to: model_init_2023-05-1621_37_44.295163\\assets\n"
     ]
    },
    {
     "name": "stdout",
     "output_type": "stream",
     "text": [
      "11/23 [=============>................] - ETA: 2:59 - loss: 0.7464 - categorical_accuracy: 0.7000\n",
      "Epoch 3: saving model to model_init_2023-05-1621_37_44.295163\\\n"
     ]
    },
    {
     "name": "stderr",
     "output_type": "stream",
     "text": [
      "WARNING:absl:Found untraced functions such as _jit_compiled_convolution_op, _jit_compiled_convolution_op, _jit_compiled_convolution_op, _jit_compiled_convolution_op while saving (showing 4 of 4). These functions will not be directly callable after loading.\n"
     ]
    },
    {
     "name": "stdout",
     "output_type": "stream",
     "text": [
      "INFO:tensorflow:Assets written to: model_init_2023-05-1621_37_44.295163\\assets\n"
     ]
    },
    {
     "name": "stderr",
     "output_type": "stream",
     "text": [
      "INFO:tensorflow:Assets written to: model_init_2023-05-1621_37_44.295163\\assets\n"
     ]
    },
    {
     "name": "stdout",
     "output_type": "stream",
     "text": [
      "12/23 [==============>...............] - ETA: 2:44 - loss: 0.7560 - categorical_accuracy: 0.7028\n",
      "Epoch 3: saving model to model_init_2023-05-1621_37_44.295163\\\n"
     ]
    },
    {
     "name": "stderr",
     "output_type": "stream",
     "text": [
      "WARNING:absl:Found untraced functions such as _jit_compiled_convolution_op, _jit_compiled_convolution_op, _jit_compiled_convolution_op, _jit_compiled_convolution_op while saving (showing 4 of 4). These functions will not be directly callable after loading.\n"
     ]
    },
    {
     "name": "stdout",
     "output_type": "stream",
     "text": [
      "INFO:tensorflow:Assets written to: model_init_2023-05-1621_37_44.295163\\assets\n"
     ]
    },
    {
     "name": "stderr",
     "output_type": "stream",
     "text": [
      "INFO:tensorflow:Assets written to: model_init_2023-05-1621_37_44.295163\\assets\n"
     ]
    },
    {
     "name": "stdout",
     "output_type": "stream",
     "text": [
      "13/23 [===============>..............] - ETA: 2:28 - loss: 0.7500 - categorical_accuracy: 0.7026\n",
      "Epoch 3: saving model to model_init_2023-05-1621_37_44.295163\\\n"
     ]
    },
    {
     "name": "stderr",
     "output_type": "stream",
     "text": [
      "WARNING:absl:Found untraced functions such as _jit_compiled_convolution_op, _jit_compiled_convolution_op, _jit_compiled_convolution_op, _jit_compiled_convolution_op while saving (showing 4 of 4). These functions will not be directly callable after loading.\n"
     ]
    },
    {
     "name": "stdout",
     "output_type": "stream",
     "text": [
      "INFO:tensorflow:Assets written to: model_init_2023-05-1621_37_44.295163\\assets\n"
     ]
    },
    {
     "name": "stderr",
     "output_type": "stream",
     "text": [
      "INFO:tensorflow:Assets written to: model_init_2023-05-1621_37_44.295163\\assets\n"
     ]
    },
    {
     "name": "stdout",
     "output_type": "stream",
     "text": [
      "14/23 [=================>............] - ETA: 2:14 - loss: 0.7462 - categorical_accuracy: 0.7048\n",
      "Epoch 3: saving model to model_init_2023-05-1621_37_44.295163\\\n"
     ]
    },
    {
     "name": "stderr",
     "output_type": "stream",
     "text": [
      "WARNING:absl:Found untraced functions such as _jit_compiled_convolution_op, _jit_compiled_convolution_op, _jit_compiled_convolution_op, _jit_compiled_convolution_op while saving (showing 4 of 4). These functions will not be directly callable after loading.\n"
     ]
    },
    {
     "name": "stdout",
     "output_type": "stream",
     "text": [
      "INFO:tensorflow:Assets written to: model_init_2023-05-1621_37_44.295163\\assets\n"
     ]
    },
    {
     "name": "stderr",
     "output_type": "stream",
     "text": [
      "INFO:tensorflow:Assets written to: model_init_2023-05-1621_37_44.295163\\assets\n"
     ]
    },
    {
     "name": "stdout",
     "output_type": "stream",
     "text": [
      "15/23 [==================>...........] - ETA: 1:59 - loss: 0.7536 - categorical_accuracy: 0.7044\n",
      "Epoch 3: saving model to model_init_2023-05-1621_37_44.295163\\\n"
     ]
    },
    {
     "name": "stderr",
     "output_type": "stream",
     "text": [
      "WARNING:absl:Found untraced functions such as _jit_compiled_convolution_op, _jit_compiled_convolution_op, _jit_compiled_convolution_op, _jit_compiled_convolution_op while saving (showing 4 of 4). These functions will not be directly callable after loading.\n"
     ]
    },
    {
     "name": "stdout",
     "output_type": "stream",
     "text": [
      "INFO:tensorflow:Assets written to: model_init_2023-05-1621_37_44.295163\\assets\n"
     ]
    },
    {
     "name": "stderr",
     "output_type": "stream",
     "text": [
      "INFO:tensorflow:Assets written to: model_init_2023-05-1621_37_44.295163\\assets\n"
     ]
    },
    {
     "name": "stdout",
     "output_type": "stream",
     "text": [
      "16/23 [===================>..........] - ETA: 1:44 - loss: 0.7587 - categorical_accuracy: 0.7042\n",
      "Epoch 3: saving model to model_init_2023-05-1621_37_44.295163\\\n"
     ]
    },
    {
     "name": "stderr",
     "output_type": "stream",
     "text": [
      "WARNING:absl:Found untraced functions such as _jit_compiled_convolution_op, _jit_compiled_convolution_op, _jit_compiled_convolution_op, _jit_compiled_convolution_op while saving (showing 4 of 4). These functions will not be directly callable after loading.\n"
     ]
    },
    {
     "name": "stdout",
     "output_type": "stream",
     "text": [
      "INFO:tensorflow:Assets written to: model_init_2023-05-1621_37_44.295163\\assets\n"
     ]
    },
    {
     "name": "stderr",
     "output_type": "stream",
     "text": [
      "INFO:tensorflow:Assets written to: model_init_2023-05-1621_37_44.295163\\assets\n"
     ]
    },
    {
     "name": "stdout",
     "output_type": "stream",
     "text": [
      "17/23 [=====================>........] - ETA: 1:29 - loss: 0.7572 - categorical_accuracy: 0.7039\n",
      "Epoch 3: saving model to model_init_2023-05-1621_37_44.295163\\\n"
     ]
    },
    {
     "name": "stderr",
     "output_type": "stream",
     "text": [
      "WARNING:absl:Found untraced functions such as _jit_compiled_convolution_op, _jit_compiled_convolution_op, _jit_compiled_convolution_op, _jit_compiled_convolution_op while saving (showing 4 of 4). These functions will not be directly callable after loading.\n"
     ]
    },
    {
     "name": "stdout",
     "output_type": "stream",
     "text": [
      "INFO:tensorflow:Assets written to: model_init_2023-05-1621_37_44.295163\\assets\n"
     ]
    },
    {
     "name": "stderr",
     "output_type": "stream",
     "text": [
      "INFO:tensorflow:Assets written to: model_init_2023-05-1621_37_44.295163\\assets\n"
     ]
    },
    {
     "name": "stdout",
     "output_type": "stream",
     "text": [
      "18/23 [======================>.......] - ETA: 1:14 - loss: 0.7667 - categorical_accuracy: 0.7000\n",
      "Epoch 3: saving model to model_init_2023-05-1621_37_44.295163\\\n"
     ]
    },
    {
     "name": "stderr",
     "output_type": "stream",
     "text": [
      "WARNING:absl:Found untraced functions such as _jit_compiled_convolution_op, _jit_compiled_convolution_op, _jit_compiled_convolution_op, _jit_compiled_convolution_op while saving (showing 4 of 4). These functions will not be directly callable after loading.\n"
     ]
    },
    {
     "name": "stdout",
     "output_type": "stream",
     "text": [
      "INFO:tensorflow:Assets written to: model_init_2023-05-1621_37_44.295163\\assets\n"
     ]
    },
    {
     "name": "stderr",
     "output_type": "stream",
     "text": [
      "INFO:tensorflow:Assets written to: model_init_2023-05-1621_37_44.295163\\assets\n"
     ]
    },
    {
     "name": "stdout",
     "output_type": "stream",
     "text": [
      "19/23 [=======================>......] - ETA: 59s - loss: 0.7585 - categorical_accuracy: 0.7000 \n",
      "Epoch 3: saving model to model_init_2023-05-1621_37_44.295163\\\n"
     ]
    },
    {
     "name": "stderr",
     "output_type": "stream",
     "text": [
      "WARNING:absl:Found untraced functions such as _jit_compiled_convolution_op, _jit_compiled_convolution_op, _jit_compiled_convolution_op, _jit_compiled_convolution_op while saving (showing 4 of 4). These functions will not be directly callable after loading.\n"
     ]
    },
    {
     "name": "stdout",
     "output_type": "stream",
     "text": [
      "INFO:tensorflow:Assets written to: model_init_2023-05-1621_37_44.295163\\assets\n"
     ]
    },
    {
     "name": "stderr",
     "output_type": "stream",
     "text": [
      "INFO:tensorflow:Assets written to: model_init_2023-05-1621_37_44.295163\\assets\n"
     ]
    },
    {
     "name": "stdout",
     "output_type": "stream",
     "text": [
      "20/23 [=========================>....] - ETA: 44s - loss: 0.7554 - categorical_accuracy: 0.7000\n",
      "Epoch 3: saving model to model_init_2023-05-1621_37_44.295163\\\n"
     ]
    },
    {
     "name": "stderr",
     "output_type": "stream",
     "text": [
      "WARNING:absl:Found untraced functions such as _jit_compiled_convolution_op, _jit_compiled_convolution_op, _jit_compiled_convolution_op, _jit_compiled_convolution_op while saving (showing 4 of 4). These functions will not be directly callable after loading.\n"
     ]
    },
    {
     "name": "stdout",
     "output_type": "stream",
     "text": [
      "INFO:tensorflow:Assets written to: model_init_2023-05-1621_37_44.295163\\assets\n"
     ]
    },
    {
     "name": "stderr",
     "output_type": "stream",
     "text": [
      "INFO:tensorflow:Assets written to: model_init_2023-05-1621_37_44.295163\\assets\n"
     ]
    },
    {
     "name": "stdout",
     "output_type": "stream",
     "text": [
      "21/23 [==========================>...] - ETA: 29s - loss: 0.7475 - categorical_accuracy: 0.7032\n",
      "Epoch 3: saving model to model_init_2023-05-1621_37_44.295163\\\n"
     ]
    },
    {
     "name": "stderr",
     "output_type": "stream",
     "text": [
      "WARNING:absl:Found untraced functions such as _jit_compiled_convolution_op, _jit_compiled_convolution_op, _jit_compiled_convolution_op, _jit_compiled_convolution_op while saving (showing 4 of 4). These functions will not be directly callable after loading.\n"
     ]
    },
    {
     "name": "stdout",
     "output_type": "stream",
     "text": [
      "INFO:tensorflow:Assets written to: model_init_2023-05-1621_37_44.295163\\assets\n"
     ]
    },
    {
     "name": "stderr",
     "output_type": "stream",
     "text": [
      "INFO:tensorflow:Assets written to: model_init_2023-05-1621_37_44.295163\\assets\n"
     ]
    },
    {
     "name": "stdout",
     "output_type": "stream",
     "text": [
      "22/23 [===========================>..] - ETA: 14s - loss: 0.7466 - categorical_accuracy: 0.7030\n",
      "Epoch 3: saving model to model_init_2023-05-1621_37_44.295163\\\n"
     ]
    },
    {
     "name": "stderr",
     "output_type": "stream",
     "text": [
      "WARNING:absl:Found untraced functions such as _jit_compiled_convolution_op, _jit_compiled_convolution_op, _jit_compiled_convolution_op, _jit_compiled_convolution_op while saving (showing 4 of 4). These functions will not be directly callable after loading.\n"
     ]
    },
    {
     "name": "stdout",
     "output_type": "stream",
     "text": [
      "INFO:tensorflow:Assets written to: model_init_2023-05-1621_37_44.295163\\assets\n"
     ]
    },
    {
     "name": "stderr",
     "output_type": "stream",
     "text": [
      "INFO:tensorflow:Assets written to: model_init_2023-05-1621_37_44.295163\\assets\n"
     ]
    },
    {
     "name": "stdout",
     "output_type": "stream",
     "text": [
      "23/23 [==============================] - 341s 15s/step - loss: 0.7512 - categorical_accuracy: 0.7014 - val_loss: 3.6112 - val_categorical_accuracy: 0.2100 - lr: 0.0010\n"
     ]
    },
    {
     "data": {
      "text/plain": [
       "<keras.callbacks.History at 0x1e200124340>"
      ]
     },
     "execution_count": 26,
     "metadata": {},
     "output_type": "execute_result"
    }
   ],
   "source": [
    "#sample 2\n",
    "conv_3d1=ModelConv3D1()\n",
    "conv_3d1.initialize_path(project_folder)\n",
    "conv_3d1.initialize_image_properties(image_height=160,image_width=160)\n",
    "conv_3d1.initialize_hyperparams(frames_to_sample=16,batch_size=30,num_epochs=3)\n",
    "conv_3d1_model=conv_3d1.define_model()\n",
    "print(\"Total Params:\", conv_3d1_model.count_params())\n",
    "conv_3d1.train_model(conv_3d1_model)"
   ]
  },
  {
   "cell_type": "code",
   "execution_count": 13,
   "id": "4bbde4f5",
   "metadata": {},
   "outputs": [],
   "source": [
    "import absl.logging\n",
    "absl.logging.set_verbosity(absl.logging.ERROR)"
   ]
  },
  {
   "cell_type": "code",
   "execution_count": 28,
   "id": "9dd28935",
   "metadata": {},
   "outputs": [
    {
     "name": "stdout",
     "output_type": "stream",
     "text": [
      "Total Params: 687813\n",
      "Epoch 1/2\n",
      "\n",
      "Epoch 1: saving model to model_init_2023-05-1621_54_51.545062\\\n",
      "INFO:tensorflow:Assets written to: model_init_2023-05-1621_54_51.545062\\assets\n"
     ]
    },
    {
     "name": "stderr",
     "output_type": "stream",
     "text": [
      "INFO:tensorflow:Assets written to: model_init_2023-05-1621_54_51.545062\\assets\n"
     ]
    },
    {
     "name": "stdout",
     "output_type": "stream",
     "text": [
      " 1/23 [>.............................] - ETA: 4:26 - loss: 2.4326 - categorical_accuracy: 0.1333\n",
      "Epoch 1: saving model to model_init_2023-05-1621_54_51.545062\\\n",
      "INFO:tensorflow:Assets written to: model_init_2023-05-1621_54_51.545062\\assets\n"
     ]
    },
    {
     "name": "stderr",
     "output_type": "stream",
     "text": [
      "INFO:tensorflow:Assets written to: model_init_2023-05-1621_54_51.545062\\assets\n"
     ]
    },
    {
     "name": "stdout",
     "output_type": "stream",
     "text": [
      " 2/23 [=>............................] - ETA: 3:55 - loss: 2.4521 - categorical_accuracy: 0.1333\n",
      "Epoch 1: saving model to model_init_2023-05-1621_54_51.545062\\\n",
      "INFO:tensorflow:Assets written to: model_init_2023-05-1621_54_51.545062\\assets\n"
     ]
    },
    {
     "name": "stderr",
     "output_type": "stream",
     "text": [
      "INFO:tensorflow:Assets written to: model_init_2023-05-1621_54_51.545062\\assets\n"
     ]
    },
    {
     "name": "stdout",
     "output_type": "stream",
     "text": [
      " 3/23 [==>...........................] - ETA: 3:45 - loss: 2.3473 - categorical_accuracy: 0.1889\n",
      "Epoch 1: saving model to model_init_2023-05-1621_54_51.545062\\\n",
      "INFO:tensorflow:Assets written to: model_init_2023-05-1621_54_51.545062\\assets\n"
     ]
    },
    {
     "name": "stderr",
     "output_type": "stream",
     "text": [
      "INFO:tensorflow:Assets written to: model_init_2023-05-1621_54_51.545062\\assets\n"
     ]
    },
    {
     "name": "stdout",
     "output_type": "stream",
     "text": [
      " 4/23 [====>.........................] - ETA: 3:33 - loss: 2.2606 - categorical_accuracy: 0.2250\n",
      "Epoch 1: saving model to model_init_2023-05-1621_54_51.545062\\\n",
      "INFO:tensorflow:Assets written to: model_init_2023-05-1621_54_51.545062\\assets\n"
     ]
    },
    {
     "name": "stderr",
     "output_type": "stream",
     "text": [
      "INFO:tensorflow:Assets written to: model_init_2023-05-1621_54_51.545062\\assets\n"
     ]
    },
    {
     "name": "stdout",
     "output_type": "stream",
     "text": [
      " 5/23 [=====>........................] - ETA: 3:22 - loss: 2.1692 - categorical_accuracy: 0.2467\n",
      "Epoch 1: saving model to model_init_2023-05-1621_54_51.545062\\\n",
      "INFO:tensorflow:Assets written to: model_init_2023-05-1621_54_51.545062\\assets\n"
     ]
    },
    {
     "name": "stderr",
     "output_type": "stream",
     "text": [
      "INFO:tensorflow:Assets written to: model_init_2023-05-1621_54_51.545062\\assets\n"
     ]
    },
    {
     "name": "stdout",
     "output_type": "stream",
     "text": [
      " 6/23 [======>.......................] - ETA: 3:10 - loss: 2.0641 - categorical_accuracy: 0.2889\n",
      "Epoch 1: saving model to model_init_2023-05-1621_54_51.545062\\\n",
      "INFO:tensorflow:Assets written to: model_init_2023-05-1621_54_51.545062\\assets\n"
     ]
    },
    {
     "name": "stderr",
     "output_type": "stream",
     "text": [
      "INFO:tensorflow:Assets written to: model_init_2023-05-1621_54_51.545062\\assets\n"
     ]
    },
    {
     "name": "stdout",
     "output_type": "stream",
     "text": [
      " 7/23 [========>.....................] - ETA: 2:59 - loss: 1.9389 - categorical_accuracy: 0.3333\n",
      "Epoch 1: saving model to model_init_2023-05-1621_54_51.545062\\\n",
      "INFO:tensorflow:Assets written to: model_init_2023-05-1621_54_51.545062\\assets\n"
     ]
    },
    {
     "name": "stderr",
     "output_type": "stream",
     "text": [
      "INFO:tensorflow:Assets written to: model_init_2023-05-1621_54_51.545062\\assets\n"
     ]
    },
    {
     "name": "stdout",
     "output_type": "stream",
     "text": [
      " 8/23 [=========>....................] - ETA: 2:47 - loss: 1.8550 - categorical_accuracy: 0.3375\n",
      "Epoch 1: saving model to model_init_2023-05-1621_54_51.545062\\\n",
      "INFO:tensorflow:Assets written to: model_init_2023-05-1621_54_51.545062\\assets\n"
     ]
    },
    {
     "name": "stderr",
     "output_type": "stream",
     "text": [
      "INFO:tensorflow:Assets written to: model_init_2023-05-1621_54_51.545062\\assets\n"
     ]
    },
    {
     "name": "stdout",
     "output_type": "stream",
     "text": [
      " 9/23 [==========>...................] - ETA: 2:37 - loss: 1.8225 - categorical_accuracy: 0.3407\n",
      "Epoch 1: saving model to model_init_2023-05-1621_54_51.545062\\\n",
      "INFO:tensorflow:Assets written to: model_init_2023-05-1621_54_51.545062\\assets\n"
     ]
    },
    {
     "name": "stderr",
     "output_type": "stream",
     "text": [
      "INFO:tensorflow:Assets written to: model_init_2023-05-1621_54_51.545062\\assets\n"
     ]
    },
    {
     "name": "stdout",
     "output_type": "stream",
     "text": [
      "10/23 [============>.................] - ETA: 2:25 - loss: 1.7980 - categorical_accuracy: 0.3567\n",
      "Epoch 1: saving model to model_init_2023-05-1621_54_51.545062\\\n",
      "INFO:tensorflow:Assets written to: model_init_2023-05-1621_54_51.545062\\assets\n"
     ]
    },
    {
     "name": "stderr",
     "output_type": "stream",
     "text": [
      "INFO:tensorflow:Assets written to: model_init_2023-05-1621_54_51.545062\\assets\n"
     ]
    },
    {
     "name": "stdout",
     "output_type": "stream",
     "text": [
      "11/23 [=============>................] - ETA: 2:14 - loss: 1.7660 - categorical_accuracy: 0.3667\n",
      "Epoch 1: saving model to model_init_2023-05-1621_54_51.545062\\\n",
      "INFO:tensorflow:Assets written to: model_init_2023-05-1621_54_51.545062\\assets\n"
     ]
    },
    {
     "name": "stderr",
     "output_type": "stream",
     "text": [
      "INFO:tensorflow:Assets written to: model_init_2023-05-1621_54_51.545062\\assets\n"
     ]
    },
    {
     "name": "stdout",
     "output_type": "stream",
     "text": [
      "12/23 [==============>...............] - ETA: 2:03 - loss: 1.7330 - categorical_accuracy: 0.3806\n",
      "Epoch 1: saving model to model_init_2023-05-1621_54_51.545062\\\n",
      "INFO:tensorflow:Assets written to: model_init_2023-05-1621_54_51.545062\\assets\n"
     ]
    },
    {
     "name": "stderr",
     "output_type": "stream",
     "text": [
      "INFO:tensorflow:Assets written to: model_init_2023-05-1621_54_51.545062\\assets\n"
     ]
    },
    {
     "name": "stdout",
     "output_type": "stream",
     "text": [
      "13/23 [===============>..............] - ETA: 1:52 - loss: 1.6992 - categorical_accuracy: 0.3923\n",
      "Epoch 1: saving model to model_init_2023-05-1621_54_51.545062\\\n",
      "INFO:tensorflow:Assets written to: model_init_2023-05-1621_54_51.545062\\assets\n"
     ]
    },
    {
     "name": "stderr",
     "output_type": "stream",
     "text": [
      "INFO:tensorflow:Assets written to: model_init_2023-05-1621_54_51.545062\\assets\n"
     ]
    },
    {
     "name": "stdout",
     "output_type": "stream",
     "text": [
      "14/23 [=================>............] - ETA: 1:41 - loss: 1.6773 - categorical_accuracy: 0.3929\n",
      "Epoch 1: saving model to model_init_2023-05-1621_54_51.545062\\\n",
      "INFO:tensorflow:Assets written to: model_init_2023-05-1621_54_51.545062\\assets\n"
     ]
    },
    {
     "name": "stderr",
     "output_type": "stream",
     "text": [
      "INFO:tensorflow:Assets written to: model_init_2023-05-1621_54_51.545062\\assets\n"
     ]
    },
    {
     "name": "stdout",
     "output_type": "stream",
     "text": [
      "15/23 [==================>...........] - ETA: 1:29 - loss: 1.6995 - categorical_accuracy: 0.3933\n",
      "Epoch 1: saving model to model_init_2023-05-1621_54_51.545062\\\n",
      "INFO:tensorflow:Assets written to: model_init_2023-05-1621_54_51.545062\\assets\n"
     ]
    },
    {
     "name": "stderr",
     "output_type": "stream",
     "text": [
      "INFO:tensorflow:Assets written to: model_init_2023-05-1621_54_51.545062\\assets\n"
     ]
    },
    {
     "name": "stdout",
     "output_type": "stream",
     "text": [
      "16/23 [===================>..........] - ETA: 1:18 - loss: 1.6720 - categorical_accuracy: 0.4042\n",
      "Epoch 1: saving model to model_init_2023-05-1621_54_51.545062\\\n",
      "INFO:tensorflow:Assets written to: model_init_2023-05-1621_54_51.545062\\assets\n"
     ]
    },
    {
     "name": "stderr",
     "output_type": "stream",
     "text": [
      "INFO:tensorflow:Assets written to: model_init_2023-05-1621_54_51.545062\\assets\n"
     ]
    },
    {
     "name": "stdout",
     "output_type": "stream",
     "text": [
      "17/23 [=====================>........] - ETA: 1:07 - loss: 1.6378 - categorical_accuracy: 0.4176\n",
      "Epoch 1: saving model to model_init_2023-05-1621_54_51.545062\\\n",
      "INFO:tensorflow:Assets written to: model_init_2023-05-1621_54_51.545062\\assets\n"
     ]
    },
    {
     "name": "stderr",
     "output_type": "stream",
     "text": [
      "INFO:tensorflow:Assets written to: model_init_2023-05-1621_54_51.545062\\assets\n"
     ]
    },
    {
     "name": "stdout",
     "output_type": "stream",
     "text": [
      "18/23 [======================>.......] - ETA: 56s - loss: 1.6285 - categorical_accuracy: 0.4185 \n",
      "Epoch 1: saving model to model_init_2023-05-1621_54_51.545062\\\n",
      "INFO:tensorflow:Assets written to: model_init_2023-05-1621_54_51.545062\\assets\n"
     ]
    },
    {
     "name": "stderr",
     "output_type": "stream",
     "text": [
      "INFO:tensorflow:Assets written to: model_init_2023-05-1621_54_51.545062\\assets\n"
     ]
    },
    {
     "name": "stdout",
     "output_type": "stream",
     "text": [
      "19/23 [=======================>......] - ETA: 44s - loss: 1.5917 - categorical_accuracy: 0.4281\n",
      "Epoch 1: saving model to model_init_2023-05-1621_54_51.545062\\\n",
      "INFO:tensorflow:Assets written to: model_init_2023-05-1621_54_51.545062\\assets\n"
     ]
    },
    {
     "name": "stderr",
     "output_type": "stream",
     "text": [
      "INFO:tensorflow:Assets written to: model_init_2023-05-1621_54_51.545062\\assets\n"
     ]
    },
    {
     "name": "stdout",
     "output_type": "stream",
     "text": [
      "20/23 [=========================>....] - ETA: 33s - loss: 1.5698 - categorical_accuracy: 0.4317\n",
      "Epoch 1: saving model to model_init_2023-05-1621_54_51.545062\\\n",
      "INFO:tensorflow:Assets written to: model_init_2023-05-1621_54_51.545062\\assets\n"
     ]
    },
    {
     "name": "stderr",
     "output_type": "stream",
     "text": [
      "INFO:tensorflow:Assets written to: model_init_2023-05-1621_54_51.545062\\assets\n"
     ]
    },
    {
     "name": "stdout",
     "output_type": "stream",
     "text": [
      "21/23 [==========================>...] - ETA: 22s - loss: 1.5503 - categorical_accuracy: 0.4397\n",
      "Epoch 1: saving model to model_init_2023-05-1621_54_51.545062\\\n",
      "INFO:tensorflow:Assets written to: model_init_2023-05-1621_54_51.545062\\assets\n"
     ]
    },
    {
     "name": "stderr",
     "output_type": "stream",
     "text": [
      "INFO:tensorflow:Assets written to: model_init_2023-05-1621_54_51.545062\\assets\n"
     ]
    },
    {
     "name": "stdout",
     "output_type": "stream",
     "text": [
      "22/23 [===========================>..] - ETA: 11s - loss: 1.5427 - categorical_accuracy: 0.4424\n",
      "Epoch 1: saving model to model_init_2023-05-1621_54_51.545062\\\n",
      "INFO:tensorflow:Assets written to: model_init_2023-05-1621_54_51.545062\\assets\n"
     ]
    },
    {
     "name": "stderr",
     "output_type": "stream",
     "text": [
      "INFO:tensorflow:Assets written to: model_init_2023-05-1621_54_51.545062\\assets\n"
     ]
    },
    {
     "name": "stdout",
     "output_type": "stream",
     "text": [
      "23/23 [==============================] - 265s 12s/step - loss: 1.5420 - categorical_accuracy: 0.4419 - val_loss: 2.0593 - val_categorical_accuracy: 0.2200 - lr: 0.0010\n",
      "Epoch 2/2\n",
      "\n",
      "Epoch 2: saving model to model_init_2023-05-1621_54_51.545062\\\n",
      "INFO:tensorflow:Assets written to: model_init_2023-05-1621_54_51.545062\\assets\n"
     ]
    },
    {
     "name": "stderr",
     "output_type": "stream",
     "text": [
      "INFO:tensorflow:Assets written to: model_init_2023-05-1621_54_51.545062\\assets\n"
     ]
    },
    {
     "name": "stdout",
     "output_type": "stream",
     "text": [
      " 1/23 [>.............................] - ETA: 4:05 - loss: 1.0374 - categorical_accuracy: 0.5667\n",
      "Epoch 2: saving model to model_init_2023-05-1621_54_51.545062\\\n",
      "INFO:tensorflow:Assets written to: model_init_2023-05-1621_54_51.545062\\assets\n"
     ]
    },
    {
     "name": "stderr",
     "output_type": "stream",
     "text": [
      "INFO:tensorflow:Assets written to: model_init_2023-05-1621_54_51.545062\\assets\n"
     ]
    },
    {
     "name": "stdout",
     "output_type": "stream",
     "text": [
      " 2/23 [=>............................] - ETA: 3:56 - loss: 1.0251 - categorical_accuracy: 0.6167\n",
      "Epoch 2: saving model to model_init_2023-05-1621_54_51.545062\\\n",
      "INFO:tensorflow:Assets written to: model_init_2023-05-1621_54_51.545062\\assets\n"
     ]
    },
    {
     "name": "stderr",
     "output_type": "stream",
     "text": [
      "INFO:tensorflow:Assets written to: model_init_2023-05-1621_54_51.545062\\assets\n"
     ]
    },
    {
     "name": "stdout",
     "output_type": "stream",
     "text": [
      " 3/23 [==>...........................] - ETA: 3:44 - loss: 1.0012 - categorical_accuracy: 0.6111\n",
      "Epoch 2: saving model to model_init_2023-05-1621_54_51.545062\\\n",
      "INFO:tensorflow:Assets written to: model_init_2023-05-1621_54_51.545062\\assets\n"
     ]
    },
    {
     "name": "stderr",
     "output_type": "stream",
     "text": [
      "INFO:tensorflow:Assets written to: model_init_2023-05-1621_54_51.545062\\assets\n"
     ]
    },
    {
     "name": "stdout",
     "output_type": "stream",
     "text": [
      " 4/23 [====>.........................] - ETA: 3:34 - loss: 1.0067 - categorical_accuracy: 0.6000\n",
      "Epoch 2: saving model to model_init_2023-05-1621_54_51.545062\\\n",
      "INFO:tensorflow:Assets written to: model_init_2023-05-1621_54_51.545062\\assets\n"
     ]
    },
    {
     "name": "stderr",
     "output_type": "stream",
     "text": [
      "INFO:tensorflow:Assets written to: model_init_2023-05-1621_54_51.545062\\assets\n"
     ]
    },
    {
     "name": "stdout",
     "output_type": "stream",
     "text": [
      " 5/23 [=====>........................] - ETA: 3:22 - loss: 1.0001 - categorical_accuracy: 0.5867\n",
      "Epoch 2: saving model to model_init_2023-05-1621_54_51.545062\\\n",
      "INFO:tensorflow:Assets written to: model_init_2023-05-1621_54_51.545062\\assets\n"
     ]
    },
    {
     "name": "stderr",
     "output_type": "stream",
     "text": [
      "INFO:tensorflow:Assets written to: model_init_2023-05-1621_54_51.545062\\assets\n"
     ]
    },
    {
     "name": "stdout",
     "output_type": "stream",
     "text": [
      " 6/23 [======>.......................] - ETA: 3:11 - loss: 1.0293 - categorical_accuracy: 0.6000\n",
      "Epoch 2: saving model to model_init_2023-05-1621_54_51.545062\\\n",
      "INFO:tensorflow:Assets written to: model_init_2023-05-1621_54_51.545062\\assets\n"
     ]
    },
    {
     "name": "stderr",
     "output_type": "stream",
     "text": [
      "INFO:tensorflow:Assets written to: model_init_2023-05-1621_54_51.545062\\assets\n"
     ]
    },
    {
     "name": "stdout",
     "output_type": "stream",
     "text": [
      " 7/23 [========>.....................] - ETA: 3:00 - loss: 0.9975 - categorical_accuracy: 0.6286\n",
      "Epoch 2: saving model to model_init_2023-05-1621_54_51.545062\\\n",
      "INFO:tensorflow:Assets written to: model_init_2023-05-1621_54_51.545062\\assets\n"
     ]
    },
    {
     "name": "stderr",
     "output_type": "stream",
     "text": [
      "INFO:tensorflow:Assets written to: model_init_2023-05-1621_54_51.545062\\assets\n"
     ]
    },
    {
     "name": "stdout",
     "output_type": "stream",
     "text": [
      " 8/23 [=========>....................] - ETA: 2:49 - loss: 0.9978 - categorical_accuracy: 0.6208\n",
      "Epoch 2: saving model to model_init_2023-05-1621_54_51.545062\\\n",
      "INFO:tensorflow:Assets written to: model_init_2023-05-1621_54_51.545062\\assets\n"
     ]
    },
    {
     "name": "stderr",
     "output_type": "stream",
     "text": [
      "INFO:tensorflow:Assets written to: model_init_2023-05-1621_54_51.545062\\assets\n"
     ]
    },
    {
     "name": "stdout",
     "output_type": "stream",
     "text": [
      " 9/23 [==========>...................] - ETA: 2:37 - loss: 0.9778 - categorical_accuracy: 0.6296\n",
      "Epoch 2: saving model to model_init_2023-05-1621_54_51.545062\\\n",
      "INFO:tensorflow:Assets written to: model_init_2023-05-1621_54_51.545062\\assets\n"
     ]
    },
    {
     "name": "stderr",
     "output_type": "stream",
     "text": [
      "INFO:tensorflow:Assets written to: model_init_2023-05-1621_54_51.545062\\assets\n"
     ]
    },
    {
     "name": "stdout",
     "output_type": "stream",
     "text": [
      "10/23 [============>.................] - ETA: 2:26 - loss: 0.9819 - categorical_accuracy: 0.6267\n",
      "Epoch 2: saving model to model_init_2023-05-1621_54_51.545062\\\n",
      "INFO:tensorflow:Assets written to: model_init_2023-05-1621_54_51.545062\\assets\n"
     ]
    },
    {
     "name": "stderr",
     "output_type": "stream",
     "text": [
      "INFO:tensorflow:Assets written to: model_init_2023-05-1621_54_51.545062\\assets\n"
     ]
    },
    {
     "name": "stdout",
     "output_type": "stream",
     "text": [
      "11/23 [=============>................] - ETA: 2:15 - loss: 0.9857 - categorical_accuracy: 0.6333\n",
      "Epoch 2: saving model to model_init_2023-05-1621_54_51.545062\\\n",
      "INFO:tensorflow:Assets written to: model_init_2023-05-1621_54_51.545062\\assets\n"
     ]
    },
    {
     "name": "stderr",
     "output_type": "stream",
     "text": [
      "INFO:tensorflow:Assets written to: model_init_2023-05-1621_54_51.545062\\assets\n"
     ]
    },
    {
     "name": "stdout",
     "output_type": "stream",
     "text": [
      "12/23 [==============>...............] - ETA: 2:03 - loss: 0.9635 - categorical_accuracy: 0.6472\n",
      "Epoch 2: saving model to model_init_2023-05-1621_54_51.545062\\\n",
      "INFO:tensorflow:Assets written to: model_init_2023-05-1621_54_51.545062\\assets\n"
     ]
    },
    {
     "name": "stderr",
     "output_type": "stream",
     "text": [
      "INFO:tensorflow:Assets written to: model_init_2023-05-1621_54_51.545062\\assets\n"
     ]
    },
    {
     "name": "stdout",
     "output_type": "stream",
     "text": [
      "13/23 [===============>..............] - ETA: 1:52 - loss: 0.9627 - categorical_accuracy: 0.6436\n",
      "Epoch 2: saving model to model_init_2023-05-1621_54_51.545062\\\n",
      "INFO:tensorflow:Assets written to: model_init_2023-05-1621_54_51.545062\\assets\n"
     ]
    },
    {
     "name": "stderr",
     "output_type": "stream",
     "text": [
      "INFO:tensorflow:Assets written to: model_init_2023-05-1621_54_51.545062\\assets\n"
     ]
    },
    {
     "name": "stdout",
     "output_type": "stream",
     "text": [
      "14/23 [=================>............] - ETA: 1:41 - loss: 0.9547 - categorical_accuracy: 0.6405\n",
      "Epoch 2: saving model to model_init_2023-05-1621_54_51.545062\\\n",
      "INFO:tensorflow:Assets written to: model_init_2023-05-1621_54_51.545062\\assets\n"
     ]
    },
    {
     "name": "stderr",
     "output_type": "stream",
     "text": [
      "INFO:tensorflow:Assets written to: model_init_2023-05-1621_54_51.545062\\assets\n"
     ]
    },
    {
     "name": "stdout",
     "output_type": "stream",
     "text": [
      "15/23 [==================>...........] - ETA: 1:30 - loss: 0.9538 - categorical_accuracy: 0.6422\n",
      "Epoch 2: saving model to model_init_2023-05-1621_54_51.545062\\\n",
      "INFO:tensorflow:Assets written to: model_init_2023-05-1621_54_51.545062\\assets\n"
     ]
    },
    {
     "name": "stderr",
     "output_type": "stream",
     "text": [
      "INFO:tensorflow:Assets written to: model_init_2023-05-1621_54_51.545062\\assets\n"
     ]
    },
    {
     "name": "stdout",
     "output_type": "stream",
     "text": [
      "16/23 [===================>..........] - ETA: 1:18 - loss: 0.9440 - categorical_accuracy: 0.6438\n",
      "Epoch 2: saving model to model_init_2023-05-1621_54_51.545062\\\n",
      "INFO:tensorflow:Assets written to: model_init_2023-05-1621_54_51.545062\\assets\n"
     ]
    },
    {
     "name": "stderr",
     "output_type": "stream",
     "text": [
      "INFO:tensorflow:Assets written to: model_init_2023-05-1621_54_51.545062\\assets\n"
     ]
    },
    {
     "name": "stdout",
     "output_type": "stream",
     "text": [
      "17/23 [=====================>........] - ETA: 1:07 - loss: 0.9498 - categorical_accuracy: 0.6431\n",
      "Epoch 2: saving model to model_init_2023-05-1621_54_51.545062\\\n",
      "INFO:tensorflow:Assets written to: model_init_2023-05-1621_54_51.545062\\assets\n"
     ]
    },
    {
     "name": "stderr",
     "output_type": "stream",
     "text": [
      "INFO:tensorflow:Assets written to: model_init_2023-05-1621_54_51.545062\\assets\n"
     ]
    },
    {
     "name": "stdout",
     "output_type": "stream",
     "text": [
      "18/23 [======================>.......] - ETA: 56s - loss: 0.9418 - categorical_accuracy: 0.6444 \n",
      "Epoch 2: saving model to model_init_2023-05-1621_54_51.545062\\\n",
      "INFO:tensorflow:Assets written to: model_init_2023-05-1621_54_51.545062\\assets\n"
     ]
    },
    {
     "name": "stderr",
     "output_type": "stream",
     "text": [
      "INFO:tensorflow:Assets written to: model_init_2023-05-1621_54_51.545062\\assets\n"
     ]
    },
    {
     "name": "stdout",
     "output_type": "stream",
     "text": [
      "19/23 [=======================>......] - ETA: 45s - loss: 0.9484 - categorical_accuracy: 0.6404\n",
      "Epoch 2: saving model to model_init_2023-05-1621_54_51.545062\\\n",
      "INFO:tensorflow:Assets written to: model_init_2023-05-1621_54_51.545062\\assets\n"
     ]
    },
    {
     "name": "stderr",
     "output_type": "stream",
     "text": [
      "INFO:tensorflow:Assets written to: model_init_2023-05-1621_54_51.545062\\assets\n"
     ]
    },
    {
     "name": "stdout",
     "output_type": "stream",
     "text": [
      "20/23 [=========================>....] - ETA: 33s - loss: 0.9484 - categorical_accuracy: 0.6400\n",
      "Epoch 2: saving model to model_init_2023-05-1621_54_51.545062\\\n",
      "INFO:tensorflow:Assets written to: model_init_2023-05-1621_54_51.545062\\assets\n"
     ]
    },
    {
     "name": "stderr",
     "output_type": "stream",
     "text": [
      "INFO:tensorflow:Assets written to: model_init_2023-05-1621_54_51.545062\\assets\n"
     ]
    },
    {
     "name": "stdout",
     "output_type": "stream",
     "text": [
      "21/23 [==========================>...] - ETA: 22s - loss: 0.9449 - categorical_accuracy: 0.6397\n",
      "Epoch 2: saving model to model_init_2023-05-1621_54_51.545062\\\n",
      "INFO:tensorflow:Assets written to: model_init_2023-05-1621_54_51.545062\\assets\n"
     ]
    },
    {
     "name": "stderr",
     "output_type": "stream",
     "text": [
      "INFO:tensorflow:Assets written to: model_init_2023-05-1621_54_51.545062\\assets\n"
     ]
    },
    {
     "name": "stdout",
     "output_type": "stream",
     "text": [
      "22/23 [===========================>..] - ETA: 11s - loss: 0.9387 - categorical_accuracy: 0.6394\n",
      "Epoch 2: saving model to model_init_2023-05-1621_54_51.545062\\\n",
      "INFO:tensorflow:Assets written to: model_init_2023-05-1621_54_51.545062\\assets\n"
     ]
    },
    {
     "name": "stderr",
     "output_type": "stream",
     "text": [
      "INFO:tensorflow:Assets written to: model_init_2023-05-1621_54_51.545062\\assets\n"
     ]
    },
    {
     "name": "stdout",
     "output_type": "stream",
     "text": [
      "23/23 [==============================] - 265s 12s/step - loss: 0.9457 - categorical_accuracy: 0.6380 - val_loss: 3.1291 - val_categorical_accuracy: 0.2600 - lr: 0.0010\n"
     ]
    },
    {
     "data": {
      "text/plain": [
       "<keras.callbacks.History at 0x1e200abd2d0>"
      ]
     },
     "execution_count": 28,
     "metadata": {},
     "output_type": "execute_result"
    }
   ],
   "source": [
    "#sample 3\n",
    "conv_3d1=ModelConv3D1()\n",
    "conv_3d1.initialize_path(project_folder)\n",
    "conv_3d1.initialize_image_properties(image_height=100,image_width=100)\n",
    "conv_3d1.initialize_hyperparams(frames_to_sample=30,batch_size=30,num_epochs=2)\n",
    "conv_3d1_model=conv_3d1.define_model()\n",
    "print(\"Total Params:\", conv_3d1_model.count_params())\n",
    "conv_3d1.train_model(conv_3d1_model)"
   ]
  },
  {
   "cell_type": "code",
   "execution_count": null,
   "id": "9100ba66",
   "metadata": {},
   "outputs": [],
   "source": [
    "# we can also try all these model sample for data understaning. Multiple combination of parameters.\n",
    "#sample 4\n",
    "conv_3d1=ModelConv3D1()\n",
    "conv_3d1.initialize_path(project_folder)\n",
    "conv_3d1.initialize_image_properties(image_height=100,image_width=100)\n",
    "conv_3d1.initialize_hyperparams(frames_to_sample=30,batch_size=60,num_epochs=2)\n",
    "conv_3d1_model=conv_3d1.define_model()\n",
    "print(\"Total Params:\", conv_3d1_model.count_params())\n",
    "conv_3d1.train_model(conv_3d1_model)"
   ]
  },
  {
   "cell_type": "code",
   "execution_count": null,
   "id": "2471d324",
   "metadata": {},
   "outputs": [],
   "source": [
    "#sample 5\n",
    "conv_3d1=ModelConv3D1()\n",
    "conv_3d1.initialize_path(project_folder)\n",
    "conv_3d1.initialize_image_properties(image_height=100,image_width=100)\n",
    "conv_3d1.initialize_hyperparams(frames_to_sample=16,batch_size=60,num_epochs=2)\n",
    "conv_3d1_model=conv_3d1.define_model()\n",
    "print(\"Total Params:\", conv_3d1_model.count_params())\n",
    "conv_3d1.train_model(conv_3d1_model)"
   ]
  },
  {
   "cell_type": "code",
   "execution_count": null,
   "id": "4a2ac101",
   "metadata": {},
   "outputs": [],
   "source": [
    "#sample 6\n",
    "conv_3d1=ModelConv3D1()\n",
    "conv_3d1.initialize_path(project_folder)\n",
    "conv_3d1.initialize_image_properties(image_height=100,image_width=100)\n",
    "conv_3d1.initialize_hyperparams(frames_to_sample=16,batch_size=80,num_epochs=2)\n",
    "conv_3d1_model=conv_3d1.define_model()\n",
    "print(\"Total Params:\", conv_3d1_model.count_params())\n",
    "conv_3d1.train_model(conv_3d1_model)"
   ]
  },
  {
   "cell_type": "code",
   "execution_count": null,
   "id": "087047db",
   "metadata": {},
   "outputs": [],
   "source": [
    "#sample 7\n",
    "conv_3d1=ModelConv3D1()\n",
    "conv_3d1.initialize_path(project_folder)\n",
    "conv_3d1.initialize_image_properties(image_height=160,image_width=160)\n",
    "conv_3d1.initialize_hyperparams(frames_to_sample=16,batch_size=15,num_epochs=2)\n",
    "conv_3d1_model=conv_3d1.define_model()\n",
    "print(\"Total Params:\", conv_3d1_model.count_params())\n",
    "conv_3d1.train_model(conv_3d1_model)"
   ]
  },
  {
   "cell_type": "code",
   "execution_count": null,
   "id": "eb7c255e",
   "metadata": {},
   "outputs": [],
   "source": [
    "#sample 8\n",
    "conv_3d1=ModelConv3D1()\n",
    "conv_3d1.initialize_path(project_folder)\n",
    "conv_3d1.initialize_image_properties(image_height=100,image_width=100)\n",
    "conv_3d1.initialize_hyperparams(frames_to_sample=30,batch_size=10,num_epochs=2)\n",
    "conv_3d1_model=conv_3d1.define_model()\n",
    "print(\"Total Params:\", conv_3d1_model.count_params())\n",
    "conv_3d1.train_model(conv_3d1_model)"
   ]
  },
  {
   "cell_type": "code",
   "execution_count": null,
   "id": "bc80e7ca",
   "metadata": {},
   "outputs": [],
   "source": [
    "#sample 9\n",
    "conv_3d1=ModelConv3D1()\n",
    "conv_3d1.initialize_path(project_folder)\n",
    "conv_3d1.initialize_image_properties(image_height=160,image_width=160)\n",
    "conv_3d1.initialize_hyperparams(frames_to_sample=16,batch_size=40,num_epochs=2)\n",
    "conv_3d1_model=conv_3d1.define_model()\n",
    "print(\"Total Params:\", conv_3d1_model.count_params())\n",
    "conv_3d1.train_model(conv_3d1_model)"
   ]
  },
  {
   "cell_type": "markdown",
   "id": "e2ca3728",
   "metadata": {},
   "source": [
    "##### As we see from the above experiments image resolution and number of frames in sequence have more impact on training time than batch_size"
   ]
  },
  {
   "cell_type": "markdown",
   "id": "96cce543",
   "metadata": {},
   "source": [
    "##### So experimentations are carried with batch size fixed around 15-40 and changing the resolution and number of image per sequence based on the device memory constraints . Models are designed such that their memory foot print is less than 50 MB which corresponds to 4.3 million parameters assuming the datatype size of parameters to be 12 bytes"
   ]
  },
  {
   "cell_type": "markdown",
   "id": "06fa0dee",
   "metadata": {},
   "source": [
    "# Model 1 - Base Model - No Data Augmentation Batch Size 40 and Epoch 15"
   ]
  },
  {
   "cell_type": "code",
   "execution_count": 14,
   "id": "8c40295b",
   "metadata": {},
   "outputs": [],
   "source": [
    "class ModelConv3D1(ModelBuilder):\n",
    "    \n",
    "    def define_model(self,filtersize=(3,3,3),dense_neurons=64,dropout=0.25):\n",
    "\n",
    "        model = Sequential()\n",
    "        model.add(Conv3D(16, filtersize, padding='same',\n",
    "                 input_shape=(self.frames_to_sample,self.image_height,self.image_width,self.channels)))\n",
    "        model.add(Activation('relu'))\n",
    "        model.add(BatchNormalization())\n",
    "        model.add(MaxPooling3D(pool_size=(2, 2, 2)))\n",
    "\n",
    "        model.add(Conv3D(32, filtersize, padding='same'))\n",
    "        model.add(Activation('relu'))\n",
    "        model.add(BatchNormalization())\n",
    "        model.add(MaxPooling3D(pool_size=(2, 2, 2)))\n",
    "\n",
    "        model.add(Conv3D(64, filtersize, padding='same'))\n",
    "        model.add(Activation('relu'))\n",
    "        model.add(BatchNormalization())\n",
    "        model.add(MaxPooling3D(pool_size=(2, 2, 2)))\n",
    "\n",
    "        model.add(Conv3D(128, filtersize, padding='same'))\n",
    "        model.add(Activation('relu'))\n",
    "        model.add(BatchNormalization())\n",
    "        model.add(MaxPooling3D(pool_size=(2, 2, 2)))\n",
    "\n",
    "        model.add(Flatten())\n",
    "        model.add(Dense(dense_neurons,activation='relu'))\n",
    "        model.add(BatchNormalization())\n",
    "        model.add(Dropout(dropout))\n",
    "\n",
    "        model.add(Dense(dense_neurons,activation='relu'))\n",
    "        model.add(BatchNormalization())\n",
    "        model.add(Dropout(dropout))\n",
    "\n",
    "\n",
    "        model.add(Dense(self.num_classes,activation='softmax'))\n",
    "\n",
    "        optimiser = optimizers.Adam()\n",
    "        model.compile(optimizer=optimiser, loss='categorical_crossentropy', metrics=['categorical_accuracy'])\n",
    "        return model"
   ]
  },
  {
   "cell_type": "code",
   "execution_count": 15,
   "id": "af1d8e23",
   "metadata": {},
   "outputs": [
    {
     "name": "stdout",
     "output_type": "stream",
     "text": [
      "Model: \"sequential_1\"\n",
      "_________________________________________________________________\n",
      " Layer (type)                Output Shape              Param #   \n",
      "=================================================================\n",
      " conv3d_4 (Conv3D)           (None, 20, 160, 160, 16)  1312      \n",
      "                                                                 \n",
      " activation_4 (Activation)   (None, 20, 160, 160, 16)  0         \n",
      "                                                                 \n",
      " batch_normalization_6 (Batc  (None, 20, 160, 160, 16)  64       \n",
      " hNormalization)                                                 \n",
      "                                                                 \n",
      " max_pooling3d_4 (MaxPooling  (None, 10, 80, 80, 16)   0         \n",
      " 3D)                                                             \n",
      "                                                                 \n",
      " conv3d_5 (Conv3D)           (None, 10, 80, 80, 32)    13856     \n",
      "                                                                 \n",
      " activation_5 (Activation)   (None, 10, 80, 80, 32)    0         \n",
      "                                                                 \n",
      " batch_normalization_7 (Batc  (None, 10, 80, 80, 32)   128       \n",
      " hNormalization)                                                 \n",
      "                                                                 \n",
      " max_pooling3d_5 (MaxPooling  (None, 5, 40, 40, 32)    0         \n",
      " 3D)                                                             \n",
      "                                                                 \n",
      " conv3d_6 (Conv3D)           (None, 5, 40, 40, 64)     55360     \n",
      "                                                                 \n",
      " activation_6 (Activation)   (None, 5, 40, 40, 64)     0         \n",
      "                                                                 \n",
      " batch_normalization_8 (Batc  (None, 5, 40, 40, 64)    256       \n",
      " hNormalization)                                                 \n",
      "                                                                 \n",
      " max_pooling3d_6 (MaxPooling  (None, 2, 20, 20, 64)    0         \n",
      " 3D)                                                             \n",
      "                                                                 \n",
      " conv3d_7 (Conv3D)           (None, 2, 20, 20, 128)    221312    \n",
      "                                                                 \n",
      " activation_7 (Activation)   (None, 2, 20, 20, 128)    0         \n",
      "                                                                 \n",
      " batch_normalization_9 (Batc  (None, 2, 20, 20, 128)   512       \n",
      " hNormalization)                                                 \n",
      "                                                                 \n",
      " max_pooling3d_7 (MaxPooling  (None, 1, 10, 10, 128)   0         \n",
      " 3D)                                                             \n",
      "                                                                 \n",
      " flatten_1 (Flatten)         (None, 12800)             0         \n",
      "                                                                 \n",
      " dense_3 (Dense)             (None, 64)                819264    \n",
      "                                                                 \n",
      " batch_normalization_10 (Bat  (None, 64)               256       \n",
      " chNormalization)                                                \n",
      "                                                                 \n",
      " dropout_2 (Dropout)         (None, 64)                0         \n",
      "                                                                 \n",
      " dense_4 (Dense)             (None, 64)                4160      \n",
      "                                                                 \n",
      " batch_normalization_11 (Bat  (None, 64)               256       \n",
      " chNormalization)                                                \n",
      "                                                                 \n",
      " dropout_3 (Dropout)         (None, 64)                0         \n",
      "                                                                 \n",
      " dense_5 (Dense)             (None, 5)                 325       \n",
      "                                                                 \n",
      "=================================================================\n",
      "Total params: 1,117,061\n",
      "Trainable params: 1,116,325\n",
      "Non-trainable params: 736\n",
      "_________________________________________________________________\n"
     ]
    }
   ],
   "source": [
    "conv_3d1=ModelConv3D1()\n",
    "conv_3d1.initialize_path(project_folder)\n",
    "conv_3d1.initialize_image_properties(image_height=160,image_width=160)\n",
    "conv_3d1.initialize_hyperparams(frames_to_sample=20,batch_size=40,num_epochs=15)\n",
    "conv_3d1_model=conv_3d1.define_model()\n",
    "conv_3d1_model.summary()"
   ]
  },
  {
   "cell_type": "code",
   "execution_count": 16,
   "id": "85cbc799",
   "metadata": {},
   "outputs": [
    {
     "name": "stdout",
     "output_type": "stream",
     "text": [
      "Total Params: 1117061\n",
      "Epoch 1/15\n",
      "\n",
      "Epoch 1: saving model to model_init_2023-05-1712_16_05.319674\\\n",
      "INFO:tensorflow:Assets written to: model_init_2023-05-1712_16_05.319674\\assets\n"
     ]
    },
    {
     "name": "stderr",
     "output_type": "stream",
     "text": [
      "INFO:tensorflow:Assets written to: model_init_2023-05-1712_16_05.319674\\assets\n"
     ]
    },
    {
     "name": "stdout",
     "output_type": "stream",
     "text": [
      " 1/17 [>.............................] - ETA: 8:00 - loss: 2.5498 - categorical_accuracy: 0.1500\n",
      "Epoch 1: saving model to model_init_2023-05-1712_16_05.319674\\\n",
      "INFO:tensorflow:Assets written to: model_init_2023-05-1712_16_05.319674\\assets\n"
     ]
    },
    {
     "name": "stderr",
     "output_type": "stream",
     "text": [
      "INFO:tensorflow:Assets written to: model_init_2023-05-1712_16_05.319674\\assets\n"
     ]
    },
    {
     "name": "stdout",
     "output_type": "stream",
     "text": [
      " 2/17 [==>...........................] - ETA: 7:13 - loss: 1.9348 - categorical_accuracy: 0.2750\n",
      "Epoch 1: saving model to model_init_2023-05-1712_16_05.319674\\\n",
      "INFO:tensorflow:Assets written to: model_init_2023-05-1712_16_05.319674\\assets\n"
     ]
    },
    {
     "name": "stderr",
     "output_type": "stream",
     "text": [
      "INFO:tensorflow:Assets written to: model_init_2023-05-1712_16_05.319674\\assets\n"
     ]
    },
    {
     "name": "stdout",
     "output_type": "stream",
     "text": [
      " 3/17 [====>.........................] - ETA: 6:42 - loss: 1.8079 - categorical_accuracy: 0.2917\n",
      "Epoch 1: saving model to model_init_2023-05-1712_16_05.319674\\\n",
      "INFO:tensorflow:Assets written to: model_init_2023-05-1712_16_05.319674\\assets\n"
     ]
    },
    {
     "name": "stderr",
     "output_type": "stream",
     "text": [
      "INFO:tensorflow:Assets written to: model_init_2023-05-1712_16_05.319674\\assets\n"
     ]
    },
    {
     "name": "stdout",
     "output_type": "stream",
     "text": [
      " 4/17 [======>.......................] - ETA: 6:10 - loss: 1.7903 - categorical_accuracy: 0.3125\n",
      "Epoch 1: saving model to model_init_2023-05-1712_16_05.319674\\\n",
      "INFO:tensorflow:Assets written to: model_init_2023-05-1712_16_05.319674\\assets\n"
     ]
    },
    {
     "name": "stderr",
     "output_type": "stream",
     "text": [
      "INFO:tensorflow:Assets written to: model_init_2023-05-1712_16_05.319674\\assets\n"
     ]
    },
    {
     "name": "stdout",
     "output_type": "stream",
     "text": [
      " 5/17 [=======>......................] - ETA: 5:42 - loss: 1.8045 - categorical_accuracy: 0.3250\n",
      "Epoch 1: saving model to model_init_2023-05-1712_16_05.319674\\\n",
      "INFO:tensorflow:Assets written to: model_init_2023-05-1712_16_05.319674\\assets\n"
     ]
    },
    {
     "name": "stderr",
     "output_type": "stream",
     "text": [
      "INFO:tensorflow:Assets written to: model_init_2023-05-1712_16_05.319674\\assets\n"
     ]
    },
    {
     "name": "stdout",
     "output_type": "stream",
     "text": [
      " 6/17 [=========>....................] - ETA: 5:14 - loss: 1.7834 - categorical_accuracy: 0.3417\n",
      "Epoch 1: saving model to model_init_2023-05-1712_16_05.319674\\\n",
      "INFO:tensorflow:Assets written to: model_init_2023-05-1712_16_05.319674\\assets\n"
     ]
    },
    {
     "name": "stderr",
     "output_type": "stream",
     "text": [
      "INFO:tensorflow:Assets written to: model_init_2023-05-1712_16_05.319674\\assets\n"
     ]
    },
    {
     "name": "stdout",
     "output_type": "stream",
     "text": [
      " 7/17 [===========>..................] - ETA: 4:45 - loss: 1.7504 - categorical_accuracy: 0.3500\n",
      "Epoch 1: saving model to model_init_2023-05-1712_16_05.319674\\\n",
      "INFO:tensorflow:Assets written to: model_init_2023-05-1712_16_05.319674\\assets\n"
     ]
    },
    {
     "name": "stderr",
     "output_type": "stream",
     "text": [
      "INFO:tensorflow:Assets written to: model_init_2023-05-1712_16_05.319674\\assets\n"
     ]
    },
    {
     "name": "stdout",
     "output_type": "stream",
     "text": [
      " 8/17 [=============>................] - ETA: 4:17 - loss: 1.7204 - categorical_accuracy: 0.3625\n",
      "Epoch 1: saving model to model_init_2023-05-1712_16_05.319674\\\n",
      "INFO:tensorflow:Assets written to: model_init_2023-05-1712_16_05.319674\\assets\n"
     ]
    },
    {
     "name": "stderr",
     "output_type": "stream",
     "text": [
      "INFO:tensorflow:Assets written to: model_init_2023-05-1712_16_05.319674\\assets\n"
     ]
    },
    {
     "name": "stdout",
     "output_type": "stream",
     "text": [
      " 9/17 [==============>...............] - ETA: 3:48 - loss: 1.6754 - categorical_accuracy: 0.3694\n",
      "Epoch 1: saving model to model_init_2023-05-1712_16_05.319674\\\n",
      "INFO:tensorflow:Assets written to: model_init_2023-05-1712_16_05.319674\\assets\n"
     ]
    },
    {
     "name": "stderr",
     "output_type": "stream",
     "text": [
      "INFO:tensorflow:Assets written to: model_init_2023-05-1712_16_05.319674\\assets\n"
     ]
    },
    {
     "name": "stdout",
     "output_type": "stream",
     "text": [
      "10/17 [================>.............] - ETA: 3:20 - loss: 1.7067 - categorical_accuracy: 0.3600\n",
      "Epoch 1: saving model to model_init_2023-05-1712_16_05.319674\\\n",
      "INFO:tensorflow:Assets written to: model_init_2023-05-1712_16_05.319674\\assets\n"
     ]
    },
    {
     "name": "stderr",
     "output_type": "stream",
     "text": [
      "INFO:tensorflow:Assets written to: model_init_2023-05-1712_16_05.319674\\assets\n"
     ]
    },
    {
     "name": "stdout",
     "output_type": "stream",
     "text": [
      "11/17 [==================>...........] - ETA: 2:52 - loss: 1.6677 - categorical_accuracy: 0.3750\n",
      "Epoch 1: saving model to model_init_2023-05-1712_16_05.319674\\\n",
      "INFO:tensorflow:Assets written to: model_init_2023-05-1712_16_05.319674\\assets\n"
     ]
    },
    {
     "name": "stderr",
     "output_type": "stream",
     "text": [
      "INFO:tensorflow:Assets written to: model_init_2023-05-1712_16_05.319674\\assets\n"
     ]
    },
    {
     "name": "stdout",
     "output_type": "stream",
     "text": [
      "12/17 [====================>.........] - ETA: 2:24 - loss: 1.6588 - categorical_accuracy: 0.3896\n",
      "Epoch 1: saving model to model_init_2023-05-1712_16_05.319674\\\n",
      "INFO:tensorflow:Assets written to: model_init_2023-05-1712_16_05.319674\\assets\n"
     ]
    },
    {
     "name": "stderr",
     "output_type": "stream",
     "text": [
      "INFO:tensorflow:Assets written to: model_init_2023-05-1712_16_05.319674\\assets\n"
     ]
    },
    {
     "name": "stdout",
     "output_type": "stream",
     "text": [
      "13/17 [=====================>........] - ETA: 1:55 - loss: 1.6473 - categorical_accuracy: 0.3942\n",
      "Epoch 1: saving model to model_init_2023-05-1712_16_05.319674\\\n",
      "INFO:tensorflow:Assets written to: model_init_2023-05-1712_16_05.319674\\assets\n"
     ]
    },
    {
     "name": "stderr",
     "output_type": "stream",
     "text": [
      "INFO:tensorflow:Assets written to: model_init_2023-05-1712_16_05.319674\\assets\n"
     ]
    },
    {
     "name": "stdout",
     "output_type": "stream",
     "text": [
      "14/17 [=======================>......] - ETA: 1:26 - loss: 1.6528 - categorical_accuracy: 0.3964\n",
      "Epoch 1: saving model to model_init_2023-05-1712_16_05.319674\\\n",
      "INFO:tensorflow:Assets written to: model_init_2023-05-1712_16_05.319674\\assets\n"
     ]
    },
    {
     "name": "stderr",
     "output_type": "stream",
     "text": [
      "INFO:tensorflow:Assets written to: model_init_2023-05-1712_16_05.319674\\assets\n"
     ]
    },
    {
     "name": "stdout",
     "output_type": "stream",
     "text": [
      "15/17 [=========================>....] - ETA: 57s - loss: 1.6165 - categorical_accuracy: 0.4050 \n",
      "Epoch 1: saving model to model_init_2023-05-1712_16_05.319674\\\n",
      "INFO:tensorflow:Assets written to: model_init_2023-05-1712_16_05.319674\\assets\n"
     ]
    },
    {
     "name": "stderr",
     "output_type": "stream",
     "text": [
      "INFO:tensorflow:Assets written to: model_init_2023-05-1712_16_05.319674\\assets\n"
     ]
    },
    {
     "name": "stdout",
     "output_type": "stream",
     "text": [
      "16/17 [===========================>..] - ETA: 28s - loss: 1.6124 - categorical_accuracy: 0.4094\n",
      "Epoch 1: saving model to model_init_2023-05-1712_16_05.319674\\\n",
      "INFO:tensorflow:Assets written to: model_init_2023-05-1712_16_05.319674\\assets\n"
     ]
    },
    {
     "name": "stderr",
     "output_type": "stream",
     "text": [
      "INFO:tensorflow:Assets written to: model_init_2023-05-1712_16_05.319674\\assets\n"
     ]
    },
    {
     "name": "stdout",
     "output_type": "stream",
     "text": [
      "17/17 [==============================] - 496s 29s/step - loss: 1.5857 - categorical_accuracy: 0.4238 - val_loss: 1.5703 - val_categorical_accuracy: 0.2300 - lr: 0.0010\n",
      "Epoch 2/15\n",
      "\n",
      "Epoch 2: saving model to model_init_2023-05-1712_16_05.319674\\\n",
      "INFO:tensorflow:Assets written to: model_init_2023-05-1712_16_05.319674\\assets\n"
     ]
    },
    {
     "name": "stderr",
     "output_type": "stream",
     "text": [
      "INFO:tensorflow:Assets written to: model_init_2023-05-1712_16_05.319674\\assets\n"
     ]
    },
    {
     "name": "stdout",
     "output_type": "stream",
     "text": [
      " 1/17 [>.............................] - ETA: 7:24 - loss: 0.9067 - categorical_accuracy: 0.6750\n",
      "Epoch 2: saving model to model_init_2023-05-1712_16_05.319674\\\n",
      "INFO:tensorflow:Assets written to: model_init_2023-05-1712_16_05.319674\\assets\n"
     ]
    },
    {
     "name": "stderr",
     "output_type": "stream",
     "text": [
      "INFO:tensorflow:Assets written to: model_init_2023-05-1712_16_05.319674\\assets\n"
     ]
    },
    {
     "name": "stdout",
     "output_type": "stream",
     "text": [
      " 2/17 [==>...........................] - ETA: 6:57 - loss: 0.9572 - categorical_accuracy: 0.6500\n",
      "Epoch 2: saving model to model_init_2023-05-1712_16_05.319674\\\n",
      "INFO:tensorflow:Assets written to: model_init_2023-05-1712_16_05.319674\\assets\n"
     ]
    },
    {
     "name": "stderr",
     "output_type": "stream",
     "text": [
      "INFO:tensorflow:Assets written to: model_init_2023-05-1712_16_05.319674\\assets\n"
     ]
    },
    {
     "name": "stdout",
     "output_type": "stream",
     "text": [
      " 3/17 [====>.........................] - ETA: 6:31 - loss: 0.9166 - categorical_accuracy: 0.6500\n",
      "Epoch 2: saving model to model_init_2023-05-1712_16_05.319674\\\n",
      "INFO:tensorflow:Assets written to: model_init_2023-05-1712_16_05.319674\\assets\n"
     ]
    },
    {
     "name": "stderr",
     "output_type": "stream",
     "text": [
      "INFO:tensorflow:Assets written to: model_init_2023-05-1712_16_05.319674\\assets\n"
     ]
    },
    {
     "name": "stdout",
     "output_type": "stream",
     "text": [
      " 4/17 [======>.......................] - ETA: 6:02 - loss: 0.9279 - categorical_accuracy: 0.6500\n",
      "Epoch 2: saving model to model_init_2023-05-1712_16_05.319674\\\n",
      "INFO:tensorflow:Assets written to: model_init_2023-05-1712_16_05.319674\\assets\n"
     ]
    },
    {
     "name": "stderr",
     "output_type": "stream",
     "text": [
      "INFO:tensorflow:Assets written to: model_init_2023-05-1712_16_05.319674\\assets\n"
     ]
    },
    {
     "name": "stdout",
     "output_type": "stream",
     "text": [
      " 5/17 [=======>......................] - ETA: 5:35 - loss: 0.9446 - categorical_accuracy: 0.6300\n",
      "Epoch 2: saving model to model_init_2023-05-1712_16_05.319674\\\n",
      "INFO:tensorflow:Assets written to: model_init_2023-05-1712_16_05.319674\\assets\n"
     ]
    },
    {
     "name": "stderr",
     "output_type": "stream",
     "text": [
      "INFO:tensorflow:Assets written to: model_init_2023-05-1712_16_05.319674\\assets\n"
     ]
    },
    {
     "name": "stdout",
     "output_type": "stream",
     "text": [
      " 6/17 [=========>....................] - ETA: 5:07 - loss: 0.9234 - categorical_accuracy: 0.6458\n",
      "Epoch 2: saving model to model_init_2023-05-1712_16_05.319674\\\n",
      "INFO:tensorflow:Assets written to: model_init_2023-05-1712_16_05.319674\\assets\n"
     ]
    },
    {
     "name": "stderr",
     "output_type": "stream",
     "text": [
      "INFO:tensorflow:Assets written to: model_init_2023-05-1712_16_05.319674\\assets\n"
     ]
    },
    {
     "name": "stdout",
     "output_type": "stream",
     "text": [
      " 7/17 [===========>..................] - ETA: 4:40 - loss: 0.8867 - categorical_accuracy: 0.6714\n",
      "Epoch 2: saving model to model_init_2023-05-1712_16_05.319674\\\n",
      "INFO:tensorflow:Assets written to: model_init_2023-05-1712_16_05.319674\\assets\n"
     ]
    },
    {
     "name": "stderr",
     "output_type": "stream",
     "text": [
      "INFO:tensorflow:Assets written to: model_init_2023-05-1712_16_05.319674\\assets\n"
     ]
    },
    {
     "name": "stdout",
     "output_type": "stream",
     "text": [
      " 8/17 [=============>................] - ETA: 4:12 - loss: 0.8802 - categorical_accuracy: 0.6844\n",
      "Epoch 2: saving model to model_init_2023-05-1712_16_05.319674\\\n",
      "INFO:tensorflow:Assets written to: model_init_2023-05-1712_16_05.319674\\assets\n"
     ]
    },
    {
     "name": "stderr",
     "output_type": "stream",
     "text": [
      "INFO:tensorflow:Assets written to: model_init_2023-05-1712_16_05.319674\\assets\n"
     ]
    },
    {
     "name": "stdout",
     "output_type": "stream",
     "text": [
      " 9/17 [==============>...............] - ETA: 3:44 - loss: 0.9026 - categorical_accuracy: 0.6694\n",
      "Epoch 2: saving model to model_init_2023-05-1712_16_05.319674\\\n",
      "INFO:tensorflow:Assets written to: model_init_2023-05-1712_16_05.319674\\assets\n"
     ]
    },
    {
     "name": "stderr",
     "output_type": "stream",
     "text": [
      "INFO:tensorflow:Assets written to: model_init_2023-05-1712_16_05.319674\\assets\n"
     ]
    },
    {
     "name": "stdout",
     "output_type": "stream",
     "text": [
      "10/17 [================>.............] - ETA: 3:15 - loss: 0.8926 - categorical_accuracy: 0.6600\n",
      "Epoch 2: saving model to model_init_2023-05-1712_16_05.319674\\\n",
      "INFO:tensorflow:Assets written to: model_init_2023-05-1712_16_05.319674\\assets\n"
     ]
    },
    {
     "name": "stderr",
     "output_type": "stream",
     "text": [
      "INFO:tensorflow:Assets written to: model_init_2023-05-1712_16_05.319674\\assets\n"
     ]
    },
    {
     "name": "stdout",
     "output_type": "stream",
     "text": [
      "11/17 [==================>...........] - ETA: 2:47 - loss: 0.8824 - categorical_accuracy: 0.6659\n",
      "Epoch 2: saving model to model_init_2023-05-1712_16_05.319674\\\n",
      "INFO:tensorflow:Assets written to: model_init_2023-05-1712_16_05.319674\\assets\n"
     ]
    },
    {
     "name": "stderr",
     "output_type": "stream",
     "text": [
      "INFO:tensorflow:Assets written to: model_init_2023-05-1712_16_05.319674\\assets\n"
     ]
    },
    {
     "name": "stdout",
     "output_type": "stream",
     "text": [
      "12/17 [====================>.........] - ETA: 2:20 - loss: 0.8658 - categorical_accuracy: 0.6667\n",
      "Epoch 2: saving model to model_init_2023-05-1712_16_05.319674\\\n",
      "INFO:tensorflow:Assets written to: model_init_2023-05-1712_16_05.319674\\assets\n"
     ]
    },
    {
     "name": "stderr",
     "output_type": "stream",
     "text": [
      "INFO:tensorflow:Assets written to: model_init_2023-05-1712_16_05.319674\\assets\n"
     ]
    },
    {
     "name": "stdout",
     "output_type": "stream",
     "text": [
      "13/17 [=====================>........] - ETA: 1:52 - loss: 0.8586 - categorical_accuracy: 0.6731\n",
      "Epoch 2: saving model to model_init_2023-05-1712_16_05.319674\\\n",
      "INFO:tensorflow:Assets written to: model_init_2023-05-1712_16_05.319674\\assets\n"
     ]
    },
    {
     "name": "stderr",
     "output_type": "stream",
     "text": [
      "INFO:tensorflow:Assets written to: model_init_2023-05-1712_16_05.319674\\assets\n"
     ]
    },
    {
     "name": "stdout",
     "output_type": "stream",
     "text": [
      "14/17 [=======================>......] - ETA: 1:24 - loss: 0.8545 - categorical_accuracy: 0.6679\n",
      "Epoch 2: saving model to model_init_2023-05-1712_16_05.319674\\\n",
      "INFO:tensorflow:Assets written to: model_init_2023-05-1712_16_05.319674\\assets\n"
     ]
    },
    {
     "name": "stderr",
     "output_type": "stream",
     "text": [
      "INFO:tensorflow:Assets written to: model_init_2023-05-1712_16_05.319674\\assets\n"
     ]
    },
    {
     "name": "stdout",
     "output_type": "stream",
     "text": [
      "15/17 [=========================>....] - ETA: 56s - loss: 0.8630 - categorical_accuracy: 0.6683 \n",
      "Epoch 2: saving model to model_init_2023-05-1712_16_05.319674\\\n",
      "INFO:tensorflow:Assets written to: model_init_2023-05-1712_16_05.319674\\assets\n"
     ]
    },
    {
     "name": "stderr",
     "output_type": "stream",
     "text": [
      "INFO:tensorflow:Assets written to: model_init_2023-05-1712_16_05.319674\\assets\n"
     ]
    },
    {
     "name": "stdout",
     "output_type": "stream",
     "text": [
      "16/17 [===========================>..] - ETA: 27s - loss: 0.8630 - categorical_accuracy: 0.6641\n",
      "Epoch 2: saving model to model_init_2023-05-1712_16_05.319674\\\n",
      "INFO:tensorflow:Assets written to: model_init_2023-05-1712_16_05.319674\\assets\n"
     ]
    },
    {
     "name": "stderr",
     "output_type": "stream",
     "text": [
      "INFO:tensorflow:Assets written to: model_init_2023-05-1712_16_05.319674\\assets\n"
     ]
    },
    {
     "name": "stdout",
     "output_type": "stream",
     "text": [
      "17/17 [==============================] - 479s 28s/step - loss: 0.8579 - categorical_accuracy: 0.6606 - val_loss: 1.9062 - val_categorical_accuracy: 0.2300 - lr: 0.0010\n",
      "Epoch 3/15\n",
      "\n",
      "Epoch 3: saving model to model_init_2023-05-1712_16_05.319674\\\n",
      "INFO:tensorflow:Assets written to: model_init_2023-05-1712_16_05.319674\\assets\n"
     ]
    },
    {
     "name": "stderr",
     "output_type": "stream",
     "text": [
      "INFO:tensorflow:Assets written to: model_init_2023-05-1712_16_05.319674\\assets\n"
     ]
    },
    {
     "name": "stdout",
     "output_type": "stream",
     "text": [
      " 1/17 [>.............................] - ETA: 7:16 - loss: 0.3522 - categorical_accuracy: 0.9000\n",
      "Epoch 3: saving model to model_init_2023-05-1712_16_05.319674\\\n",
      "INFO:tensorflow:Assets written to: model_init_2023-05-1712_16_05.319674\\assets\n"
     ]
    },
    {
     "name": "stderr",
     "output_type": "stream",
     "text": [
      "INFO:tensorflow:Assets written to: model_init_2023-05-1712_16_05.319674\\assets\n"
     ]
    },
    {
     "name": "stdout",
     "output_type": "stream",
     "text": [
      " 2/17 [==>...........................] - ETA: 6:46 - loss: 0.5187 - categorical_accuracy: 0.8250\n",
      "Epoch 3: saving model to model_init_2023-05-1712_16_05.319674\\\n",
      "INFO:tensorflow:Assets written to: model_init_2023-05-1712_16_05.319674\\assets\n"
     ]
    },
    {
     "name": "stderr",
     "output_type": "stream",
     "text": [
      "INFO:tensorflow:Assets written to: model_init_2023-05-1712_16_05.319674\\assets\n"
     ]
    },
    {
     "name": "stdout",
     "output_type": "stream",
     "text": [
      " 3/17 [====>.........................] - ETA: 6:19 - loss: 0.5901 - categorical_accuracy: 0.8000\n",
      "Epoch 3: saving model to model_init_2023-05-1712_16_05.319674\\\n",
      "INFO:tensorflow:Assets written to: model_init_2023-05-1712_16_05.319674\\assets\n"
     ]
    },
    {
     "name": "stderr",
     "output_type": "stream",
     "text": [
      "INFO:tensorflow:Assets written to: model_init_2023-05-1712_16_05.319674\\assets\n"
     ]
    },
    {
     "name": "stdout",
     "output_type": "stream",
     "text": [
      " 4/17 [======>.......................] - ETA: 5:52 - loss: 0.6263 - categorical_accuracy: 0.7688\n",
      "Epoch 3: saving model to model_init_2023-05-1712_16_05.319674\\\n",
      "INFO:tensorflow:Assets written to: model_init_2023-05-1712_16_05.319674\\assets\n"
     ]
    },
    {
     "name": "stderr",
     "output_type": "stream",
     "text": [
      "INFO:tensorflow:Assets written to: model_init_2023-05-1712_16_05.319674\\assets\n"
     ]
    },
    {
     "name": "stdout",
     "output_type": "stream",
     "text": [
      " 5/17 [=======>......................] - ETA: 5:26 - loss: 0.6029 - categorical_accuracy: 0.7850\n",
      "Epoch 3: saving model to model_init_2023-05-1712_16_05.319674\\\n",
      "INFO:tensorflow:Assets written to: model_init_2023-05-1712_16_05.319674\\assets\n"
     ]
    },
    {
     "name": "stderr",
     "output_type": "stream",
     "text": [
      "INFO:tensorflow:Assets written to: model_init_2023-05-1712_16_05.319674\\assets\n"
     ]
    },
    {
     "name": "stdout",
     "output_type": "stream",
     "text": [
      " 6/17 [=========>....................] - ETA: 4:59 - loss: 0.6337 - categorical_accuracy: 0.7667\n",
      "Epoch 3: saving model to model_init_2023-05-1712_16_05.319674\\\n",
      "INFO:tensorflow:Assets written to: model_init_2023-05-1712_16_05.319674\\assets\n"
     ]
    },
    {
     "name": "stderr",
     "output_type": "stream",
     "text": [
      "INFO:tensorflow:Assets written to: model_init_2023-05-1712_16_05.319674\\assets\n"
     ]
    },
    {
     "name": "stdout",
     "output_type": "stream",
     "text": [
      " 7/17 [===========>..................] - ETA: 4:32 - loss: 0.6225 - categorical_accuracy: 0.7714\n",
      "Epoch 3: saving model to model_init_2023-05-1712_16_05.319674\\\n",
      "INFO:tensorflow:Assets written to: model_init_2023-05-1712_16_05.319674\\assets\n"
     ]
    },
    {
     "name": "stderr",
     "output_type": "stream",
     "text": [
      "INFO:tensorflow:Assets written to: model_init_2023-05-1712_16_05.319674\\assets\n"
     ]
    },
    {
     "name": "stdout",
     "output_type": "stream",
     "text": [
      " 8/17 [=============>................] - ETA: 4:04 - loss: 0.6344 - categorical_accuracy: 0.7688\n",
      "Epoch 3: saving model to model_init_2023-05-1712_16_05.319674\\\n",
      "INFO:tensorflow:Assets written to: model_init_2023-05-1712_16_05.319674\\assets\n"
     ]
    },
    {
     "name": "stderr",
     "output_type": "stream",
     "text": [
      "INFO:tensorflow:Assets written to: model_init_2023-05-1712_16_05.319674\\assets\n"
     ]
    },
    {
     "name": "stdout",
     "output_type": "stream",
     "text": [
      " 9/17 [==============>...............] - ETA: 3:37 - loss: 0.6579 - categorical_accuracy: 0.7528\n",
      "Epoch 3: saving model to model_init_2023-05-1712_16_05.319674\\\n",
      "INFO:tensorflow:Assets written to: model_init_2023-05-1712_16_05.319674\\assets\n"
     ]
    },
    {
     "name": "stderr",
     "output_type": "stream",
     "text": [
      "INFO:tensorflow:Assets written to: model_init_2023-05-1712_16_05.319674\\assets\n"
     ]
    },
    {
     "name": "stdout",
     "output_type": "stream",
     "text": [
      "10/17 [================>.............] - ETA: 3:10 - loss: 0.6452 - categorical_accuracy: 0.7575\n",
      "Epoch 3: saving model to model_init_2023-05-1712_16_05.319674\\\n",
      "INFO:tensorflow:Assets written to: model_init_2023-05-1712_16_05.319674\\assets\n"
     ]
    },
    {
     "name": "stderr",
     "output_type": "stream",
     "text": [
      "INFO:tensorflow:Assets written to: model_init_2023-05-1712_16_05.319674\\assets\n"
     ]
    },
    {
     "name": "stdout",
     "output_type": "stream",
     "text": [
      "11/17 [==================>...........] - ETA: 2:43 - loss: 0.6265 - categorical_accuracy: 0.7682\n",
      "Epoch 3: saving model to model_init_2023-05-1712_16_05.319674\\\n",
      "INFO:tensorflow:Assets written to: model_init_2023-05-1712_16_05.319674\\assets\n"
     ]
    },
    {
     "name": "stderr",
     "output_type": "stream",
     "text": [
      "INFO:tensorflow:Assets written to: model_init_2023-05-1712_16_05.319674\\assets\n"
     ]
    },
    {
     "name": "stdout",
     "output_type": "stream",
     "text": [
      "12/17 [====================>.........] - ETA: 2:15 - loss: 0.6188 - categorical_accuracy: 0.7667\n",
      "Epoch 3: saving model to model_init_2023-05-1712_16_05.319674\\\n",
      "INFO:tensorflow:Assets written to: model_init_2023-05-1712_16_05.319674\\assets\n"
     ]
    },
    {
     "name": "stderr",
     "output_type": "stream",
     "text": [
      "INFO:tensorflow:Assets written to: model_init_2023-05-1712_16_05.319674\\assets\n"
     ]
    },
    {
     "name": "stdout",
     "output_type": "stream",
     "text": [
      "13/17 [=====================>........] - ETA: 1:48 - loss: 0.6253 - categorical_accuracy: 0.7615\n",
      "Epoch 3: saving model to model_init_2023-05-1712_16_05.319674\\\n",
      "INFO:tensorflow:Assets written to: model_init_2023-05-1712_16_05.319674\\assets\n"
     ]
    },
    {
     "name": "stderr",
     "output_type": "stream",
     "text": [
      "INFO:tensorflow:Assets written to: model_init_2023-05-1712_16_05.319674\\assets\n"
     ]
    },
    {
     "name": "stdout",
     "output_type": "stream",
     "text": [
      "14/17 [=======================>......] - ETA: 1:21 - loss: 0.6173 - categorical_accuracy: 0.7661\n",
      "Epoch 3: saving model to model_init_2023-05-1712_16_05.319674\\\n",
      "INFO:tensorflow:Assets written to: model_init_2023-05-1712_16_05.319674\\assets\n"
     ]
    },
    {
     "name": "stderr",
     "output_type": "stream",
     "text": [
      "INFO:tensorflow:Assets written to: model_init_2023-05-1712_16_05.319674\\assets\n"
     ]
    },
    {
     "name": "stdout",
     "output_type": "stream",
     "text": [
      "15/17 [=========================>....] - ETA: 54s - loss: 0.6107 - categorical_accuracy: 0.7667 \n",
      "Epoch 3: saving model to model_init_2023-05-1712_16_05.319674\\\n",
      "INFO:tensorflow:Assets written to: model_init_2023-05-1712_16_05.319674\\assets\n"
     ]
    },
    {
     "name": "stderr",
     "output_type": "stream",
     "text": [
      "INFO:tensorflow:Assets written to: model_init_2023-05-1712_16_05.319674\\assets\n"
     ]
    },
    {
     "name": "stdout",
     "output_type": "stream",
     "text": [
      "16/17 [===========================>..] - ETA: 27s - loss: 0.6301 - categorical_accuracy: 0.7609\n",
      "Epoch 3: saving model to model_init_2023-05-1712_16_05.319674\\\n",
      "INFO:tensorflow:Assets written to: model_init_2023-05-1712_16_05.319674\\assets\n"
     ]
    },
    {
     "name": "stderr",
     "output_type": "stream",
     "text": [
      "INFO:tensorflow:Assets written to: model_init_2023-05-1712_16_05.319674\\assets\n"
     ]
    },
    {
     "name": "stdout",
     "output_type": "stream",
     "text": [
      "17/17 [==============================] - 465s 27s/step - loss: 0.6277 - categorical_accuracy: 0.7602 - val_loss: 1.9657 - val_categorical_accuracy: 0.2300 - lr: 0.0010\n",
      "Epoch 4/15\n",
      "\n",
      "Epoch 4: saving model to model_init_2023-05-1712_16_05.319674\\\n",
      "INFO:tensorflow:Assets written to: model_init_2023-05-1712_16_05.319674\\assets\n"
     ]
    },
    {
     "name": "stderr",
     "output_type": "stream",
     "text": [
      "INFO:tensorflow:Assets written to: model_init_2023-05-1712_16_05.319674\\assets\n"
     ]
    },
    {
     "name": "stdout",
     "output_type": "stream",
     "text": [
      " 1/17 [>.............................] - ETA: 7:14 - loss: 0.6280 - categorical_accuracy: 0.8000\n",
      "Epoch 4: saving model to model_init_2023-05-1712_16_05.319674\\\n",
      "INFO:tensorflow:Assets written to: model_init_2023-05-1712_16_05.319674\\assets\n"
     ]
    },
    {
     "name": "stderr",
     "output_type": "stream",
     "text": [
      "INFO:tensorflow:Assets written to: model_init_2023-05-1712_16_05.319674\\assets\n"
     ]
    },
    {
     "name": "stdout",
     "output_type": "stream",
     "text": [
      " 2/17 [==>...........................] - ETA: 6:48 - loss: 0.5891 - categorical_accuracy: 0.8000\n",
      "Epoch 4: saving model to model_init_2023-05-1712_16_05.319674\\\n",
      "INFO:tensorflow:Assets written to: model_init_2023-05-1712_16_05.319674\\assets\n"
     ]
    },
    {
     "name": "stderr",
     "output_type": "stream",
     "text": [
      "INFO:tensorflow:Assets written to: model_init_2023-05-1712_16_05.319674\\assets\n"
     ]
    },
    {
     "name": "stdout",
     "output_type": "stream",
     "text": [
      " 3/17 [====>.........................] - ETA: 6:22 - loss: 0.5375 - categorical_accuracy: 0.8250\n",
      "Epoch 4: saving model to model_init_2023-05-1712_16_05.319674\\\n",
      "INFO:tensorflow:Assets written to: model_init_2023-05-1712_16_05.319674\\assets\n"
     ]
    },
    {
     "name": "stderr",
     "output_type": "stream",
     "text": [
      "INFO:tensorflow:Assets written to: model_init_2023-05-1712_16_05.319674\\assets\n"
     ]
    },
    {
     "name": "stdout",
     "output_type": "stream",
     "text": [
      " 4/17 [======>.......................] - ETA: 5:54 - loss: 0.5504 - categorical_accuracy: 0.8062\n",
      "Epoch 4: saving model to model_init_2023-05-1712_16_05.319674\\\n",
      "INFO:tensorflow:Assets written to: model_init_2023-05-1712_16_05.319674\\assets\n"
     ]
    },
    {
     "name": "stderr",
     "output_type": "stream",
     "text": [
      "INFO:tensorflow:Assets written to: model_init_2023-05-1712_16_05.319674\\assets\n"
     ]
    },
    {
     "name": "stdout",
     "output_type": "stream",
     "text": [
      " 5/17 [=======>......................] - ETA: 5:27 - loss: 0.5542 - categorical_accuracy: 0.7950\n",
      "Epoch 4: saving model to model_init_2023-05-1712_16_05.319674\\\n",
      "INFO:tensorflow:Assets written to: model_init_2023-05-1712_16_05.319674\\assets\n"
     ]
    },
    {
     "name": "stderr",
     "output_type": "stream",
     "text": [
      "INFO:tensorflow:Assets written to: model_init_2023-05-1712_16_05.319674\\assets\n"
     ]
    },
    {
     "name": "stdout",
     "output_type": "stream",
     "text": [
      " 6/17 [=========>....................] - ETA: 5:00 - loss: 0.5522 - categorical_accuracy: 0.7958\n",
      "Epoch 4: saving model to model_init_2023-05-1712_16_05.319674\\\n",
      "INFO:tensorflow:Assets written to: model_init_2023-05-1712_16_05.319674\\assets\n"
     ]
    },
    {
     "name": "stderr",
     "output_type": "stream",
     "text": [
      "INFO:tensorflow:Assets written to: model_init_2023-05-1712_16_05.319674\\assets\n"
     ]
    },
    {
     "name": "stdout",
     "output_type": "stream",
     "text": [
      " 7/17 [===========>..................] - ETA: 4:32 - loss: 0.5506 - categorical_accuracy: 0.7893\n",
      "Epoch 4: saving model to model_init_2023-05-1712_16_05.319674\\\n",
      "INFO:tensorflow:Assets written to: model_init_2023-05-1712_16_05.319674\\assets\n"
     ]
    },
    {
     "name": "stderr",
     "output_type": "stream",
     "text": [
      "INFO:tensorflow:Assets written to: model_init_2023-05-1712_16_05.319674\\assets\n"
     ]
    },
    {
     "name": "stdout",
     "output_type": "stream",
     "text": [
      " 8/17 [=============>................] - ETA: 4:05 - loss: 0.5195 - categorical_accuracy: 0.8062\n",
      "Epoch 4: saving model to model_init_2023-05-1712_16_05.319674\\\n",
      "INFO:tensorflow:Assets written to: model_init_2023-05-1712_16_05.319674\\assets\n"
     ]
    },
    {
     "name": "stderr",
     "output_type": "stream",
     "text": [
      "INFO:tensorflow:Assets written to: model_init_2023-05-1712_16_05.319674\\assets\n"
     ]
    },
    {
     "name": "stdout",
     "output_type": "stream",
     "text": [
      " 9/17 [==============>...............] - ETA: 3:38 - loss: 0.4952 - categorical_accuracy: 0.8167\n",
      "Epoch 4: saving model to model_init_2023-05-1712_16_05.319674\\\n",
      "INFO:tensorflow:Assets written to: model_init_2023-05-1712_16_05.319674\\assets\n"
     ]
    },
    {
     "name": "stderr",
     "output_type": "stream",
     "text": [
      "INFO:tensorflow:Assets written to: model_init_2023-05-1712_16_05.319674\\assets\n"
     ]
    },
    {
     "name": "stdout",
     "output_type": "stream",
     "text": [
      "10/17 [================>.............] - ETA: 3:10 - loss: 0.4970 - categorical_accuracy: 0.8100\n",
      "Epoch 4: saving model to model_init_2023-05-1712_16_05.319674\\\n",
      "INFO:tensorflow:Assets written to: model_init_2023-05-1712_16_05.319674\\assets\n"
     ]
    },
    {
     "name": "stderr",
     "output_type": "stream",
     "text": [
      "INFO:tensorflow:Assets written to: model_init_2023-05-1712_16_05.319674\\assets\n"
     ]
    },
    {
     "name": "stdout",
     "output_type": "stream",
     "text": [
      "11/17 [==================>...........] - ETA: 2:43 - loss: 0.4878 - categorical_accuracy: 0.8136\n",
      "Epoch 4: saving model to model_init_2023-05-1712_16_05.319674\\\n",
      "INFO:tensorflow:Assets written to: model_init_2023-05-1712_16_05.319674\\assets\n"
     ]
    },
    {
     "name": "stderr",
     "output_type": "stream",
     "text": [
      "INFO:tensorflow:Assets written to: model_init_2023-05-1712_16_05.319674\\assets\n"
     ]
    },
    {
     "name": "stdout",
     "output_type": "stream",
     "text": [
      "12/17 [====================>.........] - ETA: 2:16 - loss: 0.4824 - categorical_accuracy: 0.8104\n",
      "Epoch 4: saving model to model_init_2023-05-1712_16_05.319674\\\n",
      "INFO:tensorflow:Assets written to: model_init_2023-05-1712_16_05.319674\\assets\n"
     ]
    },
    {
     "name": "stderr",
     "output_type": "stream",
     "text": [
      "INFO:tensorflow:Assets written to: model_init_2023-05-1712_16_05.319674\\assets\n"
     ]
    },
    {
     "name": "stdout",
     "output_type": "stream",
     "text": [
      "13/17 [=====================>........] - ETA: 1:49 - loss: 0.4935 - categorical_accuracy: 0.8077\n",
      "Epoch 4: saving model to model_init_2023-05-1712_16_05.319674\\\n",
      "INFO:tensorflow:Assets written to: model_init_2023-05-1712_16_05.319674\\assets\n"
     ]
    },
    {
     "name": "stderr",
     "output_type": "stream",
     "text": [
      "INFO:tensorflow:Assets written to: model_init_2023-05-1712_16_05.319674\\assets\n"
     ]
    },
    {
     "name": "stdout",
     "output_type": "stream",
     "text": [
      "14/17 [=======================>......] - ETA: 1:22 - loss: 0.5010 - categorical_accuracy: 0.8089\n",
      "Epoch 4: saving model to model_init_2023-05-1712_16_05.319674\\\n",
      "INFO:tensorflow:Assets written to: model_init_2023-05-1712_16_05.319674\\assets\n"
     ]
    },
    {
     "name": "stderr",
     "output_type": "stream",
     "text": [
      "INFO:tensorflow:Assets written to: model_init_2023-05-1712_16_05.319674\\assets\n"
     ]
    },
    {
     "name": "stdout",
     "output_type": "stream",
     "text": [
      "15/17 [=========================>....] - ETA: 54s - loss: 0.5030 - categorical_accuracy: 0.8150 \n",
      "Epoch 4: saving model to model_init_2023-05-1712_16_05.319674\\\n",
      "INFO:tensorflow:Assets written to: model_init_2023-05-1712_16_05.319674\\assets\n"
     ]
    },
    {
     "name": "stderr",
     "output_type": "stream",
     "text": [
      "INFO:tensorflow:Assets written to: model_init_2023-05-1712_16_05.319674\\assets\n"
     ]
    },
    {
     "name": "stdout",
     "output_type": "stream",
     "text": [
      "16/17 [===========================>..] - ETA: 27s - loss: 0.5123 - categorical_accuracy: 0.8094\n",
      "Epoch 4: saving model to model_init_2023-05-1712_16_05.319674\\\n",
      "INFO:tensorflow:Assets written to: model_init_2023-05-1712_16_05.319674\\assets\n"
     ]
    },
    {
     "name": "stderr",
     "output_type": "stream",
     "text": [
      "INFO:tensorflow:Assets written to: model_init_2023-05-1712_16_05.319674\\assets\n"
     ]
    },
    {
     "name": "stdout",
     "output_type": "stream",
     "text": [
      "17/17 [==============================] - 468s 28s/step - loss: 0.5165 - categorical_accuracy: 0.8054 - val_loss: 2.0329 - val_categorical_accuracy: 0.2400 - lr: 0.0010\n",
      "Epoch 5/15\n",
      "\n",
      "Epoch 5: saving model to model_init_2023-05-1712_16_05.319674\\\n",
      "INFO:tensorflow:Assets written to: model_init_2023-05-1712_16_05.319674\\assets\n"
     ]
    },
    {
     "name": "stderr",
     "output_type": "stream",
     "text": [
      "INFO:tensorflow:Assets written to: model_init_2023-05-1712_16_05.319674\\assets\n"
     ]
    },
    {
     "name": "stdout",
     "output_type": "stream",
     "text": [
      " 1/17 [>.............................] - ETA: 7:25 - loss: 0.2341 - categorical_accuracy: 0.9250\n",
      "Epoch 5: saving model to model_init_2023-05-1712_16_05.319674\\\n",
      "INFO:tensorflow:Assets written to: model_init_2023-05-1712_16_05.319674\\assets\n"
     ]
    },
    {
     "name": "stderr",
     "output_type": "stream",
     "text": [
      "INFO:tensorflow:Assets written to: model_init_2023-05-1712_16_05.319674\\assets\n"
     ]
    },
    {
     "name": "stdout",
     "output_type": "stream",
     "text": [
      " 2/17 [==>...........................] - ETA: 6:56 - loss: 0.3153 - categorical_accuracy: 0.8750\n",
      "Epoch 5: saving model to model_init_2023-05-1712_16_05.319674\\\n",
      "INFO:tensorflow:Assets written to: model_init_2023-05-1712_16_05.319674\\assets\n"
     ]
    },
    {
     "name": "stderr",
     "output_type": "stream",
     "text": [
      "INFO:tensorflow:Assets written to: model_init_2023-05-1712_16_05.319674\\assets\n"
     ]
    },
    {
     "name": "stdout",
     "output_type": "stream",
     "text": [
      " 3/17 [====>.........................] - ETA: 6:27 - loss: 0.3257 - categorical_accuracy: 0.9000\n",
      "Epoch 5: saving model to model_init_2023-05-1712_16_05.319674\\\n",
      "INFO:tensorflow:Assets written to: model_init_2023-05-1712_16_05.319674\\assets\n"
     ]
    },
    {
     "name": "stderr",
     "output_type": "stream",
     "text": [
      "INFO:tensorflow:Assets written to: model_init_2023-05-1712_16_05.319674\\assets\n"
     ]
    },
    {
     "name": "stdout",
     "output_type": "stream",
     "text": [
      " 4/17 [======>.......................] - ETA: 5:57 - loss: 0.3555 - categorical_accuracy: 0.8875\n",
      "Epoch 5: saving model to model_init_2023-05-1712_16_05.319674\\\n",
      "INFO:tensorflow:Assets written to: model_init_2023-05-1712_16_05.319674\\assets\n"
     ]
    },
    {
     "name": "stderr",
     "output_type": "stream",
     "text": [
      "INFO:tensorflow:Assets written to: model_init_2023-05-1712_16_05.319674\\assets\n"
     ]
    },
    {
     "name": "stdout",
     "output_type": "stream",
     "text": [
      " 5/17 [=======>......................] - ETA: 5:30 - loss: 0.3544 - categorical_accuracy: 0.8850\n",
      "Epoch 5: saving model to model_init_2023-05-1712_16_05.319674\\\n",
      "INFO:tensorflow:Assets written to: model_init_2023-05-1712_16_05.319674\\assets\n"
     ]
    },
    {
     "name": "stderr",
     "output_type": "stream",
     "text": [
      "INFO:tensorflow:Assets written to: model_init_2023-05-1712_16_05.319674\\assets\n"
     ]
    },
    {
     "name": "stdout",
     "output_type": "stream",
     "text": [
      " 6/17 [=========>....................] - ETA: 5:04 - loss: 0.3462 - categorical_accuracy: 0.8917\n",
      "Epoch 5: saving model to model_init_2023-05-1712_16_05.319674\\\n",
      "INFO:tensorflow:Assets written to: model_init_2023-05-1712_16_05.319674\\assets\n"
     ]
    },
    {
     "name": "stderr",
     "output_type": "stream",
     "text": [
      "INFO:tensorflow:Assets written to: model_init_2023-05-1712_16_05.319674\\assets\n"
     ]
    },
    {
     "name": "stdout",
     "output_type": "stream",
     "text": [
      " 7/17 [===========>..................] - ETA: 4:38 - loss: 0.3679 - categorical_accuracy: 0.8964\n",
      "Epoch 5: saving model to model_init_2023-05-1712_16_05.319674\\\n",
      "INFO:tensorflow:Assets written to: model_init_2023-05-1712_16_05.319674\\assets\n"
     ]
    },
    {
     "name": "stderr",
     "output_type": "stream",
     "text": [
      "INFO:tensorflow:Assets written to: model_init_2023-05-1712_16_05.319674\\assets\n"
     ]
    },
    {
     "name": "stdout",
     "output_type": "stream",
     "text": [
      " 8/17 [=============>................] - ETA: 4:10 - loss: 0.3775 - categorical_accuracy: 0.8906\n",
      "Epoch 5: saving model to model_init_2023-05-1712_16_05.319674\\\n",
      "INFO:tensorflow:Assets written to: model_init_2023-05-1712_16_05.319674\\assets\n"
     ]
    },
    {
     "name": "stderr",
     "output_type": "stream",
     "text": [
      "INFO:tensorflow:Assets written to: model_init_2023-05-1712_16_05.319674\\assets\n"
     ]
    },
    {
     "name": "stdout",
     "output_type": "stream",
     "text": [
      " 9/17 [==============>...............] - ETA: 3:42 - loss: 0.3675 - categorical_accuracy: 0.8944\n",
      "Epoch 5: saving model to model_init_2023-05-1712_16_05.319674\\\n",
      "INFO:tensorflow:Assets written to: model_init_2023-05-1712_16_05.319674\\assets\n"
     ]
    },
    {
     "name": "stderr",
     "output_type": "stream",
     "text": [
      "INFO:tensorflow:Assets written to: model_init_2023-05-1712_16_05.319674\\assets\n"
     ]
    },
    {
     "name": "stdout",
     "output_type": "stream",
     "text": [
      "10/17 [================>.............] - ETA: 3:15 - loss: 0.3661 - categorical_accuracy: 0.8875\n",
      "Epoch 5: saving model to model_init_2023-05-1712_16_05.319674\\\n",
      "INFO:tensorflow:Assets written to: model_init_2023-05-1712_16_05.319674\\assets\n"
     ]
    },
    {
     "name": "stderr",
     "output_type": "stream",
     "text": [
      "INFO:tensorflow:Assets written to: model_init_2023-05-1712_16_05.319674\\assets\n"
     ]
    },
    {
     "name": "stdout",
     "output_type": "stream",
     "text": [
      "11/17 [==================>...........] - ETA: 2:47 - loss: 0.3581 - categorical_accuracy: 0.8886\n",
      "Epoch 5: saving model to model_init_2023-05-1712_16_05.319674\\\n",
      "INFO:tensorflow:Assets written to: model_init_2023-05-1712_16_05.319674\\assets\n"
     ]
    },
    {
     "name": "stderr",
     "output_type": "stream",
     "text": [
      "INFO:tensorflow:Assets written to: model_init_2023-05-1712_16_05.319674\\assets\n"
     ]
    },
    {
     "name": "stdout",
     "output_type": "stream",
     "text": [
      "12/17 [====================>.........] - ETA: 2:19 - loss: 0.3550 - categorical_accuracy: 0.8917\n",
      "Epoch 5: saving model to model_init_2023-05-1712_16_05.319674\\\n",
      "INFO:tensorflow:Assets written to: model_init_2023-05-1712_16_05.319674\\assets\n"
     ]
    },
    {
     "name": "stderr",
     "output_type": "stream",
     "text": [
      "INFO:tensorflow:Assets written to: model_init_2023-05-1712_16_05.319674\\assets\n"
     ]
    },
    {
     "name": "stdout",
     "output_type": "stream",
     "text": [
      "13/17 [=====================>........] - ETA: 1:51 - loss: 0.3487 - categorical_accuracy: 0.8904\n",
      "Epoch 5: saving model to model_init_2023-05-1712_16_05.319674\\\n",
      "INFO:tensorflow:Assets written to: model_init_2023-05-1712_16_05.319674\\assets\n"
     ]
    },
    {
     "name": "stderr",
     "output_type": "stream",
     "text": [
      "INFO:tensorflow:Assets written to: model_init_2023-05-1712_16_05.319674\\assets\n"
     ]
    },
    {
     "name": "stdout",
     "output_type": "stream",
     "text": [
      "14/17 [=======================>......] - ETA: 1:23 - loss: 0.3401 - categorical_accuracy: 0.8946\n",
      "Epoch 5: saving model to model_init_2023-05-1712_16_05.319674\\\n",
      "INFO:tensorflow:Assets written to: model_init_2023-05-1712_16_05.319674\\assets\n"
     ]
    },
    {
     "name": "stderr",
     "output_type": "stream",
     "text": [
      "INFO:tensorflow:Assets written to: model_init_2023-05-1712_16_05.319674\\assets\n"
     ]
    },
    {
     "name": "stdout",
     "output_type": "stream",
     "text": [
      "15/17 [=========================>....] - ETA: 55s - loss: 0.3466 - categorical_accuracy: 0.8917 \n",
      "Epoch 5: saving model to model_init_2023-05-1712_16_05.319674\\\n",
      "INFO:tensorflow:Assets written to: model_init_2023-05-1712_16_05.319674\\assets\n"
     ]
    },
    {
     "name": "stderr",
     "output_type": "stream",
     "text": [
      "INFO:tensorflow:Assets written to: model_init_2023-05-1712_16_05.319674\\assets\n"
     ]
    },
    {
     "name": "stdout",
     "output_type": "stream",
     "text": [
      "16/17 [===========================>..] - ETA: 27s - loss: 0.3534 - categorical_accuracy: 0.8891\n",
      "Epoch 5: saving model to model_init_2023-05-1712_16_05.319674\\\n",
      "INFO:tensorflow:Assets written to: model_init_2023-05-1712_16_05.319674\\assets\n"
     ]
    },
    {
     "name": "stderr",
     "output_type": "stream",
     "text": [
      "INFO:tensorflow:Assets written to: model_init_2023-05-1712_16_05.319674\\assets\n"
     ]
    },
    {
     "name": "stdout",
     "output_type": "stream",
     "text": [
      "17/17 [==============================] - ETA: 0s - loss: 0.3603 - categorical_accuracy: 0.8854 \n",
      "Epoch 5: ReduceLROnPlateau reducing learning rate to 0.00020000000949949026.\n",
      "17/17 [==============================] - 476s 28s/step - loss: 0.3603 - categorical_accuracy: 0.8854 - val_loss: 2.5853 - val_categorical_accuracy: 0.2100 - lr: 0.0010\n",
      "Epoch 6/15\n",
      "\n",
      "Epoch 6: saving model to model_init_2023-05-1712_16_05.319674\\\n",
      "INFO:tensorflow:Assets written to: model_init_2023-05-1712_16_05.319674\\assets\n"
     ]
    },
    {
     "name": "stderr",
     "output_type": "stream",
     "text": [
      "INFO:tensorflow:Assets written to: model_init_2023-05-1712_16_05.319674\\assets\n"
     ]
    },
    {
     "name": "stdout",
     "output_type": "stream",
     "text": [
      " 1/17 [>.............................] - ETA: 7:23 - loss: 0.4207 - categorical_accuracy: 0.8250\n",
      "Epoch 6: saving model to model_init_2023-05-1712_16_05.319674\\\n",
      "INFO:tensorflow:Assets written to: model_init_2023-05-1712_16_05.319674\\assets\n"
     ]
    },
    {
     "name": "stderr",
     "output_type": "stream",
     "text": [
      "INFO:tensorflow:Assets written to: model_init_2023-05-1712_16_05.319674\\assets\n"
     ]
    },
    {
     "name": "stdout",
     "output_type": "stream",
     "text": [
      " 2/17 [==>...........................] - ETA: 6:52 - loss: 0.3853 - categorical_accuracy: 0.8750\n",
      "Epoch 6: saving model to model_init_2023-05-1712_16_05.319674\\\n",
      "INFO:tensorflow:Assets written to: model_init_2023-05-1712_16_05.319674\\assets\n"
     ]
    },
    {
     "name": "stderr",
     "output_type": "stream",
     "text": [
      "INFO:tensorflow:Assets written to: model_init_2023-05-1712_16_05.319674\\assets\n"
     ]
    },
    {
     "name": "stdout",
     "output_type": "stream",
     "text": [
      " 3/17 [====>.........................] - ETA: 6:25 - loss: 0.3622 - categorical_accuracy: 0.8917\n",
      "Epoch 6: saving model to model_init_2023-05-1712_16_05.319674\\\n",
      "INFO:tensorflow:Assets written to: model_init_2023-05-1712_16_05.319674\\assets\n"
     ]
    },
    {
     "name": "stderr",
     "output_type": "stream",
     "text": [
      "INFO:tensorflow:Assets written to: model_init_2023-05-1712_16_05.319674\\assets\n"
     ]
    },
    {
     "name": "stdout",
     "output_type": "stream",
     "text": [
      " 4/17 [======>.......................] - ETA: 5:58 - loss: 0.3557 - categorical_accuracy: 0.8875\n",
      "Epoch 6: saving model to model_init_2023-05-1712_16_05.319674\\\n",
      "INFO:tensorflow:Assets written to: model_init_2023-05-1712_16_05.319674\\assets\n"
     ]
    },
    {
     "name": "stderr",
     "output_type": "stream",
     "text": [
      "INFO:tensorflow:Assets written to: model_init_2023-05-1712_16_05.319674\\assets\n"
     ]
    },
    {
     "name": "stdout",
     "output_type": "stream",
     "text": [
      " 5/17 [=======>......................] - ETA: 5:30 - loss: 0.3239 - categorical_accuracy: 0.9000\n",
      "Epoch 6: saving model to model_init_2023-05-1712_16_05.319674\\\n",
      "INFO:tensorflow:Assets written to: model_init_2023-05-1712_16_05.319674\\assets\n"
     ]
    },
    {
     "name": "stderr",
     "output_type": "stream",
     "text": [
      "INFO:tensorflow:Assets written to: model_init_2023-05-1712_16_05.319674\\assets\n"
     ]
    },
    {
     "name": "stdout",
     "output_type": "stream",
     "text": [
      " 6/17 [=========>....................] - ETA: 5:02 - loss: 0.3204 - categorical_accuracy: 0.8958\n",
      "Epoch 6: saving model to model_init_2023-05-1712_16_05.319674\\\n",
      "INFO:tensorflow:Assets written to: model_init_2023-05-1712_16_05.319674\\assets\n"
     ]
    },
    {
     "name": "stderr",
     "output_type": "stream",
     "text": [
      "INFO:tensorflow:Assets written to: model_init_2023-05-1712_16_05.319674\\assets\n"
     ]
    },
    {
     "name": "stdout",
     "output_type": "stream",
     "text": [
      " 7/17 [===========>..................] - ETA: 4:35 - loss: 0.2916 - categorical_accuracy: 0.9107\n",
      "Epoch 6: saving model to model_init_2023-05-1712_16_05.319674\\\n",
      "INFO:tensorflow:Assets written to: model_init_2023-05-1712_16_05.319674\\assets\n"
     ]
    },
    {
     "name": "stderr",
     "output_type": "stream",
     "text": [
      "INFO:tensorflow:Assets written to: model_init_2023-05-1712_16_05.319674\\assets\n"
     ]
    },
    {
     "name": "stdout",
     "output_type": "stream",
     "text": [
      " 8/17 [=============>................] - ETA: 4:08 - loss: 0.2824 - categorical_accuracy: 0.9125\n",
      "Epoch 6: saving model to model_init_2023-05-1712_16_05.319674\\\n",
      "INFO:tensorflow:Assets written to: model_init_2023-05-1712_16_05.319674\\assets\n"
     ]
    },
    {
     "name": "stderr",
     "output_type": "stream",
     "text": [
      "INFO:tensorflow:Assets written to: model_init_2023-05-1712_16_05.319674\\assets\n"
     ]
    },
    {
     "name": "stdout",
     "output_type": "stream",
     "text": [
      " 9/17 [==============>...............] - ETA: 3:41 - loss: 0.2834 - categorical_accuracy: 0.9083\n",
      "Epoch 6: saving model to model_init_2023-05-1712_16_05.319674\\\n",
      "INFO:tensorflow:Assets written to: model_init_2023-05-1712_16_05.319674\\assets\n"
     ]
    },
    {
     "name": "stderr",
     "output_type": "stream",
     "text": [
      "INFO:tensorflow:Assets written to: model_init_2023-05-1712_16_05.319674\\assets\n"
     ]
    },
    {
     "name": "stdout",
     "output_type": "stream",
     "text": [
      "10/17 [================>.............] - ETA: 3:13 - loss: 0.2801 - categorical_accuracy: 0.9100\n",
      "Epoch 6: saving model to model_init_2023-05-1712_16_05.319674\\\n",
      "INFO:tensorflow:Assets written to: model_init_2023-05-1712_16_05.319674\\assets\n"
     ]
    },
    {
     "name": "stderr",
     "output_type": "stream",
     "text": [
      "INFO:tensorflow:Assets written to: model_init_2023-05-1712_16_05.319674\\assets\n"
     ]
    },
    {
     "name": "stdout",
     "output_type": "stream",
     "text": [
      "11/17 [==================>...........] - ETA: 2:45 - loss: 0.2782 - categorical_accuracy: 0.9136\n",
      "Epoch 6: saving model to model_init_2023-05-1712_16_05.319674\\\n",
      "INFO:tensorflow:Assets written to: model_init_2023-05-1712_16_05.319674\\assets\n"
     ]
    },
    {
     "name": "stderr",
     "output_type": "stream",
     "text": [
      "INFO:tensorflow:Assets written to: model_init_2023-05-1712_16_05.319674\\assets\n"
     ]
    },
    {
     "name": "stdout",
     "output_type": "stream",
     "text": [
      "12/17 [====================>.........] - ETA: 2:18 - loss: 0.2790 - categorical_accuracy: 0.9146\n",
      "Epoch 6: saving model to model_init_2023-05-1712_16_05.319674\\\n",
      "INFO:tensorflow:Assets written to: model_init_2023-05-1712_16_05.319674\\assets\n"
     ]
    },
    {
     "name": "stderr",
     "output_type": "stream",
     "text": [
      "INFO:tensorflow:Assets written to: model_init_2023-05-1712_16_05.319674\\assets\n"
     ]
    },
    {
     "name": "stdout",
     "output_type": "stream",
     "text": [
      "13/17 [=====================>........] - ETA: 1:50 - loss: 0.2890 - categorical_accuracy: 0.9077\n",
      "Epoch 6: saving model to model_init_2023-05-1712_16_05.319674\\\n",
      "INFO:tensorflow:Assets written to: model_init_2023-05-1712_16_05.319674\\assets\n"
     ]
    },
    {
     "name": "stderr",
     "output_type": "stream",
     "text": [
      "INFO:tensorflow:Assets written to: model_init_2023-05-1712_16_05.319674\\assets\n"
     ]
    },
    {
     "name": "stdout",
     "output_type": "stream",
     "text": [
      "14/17 [=======================>......] - ETA: 1:22 - loss: 0.2832 - categorical_accuracy: 0.9125\n",
      "Epoch 6: saving model to model_init_2023-05-1712_16_05.319674\\\n",
      "INFO:tensorflow:Assets written to: model_init_2023-05-1712_16_05.319674\\assets\n"
     ]
    },
    {
     "name": "stderr",
     "output_type": "stream",
     "text": [
      "INFO:tensorflow:Assets written to: model_init_2023-05-1712_16_05.319674\\assets\n"
     ]
    },
    {
     "name": "stdout",
     "output_type": "stream",
     "text": [
      "15/17 [=========================>....] - ETA: 55s - loss: 0.2756 - categorical_accuracy: 0.9150 \n",
      "Epoch 6: saving model to model_init_2023-05-1712_16_05.319674\\\n",
      "INFO:tensorflow:Assets written to: model_init_2023-05-1712_16_05.319674\\assets\n"
     ]
    },
    {
     "name": "stderr",
     "output_type": "stream",
     "text": [
      "INFO:tensorflow:Assets written to: model_init_2023-05-1712_16_05.319674\\assets\n"
     ]
    },
    {
     "name": "stdout",
     "output_type": "stream",
     "text": [
      "16/17 [===========================>..] - ETA: 27s - loss: 0.2724 - categorical_accuracy: 0.9172\n",
      "Epoch 6: saving model to model_init_2023-05-1712_16_05.319674\\\n",
      "INFO:tensorflow:Assets written to: model_init_2023-05-1712_16_05.319674\\assets\n"
     ]
    },
    {
     "name": "stderr",
     "output_type": "stream",
     "text": [
      "INFO:tensorflow:Assets written to: model_init_2023-05-1712_16_05.319674\\assets\n"
     ]
    },
    {
     "name": "stdout",
     "output_type": "stream",
     "text": [
      "17/17 [==============================] - 473s 28s/step - loss: 0.2679 - categorical_accuracy: 0.9201 - val_loss: 2.6827 - val_categorical_accuracy: 0.2200 - lr: 2.0000e-04\n",
      "Epoch 7/15\n",
      "\n",
      "Epoch 7: saving model to model_init_2023-05-1712_16_05.319674\\\n",
      "INFO:tensorflow:Assets written to: model_init_2023-05-1712_16_05.319674\\assets\n"
     ]
    },
    {
     "name": "stderr",
     "output_type": "stream",
     "text": [
      "INFO:tensorflow:Assets written to: model_init_2023-05-1712_16_05.319674\\assets\n"
     ]
    },
    {
     "name": "stdout",
     "output_type": "stream",
     "text": [
      " 1/17 [>.............................] - ETA: 7:35 - loss: 0.3272 - categorical_accuracy: 0.9250\n",
      "Epoch 7: saving model to model_init_2023-05-1712_16_05.319674\\\n",
      "INFO:tensorflow:Assets written to: model_init_2023-05-1712_16_05.319674\\assets\n"
     ]
    },
    {
     "name": "stderr",
     "output_type": "stream",
     "text": [
      "INFO:tensorflow:Assets written to: model_init_2023-05-1712_16_05.319674\\assets\n"
     ]
    },
    {
     "name": "stdout",
     "output_type": "stream",
     "text": [
      " 2/17 [==>...........................] - ETA: 7:02 - loss: 0.2568 - categorical_accuracy: 0.9375\n",
      "Epoch 7: saving model to model_init_2023-05-1712_16_05.319674\\\n",
      "INFO:tensorflow:Assets written to: model_init_2023-05-1712_16_05.319674\\assets\n"
     ]
    },
    {
     "name": "stderr",
     "output_type": "stream",
     "text": [
      "INFO:tensorflow:Assets written to: model_init_2023-05-1712_16_05.319674\\assets\n"
     ]
    },
    {
     "name": "stdout",
     "output_type": "stream",
     "text": [
      " 3/17 [====>.........................] - ETA: 6:34 - loss: 0.2551 - categorical_accuracy: 0.9333\n",
      "Epoch 7: saving model to model_init_2023-05-1712_16_05.319674\\\n",
      "INFO:tensorflow:Assets written to: model_init_2023-05-1712_16_05.319674\\assets\n"
     ]
    },
    {
     "name": "stderr",
     "output_type": "stream",
     "text": [
      "INFO:tensorflow:Assets written to: model_init_2023-05-1712_16_05.319674\\assets\n"
     ]
    },
    {
     "name": "stdout",
     "output_type": "stream",
     "text": [
      " 4/17 [======>.......................] - ETA: 6:04 - loss: 0.2390 - categorical_accuracy: 0.9375\n",
      "Epoch 7: saving model to model_init_2023-05-1712_16_05.319674\\\n",
      "INFO:tensorflow:Assets written to: model_init_2023-05-1712_16_05.319674\\assets\n"
     ]
    },
    {
     "name": "stderr",
     "output_type": "stream",
     "text": [
      "INFO:tensorflow:Assets written to: model_init_2023-05-1712_16_05.319674\\assets\n"
     ]
    },
    {
     "name": "stdout",
     "output_type": "stream",
     "text": [
      " 5/17 [=======>......................] - ETA: 5:35 - loss: 0.2218 - categorical_accuracy: 0.9450\n",
      "Epoch 7: saving model to model_init_2023-05-1712_16_05.319674\\\n",
      "INFO:tensorflow:Assets written to: model_init_2023-05-1712_16_05.319674\\assets\n"
     ]
    },
    {
     "name": "stderr",
     "output_type": "stream",
     "text": [
      "INFO:tensorflow:Assets written to: model_init_2023-05-1712_16_05.319674\\assets\n"
     ]
    },
    {
     "name": "stdout",
     "output_type": "stream",
     "text": [
      " 6/17 [=========>....................] - ETA: 5:07 - loss: 0.2208 - categorical_accuracy: 0.9417\n",
      "Epoch 7: saving model to model_init_2023-05-1712_16_05.319674\\\n",
      "INFO:tensorflow:Assets written to: model_init_2023-05-1712_16_05.319674\\assets\n"
     ]
    },
    {
     "name": "stderr",
     "output_type": "stream",
     "text": [
      "INFO:tensorflow:Assets written to: model_init_2023-05-1712_16_05.319674\\assets\n"
     ]
    },
    {
     "name": "stdout",
     "output_type": "stream",
     "text": [
      " 7/17 [===========>..................] - ETA: 4:39 - loss: 0.2293 - categorical_accuracy: 0.9464\n",
      "Epoch 7: saving model to model_init_2023-05-1712_16_05.319674\\\n",
      "INFO:tensorflow:Assets written to: model_init_2023-05-1712_16_05.319674\\assets\n"
     ]
    },
    {
     "name": "stderr",
     "output_type": "stream",
     "text": [
      "INFO:tensorflow:Assets written to: model_init_2023-05-1712_16_05.319674\\assets\n"
     ]
    },
    {
     "name": "stdout",
     "output_type": "stream",
     "text": [
      " 8/17 [=============>................] - ETA: 4:11 - loss: 0.2266 - categorical_accuracy: 0.9438\n",
      "Epoch 7: saving model to model_init_2023-05-1712_16_05.319674\\\n",
      "INFO:tensorflow:Assets written to: model_init_2023-05-1712_16_05.319674\\assets\n"
     ]
    },
    {
     "name": "stderr",
     "output_type": "stream",
     "text": [
      "INFO:tensorflow:Assets written to: model_init_2023-05-1712_16_05.319674\\assets\n"
     ]
    },
    {
     "name": "stdout",
     "output_type": "stream",
     "text": [
      " 9/17 [==============>...............] - ETA: 3:44 - loss: 0.2193 - categorical_accuracy: 0.9472\n",
      "Epoch 7: saving model to model_init_2023-05-1712_16_05.319674\\\n",
      "INFO:tensorflow:Assets written to: model_init_2023-05-1712_16_05.319674\\assets\n"
     ]
    },
    {
     "name": "stderr",
     "output_type": "stream",
     "text": [
      "INFO:tensorflow:Assets written to: model_init_2023-05-1712_16_05.319674\\assets\n"
     ]
    },
    {
     "name": "stdout",
     "output_type": "stream",
     "text": [
      "10/17 [================>.............] - ETA: 3:16 - loss: 0.2161 - categorical_accuracy: 0.9425\n",
      "Epoch 7: saving model to model_init_2023-05-1712_16_05.319674\\\n",
      "INFO:tensorflow:Assets written to: model_init_2023-05-1712_16_05.319674\\assets\n"
     ]
    },
    {
     "name": "stderr",
     "output_type": "stream",
     "text": [
      "INFO:tensorflow:Assets written to: model_init_2023-05-1712_16_05.319674\\assets\n"
     ]
    },
    {
     "name": "stdout",
     "output_type": "stream",
     "text": [
      "11/17 [==================>...........] - ETA: 2:48 - loss: 0.2170 - categorical_accuracy: 0.9409\n",
      "Epoch 7: saving model to model_init_2023-05-1712_16_05.319674\\\n",
      "INFO:tensorflow:Assets written to: model_init_2023-05-1712_16_05.319674\\assets\n"
     ]
    },
    {
     "name": "stderr",
     "output_type": "stream",
     "text": [
      "INFO:tensorflow:Assets written to: model_init_2023-05-1712_16_05.319674\\assets\n"
     ]
    },
    {
     "name": "stdout",
     "output_type": "stream",
     "text": [
      "12/17 [====================>.........] - ETA: 2:20 - loss: 0.2180 - categorical_accuracy: 0.9417\n",
      "Epoch 7: saving model to model_init_2023-05-1712_16_05.319674\\\n",
      "INFO:tensorflow:Assets written to: model_init_2023-05-1712_16_05.319674\\assets\n"
     ]
    },
    {
     "name": "stderr",
     "output_type": "stream",
     "text": [
      "INFO:tensorflow:Assets written to: model_init_2023-05-1712_16_05.319674\\assets\n"
     ]
    },
    {
     "name": "stdout",
     "output_type": "stream",
     "text": [
      "13/17 [=====================>........] - ETA: 1:52 - loss: 0.2120 - categorical_accuracy: 0.9442\n",
      "Epoch 7: saving model to model_init_2023-05-1712_16_05.319674\\\n",
      "INFO:tensorflow:Assets written to: model_init_2023-05-1712_16_05.319674\\assets\n"
     ]
    },
    {
     "name": "stderr",
     "output_type": "stream",
     "text": [
      "INFO:tensorflow:Assets written to: model_init_2023-05-1712_16_05.319674\\assets\n"
     ]
    },
    {
     "name": "stdout",
     "output_type": "stream",
     "text": [
      "14/17 [=======================>......] - ETA: 1:24 - loss: 0.2197 - categorical_accuracy: 0.9429\n",
      "Epoch 7: saving model to model_init_2023-05-1712_16_05.319674\\\n",
      "INFO:tensorflow:Assets written to: model_init_2023-05-1712_16_05.319674\\assets\n"
     ]
    },
    {
     "name": "stderr",
     "output_type": "stream",
     "text": [
      "INFO:tensorflow:Assets written to: model_init_2023-05-1712_16_05.319674\\assets\n"
     ]
    },
    {
     "name": "stdout",
     "output_type": "stream",
     "text": [
      "15/17 [=========================>....] - ETA: 56s - loss: 0.2220 - categorical_accuracy: 0.9433 \n",
      "Epoch 7: saving model to model_init_2023-05-1712_16_05.319674\\\n",
      "INFO:tensorflow:Assets written to: model_init_2023-05-1712_16_05.319674\\assets\n"
     ]
    },
    {
     "name": "stderr",
     "output_type": "stream",
     "text": [
      "INFO:tensorflow:Assets written to: model_init_2023-05-1712_16_05.319674\\assets\n"
     ]
    },
    {
     "name": "stdout",
     "output_type": "stream",
     "text": [
      "16/17 [===========================>..] - ETA: 27s - loss: 0.2212 - categorical_accuracy: 0.9453\n",
      "Epoch 7: saving model to model_init_2023-05-1712_16_05.319674\\\n",
      "INFO:tensorflow:Assets written to: model_init_2023-05-1712_16_05.319674\\assets\n"
     ]
    },
    {
     "name": "stderr",
     "output_type": "stream",
     "text": [
      "INFO:tensorflow:Assets written to: model_init_2023-05-1712_16_05.319674\\assets\n"
     ]
    },
    {
     "name": "stdout",
     "output_type": "stream",
     "text": [
      "17/17 [==============================] - 479s 28s/step - loss: 0.2235 - categorical_accuracy: 0.9457 - val_loss: 2.8970 - val_categorical_accuracy: 0.2400 - lr: 2.0000e-04\n",
      "Epoch 8/15\n",
      "\n",
      "Epoch 8: saving model to model_init_2023-05-1712_16_05.319674\\\n",
      "INFO:tensorflow:Assets written to: model_init_2023-05-1712_16_05.319674\\assets\n"
     ]
    },
    {
     "name": "stderr",
     "output_type": "stream",
     "text": [
      "INFO:tensorflow:Assets written to: model_init_2023-05-1712_16_05.319674\\assets\n"
     ]
    },
    {
     "name": "stdout",
     "output_type": "stream",
     "text": [
      " 1/17 [>.............................] - ETA: 7:25 - loss: 0.1432 - categorical_accuracy: 0.9500\n",
      "Epoch 8: saving model to model_init_2023-05-1712_16_05.319674\\\n",
      "INFO:tensorflow:Assets written to: model_init_2023-05-1712_16_05.319674\\assets\n"
     ]
    },
    {
     "name": "stderr",
     "output_type": "stream",
     "text": [
      "INFO:tensorflow:Assets written to: model_init_2023-05-1712_16_05.319674\\assets\n"
     ]
    },
    {
     "name": "stdout",
     "output_type": "stream",
     "text": [
      " 2/17 [==>...........................] - ETA: 6:58 - loss: 0.1286 - categorical_accuracy: 0.9750\n",
      "Epoch 8: saving model to model_init_2023-05-1712_16_05.319674\\\n",
      "INFO:tensorflow:Assets written to: model_init_2023-05-1712_16_05.319674\\assets\n"
     ]
    },
    {
     "name": "stderr",
     "output_type": "stream",
     "text": [
      "INFO:tensorflow:Assets written to: model_init_2023-05-1712_16_05.319674\\assets\n"
     ]
    },
    {
     "name": "stdout",
     "output_type": "stream",
     "text": [
      " 3/17 [====>.........................] - ETA: 6:31 - loss: 0.1497 - categorical_accuracy: 0.9583\n",
      "Epoch 8: saving model to model_init_2023-05-1712_16_05.319674\\\n",
      "INFO:tensorflow:Assets written to: model_init_2023-05-1712_16_05.319674\\assets\n"
     ]
    },
    {
     "name": "stderr",
     "output_type": "stream",
     "text": [
      "INFO:tensorflow:Assets written to: model_init_2023-05-1712_16_05.319674\\assets\n"
     ]
    },
    {
     "name": "stdout",
     "output_type": "stream",
     "text": [
      " 4/17 [======>.......................] - ETA: 6:02 - loss: 0.1488 - categorical_accuracy: 0.9625\n",
      "Epoch 8: saving model to model_init_2023-05-1712_16_05.319674\\\n",
      "INFO:tensorflow:Assets written to: model_init_2023-05-1712_16_05.319674\\assets\n"
     ]
    },
    {
     "name": "stderr",
     "output_type": "stream",
     "text": [
      "INFO:tensorflow:Assets written to: model_init_2023-05-1712_16_05.319674\\assets\n"
     ]
    },
    {
     "name": "stdout",
     "output_type": "stream",
     "text": [
      " 5/17 [=======>......................] - ETA: 5:34 - loss: 0.1386 - categorical_accuracy: 0.9700\n",
      "Epoch 8: saving model to model_init_2023-05-1712_16_05.319674\\\n",
      "INFO:tensorflow:Assets written to: model_init_2023-05-1712_16_05.319674\\assets\n"
     ]
    },
    {
     "name": "stderr",
     "output_type": "stream",
     "text": [
      "INFO:tensorflow:Assets written to: model_init_2023-05-1712_16_05.319674\\assets\n"
     ]
    },
    {
     "name": "stdout",
     "output_type": "stream",
     "text": [
      " 6/17 [=========>....................] - ETA: 5:06 - loss: 0.1354 - categorical_accuracy: 0.9708\n",
      "Epoch 8: saving model to model_init_2023-05-1712_16_05.319674\\\n",
      "INFO:tensorflow:Assets written to: model_init_2023-05-1712_16_05.319674\\assets\n"
     ]
    },
    {
     "name": "stderr",
     "output_type": "stream",
     "text": [
      "INFO:tensorflow:Assets written to: model_init_2023-05-1712_16_05.319674\\assets\n"
     ]
    },
    {
     "name": "stdout",
     "output_type": "stream",
     "text": [
      " 7/17 [===========>..................] - ETA: 4:38 - loss: 0.1380 - categorical_accuracy: 0.9714\n",
      "Epoch 8: saving model to model_init_2023-05-1712_16_05.319674\\\n",
      "INFO:tensorflow:Assets written to: model_init_2023-05-1712_16_05.319674\\assets\n"
     ]
    },
    {
     "name": "stderr",
     "output_type": "stream",
     "text": [
      "INFO:tensorflow:Assets written to: model_init_2023-05-1712_16_05.319674\\assets\n"
     ]
    },
    {
     "name": "stdout",
     "output_type": "stream",
     "text": [
      " 8/17 [=============>................] - ETA: 4:10 - loss: 0.1522 - categorical_accuracy: 0.9656\n",
      "Epoch 8: saving model to model_init_2023-05-1712_16_05.319674\\\n",
      "INFO:tensorflow:Assets written to: model_init_2023-05-1712_16_05.319674\\assets\n"
     ]
    },
    {
     "name": "stderr",
     "output_type": "stream",
     "text": [
      "INFO:tensorflow:Assets written to: model_init_2023-05-1712_16_05.319674\\assets\n"
     ]
    },
    {
     "name": "stdout",
     "output_type": "stream",
     "text": [
      " 9/17 [==============>...............] - ETA: 3:42 - loss: 0.1565 - categorical_accuracy: 0.9667\n",
      "Epoch 8: saving model to model_init_2023-05-1712_16_05.319674\\\n",
      "INFO:tensorflow:Assets written to: model_init_2023-05-1712_16_05.319674\\assets\n"
     ]
    },
    {
     "name": "stderr",
     "output_type": "stream",
     "text": [
      "INFO:tensorflow:Assets written to: model_init_2023-05-1712_16_05.319674\\assets\n"
     ]
    },
    {
     "name": "stdout",
     "output_type": "stream",
     "text": [
      "10/17 [================>.............] - ETA: 3:15 - loss: 0.1690 - categorical_accuracy: 0.9625\n",
      "Epoch 8: saving model to model_init_2023-05-1712_16_05.319674\\\n",
      "INFO:tensorflow:Assets written to: model_init_2023-05-1712_16_05.319674\\assets\n"
     ]
    },
    {
     "name": "stderr",
     "output_type": "stream",
     "text": [
      "INFO:tensorflow:Assets written to: model_init_2023-05-1712_16_05.319674\\assets\n"
     ]
    },
    {
     "name": "stdout",
     "output_type": "stream",
     "text": [
      "11/17 [==================>...........] - ETA: 2:47 - loss: 0.1787 - categorical_accuracy: 0.9591\n",
      "Epoch 8: saving model to model_init_2023-05-1712_16_05.319674\\\n",
      "INFO:tensorflow:Assets written to: model_init_2023-05-1712_16_05.319674\\assets\n"
     ]
    },
    {
     "name": "stderr",
     "output_type": "stream",
     "text": [
      "INFO:tensorflow:Assets written to: model_init_2023-05-1712_16_05.319674\\assets\n"
     ]
    },
    {
     "name": "stdout",
     "output_type": "stream",
     "text": [
      "12/17 [====================>.........] - ETA: 2:19 - loss: 0.1759 - categorical_accuracy: 0.9604\n",
      "Epoch 8: saving model to model_init_2023-05-1712_16_05.319674\\\n",
      "INFO:tensorflow:Assets written to: model_init_2023-05-1712_16_05.319674\\assets\n"
     ]
    },
    {
     "name": "stderr",
     "output_type": "stream",
     "text": [
      "INFO:tensorflow:Assets written to: model_init_2023-05-1712_16_05.319674\\assets\n"
     ]
    },
    {
     "name": "stdout",
     "output_type": "stream",
     "text": [
      "13/17 [=====================>........] - ETA: 1:51 - loss: 0.1698 - categorical_accuracy: 0.9635\n",
      "Epoch 8: saving model to model_init_2023-05-1712_16_05.319674\\\n",
      "INFO:tensorflow:Assets written to: model_init_2023-05-1712_16_05.319674\\assets\n"
     ]
    },
    {
     "name": "stderr",
     "output_type": "stream",
     "text": [
      "INFO:tensorflow:Assets written to: model_init_2023-05-1712_16_05.319674\\assets\n"
     ]
    },
    {
     "name": "stdout",
     "output_type": "stream",
     "text": [
      "14/17 [=======================>......] - ETA: 1:23 - loss: 0.1669 - categorical_accuracy: 0.9643\n",
      "Epoch 8: saving model to model_init_2023-05-1712_16_05.319674\\\n",
      "INFO:tensorflow:Assets written to: model_init_2023-05-1712_16_05.319674\\assets\n"
     ]
    },
    {
     "name": "stderr",
     "output_type": "stream",
     "text": [
      "INFO:tensorflow:Assets written to: model_init_2023-05-1712_16_05.319674\\assets\n"
     ]
    },
    {
     "name": "stdout",
     "output_type": "stream",
     "text": [
      "15/17 [=========================>....] - ETA: 55s - loss: 0.1693 - categorical_accuracy: 0.9617 \n",
      "Epoch 8: saving model to model_init_2023-05-1712_16_05.319674\\\n",
      "INFO:tensorflow:Assets written to: model_init_2023-05-1712_16_05.319674\\assets\n"
     ]
    },
    {
     "name": "stderr",
     "output_type": "stream",
     "text": [
      "INFO:tensorflow:Assets written to: model_init_2023-05-1712_16_05.319674\\assets\n"
     ]
    },
    {
     "name": "stdout",
     "output_type": "stream",
     "text": [
      "16/17 [===========================>..] - ETA: 27s - loss: 0.1679 - categorical_accuracy: 0.9625\n",
      "Epoch 8: saving model to model_init_2023-05-1712_16_05.319674\\\n",
      "INFO:tensorflow:Assets written to: model_init_2023-05-1712_16_05.319674\\assets\n"
     ]
    },
    {
     "name": "stderr",
     "output_type": "stream",
     "text": [
      "INFO:tensorflow:Assets written to: model_init_2023-05-1712_16_05.319674\\assets\n"
     ]
    },
    {
     "name": "stdout",
     "output_type": "stream",
     "text": [
      "17/17 [==============================] - 478s 28s/step - loss: 0.1706 - categorical_accuracy: 0.9593 - val_loss: 3.1712 - val_categorical_accuracy: 0.2600 - lr: 2.0000e-04\n",
      "Epoch 9/15\n",
      "\n",
      "Epoch 9: saving model to model_init_2023-05-1712_16_05.319674\\\n",
      "INFO:tensorflow:Assets written to: model_init_2023-05-1712_16_05.319674\\assets\n"
     ]
    },
    {
     "name": "stderr",
     "output_type": "stream",
     "text": [
      "INFO:tensorflow:Assets written to: model_init_2023-05-1712_16_05.319674\\assets\n"
     ]
    },
    {
     "name": "stdout",
     "output_type": "stream",
     "text": [
      " 1/17 [>.............................] - ETA: 7:27 - loss: 0.2684 - categorical_accuracy: 0.9500\n",
      "Epoch 9: saving model to model_init_2023-05-1712_16_05.319674\\\n",
      "INFO:tensorflow:Assets written to: model_init_2023-05-1712_16_05.319674\\assets\n"
     ]
    },
    {
     "name": "stderr",
     "output_type": "stream",
     "text": [
      "INFO:tensorflow:Assets written to: model_init_2023-05-1712_16_05.319674\\assets\n"
     ]
    },
    {
     "name": "stdout",
     "output_type": "stream",
     "text": [
      " 2/17 [==>...........................] - ETA: 6:56 - loss: 0.1971 - categorical_accuracy: 0.9625\n",
      "Epoch 9: saving model to model_init_2023-05-1712_16_05.319674\\\n",
      "INFO:tensorflow:Assets written to: model_init_2023-05-1712_16_05.319674\\assets\n"
     ]
    },
    {
     "name": "stderr",
     "output_type": "stream",
     "text": [
      "INFO:tensorflow:Assets written to: model_init_2023-05-1712_16_05.319674\\assets\n"
     ]
    },
    {
     "name": "stdout",
     "output_type": "stream",
     "text": [
      " 3/17 [====>.........................] - ETA: 6:31 - loss: 0.1926 - categorical_accuracy: 0.9750\n",
      "Epoch 9: saving model to model_init_2023-05-1712_16_05.319674\\\n",
      "INFO:tensorflow:Assets written to: model_init_2023-05-1712_16_05.319674\\assets\n"
     ]
    },
    {
     "name": "stderr",
     "output_type": "stream",
     "text": [
      "INFO:tensorflow:Assets written to: model_init_2023-05-1712_16_05.319674\\assets\n"
     ]
    },
    {
     "name": "stdout",
     "output_type": "stream",
     "text": [
      " 4/17 [======>.......................] - ETA: 6:03 - loss: 0.1774 - categorical_accuracy: 0.9750\n",
      "Epoch 9: saving model to model_init_2023-05-1712_16_05.319674\\\n",
      "INFO:tensorflow:Assets written to: model_init_2023-05-1712_16_05.319674\\assets\n"
     ]
    },
    {
     "name": "stderr",
     "output_type": "stream",
     "text": [
      "INFO:tensorflow:Assets written to: model_init_2023-05-1712_16_05.319674\\assets\n"
     ]
    },
    {
     "name": "stdout",
     "output_type": "stream",
     "text": [
      " 5/17 [=======>......................] - ETA: 5:34 - loss: 0.1764 - categorical_accuracy: 0.9750\n",
      "Epoch 9: saving model to model_init_2023-05-1712_16_05.319674\\\n",
      "INFO:tensorflow:Assets written to: model_init_2023-05-1712_16_05.319674\\assets\n"
     ]
    },
    {
     "name": "stderr",
     "output_type": "stream",
     "text": [
      "INFO:tensorflow:Assets written to: model_init_2023-05-1712_16_05.319674\\assets\n"
     ]
    },
    {
     "name": "stdout",
     "output_type": "stream",
     "text": [
      " 6/17 [=========>....................] - ETA: 5:07 - loss: 0.1686 - categorical_accuracy: 0.9750\n",
      "Epoch 9: saving model to model_init_2023-05-1712_16_05.319674\\\n",
      "INFO:tensorflow:Assets written to: model_init_2023-05-1712_16_05.319674\\assets\n"
     ]
    },
    {
     "name": "stderr",
     "output_type": "stream",
     "text": [
      "INFO:tensorflow:Assets written to: model_init_2023-05-1712_16_05.319674\\assets\n"
     ]
    },
    {
     "name": "stdout",
     "output_type": "stream",
     "text": [
      " 7/17 [===========>..................] - ETA: 4:38 - loss: 0.1678 - categorical_accuracy: 0.9714\n",
      "Epoch 9: saving model to model_init_2023-05-1712_16_05.319674\\\n",
      "INFO:tensorflow:Assets written to: model_init_2023-05-1712_16_05.319674\\assets\n"
     ]
    },
    {
     "name": "stderr",
     "output_type": "stream",
     "text": [
      "INFO:tensorflow:Assets written to: model_init_2023-05-1712_16_05.319674\\assets\n"
     ]
    },
    {
     "name": "stdout",
     "output_type": "stream",
     "text": [
      " 8/17 [=============>................] - ETA: 4:10 - loss: 0.1627 - categorical_accuracy: 0.9750\n",
      "Epoch 9: saving model to model_init_2023-05-1712_16_05.319674\\\n",
      "INFO:tensorflow:Assets written to: model_init_2023-05-1712_16_05.319674\\assets\n"
     ]
    },
    {
     "name": "stderr",
     "output_type": "stream",
     "text": [
      "INFO:tensorflow:Assets written to: model_init_2023-05-1712_16_05.319674\\assets\n"
     ]
    },
    {
     "name": "stdout",
     "output_type": "stream",
     "text": [
      " 9/17 [==============>...............] - ETA: 3:42 - loss: 0.1619 - categorical_accuracy: 0.9722\n",
      "Epoch 9: saving model to model_init_2023-05-1712_16_05.319674\\\n",
      "INFO:tensorflow:Assets written to: model_init_2023-05-1712_16_05.319674\\assets\n"
     ]
    },
    {
     "name": "stderr",
     "output_type": "stream",
     "text": [
      "INFO:tensorflow:Assets written to: model_init_2023-05-1712_16_05.319674\\assets\n"
     ]
    },
    {
     "name": "stdout",
     "output_type": "stream",
     "text": [
      "10/17 [================>.............] - ETA: 3:15 - loss: 0.1558 - categorical_accuracy: 0.9750\n",
      "Epoch 9: saving model to model_init_2023-05-1712_16_05.319674\\\n",
      "INFO:tensorflow:Assets written to: model_init_2023-05-1712_16_05.319674\\assets\n"
     ]
    },
    {
     "name": "stderr",
     "output_type": "stream",
     "text": [
      "INFO:tensorflow:Assets written to: model_init_2023-05-1712_16_05.319674\\assets\n"
     ]
    },
    {
     "name": "stdout",
     "output_type": "stream",
     "text": [
      "11/17 [==================>...........] - ETA: 2:47 - loss: 0.1577 - categorical_accuracy: 0.9705\n",
      "Epoch 9: saving model to model_init_2023-05-1712_16_05.319674\\\n",
      "INFO:tensorflow:Assets written to: model_init_2023-05-1712_16_05.319674\\assets\n"
     ]
    },
    {
     "name": "stderr",
     "output_type": "stream",
     "text": [
      "INFO:tensorflow:Assets written to: model_init_2023-05-1712_16_05.319674\\assets\n"
     ]
    },
    {
     "name": "stdout",
     "output_type": "stream",
     "text": [
      "12/17 [====================>.........] - ETA: 2:19 - loss: 0.1589 - categorical_accuracy: 0.9688\n",
      "Epoch 9: saving model to model_init_2023-05-1712_16_05.319674\\\n",
      "INFO:tensorflow:Assets written to: model_init_2023-05-1712_16_05.319674\\assets\n"
     ]
    },
    {
     "name": "stderr",
     "output_type": "stream",
     "text": [
      "INFO:tensorflow:Assets written to: model_init_2023-05-1712_16_05.319674\\assets\n"
     ]
    },
    {
     "name": "stdout",
     "output_type": "stream",
     "text": [
      "13/17 [=====================>........] - ETA: 1:51 - loss: 0.1546 - categorical_accuracy: 0.9692\n",
      "Epoch 9: saving model to model_init_2023-05-1712_16_05.319674\\\n",
      "INFO:tensorflow:Assets written to: model_init_2023-05-1712_16_05.319674\\assets\n"
     ]
    },
    {
     "name": "stderr",
     "output_type": "stream",
     "text": [
      "INFO:tensorflow:Assets written to: model_init_2023-05-1712_16_05.319674\\assets\n"
     ]
    },
    {
     "name": "stdout",
     "output_type": "stream",
     "text": [
      "14/17 [=======================>......] - ETA: 1:23 - loss: 0.1530 - categorical_accuracy: 0.9696\n",
      "Epoch 9: saving model to model_init_2023-05-1712_16_05.319674\\\n",
      "INFO:tensorflow:Assets written to: model_init_2023-05-1712_16_05.319674\\assets\n"
     ]
    },
    {
     "name": "stderr",
     "output_type": "stream",
     "text": [
      "INFO:tensorflow:Assets written to: model_init_2023-05-1712_16_05.319674\\assets\n"
     ]
    },
    {
     "name": "stdout",
     "output_type": "stream",
     "text": [
      "15/17 [=========================>....] - ETA: 55s - loss: 0.1542 - categorical_accuracy: 0.9667 \n",
      "Epoch 9: saving model to model_init_2023-05-1712_16_05.319674\\\n",
      "INFO:tensorflow:Assets written to: model_init_2023-05-1712_16_05.319674\\assets\n"
     ]
    },
    {
     "name": "stderr",
     "output_type": "stream",
     "text": [
      "INFO:tensorflow:Assets written to: model_init_2023-05-1712_16_05.319674\\assets\n"
     ]
    },
    {
     "name": "stdout",
     "output_type": "stream",
     "text": [
      "16/17 [===========================>..] - ETA: 27s - loss: 0.1518 - categorical_accuracy: 0.9688\n",
      "Epoch 9: saving model to model_init_2023-05-1712_16_05.319674\\\n",
      "INFO:tensorflow:Assets written to: model_init_2023-05-1712_16_05.319674\\assets\n"
     ]
    },
    {
     "name": "stderr",
     "output_type": "stream",
     "text": [
      "INFO:tensorflow:Assets written to: model_init_2023-05-1712_16_05.319674\\assets\n"
     ]
    },
    {
     "name": "stdout",
     "output_type": "stream",
     "text": [
      "17/17 [==============================] - ETA: 0s - loss: 0.1544 - categorical_accuracy: 0.9683 \n",
      "Epoch 9: ReduceLROnPlateau reducing learning rate to 4.0000001899898055e-05.\n",
      "17/17 [==============================] - 476s 28s/step - loss: 0.1544 - categorical_accuracy: 0.9683 - val_loss: 3.3946 - val_categorical_accuracy: 0.2400 - lr: 2.0000e-04\n",
      "Epoch 10/15\n",
      "\n",
      "Epoch 10: saving model to model_init_2023-05-1712_16_05.319674\\\n",
      "INFO:tensorflow:Assets written to: model_init_2023-05-1712_16_05.319674\\assets\n"
     ]
    },
    {
     "name": "stderr",
     "output_type": "stream",
     "text": [
      "INFO:tensorflow:Assets written to: model_init_2023-05-1712_16_05.319674\\assets\n"
     ]
    },
    {
     "name": "stdout",
     "output_type": "stream",
     "text": [
      " 1/17 [>.............................] - ETA: 7:26 - loss: 0.1518 - categorical_accuracy: 0.9750\n",
      "Epoch 10: saving model to model_init_2023-05-1712_16_05.319674\\\n",
      "INFO:tensorflow:Assets written to: model_init_2023-05-1712_16_05.319674\\assets\n"
     ]
    },
    {
     "name": "stderr",
     "output_type": "stream",
     "text": [
      "INFO:tensorflow:Assets written to: model_init_2023-05-1712_16_05.319674\\assets\n"
     ]
    },
    {
     "name": "stdout",
     "output_type": "stream",
     "text": [
      " 2/17 [==>...........................] - ETA: 6:58 - loss: 0.1190 - categorical_accuracy: 0.9875\n",
      "Epoch 10: saving model to model_init_2023-05-1712_16_05.319674\\\n",
      "INFO:tensorflow:Assets written to: model_init_2023-05-1712_16_05.319674\\assets\n"
     ]
    },
    {
     "name": "stderr",
     "output_type": "stream",
     "text": [
      "INFO:tensorflow:Assets written to: model_init_2023-05-1712_16_05.319674\\assets\n"
     ]
    },
    {
     "name": "stdout",
     "output_type": "stream",
     "text": [
      " 3/17 [====>.........................] - ETA: 6:29 - loss: 0.1191 - categorical_accuracy: 0.9917\n",
      "Epoch 10: saving model to model_init_2023-05-1712_16_05.319674\\\n",
      "INFO:tensorflow:Assets written to: model_init_2023-05-1712_16_05.319674\\assets\n"
     ]
    },
    {
     "name": "stderr",
     "output_type": "stream",
     "text": [
      "INFO:tensorflow:Assets written to: model_init_2023-05-1712_16_05.319674\\assets\n"
     ]
    },
    {
     "name": "stdout",
     "output_type": "stream",
     "text": [
      " 4/17 [======>.......................] - ETA: 6:02 - loss: 0.1202 - categorical_accuracy: 0.9937\n",
      "Epoch 10: saving model to model_init_2023-05-1712_16_05.319674\\\n",
      "INFO:tensorflow:Assets written to: model_init_2023-05-1712_16_05.319674\\assets\n"
     ]
    },
    {
     "name": "stderr",
     "output_type": "stream",
     "text": [
      "INFO:tensorflow:Assets written to: model_init_2023-05-1712_16_05.319674\\assets\n"
     ]
    },
    {
     "name": "stdout",
     "output_type": "stream",
     "text": [
      " 5/17 [=======>......................] - ETA: 5:34 - loss: 0.1206 - categorical_accuracy: 0.9900\n",
      "Epoch 10: saving model to model_init_2023-05-1712_16_05.319674\\\n",
      "INFO:tensorflow:Assets written to: model_init_2023-05-1712_16_05.319674\\assets\n"
     ]
    },
    {
     "name": "stderr",
     "output_type": "stream",
     "text": [
      "INFO:tensorflow:Assets written to: model_init_2023-05-1712_16_05.319674\\assets\n"
     ]
    },
    {
     "name": "stdout",
     "output_type": "stream",
     "text": [
      " 6/17 [=========>....................] - ETA: 5:06 - loss: 0.1119 - categorical_accuracy: 0.9917\n",
      "Epoch 10: saving model to model_init_2023-05-1712_16_05.319674\\\n",
      "INFO:tensorflow:Assets written to: model_init_2023-05-1712_16_05.319674\\assets\n"
     ]
    },
    {
     "name": "stderr",
     "output_type": "stream",
     "text": [
      "INFO:tensorflow:Assets written to: model_init_2023-05-1712_16_05.319674\\assets\n"
     ]
    },
    {
     "name": "stdout",
     "output_type": "stream",
     "text": [
      " 7/17 [===========>..................] - ETA: 4:38 - loss: 0.1125 - categorical_accuracy: 0.9893\n",
      "Epoch 10: saving model to model_init_2023-05-1712_16_05.319674\\\n",
      "INFO:tensorflow:Assets written to: model_init_2023-05-1712_16_05.319674\\assets\n"
     ]
    },
    {
     "name": "stderr",
     "output_type": "stream",
     "text": [
      "INFO:tensorflow:Assets written to: model_init_2023-05-1712_16_05.319674\\assets\n"
     ]
    },
    {
     "name": "stdout",
     "output_type": "stream",
     "text": [
      " 8/17 [=============>................] - ETA: 4:10 - loss: 0.1086 - categorical_accuracy: 0.9906\n",
      "Epoch 10: saving model to model_init_2023-05-1712_16_05.319674\\\n",
      "INFO:tensorflow:Assets written to: model_init_2023-05-1712_16_05.319674\\assets\n"
     ]
    },
    {
     "name": "stderr",
     "output_type": "stream",
     "text": [
      "INFO:tensorflow:Assets written to: model_init_2023-05-1712_16_05.319674\\assets\n"
     ]
    },
    {
     "name": "stdout",
     "output_type": "stream",
     "text": [
      " 9/17 [==============>...............] - ETA: 3:42 - loss: 0.1098 - categorical_accuracy: 0.9889\n",
      "Epoch 10: saving model to model_init_2023-05-1712_16_05.319674\\\n",
      "INFO:tensorflow:Assets written to: model_init_2023-05-1712_16_05.319674\\assets\n"
     ]
    },
    {
     "name": "stderr",
     "output_type": "stream",
     "text": [
      "INFO:tensorflow:Assets written to: model_init_2023-05-1712_16_05.319674\\assets\n"
     ]
    },
    {
     "name": "stdout",
     "output_type": "stream",
     "text": [
      "10/17 [================>.............] - ETA: 3:14 - loss: 0.1115 - categorical_accuracy: 0.9875\n",
      "Epoch 10: saving model to model_init_2023-05-1712_16_05.319674\\\n",
      "INFO:tensorflow:Assets written to: model_init_2023-05-1712_16_05.319674\\assets\n"
     ]
    },
    {
     "name": "stderr",
     "output_type": "stream",
     "text": [
      "INFO:tensorflow:Assets written to: model_init_2023-05-1712_16_05.319674\\assets\n"
     ]
    },
    {
     "name": "stdout",
     "output_type": "stream",
     "text": [
      "11/17 [==================>...........] - ETA: 2:47 - loss: 0.1080 - categorical_accuracy: 0.9886\n",
      "Epoch 10: saving model to model_init_2023-05-1712_16_05.319674\\\n",
      "INFO:tensorflow:Assets written to: model_init_2023-05-1712_16_05.319674\\assets\n"
     ]
    },
    {
     "name": "stderr",
     "output_type": "stream",
     "text": [
      "INFO:tensorflow:Assets written to: model_init_2023-05-1712_16_05.319674\\assets\n"
     ]
    },
    {
     "name": "stdout",
     "output_type": "stream",
     "text": [
      "12/17 [====================>.........] - ETA: 2:19 - loss: 0.1081 - categorical_accuracy: 0.9875\n",
      "Epoch 10: saving model to model_init_2023-05-1712_16_05.319674\\\n",
      "INFO:tensorflow:Assets written to: model_init_2023-05-1712_16_05.319674\\assets\n"
     ]
    },
    {
     "name": "stderr",
     "output_type": "stream",
     "text": [
      "INFO:tensorflow:Assets written to: model_init_2023-05-1712_16_05.319674\\assets\n"
     ]
    },
    {
     "name": "stdout",
     "output_type": "stream",
     "text": [
      "13/17 [=====================>........] - ETA: 1:51 - loss: 0.1098 - categorical_accuracy: 0.9846\n",
      "Epoch 10: saving model to model_init_2023-05-1712_16_05.319674\\\n",
      "INFO:tensorflow:Assets written to: model_init_2023-05-1712_16_05.319674\\assets\n"
     ]
    },
    {
     "name": "stderr",
     "output_type": "stream",
     "text": [
      "INFO:tensorflow:Assets written to: model_init_2023-05-1712_16_05.319674\\assets\n"
     ]
    },
    {
     "name": "stdout",
     "output_type": "stream",
     "text": [
      "14/17 [=======================>......] - ETA: 1:23 - loss: 0.1093 - categorical_accuracy: 0.9857\n",
      "Epoch 10: saving model to model_init_2023-05-1712_16_05.319674\\\n",
      "INFO:tensorflow:Assets written to: model_init_2023-05-1712_16_05.319674\\assets\n"
     ]
    },
    {
     "name": "stderr",
     "output_type": "stream",
     "text": [
      "INFO:tensorflow:Assets written to: model_init_2023-05-1712_16_05.319674\\assets\n"
     ]
    },
    {
     "name": "stdout",
     "output_type": "stream",
     "text": [
      "15/17 [=========================>....] - ETA: 55s - loss: 0.1145 - categorical_accuracy: 0.9833 \n",
      "Epoch 10: saving model to model_init_2023-05-1712_16_05.319674\\\n",
      "INFO:tensorflow:Assets written to: model_init_2023-05-1712_16_05.319674\\assets\n"
     ]
    },
    {
     "name": "stderr",
     "output_type": "stream",
     "text": [
      "INFO:tensorflow:Assets written to: model_init_2023-05-1712_16_05.319674\\assets\n"
     ]
    },
    {
     "name": "stdout",
     "output_type": "stream",
     "text": [
      "16/17 [===========================>..] - ETA: 27s - loss: 0.1160 - categorical_accuracy: 0.9844\n",
      "Epoch 10: saving model to model_init_2023-05-1712_16_05.319674\\\n",
      "INFO:tensorflow:Assets written to: model_init_2023-05-1712_16_05.319674\\assets\n"
     ]
    },
    {
     "name": "stderr",
     "output_type": "stream",
     "text": [
      "INFO:tensorflow:Assets written to: model_init_2023-05-1712_16_05.319674\\assets\n"
     ]
    },
    {
     "name": "stdout",
     "output_type": "stream",
     "text": [
      "17/17 [==============================] - 476s 28s/step - loss: 0.1152 - categorical_accuracy: 0.9849 - val_loss: 3.5717 - val_categorical_accuracy: 0.2400 - lr: 4.0000e-05\n",
      "Epoch 11/15\n",
      "\n",
      "Epoch 11: saving model to model_init_2023-05-1712_16_05.319674\\\n",
      "INFO:tensorflow:Assets written to: model_init_2023-05-1712_16_05.319674\\assets\n"
     ]
    },
    {
     "name": "stderr",
     "output_type": "stream",
     "text": [
      "INFO:tensorflow:Assets written to: model_init_2023-05-1712_16_05.319674\\assets\n"
     ]
    },
    {
     "name": "stdout",
     "output_type": "stream",
     "text": [
      " 1/17 [>.............................] - ETA: 7:27 - loss: 0.1492 - categorical_accuracy: 0.9750\n",
      "Epoch 11: saving model to model_init_2023-05-1712_16_05.319674\\\n",
      "INFO:tensorflow:Assets written to: model_init_2023-05-1712_16_05.319674\\assets\n"
     ]
    },
    {
     "name": "stderr",
     "output_type": "stream",
     "text": [
      "INFO:tensorflow:Assets written to: model_init_2023-05-1712_16_05.319674\\assets\n"
     ]
    },
    {
     "name": "stdout",
     "output_type": "stream",
     "text": [
      " 2/17 [==>...........................] - ETA: 6:59 - loss: 0.1214 - categorical_accuracy: 0.9750\n",
      "Epoch 11: saving model to model_init_2023-05-1712_16_05.319674\\\n",
      "INFO:tensorflow:Assets written to: model_init_2023-05-1712_16_05.319674\\assets\n"
     ]
    },
    {
     "name": "stderr",
     "output_type": "stream",
     "text": [
      "INFO:tensorflow:Assets written to: model_init_2023-05-1712_16_05.319674\\assets\n"
     ]
    },
    {
     "name": "stdout",
     "output_type": "stream",
     "text": [
      " 3/17 [====>.........................] - ETA: 6:30 - loss: 0.1121 - categorical_accuracy: 0.9833\n",
      "Epoch 11: saving model to model_init_2023-05-1712_16_05.319674\\\n",
      "INFO:tensorflow:Assets written to: model_init_2023-05-1712_16_05.319674\\assets\n"
     ]
    },
    {
     "name": "stderr",
     "output_type": "stream",
     "text": [
      "INFO:tensorflow:Assets written to: model_init_2023-05-1712_16_05.319674\\assets\n"
     ]
    },
    {
     "name": "stdout",
     "output_type": "stream",
     "text": [
      " 4/17 [======>.......................] - ETA: 6:02 - loss: 0.1018 - categorical_accuracy: 0.9875\n",
      "Epoch 11: saving model to model_init_2023-05-1712_16_05.319674\\\n",
      "INFO:tensorflow:Assets written to: model_init_2023-05-1712_16_05.319674\\assets\n"
     ]
    },
    {
     "name": "stderr",
     "output_type": "stream",
     "text": [
      "INFO:tensorflow:Assets written to: model_init_2023-05-1712_16_05.319674\\assets\n"
     ]
    },
    {
     "name": "stdout",
     "output_type": "stream",
     "text": [
      " 5/17 [=======>......................] - ETA: 5:34 - loss: 0.0968 - categorical_accuracy: 0.9900\n",
      "Epoch 11: saving model to model_init_2023-05-1712_16_05.319674\\\n",
      "INFO:tensorflow:Assets written to: model_init_2023-05-1712_16_05.319674\\assets\n"
     ]
    },
    {
     "name": "stderr",
     "output_type": "stream",
     "text": [
      "INFO:tensorflow:Assets written to: model_init_2023-05-1712_16_05.319674\\assets\n"
     ]
    },
    {
     "name": "stdout",
     "output_type": "stream",
     "text": [
      " 6/17 [=========>....................] - ETA: 5:06 - loss: 0.0934 - categorical_accuracy: 0.9875\n",
      "Epoch 11: saving model to model_init_2023-05-1712_16_05.319674\\\n",
      "INFO:tensorflow:Assets written to: model_init_2023-05-1712_16_05.319674\\assets\n"
     ]
    },
    {
     "name": "stderr",
     "output_type": "stream",
     "text": [
      "INFO:tensorflow:Assets written to: model_init_2023-05-1712_16_05.319674\\assets\n"
     ]
    },
    {
     "name": "stdout",
     "output_type": "stream",
     "text": [
      " 7/17 [===========>..................] - ETA: 4:38 - loss: 0.1000 - categorical_accuracy: 0.9857\n",
      "Epoch 11: saving model to model_init_2023-05-1712_16_05.319674\\\n",
      "INFO:tensorflow:Assets written to: model_init_2023-05-1712_16_05.319674\\assets\n"
     ]
    },
    {
     "name": "stderr",
     "output_type": "stream",
     "text": [
      "INFO:tensorflow:Assets written to: model_init_2023-05-1712_16_05.319674\\assets\n"
     ]
    },
    {
     "name": "stdout",
     "output_type": "stream",
     "text": [
      " 8/17 [=============>................] - ETA: 4:10 - loss: 0.1040 - categorical_accuracy: 0.9844\n",
      "Epoch 11: saving model to model_init_2023-05-1712_16_05.319674\\\n",
      "INFO:tensorflow:Assets written to: model_init_2023-05-1712_16_05.319674\\assets\n"
     ]
    },
    {
     "name": "stderr",
     "output_type": "stream",
     "text": [
      "INFO:tensorflow:Assets written to: model_init_2023-05-1712_16_05.319674\\assets\n"
     ]
    },
    {
     "name": "stdout",
     "output_type": "stream",
     "text": [
      " 9/17 [==============>...............] - ETA: 3:42 - loss: 0.1061 - categorical_accuracy: 0.9833\n",
      "Epoch 11: saving model to model_init_2023-05-1712_16_05.319674\\\n",
      "INFO:tensorflow:Assets written to: model_init_2023-05-1712_16_05.319674\\assets\n"
     ]
    },
    {
     "name": "stderr",
     "output_type": "stream",
     "text": [
      "INFO:tensorflow:Assets written to: model_init_2023-05-1712_16_05.319674\\assets\n"
     ]
    },
    {
     "name": "stdout",
     "output_type": "stream",
     "text": [
      "10/17 [================>.............] - ETA: 3:14 - loss: 0.1065 - categorical_accuracy: 0.9825\n",
      "Epoch 11: saving model to model_init_2023-05-1712_16_05.319674\\\n",
      "INFO:tensorflow:Assets written to: model_init_2023-05-1712_16_05.319674\\assets\n"
     ]
    },
    {
     "name": "stderr",
     "output_type": "stream",
     "text": [
      "INFO:tensorflow:Assets written to: model_init_2023-05-1712_16_05.319674\\assets\n"
     ]
    },
    {
     "name": "stdout",
     "output_type": "stream",
     "text": [
      "11/17 [==================>...........] - ETA: 2:46 - loss: 0.1046 - categorical_accuracy: 0.9841\n",
      "Epoch 11: saving model to model_init_2023-05-1712_16_05.319674\\\n",
      "INFO:tensorflow:Assets written to: model_init_2023-05-1712_16_05.319674\\assets\n"
     ]
    },
    {
     "name": "stderr",
     "output_type": "stream",
     "text": [
      "INFO:tensorflow:Assets written to: model_init_2023-05-1712_16_05.319674\\assets\n"
     ]
    },
    {
     "name": "stdout",
     "output_type": "stream",
     "text": [
      "12/17 [====================>.........] - ETA: 2:18 - loss: 0.1140 - categorical_accuracy: 0.9833\n",
      "Epoch 11: saving model to model_init_2023-05-1712_16_05.319674\\\n",
      "INFO:tensorflow:Assets written to: model_init_2023-05-1712_16_05.319674\\assets\n"
     ]
    },
    {
     "name": "stderr",
     "output_type": "stream",
     "text": [
      "INFO:tensorflow:Assets written to: model_init_2023-05-1712_16_05.319674\\assets\n"
     ]
    },
    {
     "name": "stdout",
     "output_type": "stream",
     "text": [
      "13/17 [=====================>........] - ETA: 1:51 - loss: 0.1143 - categorical_accuracy: 0.9827\n",
      "Epoch 11: saving model to model_init_2023-05-1712_16_05.319674\\\n",
      "INFO:tensorflow:Assets written to: model_init_2023-05-1712_16_05.319674\\assets\n"
     ]
    },
    {
     "name": "stderr",
     "output_type": "stream",
     "text": [
      "INFO:tensorflow:Assets written to: model_init_2023-05-1712_16_05.319674\\assets\n"
     ]
    },
    {
     "name": "stdout",
     "output_type": "stream",
     "text": [
      "14/17 [=======================>......] - ETA: 1:23 - loss: 0.1128 - categorical_accuracy: 0.9839\n",
      "Epoch 11: saving model to model_init_2023-05-1712_16_05.319674\\\n",
      "INFO:tensorflow:Assets written to: model_init_2023-05-1712_16_05.319674\\assets\n"
     ]
    },
    {
     "name": "stderr",
     "output_type": "stream",
     "text": [
      "INFO:tensorflow:Assets written to: model_init_2023-05-1712_16_05.319674\\assets\n"
     ]
    },
    {
     "name": "stdout",
     "output_type": "stream",
     "text": [
      "15/17 [=========================>....] - ETA: 55s - loss: 0.1114 - categorical_accuracy: 0.9833 \n",
      "Epoch 11: saving model to model_init_2023-05-1712_16_05.319674\\\n",
      "INFO:tensorflow:Assets written to: model_init_2023-05-1712_16_05.319674\\assets\n"
     ]
    },
    {
     "name": "stderr",
     "output_type": "stream",
     "text": [
      "INFO:tensorflow:Assets written to: model_init_2023-05-1712_16_05.319674\\assets\n"
     ]
    },
    {
     "name": "stdout",
     "output_type": "stream",
     "text": [
      "16/17 [===========================>..] - ETA: 27s - loss: 0.1138 - categorical_accuracy: 0.9812\n",
      "Epoch 11: saving model to model_init_2023-05-1712_16_05.319674\\\n",
      "INFO:tensorflow:Assets written to: model_init_2023-05-1712_16_05.319674\\assets\n"
     ]
    },
    {
     "name": "stderr",
     "output_type": "stream",
     "text": [
      "INFO:tensorflow:Assets written to: model_init_2023-05-1712_16_05.319674\\assets\n"
     ]
    },
    {
     "name": "stdout",
     "output_type": "stream",
     "text": [
      "17/17 [==============================] - 476s 28s/step - loss: 0.1147 - categorical_accuracy: 0.9819 - val_loss: 4.0114 - val_categorical_accuracy: 0.1700 - lr: 4.0000e-05\n",
      "Epoch 12/15\n",
      "\n",
      "Epoch 12: saving model to model_init_2023-05-1712_16_05.319674\\\n",
      "INFO:tensorflow:Assets written to: model_init_2023-05-1712_16_05.319674\\assets\n"
     ]
    },
    {
     "name": "stderr",
     "output_type": "stream",
     "text": [
      "INFO:tensorflow:Assets written to: model_init_2023-05-1712_16_05.319674\\assets\n"
     ]
    },
    {
     "name": "stdout",
     "output_type": "stream",
     "text": [
      " 1/17 [>.............................] - ETA: 7:36 - loss: 0.1148 - categorical_accuracy: 1.0000\n",
      "Epoch 12: saving model to model_init_2023-05-1712_16_05.319674\\\n",
      "INFO:tensorflow:Assets written to: model_init_2023-05-1712_16_05.319674\\assets\n"
     ]
    },
    {
     "name": "stderr",
     "output_type": "stream",
     "text": [
      "INFO:tensorflow:Assets written to: model_init_2023-05-1712_16_05.319674\\assets\n"
     ]
    },
    {
     "name": "stdout",
     "output_type": "stream",
     "text": [
      " 2/17 [==>...........................] - ETA: 6:58 - loss: 0.1093 - categorical_accuracy: 1.0000\n",
      "Epoch 12: saving model to model_init_2023-05-1712_16_05.319674\\\n",
      "INFO:tensorflow:Assets written to: model_init_2023-05-1712_16_05.319674\\assets\n"
     ]
    },
    {
     "name": "stderr",
     "output_type": "stream",
     "text": [
      "INFO:tensorflow:Assets written to: model_init_2023-05-1712_16_05.319674\\assets\n"
     ]
    },
    {
     "name": "stdout",
     "output_type": "stream",
     "text": [
      " 3/17 [====>.........................] - ETA: 6:29 - loss: 0.1133 - categorical_accuracy: 0.9917\n",
      "Epoch 12: saving model to model_init_2023-05-1712_16_05.319674\\\n",
      "INFO:tensorflow:Assets written to: model_init_2023-05-1712_16_05.319674\\assets\n"
     ]
    },
    {
     "name": "stderr",
     "output_type": "stream",
     "text": [
      "INFO:tensorflow:Assets written to: model_init_2023-05-1712_16_05.319674\\assets\n"
     ]
    },
    {
     "name": "stdout",
     "output_type": "stream",
     "text": [
      " 4/17 [======>.......................] - ETA: 6:02 - loss: 0.1242 - categorical_accuracy: 0.9812\n",
      "Epoch 12: saving model to model_init_2023-05-1712_16_05.319674\\\n",
      "INFO:tensorflow:Assets written to: model_init_2023-05-1712_16_05.319674\\assets\n"
     ]
    },
    {
     "name": "stderr",
     "output_type": "stream",
     "text": [
      "INFO:tensorflow:Assets written to: model_init_2023-05-1712_16_05.319674\\assets\n"
     ]
    },
    {
     "name": "stdout",
     "output_type": "stream",
     "text": [
      " 5/17 [=======>......................] - ETA: 5:34 - loss: 0.1240 - categorical_accuracy: 0.9750\n",
      "Epoch 12: saving model to model_init_2023-05-1712_16_05.319674\\\n",
      "INFO:tensorflow:Assets written to: model_init_2023-05-1712_16_05.319674\\assets\n"
     ]
    },
    {
     "name": "stderr",
     "output_type": "stream",
     "text": [
      "INFO:tensorflow:Assets written to: model_init_2023-05-1712_16_05.319674\\assets\n"
     ]
    },
    {
     "name": "stdout",
     "output_type": "stream",
     "text": [
      " 6/17 [=========>....................] - ETA: 5:06 - loss: 0.1208 - categorical_accuracy: 0.9792\n",
      "Epoch 12: saving model to model_init_2023-05-1712_16_05.319674\\\n",
      "INFO:tensorflow:Assets written to: model_init_2023-05-1712_16_05.319674\\assets\n"
     ]
    },
    {
     "name": "stderr",
     "output_type": "stream",
     "text": [
      "INFO:tensorflow:Assets written to: model_init_2023-05-1712_16_05.319674\\assets\n"
     ]
    },
    {
     "name": "stdout",
     "output_type": "stream",
     "text": [
      " 7/17 [===========>..................] - ETA: 4:39 - loss: 0.1142 - categorical_accuracy: 0.9821\n",
      "Epoch 12: saving model to model_init_2023-05-1712_16_05.319674\\\n",
      "INFO:tensorflow:Assets written to: model_init_2023-05-1712_16_05.319674\\assets\n"
     ]
    },
    {
     "name": "stderr",
     "output_type": "stream",
     "text": [
      "INFO:tensorflow:Assets written to: model_init_2023-05-1712_16_05.319674\\assets\n"
     ]
    },
    {
     "name": "stdout",
     "output_type": "stream",
     "text": [
      " 8/17 [=============>................] - ETA: 4:11 - loss: 0.1135 - categorical_accuracy: 0.9844\n",
      "Epoch 12: saving model to model_init_2023-05-1712_16_05.319674\\\n",
      "INFO:tensorflow:Assets written to: model_init_2023-05-1712_16_05.319674\\assets\n"
     ]
    },
    {
     "name": "stderr",
     "output_type": "stream",
     "text": [
      "INFO:tensorflow:Assets written to: model_init_2023-05-1712_16_05.319674\\assets\n"
     ]
    },
    {
     "name": "stdout",
     "output_type": "stream",
     "text": [
      " 9/17 [==============>...............] - ETA: 3:42 - loss: 0.1187 - categorical_accuracy: 0.9833\n",
      "Epoch 12: saving model to model_init_2023-05-1712_16_05.319674\\\n",
      "INFO:tensorflow:Assets written to: model_init_2023-05-1712_16_05.319674\\assets\n"
     ]
    },
    {
     "name": "stderr",
     "output_type": "stream",
     "text": [
      "INFO:tensorflow:Assets written to: model_init_2023-05-1712_16_05.319674\\assets\n"
     ]
    },
    {
     "name": "stdout",
     "output_type": "stream",
     "text": [
      "10/17 [================>.............] - ETA: 3:15 - loss: 0.1146 - categorical_accuracy: 0.9825\n",
      "Epoch 12: saving model to model_init_2023-05-1712_16_05.319674\\\n",
      "INFO:tensorflow:Assets written to: model_init_2023-05-1712_16_05.319674\\assets\n"
     ]
    },
    {
     "name": "stderr",
     "output_type": "stream",
     "text": [
      "INFO:tensorflow:Assets written to: model_init_2023-05-1712_16_05.319674\\assets\n"
     ]
    },
    {
     "name": "stdout",
     "output_type": "stream",
     "text": [
      "11/17 [==================>...........] - ETA: 2:47 - loss: 0.1131 - categorical_accuracy: 0.9841\n",
      "Epoch 12: saving model to model_init_2023-05-1712_16_05.319674\\\n",
      "INFO:tensorflow:Assets written to: model_init_2023-05-1712_16_05.319674\\assets\n"
     ]
    },
    {
     "name": "stderr",
     "output_type": "stream",
     "text": [
      "INFO:tensorflow:Assets written to: model_init_2023-05-1712_16_05.319674\\assets\n"
     ]
    },
    {
     "name": "stdout",
     "output_type": "stream",
     "text": [
      "12/17 [====================>.........] - ETA: 2:19 - loss: 0.1090 - categorical_accuracy: 0.9854\n",
      "Epoch 12: saving model to model_init_2023-05-1712_16_05.319674\\\n",
      "INFO:tensorflow:Assets written to: model_init_2023-05-1712_16_05.319674\\assets\n"
     ]
    },
    {
     "name": "stderr",
     "output_type": "stream",
     "text": [
      "INFO:tensorflow:Assets written to: model_init_2023-05-1712_16_05.319674\\assets\n"
     ]
    },
    {
     "name": "stdout",
     "output_type": "stream",
     "text": [
      "13/17 [=====================>........] - ETA: 1:51 - loss: 0.1133 - categorical_accuracy: 0.9827\n",
      "Epoch 12: saving model to model_init_2023-05-1712_16_05.319674\\\n",
      "INFO:tensorflow:Assets written to: model_init_2023-05-1712_16_05.319674\\assets\n"
     ]
    },
    {
     "name": "stderr",
     "output_type": "stream",
     "text": [
      "INFO:tensorflow:Assets written to: model_init_2023-05-1712_16_05.319674\\assets\n"
     ]
    },
    {
     "name": "stdout",
     "output_type": "stream",
     "text": [
      "14/17 [=======================>......] - ETA: 1:23 - loss: 0.1144 - categorical_accuracy: 0.9839\n",
      "Epoch 12: saving model to model_init_2023-05-1712_16_05.319674\\\n",
      "INFO:tensorflow:Assets written to: model_init_2023-05-1712_16_05.319674\\assets\n"
     ]
    },
    {
     "name": "stderr",
     "output_type": "stream",
     "text": [
      "INFO:tensorflow:Assets written to: model_init_2023-05-1712_16_05.319674\\assets\n"
     ]
    },
    {
     "name": "stdout",
     "output_type": "stream",
     "text": [
      "15/17 [=========================>....] - ETA: 55s - loss: 0.1143 - categorical_accuracy: 0.9850 \n",
      "Epoch 12: saving model to model_init_2023-05-1712_16_05.319674\\\n",
      "INFO:tensorflow:Assets written to: model_init_2023-05-1712_16_05.319674\\assets\n"
     ]
    },
    {
     "name": "stderr",
     "output_type": "stream",
     "text": [
      "INFO:tensorflow:Assets written to: model_init_2023-05-1712_16_05.319674\\assets\n"
     ]
    },
    {
     "name": "stdout",
     "output_type": "stream",
     "text": [
      "16/17 [===========================>..] - ETA: 27s - loss: 0.1218 - categorical_accuracy: 0.9828\n",
      "Epoch 12: saving model to model_init_2023-05-1712_16_05.319674\\\n",
      "INFO:tensorflow:Assets written to: model_init_2023-05-1712_16_05.319674\\assets\n"
     ]
    },
    {
     "name": "stderr",
     "output_type": "stream",
     "text": [
      "INFO:tensorflow:Assets written to: model_init_2023-05-1712_16_05.319674\\assets\n"
     ]
    },
    {
     "name": "stdout",
     "output_type": "stream",
     "text": [
      "17/17 [==============================] - 476s 28s/step - loss: 0.1216 - categorical_accuracy: 0.9834 - val_loss: 3.7560 - val_categorical_accuracy: 0.2100 - lr: 4.0000e-05\n",
      "Epoch 13/15\n",
      "\n",
      "Epoch 13: saving model to model_init_2023-05-1712_16_05.319674\\\n",
      "INFO:tensorflow:Assets written to: model_init_2023-05-1712_16_05.319674\\assets\n"
     ]
    },
    {
     "name": "stderr",
     "output_type": "stream",
     "text": [
      "INFO:tensorflow:Assets written to: model_init_2023-05-1712_16_05.319674\\assets\n"
     ]
    },
    {
     "name": "stdout",
     "output_type": "stream",
     "text": [
      " 1/17 [>.............................] - ETA: 7:23 - loss: 0.0860 - categorical_accuracy: 1.0000\n",
      "Epoch 13: saving model to model_init_2023-05-1712_16_05.319674\\\n",
      "INFO:tensorflow:Assets written to: model_init_2023-05-1712_16_05.319674\\assets\n"
     ]
    },
    {
     "name": "stderr",
     "output_type": "stream",
     "text": [
      "INFO:tensorflow:Assets written to: model_init_2023-05-1712_16_05.319674\\assets\n"
     ]
    },
    {
     "name": "stdout",
     "output_type": "stream",
     "text": [
      " 2/17 [==>...........................] - ETA: 6:54 - loss: 0.0990 - categorical_accuracy: 1.0000\n",
      "Epoch 13: saving model to model_init_2023-05-1712_16_05.319674\\\n",
      "INFO:tensorflow:Assets written to: model_init_2023-05-1712_16_05.319674\\assets\n"
     ]
    },
    {
     "name": "stderr",
     "output_type": "stream",
     "text": [
      "INFO:tensorflow:Assets written to: model_init_2023-05-1712_16_05.319674\\assets\n"
     ]
    },
    {
     "name": "stdout",
     "output_type": "stream",
     "text": [
      " 3/17 [====>.........................] - ETA: 6:28 - loss: 0.0919 - categorical_accuracy: 1.0000\n",
      "Epoch 13: saving model to model_init_2023-05-1712_16_05.319674\\\n",
      "INFO:tensorflow:Assets written to: model_init_2023-05-1712_16_05.319674\\assets\n"
     ]
    },
    {
     "name": "stderr",
     "output_type": "stream",
     "text": [
      "INFO:tensorflow:Assets written to: model_init_2023-05-1712_16_05.319674\\assets\n"
     ]
    },
    {
     "name": "stdout",
     "output_type": "stream",
     "text": [
      " 4/17 [======>.......................] - ETA: 6:01 - loss: 0.1271 - categorical_accuracy: 0.9812\n",
      "Epoch 13: saving model to model_init_2023-05-1712_16_05.319674\\\n",
      "INFO:tensorflow:Assets written to: model_init_2023-05-1712_16_05.319674\\assets\n"
     ]
    },
    {
     "name": "stderr",
     "output_type": "stream",
     "text": [
      "INFO:tensorflow:Assets written to: model_init_2023-05-1712_16_05.319674\\assets\n"
     ]
    },
    {
     "name": "stdout",
     "output_type": "stream",
     "text": [
      " 5/17 [=======>......................] - ETA: 5:33 - loss: 0.1286 - categorical_accuracy: 0.9850\n",
      "Epoch 13: saving model to model_init_2023-05-1712_16_05.319674\\\n",
      "INFO:tensorflow:Assets written to: model_init_2023-05-1712_16_05.319674\\assets\n"
     ]
    },
    {
     "name": "stderr",
     "output_type": "stream",
     "text": [
      "INFO:tensorflow:Assets written to: model_init_2023-05-1712_16_05.319674\\assets\n"
     ]
    },
    {
     "name": "stdout",
     "output_type": "stream",
     "text": [
      " 6/17 [=========>....................] - ETA: 5:05 - loss: 0.1251 - categorical_accuracy: 0.9833\n",
      "Epoch 13: saving model to model_init_2023-05-1712_16_05.319674\\\n",
      "INFO:tensorflow:Assets written to: model_init_2023-05-1712_16_05.319674\\assets\n"
     ]
    },
    {
     "name": "stderr",
     "output_type": "stream",
     "text": [
      "INFO:tensorflow:Assets written to: model_init_2023-05-1712_16_05.319674\\assets\n"
     ]
    },
    {
     "name": "stdout",
     "output_type": "stream",
     "text": [
      " 7/17 [===========>..................] - ETA: 4:37 - loss: 0.1220 - categorical_accuracy: 0.9857\n",
      "Epoch 13: saving model to model_init_2023-05-1712_16_05.319674\\\n",
      "INFO:tensorflow:Assets written to: model_init_2023-05-1712_16_05.319674\\assets\n"
     ]
    },
    {
     "name": "stderr",
     "output_type": "stream",
     "text": [
      "INFO:tensorflow:Assets written to: model_init_2023-05-1712_16_05.319674\\assets\n"
     ]
    },
    {
     "name": "stdout",
     "output_type": "stream",
     "text": [
      " 8/17 [=============>................] - ETA: 4:10 - loss: 0.1249 - categorical_accuracy: 0.9812\n",
      "Epoch 13: saving model to model_init_2023-05-1712_16_05.319674\\\n",
      "INFO:tensorflow:Assets written to: model_init_2023-05-1712_16_05.319674\\assets\n"
     ]
    },
    {
     "name": "stderr",
     "output_type": "stream",
     "text": [
      "INFO:tensorflow:Assets written to: model_init_2023-05-1712_16_05.319674\\assets\n"
     ]
    },
    {
     "name": "stdout",
     "output_type": "stream",
     "text": [
      " 9/17 [==============>...............] - ETA: 3:42 - loss: 0.1237 - categorical_accuracy: 0.9833\n",
      "Epoch 13: saving model to model_init_2023-05-1712_16_05.319674\\\n",
      "INFO:tensorflow:Assets written to: model_init_2023-05-1712_16_05.319674\\assets\n"
     ]
    },
    {
     "name": "stderr",
     "output_type": "stream",
     "text": [
      "INFO:tensorflow:Assets written to: model_init_2023-05-1712_16_05.319674\\assets\n"
     ]
    },
    {
     "name": "stdout",
     "output_type": "stream",
     "text": [
      "10/17 [================>.............] - ETA: 3:14 - loss: 0.1186 - categorical_accuracy: 0.9850\n",
      "Epoch 13: saving model to model_init_2023-05-1712_16_05.319674\\\n",
      "INFO:tensorflow:Assets written to: model_init_2023-05-1712_16_05.319674\\assets\n"
     ]
    },
    {
     "name": "stderr",
     "output_type": "stream",
     "text": [
      "INFO:tensorflow:Assets written to: model_init_2023-05-1712_16_05.319674\\assets\n"
     ]
    },
    {
     "name": "stdout",
     "output_type": "stream",
     "text": [
      "11/17 [==================>...........] - ETA: 2:46 - loss: 0.1186 - categorical_accuracy: 0.9841\n",
      "Epoch 13: saving model to model_init_2023-05-1712_16_05.319674\\\n",
      "INFO:tensorflow:Assets written to: model_init_2023-05-1712_16_05.319674\\assets\n"
     ]
    },
    {
     "name": "stderr",
     "output_type": "stream",
     "text": [
      "INFO:tensorflow:Assets written to: model_init_2023-05-1712_16_05.319674\\assets\n"
     ]
    },
    {
     "name": "stdout",
     "output_type": "stream",
     "text": [
      "12/17 [====================>.........] - ETA: 2:19 - loss: 0.1171 - categorical_accuracy: 0.9854\n",
      "Epoch 13: saving model to model_init_2023-05-1712_16_05.319674\\\n",
      "INFO:tensorflow:Assets written to: model_init_2023-05-1712_16_05.319674\\assets\n"
     ]
    },
    {
     "name": "stderr",
     "output_type": "stream",
     "text": [
      "INFO:tensorflow:Assets written to: model_init_2023-05-1712_16_05.319674\\assets\n"
     ]
    },
    {
     "name": "stdout",
     "output_type": "stream",
     "text": [
      "13/17 [=====================>........] - ETA: 1:51 - loss: 0.1141 - categorical_accuracy: 0.9865\n",
      "Epoch 13: saving model to model_init_2023-05-1712_16_05.319674\\\n",
      "INFO:tensorflow:Assets written to: model_init_2023-05-1712_16_05.319674\\assets\n"
     ]
    },
    {
     "name": "stderr",
     "output_type": "stream",
     "text": [
      "INFO:tensorflow:Assets written to: model_init_2023-05-1712_16_05.319674\\assets\n"
     ]
    },
    {
     "name": "stdout",
     "output_type": "stream",
     "text": [
      "14/17 [=======================>......] - ETA: 1:23 - loss: 0.1152 - categorical_accuracy: 0.9857\n",
      "Epoch 13: saving model to model_init_2023-05-1712_16_05.319674\\\n",
      "INFO:tensorflow:Assets written to: model_init_2023-05-1712_16_05.319674\\assets\n"
     ]
    },
    {
     "name": "stderr",
     "output_type": "stream",
     "text": [
      "INFO:tensorflow:Assets written to: model_init_2023-05-1712_16_05.319674\\assets\n"
     ]
    },
    {
     "name": "stdout",
     "output_type": "stream",
     "text": [
      "15/17 [=========================>....] - ETA: 55s - loss: 0.1115 - categorical_accuracy: 0.9867 \n",
      "Epoch 13: saving model to model_init_2023-05-1712_16_05.319674\\\n",
      "INFO:tensorflow:Assets written to: model_init_2023-05-1712_16_05.319674\\assets\n"
     ]
    },
    {
     "name": "stderr",
     "output_type": "stream",
     "text": [
      "INFO:tensorflow:Assets written to: model_init_2023-05-1712_16_05.319674\\assets\n"
     ]
    },
    {
     "name": "stdout",
     "output_type": "stream",
     "text": [
      "16/17 [===========================>..] - ETA: 27s - loss: 0.1082 - categorical_accuracy: 0.9875\n",
      "Epoch 13: saving model to model_init_2023-05-1712_16_05.319674\\\n",
      "INFO:tensorflow:Assets written to: model_init_2023-05-1712_16_05.319674\\assets\n"
     ]
    },
    {
     "name": "stderr",
     "output_type": "stream",
     "text": [
      "INFO:tensorflow:Assets written to: model_init_2023-05-1712_16_05.319674\\assets\n"
     ]
    },
    {
     "name": "stdout",
     "output_type": "stream",
     "text": [
      "17/17 [==============================] - ETA: 0s - loss: 0.1088 - categorical_accuracy: 0.9864 \n",
      "Epoch 13: ReduceLROnPlateau reducing learning rate to 8.000000525498762e-06.\n",
      "17/17 [==============================] - 475s 28s/step - loss: 0.1088 - categorical_accuracy: 0.9864 - val_loss: 3.8436 - val_categorical_accuracy: 0.2000 - lr: 4.0000e-05\n",
      "Epoch 14/15\n",
      "\n",
      "Epoch 14: saving model to model_init_2023-05-1712_16_05.319674\\\n",
      "INFO:tensorflow:Assets written to: model_init_2023-05-1712_16_05.319674\\assets\n"
     ]
    },
    {
     "name": "stderr",
     "output_type": "stream",
     "text": [
      "INFO:tensorflow:Assets written to: model_init_2023-05-1712_16_05.319674\\assets\n"
     ]
    },
    {
     "name": "stdout",
     "output_type": "stream",
     "text": [
      " 1/17 [>.............................] - ETA: 7:25 - loss: 0.1098 - categorical_accuracy: 1.0000\n",
      "Epoch 14: saving model to model_init_2023-05-1712_16_05.319674\\\n",
      "INFO:tensorflow:Assets written to: model_init_2023-05-1712_16_05.319674\\assets\n"
     ]
    },
    {
     "name": "stderr",
     "output_type": "stream",
     "text": [
      "INFO:tensorflow:Assets written to: model_init_2023-05-1712_16_05.319674\\assets\n"
     ]
    },
    {
     "name": "stdout",
     "output_type": "stream",
     "text": [
      " 2/17 [==>...........................] - ETA: 6:57 - loss: 0.1069 - categorical_accuracy: 1.0000\n",
      "Epoch 14: saving model to model_init_2023-05-1712_16_05.319674\\\n",
      "INFO:tensorflow:Assets written to: model_init_2023-05-1712_16_05.319674\\assets\n"
     ]
    },
    {
     "name": "stderr",
     "output_type": "stream",
     "text": [
      "INFO:tensorflow:Assets written to: model_init_2023-05-1712_16_05.319674\\assets\n"
     ]
    },
    {
     "name": "stdout",
     "output_type": "stream",
     "text": [
      " 3/17 [====>.........................] - ETA: 6:32 - loss: 0.1054 - categorical_accuracy: 0.9833\n",
      "Epoch 14: saving model to model_init_2023-05-1712_16_05.319674\\\n",
      "INFO:tensorflow:Assets written to: model_init_2023-05-1712_16_05.319674\\assets\n"
     ]
    },
    {
     "name": "stderr",
     "output_type": "stream",
     "text": [
      "INFO:tensorflow:Assets written to: model_init_2023-05-1712_16_05.319674\\assets\n"
     ]
    },
    {
     "name": "stdout",
     "output_type": "stream",
     "text": [
      " 4/17 [======>.......................] - ETA: 6:02 - loss: 0.0993 - categorical_accuracy: 0.9875\n",
      "Epoch 14: saving model to model_init_2023-05-1712_16_05.319674\\\n",
      "INFO:tensorflow:Assets written to: model_init_2023-05-1712_16_05.319674\\assets\n"
     ]
    },
    {
     "name": "stderr",
     "output_type": "stream",
     "text": [
      "INFO:tensorflow:Assets written to: model_init_2023-05-1712_16_05.319674\\assets\n"
     ]
    },
    {
     "name": "stdout",
     "output_type": "stream",
     "text": [
      " 5/17 [=======>......................] - ETA: 5:36 - loss: 0.0974 - categorical_accuracy: 0.9900\n",
      "Epoch 14: saving model to model_init_2023-05-1712_16_05.319674\\\n",
      "INFO:tensorflow:Assets written to: model_init_2023-05-1712_16_05.319674\\assets\n"
     ]
    },
    {
     "name": "stderr",
     "output_type": "stream",
     "text": [
      "INFO:tensorflow:Assets written to: model_init_2023-05-1712_16_05.319674\\assets\n"
     ]
    },
    {
     "name": "stdout",
     "output_type": "stream",
     "text": [
      " 6/17 [=========>....................] - ETA: 5:08 - loss: 0.1000 - categorical_accuracy: 0.9875\n",
      "Epoch 14: saving model to model_init_2023-05-1712_16_05.319674\\\n",
      "INFO:tensorflow:Assets written to: model_init_2023-05-1712_16_05.319674\\assets\n"
     ]
    },
    {
     "name": "stderr",
     "output_type": "stream",
     "text": [
      "INFO:tensorflow:Assets written to: model_init_2023-05-1712_16_05.319674\\assets\n"
     ]
    },
    {
     "name": "stdout",
     "output_type": "stream",
     "text": [
      " 7/17 [===========>..................] - ETA: 4:39 - loss: 0.0957 - categorical_accuracy: 0.9893\n",
      "Epoch 14: saving model to model_init_2023-05-1712_16_05.319674\\\n",
      "INFO:tensorflow:Assets written to: model_init_2023-05-1712_16_05.319674\\assets\n"
     ]
    },
    {
     "name": "stderr",
     "output_type": "stream",
     "text": [
      "INFO:tensorflow:Assets written to: model_init_2023-05-1712_16_05.319674\\assets\n"
     ]
    },
    {
     "name": "stdout",
     "output_type": "stream",
     "text": [
      " 8/17 [=============>................] - ETA: 4:11 - loss: 0.1138 - categorical_accuracy: 0.9781\n",
      "Epoch 14: saving model to model_init_2023-05-1712_16_05.319674\\\n",
      "INFO:tensorflow:Assets written to: model_init_2023-05-1712_16_05.319674\\assets\n"
     ]
    },
    {
     "name": "stderr",
     "output_type": "stream",
     "text": [
      "INFO:tensorflow:Assets written to: model_init_2023-05-1712_16_05.319674\\assets\n"
     ]
    },
    {
     "name": "stdout",
     "output_type": "stream",
     "text": [
      " 9/17 [==============>...............] - ETA: 3:44 - loss: 0.1231 - categorical_accuracy: 0.9722\n",
      "Epoch 14: saving model to model_init_2023-05-1712_16_05.319674\\\n",
      "INFO:tensorflow:Assets written to: model_init_2023-05-1712_16_05.319674\\assets\n"
     ]
    },
    {
     "name": "stderr",
     "output_type": "stream",
     "text": [
      "INFO:tensorflow:Assets written to: model_init_2023-05-1712_16_05.319674\\assets\n"
     ]
    },
    {
     "name": "stdout",
     "output_type": "stream",
     "text": [
      "10/17 [================>.............] - ETA: 3:15 - loss: 0.1172 - categorical_accuracy: 0.9750\n",
      "Epoch 14: saving model to model_init_2023-05-1712_16_05.319674\\\n",
      "INFO:tensorflow:Assets written to: model_init_2023-05-1712_16_05.319674\\assets\n"
     ]
    },
    {
     "name": "stderr",
     "output_type": "stream",
     "text": [
      "INFO:tensorflow:Assets written to: model_init_2023-05-1712_16_05.319674\\assets\n"
     ]
    },
    {
     "name": "stdout",
     "output_type": "stream",
     "text": [
      "11/17 [==================>...........] - ETA: 2:47 - loss: 0.1167 - categorical_accuracy: 0.9773\n",
      "Epoch 14: saving model to model_init_2023-05-1712_16_05.319674\\\n",
      "INFO:tensorflow:Assets written to: model_init_2023-05-1712_16_05.319674\\assets\n"
     ]
    },
    {
     "name": "stderr",
     "output_type": "stream",
     "text": [
      "INFO:tensorflow:Assets written to: model_init_2023-05-1712_16_05.319674\\assets\n"
     ]
    },
    {
     "name": "stdout",
     "output_type": "stream",
     "text": [
      "12/17 [====================>.........] - ETA: 2:19 - loss: 0.1165 - categorical_accuracy: 0.9792\n",
      "Epoch 14: saving model to model_init_2023-05-1712_16_05.319674\\\n",
      "INFO:tensorflow:Assets written to: model_init_2023-05-1712_16_05.319674\\assets\n"
     ]
    },
    {
     "name": "stderr",
     "output_type": "stream",
     "text": [
      "INFO:tensorflow:Assets written to: model_init_2023-05-1712_16_05.319674\\assets\n"
     ]
    },
    {
     "name": "stdout",
     "output_type": "stream",
     "text": [
      "13/17 [=====================>........] - ETA: 1:51 - loss: 0.1198 - categorical_accuracy: 0.9788\n",
      "Epoch 14: saving model to model_init_2023-05-1712_16_05.319674\\\n",
      "INFO:tensorflow:Assets written to: model_init_2023-05-1712_16_05.319674\\assets\n"
     ]
    },
    {
     "name": "stderr",
     "output_type": "stream",
     "text": [
      "INFO:tensorflow:Assets written to: model_init_2023-05-1712_16_05.319674\\assets\n"
     ]
    },
    {
     "name": "stdout",
     "output_type": "stream",
     "text": [
      "14/17 [=======================>......] - ETA: 1:23 - loss: 0.1177 - categorical_accuracy: 0.9804\n",
      "Epoch 14: saving model to model_init_2023-05-1712_16_05.319674\\\n",
      "INFO:tensorflow:Assets written to: model_init_2023-05-1712_16_05.319674\\assets\n"
     ]
    },
    {
     "name": "stderr",
     "output_type": "stream",
     "text": [
      "INFO:tensorflow:Assets written to: model_init_2023-05-1712_16_05.319674\\assets\n"
     ]
    },
    {
     "name": "stdout",
     "output_type": "stream",
     "text": [
      "15/17 [=========================>....] - ETA: 55s - loss: 0.1177 - categorical_accuracy: 0.9817 \n",
      "Epoch 14: saving model to model_init_2023-05-1712_16_05.319674\\\n",
      "INFO:tensorflow:Assets written to: model_init_2023-05-1712_16_05.319674\\assets\n"
     ]
    },
    {
     "name": "stderr",
     "output_type": "stream",
     "text": [
      "INFO:tensorflow:Assets written to: model_init_2023-05-1712_16_05.319674\\assets\n"
     ]
    },
    {
     "name": "stdout",
     "output_type": "stream",
     "text": [
      "16/17 [===========================>..] - ETA: 27s - loss: 0.1177 - categorical_accuracy: 0.9828\n",
      "Epoch 14: saving model to model_init_2023-05-1712_16_05.319674\\\n",
      "INFO:tensorflow:Assets written to: model_init_2023-05-1712_16_05.319674\\assets\n"
     ]
    },
    {
     "name": "stderr",
     "output_type": "stream",
     "text": [
      "INFO:tensorflow:Assets written to: model_init_2023-05-1712_16_05.319674\\assets\n"
     ]
    },
    {
     "name": "stdout",
     "output_type": "stream",
     "text": [
      "17/17 [==============================] - 478s 28s/step - loss: 0.1186 - categorical_accuracy: 0.9819 - val_loss: 3.6916 - val_categorical_accuracy: 0.2700 - lr: 8.0000e-06\n",
      "Epoch 15/15\n",
      "\n",
      "Epoch 15: saving model to model_init_2023-05-1712_16_05.319674\\\n",
      "INFO:tensorflow:Assets written to: model_init_2023-05-1712_16_05.319674\\assets\n"
     ]
    },
    {
     "name": "stderr",
     "output_type": "stream",
     "text": [
      "INFO:tensorflow:Assets written to: model_init_2023-05-1712_16_05.319674\\assets\n"
     ]
    },
    {
     "name": "stdout",
     "output_type": "stream",
     "text": [
      " 1/17 [>.............................] - ETA: 7:21 - loss: 0.1345 - categorical_accuracy: 1.0000\n",
      "Epoch 15: saving model to model_init_2023-05-1712_16_05.319674\\\n",
      "INFO:tensorflow:Assets written to: model_init_2023-05-1712_16_05.319674\\assets\n"
     ]
    },
    {
     "name": "stderr",
     "output_type": "stream",
     "text": [
      "INFO:tensorflow:Assets written to: model_init_2023-05-1712_16_05.319674\\assets\n"
     ]
    },
    {
     "name": "stdout",
     "output_type": "stream",
     "text": [
      " 2/17 [==>...........................] - ETA: 6:58 - loss: 0.1350 - categorical_accuracy: 1.0000\n",
      "Epoch 15: saving model to model_init_2023-05-1712_16_05.319674\\\n",
      "INFO:tensorflow:Assets written to: model_init_2023-05-1712_16_05.319674\\assets\n"
     ]
    },
    {
     "name": "stderr",
     "output_type": "stream",
     "text": [
      "INFO:tensorflow:Assets written to: model_init_2023-05-1712_16_05.319674\\assets\n"
     ]
    },
    {
     "name": "stdout",
     "output_type": "stream",
     "text": [
      " 3/17 [====>.........................] - ETA: 6:31 - loss: 0.1134 - categorical_accuracy: 1.0000\n",
      "Epoch 15: saving model to model_init_2023-05-1712_16_05.319674\\\n",
      "INFO:tensorflow:Assets written to: model_init_2023-05-1712_16_05.319674\\assets\n"
     ]
    },
    {
     "name": "stderr",
     "output_type": "stream",
     "text": [
      "INFO:tensorflow:Assets written to: model_init_2023-05-1712_16_05.319674\\assets\n"
     ]
    },
    {
     "name": "stdout",
     "output_type": "stream",
     "text": [
      " 4/17 [======>.......................] - ETA: 6:02 - loss: 0.1028 - categorical_accuracy: 1.0000\n",
      "Epoch 15: saving model to model_init_2023-05-1712_16_05.319674\\\n",
      "INFO:tensorflow:Assets written to: model_init_2023-05-1712_16_05.319674\\assets\n"
     ]
    },
    {
     "name": "stderr",
     "output_type": "stream",
     "text": [
      "INFO:tensorflow:Assets written to: model_init_2023-05-1712_16_05.319674\\assets\n"
     ]
    },
    {
     "name": "stdout",
     "output_type": "stream",
     "text": [
      " 5/17 [=======>......................] - ETA: 5:34 - loss: 0.1031 - categorical_accuracy: 0.9950\n",
      "Epoch 15: saving model to model_init_2023-05-1712_16_05.319674\\\n",
      "INFO:tensorflow:Assets written to: model_init_2023-05-1712_16_05.319674\\assets\n"
     ]
    },
    {
     "name": "stderr",
     "output_type": "stream",
     "text": [
      "INFO:tensorflow:Assets written to: model_init_2023-05-1712_16_05.319674\\assets\n"
     ]
    },
    {
     "name": "stdout",
     "output_type": "stream",
     "text": [
      " 6/17 [=========>....................] - ETA: 5:06 - loss: 0.0999 - categorical_accuracy: 0.9958\n",
      "Epoch 15: saving model to model_init_2023-05-1712_16_05.319674\\\n",
      "INFO:tensorflow:Assets written to: model_init_2023-05-1712_16_05.319674\\assets\n"
     ]
    },
    {
     "name": "stderr",
     "output_type": "stream",
     "text": [
      "INFO:tensorflow:Assets written to: model_init_2023-05-1712_16_05.319674\\assets\n"
     ]
    },
    {
     "name": "stdout",
     "output_type": "stream",
     "text": [
      " 7/17 [===========>..................] - ETA: 4:38 - loss: 0.1067 - categorical_accuracy: 0.9929\n",
      "Epoch 15: saving model to model_init_2023-05-1712_16_05.319674\\\n",
      "INFO:tensorflow:Assets written to: model_init_2023-05-1712_16_05.319674\\assets\n"
     ]
    },
    {
     "name": "stderr",
     "output_type": "stream",
     "text": [
      "INFO:tensorflow:Assets written to: model_init_2023-05-1712_16_05.319674\\assets\n"
     ]
    },
    {
     "name": "stdout",
     "output_type": "stream",
     "text": [
      " 8/17 [=============>................] - ETA: 4:10 - loss: 0.1067 - categorical_accuracy: 0.9906\n",
      "Epoch 15: saving model to model_init_2023-05-1712_16_05.319674\\\n",
      "INFO:tensorflow:Assets written to: model_init_2023-05-1712_16_05.319674\\assets\n"
     ]
    },
    {
     "name": "stderr",
     "output_type": "stream",
     "text": [
      "INFO:tensorflow:Assets written to: model_init_2023-05-1712_16_05.319674\\assets\n"
     ]
    },
    {
     "name": "stdout",
     "output_type": "stream",
     "text": [
      " 9/17 [==============>...............] - ETA: 3:42 - loss: 0.1060 - categorical_accuracy: 0.9917\n",
      "Epoch 15: saving model to model_init_2023-05-1712_16_05.319674\\\n",
      "INFO:tensorflow:Assets written to: model_init_2023-05-1712_16_05.319674\\assets\n"
     ]
    },
    {
     "name": "stderr",
     "output_type": "stream",
     "text": [
      "INFO:tensorflow:Assets written to: model_init_2023-05-1712_16_05.319674\\assets\n"
     ]
    },
    {
     "name": "stdout",
     "output_type": "stream",
     "text": [
      "10/17 [================>.............] - ETA: 3:14 - loss: 0.1060 - categorical_accuracy: 0.9900\n",
      "Epoch 15: saving model to model_init_2023-05-1712_16_05.319674\\\n",
      "INFO:tensorflow:Assets written to: model_init_2023-05-1712_16_05.319674\\assets\n"
     ]
    },
    {
     "name": "stderr",
     "output_type": "stream",
     "text": [
      "INFO:tensorflow:Assets written to: model_init_2023-05-1712_16_05.319674\\assets\n"
     ]
    },
    {
     "name": "stdout",
     "output_type": "stream",
     "text": [
      "11/17 [==================>...........] - ETA: 2:47 - loss: 0.1032 - categorical_accuracy: 0.9909\n",
      "Epoch 15: saving model to model_init_2023-05-1712_16_05.319674\\\n",
      "INFO:tensorflow:Assets written to: model_init_2023-05-1712_16_05.319674\\assets\n"
     ]
    },
    {
     "name": "stderr",
     "output_type": "stream",
     "text": [
      "INFO:tensorflow:Assets written to: model_init_2023-05-1712_16_05.319674\\assets\n"
     ]
    },
    {
     "name": "stdout",
     "output_type": "stream",
     "text": [
      "12/17 [====================>.........] - ETA: 2:19 - loss: 0.1038 - categorical_accuracy: 0.9896\n",
      "Epoch 15: saving model to model_init_2023-05-1712_16_05.319674\\\n",
      "INFO:tensorflow:Assets written to: model_init_2023-05-1712_16_05.319674\\assets\n"
     ]
    },
    {
     "name": "stderr",
     "output_type": "stream",
     "text": [
      "INFO:tensorflow:Assets written to: model_init_2023-05-1712_16_05.319674\\assets\n"
     ]
    },
    {
     "name": "stdout",
     "output_type": "stream",
     "text": [
      "13/17 [=====================>........] - ETA: 1:51 - loss: 0.1038 - categorical_accuracy: 0.9904\n",
      "Epoch 15: saving model to model_init_2023-05-1712_16_05.319674\\\n",
      "INFO:tensorflow:Assets written to: model_init_2023-05-1712_16_05.319674\\assets\n"
     ]
    },
    {
     "name": "stderr",
     "output_type": "stream",
     "text": [
      "INFO:tensorflow:Assets written to: model_init_2023-05-1712_16_05.319674\\assets\n"
     ]
    },
    {
     "name": "stdout",
     "output_type": "stream",
     "text": [
      "14/17 [=======================>......] - ETA: 1:23 - loss: 0.1032 - categorical_accuracy: 0.9911\n",
      "Epoch 15: saving model to model_init_2023-05-1712_16_05.319674\\\n",
      "INFO:tensorflow:Assets written to: model_init_2023-05-1712_16_05.319674\\assets\n"
     ]
    },
    {
     "name": "stderr",
     "output_type": "stream",
     "text": [
      "INFO:tensorflow:Assets written to: model_init_2023-05-1712_16_05.319674\\assets\n"
     ]
    },
    {
     "name": "stdout",
     "output_type": "stream",
     "text": [
      "15/17 [=========================>....] - ETA: 55s - loss: 0.1103 - categorical_accuracy: 0.9867 \n",
      "Epoch 15: saving model to model_init_2023-05-1712_16_05.319674\\\n",
      "INFO:tensorflow:Assets written to: model_init_2023-05-1712_16_05.319674\\assets\n"
     ]
    },
    {
     "name": "stderr",
     "output_type": "stream",
     "text": [
      "INFO:tensorflow:Assets written to: model_init_2023-05-1712_16_05.319674\\assets\n"
     ]
    },
    {
     "name": "stdout",
     "output_type": "stream",
     "text": [
      "16/17 [===========================>..] - ETA: 27s - loss: 0.1095 - categorical_accuracy: 0.9859\n",
      "Epoch 15: saving model to model_init_2023-05-1712_16_05.319674\\\n",
      "INFO:tensorflow:Assets written to: model_init_2023-05-1712_16_05.319674\\assets\n"
     ]
    },
    {
     "name": "stderr",
     "output_type": "stream",
     "text": [
      "INFO:tensorflow:Assets written to: model_init_2023-05-1712_16_05.319674\\assets\n"
     ]
    },
    {
     "name": "stdout",
     "output_type": "stream",
     "text": [
      "17/17 [==============================] - 475s 28s/step - loss: 0.1080 - categorical_accuracy: 0.9864 - val_loss: 3.5462 - val_categorical_accuracy: 0.2700 - lr: 8.0000e-06\n"
     ]
    }
   ],
   "source": [
    "print(\"Total Params:\", conv_3d1_model.count_params())\n",
    "history_model1 = conv_3d1.train_model(conv_3d1_model)"
   ]
  },
  {
   "cell_type": "code",
   "execution_count": 17,
   "id": "fb85a5ef",
   "metadata": {},
   "outputs": [
    {
     "data": {
      "image/png": "[encoded data removed]",
      "text/plain": [
       "<Figure size 1500x400 with 2 Axes>"
      ]
     },
     "metadata": {},
     "output_type": "display_data"
    }
   ],
   "source": [
    "plot(history_model1)"
   ]
  },
  {
   "cell_type": "markdown",
   "id": "714b4782",
   "metadata": {},
   "source": [
    "##### Model is clearly overfitting. So we need to do data augmentation"
   ]
  },
  {
   "cell_type": "markdown",
   "id": "61271ba5",
   "metadata": {},
   "source": [
    "# Model 2 - Augment Data , (3,3,3) filter & 160x160 image resolution"
   ]
  },
  {
   "cell_type": "code",
   "execution_count": 18,
   "id": "cea9e309",
   "metadata": {},
   "outputs": [
    {
     "name": "stdout",
     "output_type": "stream",
     "text": [
      "Model: \"sequential_2\"\n",
      "_________________________________________________________________\n",
      " Layer (type)                Output Shape              Param #   \n",
      "=================================================================\n",
      " conv3d_8 (Conv3D)           (None, 20, 160, 160, 16)  1312      \n",
      "                                                                 \n",
      " activation_8 (Activation)   (None, 20, 160, 160, 16)  0         \n",
      "                                                                 \n",
      " batch_normalization_12 (Bat  (None, 20, 160, 160, 16)  64       \n",
      " chNormalization)                                                \n",
      "                                                                 \n",
      " max_pooling3d_8 (MaxPooling  (None, 10, 80, 80, 16)   0         \n",
      " 3D)                                                             \n",
      "                                                                 \n",
      " conv3d_9 (Conv3D)           (None, 10, 80, 80, 32)    13856     \n",
      "                                                                 \n",
      " activation_9 (Activation)   (None, 10, 80, 80, 32)    0         \n",
      "                                                                 \n",
      " batch_normalization_13 (Bat  (None, 10, 80, 80, 32)   128       \n",
      " chNormalization)                                                \n",
      "                                                                 \n",
      " max_pooling3d_9 (MaxPooling  (None, 5, 40, 40, 32)    0         \n",
      " 3D)                                                             \n",
      "                                                                 \n",
      " conv3d_10 (Conv3D)          (None, 5, 40, 40, 64)     55360     \n",
      "                                                                 \n",
      " activation_10 (Activation)  (None, 5, 40, 40, 64)     0         \n",
      "                                                                 \n",
      " batch_normalization_14 (Bat  (None, 5, 40, 40, 64)    256       \n",
      " chNormalization)                                                \n",
      "                                                                 \n",
      " max_pooling3d_10 (MaxPoolin  (None, 2, 20, 20, 64)    0         \n",
      " g3D)                                                            \n",
      "                                                                 \n",
      " conv3d_11 (Conv3D)          (None, 2, 20, 20, 128)    221312    \n",
      "                                                                 \n",
      " activation_11 (Activation)  (None, 2, 20, 20, 128)    0         \n",
      "                                                                 \n",
      " batch_normalization_15 (Bat  (None, 2, 20, 20, 128)   512       \n",
      " chNormalization)                                                \n",
      "                                                                 \n",
      " max_pooling3d_11 (MaxPoolin  (None, 1, 10, 10, 128)   0         \n",
      " g3D)                                                            \n",
      "                                                                 \n",
      " flatten_2 (Flatten)         (None, 12800)             0         \n",
      "                                                                 \n",
      " dense_6 (Dense)             (None, 256)               3277056   \n",
      "                                                                 \n",
      " batch_normalization_16 (Bat  (None, 256)              1024      \n",
      " chNormalization)                                                \n",
      "                                                                 \n",
      " dropout_4 (Dropout)         (None, 256)               0         \n",
      "                                                                 \n",
      " dense_7 (Dense)             (None, 256)               65792     \n",
      "                                                                 \n",
      " batch_normalization_17 (Bat  (None, 256)              1024      \n",
      " chNormalization)                                                \n",
      "                                                                 \n",
      " dropout_5 (Dropout)         (None, 256)               0         \n",
      "                                                                 \n",
      " dense_8 (Dense)             (None, 5)                 1285      \n",
      "                                                                 \n",
      "=================================================================\n",
      "Total params: 3,638,981\n",
      "Trainable params: 3,637,477\n",
      "Non-trainable params: 1,504\n",
      "_________________________________________________________________\n"
     ]
    }
   ],
   "source": [
    "conv_3d2=ModelConv3D1()\n",
    "conv_3d2.initialize_path(project_folder)\n",
    "conv_3d2.initialize_image_properties(image_height=160,image_width=160)\n",
    "conv_3d2.initialize_hyperparams(frames_to_sample=20,batch_size=20,num_epochs=20)\n",
    "conv_3d2_model=conv_3d2.define_model(dense_neurons=256,dropout=0.5)\n",
    "conv_3d2_model.summary()"
   ]
  },
  {
   "cell_type": "code",
   "execution_count": 19,
   "id": "dea69ea5",
   "metadata": {},
   "outputs": [
    {
     "name": "stdout",
     "output_type": "stream",
     "text": [
      "Total Params: 3638981\n",
      "Epoch 1/20\n",
      "\n",
      "Epoch 1: saving model to model_init_2023-05-1714_15_12.881747\\\n",
      "INFO:tensorflow:Assets written to: model_init_2023-05-1714_15_12.881747\\assets\n"
     ]
    },
    {
     "name": "stderr",
     "output_type": "stream",
     "text": [
      "INFO:tensorflow:Assets written to: model_init_2023-05-1714_15_12.881747\\assets\n"
     ]
    },
    {
     "name": "stdout",
     "output_type": "stream",
     "text": [
      " 1/34 [..............................] - ETA: 15:51 - loss: 2.4882 - categorical_accuracy: 0.2750\n",
      "Epoch 1: saving model to model_init_2023-05-1714_15_12.881747\\\n",
      "INFO:tensorflow:Assets written to: model_init_2023-05-1714_15_12.881747\\assets\n"
     ]
    },
    {
     "name": "stderr",
     "output_type": "stream",
     "text": [
      "INFO:tensorflow:Assets written to: model_init_2023-05-1714_15_12.881747\\assets\n"
     ]
    },
    {
     "name": "stdout",
     "output_type": "stream",
     "text": [
      " 2/34 [>.............................] - ETA: 14:58 - loss: 2.4882 - categorical_accuracy: 0.2250\n",
      "Epoch 1: saving model to model_init_2023-05-1714_15_12.881747\\\n",
      "INFO:tensorflow:Assets written to: model_init_2023-05-1714_15_12.881747\\assets\n"
     ]
    },
    {
     "name": "stderr",
     "output_type": "stream",
     "text": [
      "INFO:tensorflow:Assets written to: model_init_2023-05-1714_15_12.881747\\assets\n"
     ]
    },
    {
     "name": "stdout",
     "output_type": "stream",
     "text": [
      " 3/34 [=>............................] - ETA: 14:33 - loss: 2.4664 - categorical_accuracy: 0.2250\n",
      "Epoch 1: saving model to model_init_2023-05-1714_15_12.881747\\\n",
      "INFO:tensorflow:Assets written to: model_init_2023-05-1714_15_12.881747\\assets\n"
     ]
    },
    {
     "name": "stderr",
     "output_type": "stream",
     "text": [
      "INFO:tensorflow:Assets written to: model_init_2023-05-1714_15_12.881747\\assets\n"
     ]
    },
    {
     "name": "stdout",
     "output_type": "stream",
     "text": [
      " 4/34 [==>...........................] - ETA: 14:02 - loss: 2.2920 - categorical_accuracy: 0.2562\n",
      "Epoch 1: saving model to model_init_2023-05-1714_15_12.881747\\\n",
      "INFO:tensorflow:Assets written to: model_init_2023-05-1714_15_12.881747\\assets\n"
     ]
    },
    {
     "name": "stderr",
     "output_type": "stream",
     "text": [
      "INFO:tensorflow:Assets written to: model_init_2023-05-1714_15_12.881747\\assets\n"
     ]
    },
    {
     "name": "stdout",
     "output_type": "stream",
     "text": [
      " 5/34 [===>..........................] - ETA: 13:33 - loss: 2.1765 - categorical_accuracy: 0.2900\n",
      "Epoch 1: saving model to model_init_2023-05-1714_15_12.881747\\\n",
      "INFO:tensorflow:Assets written to: model_init_2023-05-1714_15_12.881747\\assets\n"
     ]
    },
    {
     "name": "stderr",
     "output_type": "stream",
     "text": [
      "INFO:tensorflow:Assets written to: model_init_2023-05-1714_15_12.881747\\assets\n"
     ]
    },
    {
     "name": "stdout",
     "output_type": "stream",
     "text": [
      " 6/34 [====>.........................] - ETA: 13:06 - loss: 2.0878 - categorical_accuracy: 0.3083\n",
      "Epoch 1: saving model to model_init_2023-05-1714_15_12.881747\\\n",
      "INFO:tensorflow:Assets written to: model_init_2023-05-1714_15_12.881747\\assets\n"
     ]
    },
    {
     "name": "stderr",
     "output_type": "stream",
     "text": [
      "INFO:tensorflow:Assets written to: model_init_2023-05-1714_15_12.881747\\assets\n"
     ]
    },
    {
     "name": "stdout",
     "output_type": "stream",
     "text": [
      " 7/34 [=====>........................] - ETA: 12:36 - loss: 2.1161 - categorical_accuracy: 0.3214\n",
      "Epoch 1: saving model to model_init_2023-05-1714_15_12.881747\\\n",
      "INFO:tensorflow:Assets written to: model_init_2023-05-1714_15_12.881747\\assets\n"
     ]
    },
    {
     "name": "stderr",
     "output_type": "stream",
     "text": [
      "INFO:tensorflow:Assets written to: model_init_2023-05-1714_15_12.881747\\assets\n"
     ]
    },
    {
     "name": "stdout",
     "output_type": "stream",
     "text": [
      " 8/34 [======>.......................] - ETA: 12:08 - loss: 2.0157 - categorical_accuracy: 0.3562\n",
      "Epoch 1: saving model to model_init_2023-05-1714_15_12.881747\\\n",
      "INFO:tensorflow:Assets written to: model_init_2023-05-1714_15_12.881747\\assets\n"
     ]
    },
    {
     "name": "stderr",
     "output_type": "stream",
     "text": [
      "INFO:tensorflow:Assets written to: model_init_2023-05-1714_15_12.881747\\assets\n"
     ]
    },
    {
     "name": "stdout",
     "output_type": "stream",
     "text": [
      " 9/34 [======>.......................] - ETA: 11:39 - loss: 1.9523 - categorical_accuracy: 0.3639\n",
      "Epoch 1: saving model to model_init_2023-05-1714_15_12.881747\\\n",
      "INFO:tensorflow:Assets written to: model_init_2023-05-1714_15_12.881747\\assets\n"
     ]
    },
    {
     "name": "stderr",
     "output_type": "stream",
     "text": [
      "INFO:tensorflow:Assets written to: model_init_2023-05-1714_15_12.881747\\assets\n"
     ]
    },
    {
     "name": "stdout",
     "output_type": "stream",
     "text": [
      "10/34 [=======>......................] - ETA: 11:10 - loss: 1.9773 - categorical_accuracy: 0.3650\n",
      "Epoch 1: saving model to model_init_2023-05-1714_15_12.881747\\\n",
      "INFO:tensorflow:Assets written to: model_init_2023-05-1714_15_12.881747\\assets\n"
     ]
    },
    {
     "name": "stderr",
     "output_type": "stream",
     "text": [
      "INFO:tensorflow:Assets written to: model_init_2023-05-1714_15_12.881747\\assets\n"
     ]
    },
    {
     "name": "stdout",
     "output_type": "stream",
     "text": [
      "11/34 [========>.....................] - ETA: 10:42 - loss: 1.9883 - categorical_accuracy: 0.3682\n",
      "Epoch 1: saving model to model_init_2023-05-1714_15_12.881747\\\n",
      "INFO:tensorflow:Assets written to: model_init_2023-05-1714_15_12.881747\\assets\n"
     ]
    },
    {
     "name": "stderr",
     "output_type": "stream",
     "text": [
      "INFO:tensorflow:Assets written to: model_init_2023-05-1714_15_12.881747\\assets\n"
     ]
    },
    {
     "name": "stdout",
     "output_type": "stream",
     "text": [
      "12/34 [=========>....................] - ETA: 10:13 - loss: 2.0005 - categorical_accuracy: 0.3604\n",
      "Epoch 1: saving model to model_init_2023-05-1714_15_12.881747\\\n",
      "INFO:tensorflow:Assets written to: model_init_2023-05-1714_15_12.881747\\assets\n"
     ]
    },
    {
     "name": "stderr",
     "output_type": "stream",
     "text": [
      "INFO:tensorflow:Assets written to: model_init_2023-05-1714_15_12.881747\\assets\n"
     ]
    },
    {
     "name": "stdout",
     "output_type": "stream",
     "text": [
      "13/34 [==========>...................] - ETA: 9:45 - loss: 1.9627 - categorical_accuracy: 0.3654 \n",
      "Epoch 1: saving model to model_init_2023-05-1714_15_12.881747\\\n",
      "INFO:tensorflow:Assets written to: model_init_2023-05-1714_15_12.881747\\assets\n"
     ]
    },
    {
     "name": "stderr",
     "output_type": "stream",
     "text": [
      "INFO:tensorflow:Assets written to: model_init_2023-05-1714_15_12.881747\\assets\n"
     ]
    },
    {
     "name": "stdout",
     "output_type": "stream",
     "text": [
      "14/34 [===========>..................] - ETA: 9:17 - loss: 1.9850 - categorical_accuracy: 0.3571\n",
      "Epoch 1: saving model to model_init_2023-05-1714_15_12.881747\\\n",
      "INFO:tensorflow:Assets written to: model_init_2023-05-1714_15_12.881747\\assets\n"
     ]
    },
    {
     "name": "stderr",
     "output_type": "stream",
     "text": [
      "INFO:tensorflow:Assets written to: model_init_2023-05-1714_15_12.881747\\assets\n"
     ]
    },
    {
     "name": "stdout",
     "output_type": "stream",
     "text": [
      "15/34 [============>.................] - ETA: 8:48 - loss: 1.9517 - categorical_accuracy: 0.3667\n",
      "Epoch 1: saving model to model_init_2023-05-1714_15_12.881747\\\n",
      "INFO:tensorflow:Assets written to: model_init_2023-05-1714_15_12.881747\\assets\n"
     ]
    },
    {
     "name": "stderr",
     "output_type": "stream",
     "text": [
      "INFO:tensorflow:Assets written to: model_init_2023-05-1714_15_12.881747\\assets\n"
     ]
    },
    {
     "name": "stdout",
     "output_type": "stream",
     "text": [
      "16/34 [=============>................] - ETA: 8:21 - loss: 1.9285 - categorical_accuracy: 0.3641\n",
      "Epoch 1: saving model to model_init_2023-05-1714_15_12.881747\\\n",
      "INFO:tensorflow:Assets written to: model_init_2023-05-1714_15_12.881747\\assets\n"
     ]
    },
    {
     "name": "stderr",
     "output_type": "stream",
     "text": [
      "INFO:tensorflow:Assets written to: model_init_2023-05-1714_15_12.881747\\assets\n"
     ]
    },
    {
     "name": "stdout",
     "output_type": "stream",
     "text": [
      "17/34 [==============>...............] - ETA: 7:53 - loss: 1.9390 - categorical_accuracy: 0.3706\n",
      "Epoch 1: saving model to model_init_2023-05-1714_15_12.881747\\\n",
      "INFO:tensorflow:Assets written to: model_init_2023-05-1714_15_12.881747\\assets\n"
     ]
    },
    {
     "name": "stderr",
     "output_type": "stream",
     "text": [
      "INFO:tensorflow:Assets written to: model_init_2023-05-1714_15_12.881747\\assets\n"
     ]
    },
    {
     "name": "stdout",
     "output_type": "stream",
     "text": [
      "18/34 [==============>...............] - ETA: 7:25 - loss: 1.9174 - categorical_accuracy: 0.3764\n",
      "Epoch 1: saving model to model_init_2023-05-1714_15_12.881747\\\n",
      "INFO:tensorflow:Assets written to: model_init_2023-05-1714_15_12.881747\\assets\n"
     ]
    },
    {
     "name": "stderr",
     "output_type": "stream",
     "text": [
      "INFO:tensorflow:Assets written to: model_init_2023-05-1714_15_12.881747\\assets\n"
     ]
    },
    {
     "name": "stdout",
     "output_type": "stream",
     "text": [
      "19/34 [===============>..............] - ETA: 6:57 - loss: 1.8920 - categorical_accuracy: 0.3855\n",
      "Epoch 1: saving model to model_init_2023-05-1714_15_12.881747\\\n",
      "INFO:tensorflow:Assets written to: model_init_2023-05-1714_15_12.881747\\assets\n"
     ]
    },
    {
     "name": "stderr",
     "output_type": "stream",
     "text": [
      "INFO:tensorflow:Assets written to: model_init_2023-05-1714_15_12.881747\\assets\n"
     ]
    },
    {
     "name": "stdout",
     "output_type": "stream",
     "text": [
      "20/34 [================>.............] - ETA: 6:29 - loss: 1.9084 - categorical_accuracy: 0.3812\n",
      "Epoch 1: saving model to model_init_2023-05-1714_15_12.881747\\\n",
      "INFO:tensorflow:Assets written to: model_init_2023-05-1714_15_12.881747\\assets\n"
     ]
    },
    {
     "name": "stderr",
     "output_type": "stream",
     "text": [
      "INFO:tensorflow:Assets written to: model_init_2023-05-1714_15_12.881747\\assets\n"
     ]
    },
    {
     "name": "stdout",
     "output_type": "stream",
     "text": [
      "21/34 [=================>............] - ETA: 6:01 - loss: 1.9197 - categorical_accuracy: 0.3821\n",
      "Epoch 1: saving model to model_init_2023-05-1714_15_12.881747\\\n",
      "INFO:tensorflow:Assets written to: model_init_2023-05-1714_15_12.881747\\assets\n"
     ]
    },
    {
     "name": "stderr",
     "output_type": "stream",
     "text": [
      "INFO:tensorflow:Assets written to: model_init_2023-05-1714_15_12.881747\\assets\n"
     ]
    },
    {
     "name": "stdout",
     "output_type": "stream",
     "text": [
      "22/34 [==================>...........] - ETA: 5:33 - loss: 1.9071 - categorical_accuracy: 0.3886\n",
      "Epoch 1: saving model to model_init_2023-05-1714_15_12.881747\\\n",
      "INFO:tensorflow:Assets written to: model_init_2023-05-1714_15_12.881747\\assets\n"
     ]
    },
    {
     "name": "stderr",
     "output_type": "stream",
     "text": [
      "INFO:tensorflow:Assets written to: model_init_2023-05-1714_15_12.881747\\assets\n"
     ]
    },
    {
     "name": "stdout",
     "output_type": "stream",
     "text": [
      "23/34 [===================>..........] - ETA: 5:05 - loss: 1.8875 - categorical_accuracy: 0.3913\n",
      "Epoch 1: saving model to model_init_2023-05-1714_15_12.881747\\\n",
      "INFO:tensorflow:Assets written to: model_init_2023-05-1714_15_12.881747\\assets\n"
     ]
    },
    {
     "name": "stderr",
     "output_type": "stream",
     "text": [
      "INFO:tensorflow:Assets written to: model_init_2023-05-1714_15_12.881747\\assets\n"
     ]
    },
    {
     "name": "stdout",
     "output_type": "stream",
     "text": [
      "24/34 [====================>.........] - ETA: 4:37 - loss: 1.8670 - categorical_accuracy: 0.3958\n",
      "Epoch 1: saving model to model_init_2023-05-1714_15_12.881747\\\n",
      "INFO:tensorflow:Assets written to: model_init_2023-05-1714_15_12.881747\\assets\n"
     ]
    },
    {
     "name": "stderr",
     "output_type": "stream",
     "text": [
      "INFO:tensorflow:Assets written to: model_init_2023-05-1714_15_12.881747\\assets\n"
     ]
    },
    {
     "name": "stdout",
     "output_type": "stream",
     "text": [
      "25/34 [=====================>........] - ETA: 4:09 - loss: 1.8561 - categorical_accuracy: 0.3960\n",
      "Epoch 1: saving model to model_init_2023-05-1714_15_12.881747\\\n",
      "INFO:tensorflow:Assets written to: model_init_2023-05-1714_15_12.881747\\assets\n"
     ]
    },
    {
     "name": "stderr",
     "output_type": "stream",
     "text": [
      "INFO:tensorflow:Assets written to: model_init_2023-05-1714_15_12.881747\\assets\n"
     ]
    },
    {
     "name": "stdout",
     "output_type": "stream",
     "text": [
      "26/34 [=====================>........] - ETA: 3:41 - loss: 1.8330 - categorical_accuracy: 0.4010\n",
      "Epoch 1: saving model to model_init_2023-05-1714_15_12.881747\\\n",
      "INFO:tensorflow:Assets written to: model_init_2023-05-1714_15_12.881747\\assets\n"
     ]
    },
    {
     "name": "stderr",
     "output_type": "stream",
     "text": [
      "INFO:tensorflow:Assets written to: model_init_2023-05-1714_15_12.881747\\assets\n"
     ]
    },
    {
     "name": "stdout",
     "output_type": "stream",
     "text": [
      "27/34 [======================>.......] - ETA: 3:14 - loss: 1.8264 - categorical_accuracy: 0.4065\n",
      "Epoch 1: saving model to model_init_2023-05-1714_15_12.881747\\\n",
      "INFO:tensorflow:Assets written to: model_init_2023-05-1714_15_12.881747\\assets\n"
     ]
    },
    {
     "name": "stderr",
     "output_type": "stream",
     "text": [
      "INFO:tensorflow:Assets written to: model_init_2023-05-1714_15_12.881747\\assets\n"
     ]
    },
    {
     "name": "stdout",
     "output_type": "stream",
     "text": [
      "28/34 [=======================>......] - ETA: 2:46 - loss: 1.8253 - categorical_accuracy: 0.4089\n",
      "Epoch 1: saving model to model_init_2023-05-1714_15_12.881747\\\n",
      "INFO:tensorflow:Assets written to: model_init_2023-05-1714_15_12.881747\\assets\n"
     ]
    },
    {
     "name": "stderr",
     "output_type": "stream",
     "text": [
      "INFO:tensorflow:Assets written to: model_init_2023-05-1714_15_12.881747\\assets\n"
     ]
    },
    {
     "name": "stdout",
     "output_type": "stream",
     "text": [
      "29/34 [========================>.....] - ETA: 2:18 - loss: 1.8252 - categorical_accuracy: 0.4095\n",
      "Epoch 1: saving model to model_init_2023-05-1714_15_12.881747\\\n",
      "INFO:tensorflow:Assets written to: model_init_2023-05-1714_15_12.881747\\assets\n"
     ]
    },
    {
     "name": "stderr",
     "output_type": "stream",
     "text": [
      "INFO:tensorflow:Assets written to: model_init_2023-05-1714_15_12.881747\\assets\n"
     ]
    },
    {
     "name": "stdout",
     "output_type": "stream",
     "text": [
      "30/34 [=========================>....] - ETA: 1:50 - loss: 1.8294 - categorical_accuracy: 0.4092\n",
      "Epoch 1: saving model to model_init_2023-05-1714_15_12.881747\\\n",
      "INFO:tensorflow:Assets written to: model_init_2023-05-1714_15_12.881747\\assets\n"
     ]
    },
    {
     "name": "stderr",
     "output_type": "stream",
     "text": [
      "INFO:tensorflow:Assets written to: model_init_2023-05-1714_15_12.881747\\assets\n"
     ]
    },
    {
     "name": "stdout",
     "output_type": "stream",
     "text": [
      "31/34 [==========================>...] - ETA: 1:23 - loss: 1.8172 - categorical_accuracy: 0.4105\n",
      "Epoch 1: saving model to model_init_2023-05-1714_15_12.881747\\\n",
      "INFO:tensorflow:Assets written to: model_init_2023-05-1714_15_12.881747\\assets\n"
     ]
    },
    {
     "name": "stderr",
     "output_type": "stream",
     "text": [
      "INFO:tensorflow:Assets written to: model_init_2023-05-1714_15_12.881747\\assets\n"
     ]
    },
    {
     "name": "stdout",
     "output_type": "stream",
     "text": [
      "32/34 [===========================>..] - ETA: 55s - loss: 1.8074 - categorical_accuracy: 0.4141 \n",
      "Epoch 1: saving model to model_init_2023-05-1714_15_12.881747\\\n",
      "INFO:tensorflow:Assets written to: model_init_2023-05-1714_15_12.881747\\assets\n"
     ]
    },
    {
     "name": "stderr",
     "output_type": "stream",
     "text": [
      "INFO:tensorflow:Assets written to: model_init_2023-05-1714_15_12.881747\\assets\n"
     ]
    },
    {
     "name": "stdout",
     "output_type": "stream",
     "text": [
      "33/34 [============================>.] - ETA: 27s - loss: 1.7916 - categorical_accuracy: 0.4182\n",
      "Epoch 1: saving model to model_init_2023-05-1714_15_12.881747\\\n",
      "INFO:tensorflow:Assets written to: model_init_2023-05-1714_15_12.881747\\assets\n"
     ]
    },
    {
     "name": "stderr",
     "output_type": "stream",
     "text": [
      "INFO:tensorflow:Assets written to: model_init_2023-05-1714_15_12.881747\\assets\n"
     ]
    },
    {
     "name": "stdout",
     "output_type": "stream",
     "text": [
      "34/34 [==============================] - 935s 27s/step - loss: 1.7927 - categorical_accuracy: 0.4178 - val_loss: 3.6614 - val_categorical_accuracy: 0.1600 - lr: 0.0010\n",
      "Epoch 2/20\n",
      "\n",
      "Epoch 2: saving model to model_init_2023-05-1714_15_12.881747\\\n",
      "INFO:tensorflow:Assets written to: model_init_2023-05-1714_15_12.881747\\assets\n"
     ]
    },
    {
     "name": "stderr",
     "output_type": "stream",
     "text": [
      "INFO:tensorflow:Assets written to: model_init_2023-05-1714_15_12.881747\\assets\n"
     ]
    },
    {
     "name": "stdout",
     "output_type": "stream",
     "text": [
      " 1/34 [..............................] - ETA: 15:10 - loss: 1.1432 - categorical_accuracy: 0.6500\n",
      "Epoch 2: saving model to model_init_2023-05-1714_15_12.881747\\\n",
      "INFO:tensorflow:Assets written to: model_init_2023-05-1714_15_12.881747\\assets\n"
     ]
    },
    {
     "name": "stderr",
     "output_type": "stream",
     "text": [
      "INFO:tensorflow:Assets written to: model_init_2023-05-1714_15_12.881747\\assets\n"
     ]
    },
    {
     "name": "stdout",
     "output_type": "stream",
     "text": [
      " 2/34 [>.............................] - ETA: 14:46 - loss: 1.1397 - categorical_accuracy: 0.6500\n",
      "Epoch 2: saving model to model_init_2023-05-1714_15_12.881747\\\n",
      "INFO:tensorflow:Assets written to: model_init_2023-05-1714_15_12.881747\\assets\n"
     ]
    },
    {
     "name": "stderr",
     "output_type": "stream",
     "text": [
      "INFO:tensorflow:Assets written to: model_init_2023-05-1714_15_12.881747\\assets\n"
     ]
    },
    {
     "name": "stdout",
     "output_type": "stream",
     "text": [
      " 3/34 [=>............................] - ETA: 14:16 - loss: 1.2156 - categorical_accuracy: 0.5833\n",
      "Epoch 2: saving model to model_init_2023-05-1714_15_12.881747\\\n",
      "INFO:tensorflow:Assets written to: model_init_2023-05-1714_15_12.881747\\assets\n"
     ]
    },
    {
     "name": "stderr",
     "output_type": "stream",
     "text": [
      "INFO:tensorflow:Assets written to: model_init_2023-05-1714_15_12.881747\\assets\n"
     ]
    },
    {
     "name": "stdout",
     "output_type": "stream",
     "text": [
      " 4/34 [==>...........................] - ETA: 13:47 - loss: 1.4478 - categorical_accuracy: 0.5437\n",
      "Epoch 2: saving model to model_init_2023-05-1714_15_12.881747\\\n",
      "INFO:tensorflow:Assets written to: model_init_2023-05-1714_15_12.881747\\assets\n"
     ]
    },
    {
     "name": "stderr",
     "output_type": "stream",
     "text": [
      "INFO:tensorflow:Assets written to: model_init_2023-05-1714_15_12.881747\\assets\n"
     ]
    },
    {
     "name": "stdout",
     "output_type": "stream",
     "text": [
      " 5/34 [===>..........................] - ETA: 13:18 - loss: 1.4441 - categorical_accuracy: 0.5450\n",
      "Epoch 2: saving model to model_init_2023-05-1714_15_12.881747\\\n",
      "INFO:tensorflow:Assets written to: model_init_2023-05-1714_15_12.881747\\assets\n"
     ]
    },
    {
     "name": "stderr",
     "output_type": "stream",
     "text": [
      "INFO:tensorflow:Assets written to: model_init_2023-05-1714_15_12.881747\\assets\n"
     ]
    },
    {
     "name": "stdout",
     "output_type": "stream",
     "text": [
      " 6/34 [====>.........................] - ETA: 12:50 - loss: 1.3881 - categorical_accuracy: 0.5583\n",
      "Epoch 2: saving model to model_init_2023-05-1714_15_12.881747\\\n",
      "INFO:tensorflow:Assets written to: model_init_2023-05-1714_15_12.881747\\assets\n"
     ]
    },
    {
     "name": "stderr",
     "output_type": "stream",
     "text": [
      "INFO:tensorflow:Assets written to: model_init_2023-05-1714_15_12.881747\\assets\n"
     ]
    },
    {
     "name": "stdout",
     "output_type": "stream",
     "text": [
      " 7/34 [=====>........................] - ETA: 12:23 - loss: 1.3353 - categorical_accuracy: 0.5607\n",
      "Epoch 2: saving model to model_init_2023-05-1714_15_12.881747\\\n",
      "INFO:tensorflow:Assets written to: model_init_2023-05-1714_15_12.881747\\assets\n"
     ]
    },
    {
     "name": "stderr",
     "output_type": "stream",
     "text": [
      "INFO:tensorflow:Assets written to: model_init_2023-05-1714_15_12.881747\\assets\n"
     ]
    },
    {
     "name": "stdout",
     "output_type": "stream",
     "text": [
      " 8/34 [======>.......................] - ETA: 11:53 - loss: 1.3570 - categorical_accuracy: 0.5500\n",
      "Epoch 2: saving model to model_init_2023-05-1714_15_12.881747\\\n",
      "INFO:tensorflow:Assets written to: model_init_2023-05-1714_15_12.881747\\assets\n"
     ]
    },
    {
     "name": "stderr",
     "output_type": "stream",
     "text": [
      "INFO:tensorflow:Assets written to: model_init_2023-05-1714_15_12.881747\\assets\n"
     ]
    },
    {
     "name": "stdout",
     "output_type": "stream",
     "text": [
      " 9/34 [======>.......................] - ETA: 11:26 - loss: 1.3379 - categorical_accuracy: 0.5528\n",
      "Epoch 2: saving model to model_init_2023-05-1714_15_12.881747\\\n",
      "INFO:tensorflow:Assets written to: model_init_2023-05-1714_15_12.881747\\assets\n"
     ]
    },
    {
     "name": "stderr",
     "output_type": "stream",
     "text": [
      "INFO:tensorflow:Assets written to: model_init_2023-05-1714_15_12.881747\\assets\n"
     ]
    },
    {
     "name": "stdout",
     "output_type": "stream",
     "text": [
      "10/34 [=======>......................] - ETA: 10:59 - loss: 1.3736 - categorical_accuracy: 0.5400\n",
      "Epoch 2: saving model to model_init_2023-05-1714_15_12.881747\\\n",
      "INFO:tensorflow:Assets written to: model_init_2023-05-1714_15_12.881747\\assets\n"
     ]
    },
    {
     "name": "stderr",
     "output_type": "stream",
     "text": [
      "INFO:tensorflow:Assets written to: model_init_2023-05-1714_15_12.881747\\assets\n"
     ]
    },
    {
     "name": "stdout",
     "output_type": "stream",
     "text": [
      "11/34 [========>.....................] - ETA: 10:31 - loss: 1.3688 - categorical_accuracy: 0.5364\n",
      "Epoch 2: saving model to model_init_2023-05-1714_15_12.881747\\\n",
      "INFO:tensorflow:Assets written to: model_init_2023-05-1714_15_12.881747\\assets\n"
     ]
    },
    {
     "name": "stderr",
     "output_type": "stream",
     "text": [
      "INFO:tensorflow:Assets written to: model_init_2023-05-1714_15_12.881747\\assets\n"
     ]
    },
    {
     "name": "stdout",
     "output_type": "stream",
     "text": [
      "12/34 [=========>....................] - ETA: 10:04 - loss: 1.3998 - categorical_accuracy: 0.5250\n",
      "Epoch 2: saving model to model_init_2023-05-1714_15_12.881747\\\n",
      "INFO:tensorflow:Assets written to: model_init_2023-05-1714_15_12.881747\\assets\n"
     ]
    },
    {
     "name": "stderr",
     "output_type": "stream",
     "text": [
      "INFO:tensorflow:Assets written to: model_init_2023-05-1714_15_12.881747\\assets\n"
     ]
    },
    {
     "name": "stdout",
     "output_type": "stream",
     "text": [
      "13/34 [==========>...................] - ETA: 9:37 - loss: 1.4102 - categorical_accuracy: 0.5288 \n",
      "Epoch 2: saving model to model_init_2023-05-1714_15_12.881747\\\n",
      "INFO:tensorflow:Assets written to: model_init_2023-05-1714_15_12.881747\\assets\n"
     ]
    },
    {
     "name": "stderr",
     "output_type": "stream",
     "text": [
      "INFO:tensorflow:Assets written to: model_init_2023-05-1714_15_12.881747\\assets\n"
     ]
    },
    {
     "name": "stdout",
     "output_type": "stream",
     "text": [
      "14/34 [===========>..................] - ETA: 9:09 - loss: 1.4066 - categorical_accuracy: 0.5304\n",
      "Epoch 2: saving model to model_init_2023-05-1714_15_12.881747\\\n",
      "INFO:tensorflow:Assets written to: model_init_2023-05-1714_15_12.881747\\assets\n"
     ]
    },
    {
     "name": "stderr",
     "output_type": "stream",
     "text": [
      "INFO:tensorflow:Assets written to: model_init_2023-05-1714_15_12.881747\\assets\n"
     ]
    },
    {
     "name": "stdout",
     "output_type": "stream",
     "text": [
      "15/34 [============>.................] - ETA: 8:42 - loss: 1.3775 - categorical_accuracy: 0.5350\n",
      "Epoch 2: saving model to model_init_2023-05-1714_15_12.881747\\\n",
      "INFO:tensorflow:Assets written to: model_init_2023-05-1714_15_12.881747\\assets\n"
     ]
    },
    {
     "name": "stderr",
     "output_type": "stream",
     "text": [
      "INFO:tensorflow:Assets written to: model_init_2023-05-1714_15_12.881747\\assets\n"
     ]
    },
    {
     "name": "stdout",
     "output_type": "stream",
     "text": [
      "16/34 [=============>................] - ETA: 8:15 - loss: 1.3480 - categorical_accuracy: 0.5422\n",
      "Epoch 2: saving model to model_init_2023-05-1714_15_12.881747\\\n",
      "INFO:tensorflow:Assets written to: model_init_2023-05-1714_15_12.881747\\assets\n"
     ]
    },
    {
     "name": "stderr",
     "output_type": "stream",
     "text": [
      "INFO:tensorflow:Assets written to: model_init_2023-05-1714_15_12.881747\\assets\n"
     ]
    },
    {
     "name": "stdout",
     "output_type": "stream",
     "text": [
      "17/34 [==============>...............] - ETA: 7:47 - loss: 1.3267 - categorical_accuracy: 0.5456\n",
      "Epoch 2: saving model to model_init_2023-05-1714_15_12.881747\\\n",
      "INFO:tensorflow:Assets written to: model_init_2023-05-1714_15_12.881747\\assets\n"
     ]
    },
    {
     "name": "stderr",
     "output_type": "stream",
     "text": [
      "INFO:tensorflow:Assets written to: model_init_2023-05-1714_15_12.881747\\assets\n"
     ]
    },
    {
     "name": "stdout",
     "output_type": "stream",
     "text": [
      "18/34 [==============>...............] - ETA: 7:20 - loss: 1.3238 - categorical_accuracy: 0.5472\n",
      "Epoch 2: saving model to model_init_2023-05-1714_15_12.881747\\\n",
      "INFO:tensorflow:Assets written to: model_init_2023-05-1714_15_12.881747\\assets\n"
     ]
    },
    {
     "name": "stderr",
     "output_type": "stream",
     "text": [
      "INFO:tensorflow:Assets written to: model_init_2023-05-1714_15_12.881747\\assets\n"
     ]
    },
    {
     "name": "stdout",
     "output_type": "stream",
     "text": [
      "19/34 [===============>..............] - ETA: 6:52 - loss: 1.3024 - categorical_accuracy: 0.5513\n",
      "Epoch 2: saving model to model_init_2023-05-1714_15_12.881747\\\n",
      "INFO:tensorflow:Assets written to: model_init_2023-05-1714_15_12.881747\\assets\n"
     ]
    },
    {
     "name": "stderr",
     "output_type": "stream",
     "text": [
      "INFO:tensorflow:Assets written to: model_init_2023-05-1714_15_12.881747\\assets\n"
     ]
    },
    {
     "name": "stdout",
     "output_type": "stream",
     "text": [
      "20/34 [================>.............] - ETA: 6:24 - loss: 1.2946 - categorical_accuracy: 0.5525\n",
      "Epoch 2: saving model to model_init_2023-05-1714_15_12.881747\\\n",
      "INFO:tensorflow:Assets written to: model_init_2023-05-1714_15_12.881747\\assets\n"
     ]
    },
    {
     "name": "stderr",
     "output_type": "stream",
     "text": [
      "INFO:tensorflow:Assets written to: model_init_2023-05-1714_15_12.881747\\assets\n"
     ]
    },
    {
     "name": "stdout",
     "output_type": "stream",
     "text": [
      "21/34 [=================>............] - ETA: 5:57 - loss: 1.2992 - categorical_accuracy: 0.5452\n",
      "Epoch 2: saving model to model_init_2023-05-1714_15_12.881747\\\n",
      "INFO:tensorflow:Assets written to: model_init_2023-05-1714_15_12.881747\\assets\n"
     ]
    },
    {
     "name": "stderr",
     "output_type": "stream",
     "text": [
      "INFO:tensorflow:Assets written to: model_init_2023-05-1714_15_12.881747\\assets\n"
     ]
    },
    {
     "name": "stdout",
     "output_type": "stream",
     "text": [
      "22/34 [==================>...........] - ETA: 5:30 - loss: 1.3011 - categorical_accuracy: 0.5477\n",
      "Epoch 2: saving model to model_init_2023-05-1714_15_12.881747\\\n",
      "INFO:tensorflow:Assets written to: model_init_2023-05-1714_15_12.881747\\assets\n"
     ]
    },
    {
     "name": "stderr",
     "output_type": "stream",
     "text": [
      "INFO:tensorflow:Assets written to: model_init_2023-05-1714_15_12.881747\\assets\n"
     ]
    },
    {
     "name": "stdout",
     "output_type": "stream",
     "text": [
      "23/34 [===================>..........] - ETA: 5:02 - loss: 1.2886 - categorical_accuracy: 0.5511\n",
      "Epoch 2: saving model to model_init_2023-05-1714_15_12.881747\\\n",
      "INFO:tensorflow:Assets written to: model_init_2023-05-1714_15_12.881747\\assets\n"
     ]
    },
    {
     "name": "stderr",
     "output_type": "stream",
     "text": [
      "INFO:tensorflow:Assets written to: model_init_2023-05-1714_15_12.881747\\assets\n"
     ]
    },
    {
     "name": "stdout",
     "output_type": "stream",
     "text": [
      "24/34 [====================>.........] - ETA: 4:35 - loss: 1.3052 - categorical_accuracy: 0.5510\n",
      "Epoch 2: saving model to model_init_2023-05-1714_15_12.881747\\\n",
      "INFO:tensorflow:Assets written to: model_init_2023-05-1714_15_12.881747\\assets\n"
     ]
    },
    {
     "name": "stderr",
     "output_type": "stream",
     "text": [
      "INFO:tensorflow:Assets written to: model_init_2023-05-1714_15_12.881747\\assets\n"
     ]
    },
    {
     "name": "stdout",
     "output_type": "stream",
     "text": [
      "25/34 [=====================>........] - ETA: 4:07 - loss: 1.3026 - categorical_accuracy: 0.5540\n",
      "Epoch 2: saving model to model_init_2023-05-1714_15_12.881747\\\n",
      "INFO:tensorflow:Assets written to: model_init_2023-05-1714_15_12.881747\\assets\n"
     ]
    },
    {
     "name": "stderr",
     "output_type": "stream",
     "text": [
      "INFO:tensorflow:Assets written to: model_init_2023-05-1714_15_12.881747\\assets\n"
     ]
    },
    {
     "name": "stdout",
     "output_type": "stream",
     "text": [
      "26/34 [=====================>........] - ETA: 3:40 - loss: 1.3010 - categorical_accuracy: 0.5558\n",
      "Epoch 2: saving model to model_init_2023-05-1714_15_12.881747\\\n",
      "INFO:tensorflow:Assets written to: model_init_2023-05-1714_15_12.881747\\assets\n"
     ]
    },
    {
     "name": "stderr",
     "output_type": "stream",
     "text": [
      "INFO:tensorflow:Assets written to: model_init_2023-05-1714_15_12.881747\\assets\n"
     ]
    },
    {
     "name": "stdout",
     "output_type": "stream",
     "text": [
      "27/34 [======================>.......] - ETA: 3:12 - loss: 1.2985 - categorical_accuracy: 0.5574\n",
      "Epoch 2: saving model to model_init_2023-05-1714_15_12.881747\\\n",
      "INFO:tensorflow:Assets written to: model_init_2023-05-1714_15_12.881747\\assets\n"
     ]
    },
    {
     "name": "stderr",
     "output_type": "stream",
     "text": [
      "INFO:tensorflow:Assets written to: model_init_2023-05-1714_15_12.881747\\assets\n"
     ]
    },
    {
     "name": "stdout",
     "output_type": "stream",
     "text": [
      "28/34 [=======================>......] - ETA: 2:45 - loss: 1.2897 - categorical_accuracy: 0.5598\n",
      "Epoch 2: saving model to model_init_2023-05-1714_15_12.881747\\\n",
      "INFO:tensorflow:Assets written to: model_init_2023-05-1714_15_12.881747\\assets\n"
     ]
    },
    {
     "name": "stderr",
     "output_type": "stream",
     "text": [
      "INFO:tensorflow:Assets written to: model_init_2023-05-1714_15_12.881747\\assets\n"
     ]
    },
    {
     "name": "stdout",
     "output_type": "stream",
     "text": [
      "29/34 [========================>.....] - ETA: 2:17 - loss: 1.2762 - categorical_accuracy: 0.5655\n",
      "Epoch 2: saving model to model_init_2023-05-1714_15_12.881747\\\n",
      "INFO:tensorflow:Assets written to: model_init_2023-05-1714_15_12.881747\\assets\n"
     ]
    },
    {
     "name": "stderr",
     "output_type": "stream",
     "text": [
      "INFO:tensorflow:Assets written to: model_init_2023-05-1714_15_12.881747\\assets\n"
     ]
    },
    {
     "name": "stdout",
     "output_type": "stream",
     "text": [
      "30/34 [=========================>....] - ETA: 1:50 - loss: 1.2661 - categorical_accuracy: 0.5650\n",
      "Epoch 2: saving model to model_init_2023-05-1714_15_12.881747\\\n",
      "INFO:tensorflow:Assets written to: model_init_2023-05-1714_15_12.881747\\assets\n"
     ]
    },
    {
     "name": "stderr",
     "output_type": "stream",
     "text": [
      "INFO:tensorflow:Assets written to: model_init_2023-05-1714_15_12.881747\\assets\n"
     ]
    },
    {
     "name": "stdout",
     "output_type": "stream",
     "text": [
      "31/34 [==========================>...] - ETA: 1:22 - loss: 1.2665 - categorical_accuracy: 0.5653\n",
      "Epoch 2: saving model to model_init_2023-05-1714_15_12.881747\\\n",
      "INFO:tensorflow:Assets written to: model_init_2023-05-1714_15_12.881747\\assets\n"
     ]
    },
    {
     "name": "stderr",
     "output_type": "stream",
     "text": [
      "INFO:tensorflow:Assets written to: model_init_2023-05-1714_15_12.881747\\assets\n"
     ]
    },
    {
     "name": "stdout",
     "output_type": "stream",
     "text": [
      "32/34 [===========================>..] - ETA: 55s - loss: 1.2666 - categorical_accuracy: 0.5672 \n",
      "Epoch 2: saving model to model_init_2023-05-1714_15_12.881747\\\n",
      "INFO:tensorflow:Assets written to: model_init_2023-05-1714_15_12.881747\\assets\n"
     ]
    },
    {
     "name": "stderr",
     "output_type": "stream",
     "text": [
      "INFO:tensorflow:Assets written to: model_init_2023-05-1714_15_12.881747\\assets\n"
     ]
    },
    {
     "name": "stdout",
     "output_type": "stream",
     "text": [
      "33/34 [============================>.] - ETA: 27s - loss: 1.2611 - categorical_accuracy: 0.5674\n",
      "Epoch 2: saving model to model_init_2023-05-1714_15_12.881747\\\n",
      "INFO:tensorflow:Assets written to: model_init_2023-05-1714_15_12.881747\\assets\n"
     ]
    },
    {
     "name": "stderr",
     "output_type": "stream",
     "text": [
      "INFO:tensorflow:Assets written to: model_init_2023-05-1714_15_12.881747\\assets\n"
     ]
    },
    {
     "name": "stdout",
     "output_type": "stream",
     "text": [
      "34/34 [==============================] - 929s 27s/step - loss: 1.2653 - categorical_accuracy: 0.5664 - val_loss: 3.7654 - val_categorical_accuracy: 0.2100 - lr: 0.0010\n",
      "Epoch 3/20\n",
      "\n",
      "Epoch 3: saving model to model_init_2023-05-1714_15_12.881747\\\n",
      "INFO:tensorflow:Assets written to: model_init_2023-05-1714_15_12.881747\\assets\n"
     ]
    },
    {
     "name": "stderr",
     "output_type": "stream",
     "text": [
      "INFO:tensorflow:Assets written to: model_init_2023-05-1714_15_12.881747\\assets\n"
     ]
    },
    {
     "name": "stdout",
     "output_type": "stream",
     "text": [
      " 1/34 [..............................] - ETA: 15:11 - loss: 1.0347 - categorical_accuracy: 0.6750\n",
      "Epoch 3: saving model to model_init_2023-05-1714_15_12.881747\\\n",
      "INFO:tensorflow:Assets written to: model_init_2023-05-1714_15_12.881747\\assets\n"
     ]
    },
    {
     "name": "stderr",
     "output_type": "stream",
     "text": [
      "INFO:tensorflow:Assets written to: model_init_2023-05-1714_15_12.881747\\assets\n"
     ]
    },
    {
     "name": "stdout",
     "output_type": "stream",
     "text": [
      " 2/34 [>.............................] - ETA: 14:43 - loss: 1.3402 - categorical_accuracy: 0.5375\n",
      "Epoch 3: saving model to model_init_2023-05-1714_15_12.881747\\\n",
      "INFO:tensorflow:Assets written to: model_init_2023-05-1714_15_12.881747\\assets\n"
     ]
    },
    {
     "name": "stderr",
     "output_type": "stream",
     "text": [
      "INFO:tensorflow:Assets written to: model_init_2023-05-1714_15_12.881747\\assets\n"
     ]
    },
    {
     "name": "stdout",
     "output_type": "stream",
     "text": [
      " 3/34 [=>............................] - ETA: 14:17 - loss: 1.3135 - categorical_accuracy: 0.5250\n",
      "Epoch 3: saving model to model_init_2023-05-1714_15_12.881747\\\n",
      "INFO:tensorflow:Assets written to: model_init_2023-05-1714_15_12.881747\\assets\n"
     ]
    },
    {
     "name": "stderr",
     "output_type": "stream",
     "text": [
      "INFO:tensorflow:Assets written to: model_init_2023-05-1714_15_12.881747\\assets\n"
     ]
    },
    {
     "name": "stdout",
     "output_type": "stream",
     "text": [
      " 4/34 [==>...........................] - ETA: 13:52 - loss: 1.3300 - categorical_accuracy: 0.5250\n",
      "Epoch 3: saving model to model_init_2023-05-1714_15_12.881747\\\n",
      "INFO:tensorflow:Assets written to: model_init_2023-05-1714_15_12.881747\\assets\n"
     ]
    },
    {
     "name": "stderr",
     "output_type": "stream",
     "text": [
      "INFO:tensorflow:Assets written to: model_init_2023-05-1714_15_12.881747\\assets\n"
     ]
    },
    {
     "name": "stdout",
     "output_type": "stream",
     "text": [
      " 5/34 [===>..........................] - ETA: 13:24 - loss: 1.5367 - categorical_accuracy: 0.4850\n",
      "Epoch 3: saving model to model_init_2023-05-1714_15_12.881747\\\n",
      "INFO:tensorflow:Assets written to: model_init_2023-05-1714_15_12.881747\\assets\n"
     ]
    },
    {
     "name": "stderr",
     "output_type": "stream",
     "text": [
      "INFO:tensorflow:Assets written to: model_init_2023-05-1714_15_12.881747\\assets\n"
     ]
    },
    {
     "name": "stdout",
     "output_type": "stream",
     "text": [
      " 6/34 [====>.........................] - ETA: 12:56 - loss: 1.4897 - categorical_accuracy: 0.5000\n",
      "Epoch 3: saving model to model_init_2023-05-1714_15_12.881747\\\n",
      "INFO:tensorflow:Assets written to: model_init_2023-05-1714_15_12.881747\\assets\n"
     ]
    },
    {
     "name": "stderr",
     "output_type": "stream",
     "text": [
      "INFO:tensorflow:Assets written to: model_init_2023-05-1714_15_12.881747\\assets\n"
     ]
    },
    {
     "name": "stdout",
     "output_type": "stream",
     "text": [
      " 7/34 [=====>........................] - ETA: 12:28 - loss: 1.5360 - categorical_accuracy: 0.4964\n",
      "Epoch 3: saving model to model_init_2023-05-1714_15_12.881747\\\n",
      "INFO:tensorflow:Assets written to: model_init_2023-05-1714_15_12.881747\\assets\n"
     ]
    },
    {
     "name": "stderr",
     "output_type": "stream",
     "text": [
      "INFO:tensorflow:Assets written to: model_init_2023-05-1714_15_12.881747\\assets\n"
     ]
    },
    {
     "name": "stdout",
     "output_type": "stream",
     "text": [
      " 8/34 [======>.......................] - ETA: 12:00 - loss: 1.4672 - categorical_accuracy: 0.5219\n",
      "Epoch 3: saving model to model_init_2023-05-1714_15_12.881747\\\n",
      "INFO:tensorflow:Assets written to: model_init_2023-05-1714_15_12.881747\\assets\n"
     ]
    },
    {
     "name": "stderr",
     "output_type": "stream",
     "text": [
      "INFO:tensorflow:Assets written to: model_init_2023-05-1714_15_12.881747\\assets\n"
     ]
    },
    {
     "name": "stdout",
     "output_type": "stream",
     "text": [
      " 9/34 [======>.......................] - ETA: 11:33 - loss: 1.4264 - categorical_accuracy: 0.5278\n",
      "Epoch 3: saving model to model_init_2023-05-1714_15_12.881747\\\n",
      "INFO:tensorflow:Assets written to: model_init_2023-05-1714_15_12.881747\\assets\n"
     ]
    },
    {
     "name": "stderr",
     "output_type": "stream",
     "text": [
      "INFO:tensorflow:Assets written to: model_init_2023-05-1714_15_12.881747\\assets\n"
     ]
    },
    {
     "name": "stdout",
     "output_type": "stream",
     "text": [
      "10/34 [=======>......................] - ETA: 11:06 - loss: 1.4150 - categorical_accuracy: 0.5275\n",
      "Epoch 3: saving model to model_init_2023-05-1714_15_12.881747\\\n",
      "INFO:tensorflow:Assets written to: model_init_2023-05-1714_15_12.881747\\assets\n"
     ]
    },
    {
     "name": "stderr",
     "output_type": "stream",
     "text": [
      "INFO:tensorflow:Assets written to: model_init_2023-05-1714_15_12.881747\\assets\n"
     ]
    },
    {
     "name": "stdout",
     "output_type": "stream",
     "text": [
      "11/34 [========>.....................] - ETA: 10:38 - loss: 1.4006 - categorical_accuracy: 0.5227\n",
      "Epoch 3: saving model to model_init_2023-05-1714_15_12.881747\\\n",
      "INFO:tensorflow:Assets written to: model_init_2023-05-1714_15_12.881747\\assets\n"
     ]
    },
    {
     "name": "stderr",
     "output_type": "stream",
     "text": [
      "INFO:tensorflow:Assets written to: model_init_2023-05-1714_15_12.881747\\assets\n"
     ]
    },
    {
     "name": "stdout",
     "output_type": "stream",
     "text": [
      "12/34 [=========>....................] - ETA: 10:10 - loss: 1.3969 - categorical_accuracy: 0.5250\n",
      "Epoch 3: saving model to model_init_2023-05-1714_15_12.881747\\\n",
      "INFO:tensorflow:Assets written to: model_init_2023-05-1714_15_12.881747\\assets\n"
     ]
    },
    {
     "name": "stderr",
     "output_type": "stream",
     "text": [
      "INFO:tensorflow:Assets written to: model_init_2023-05-1714_15_12.881747\\assets\n"
     ]
    },
    {
     "name": "stdout",
     "output_type": "stream",
     "text": [
      "13/34 [==========>...................] - ETA: 9:43 - loss: 1.3853 - categorical_accuracy: 0.5250 \n",
      "Epoch 3: saving model to model_init_2023-05-1714_15_12.881747\\\n",
      "INFO:tensorflow:Assets written to: model_init_2023-05-1714_15_12.881747\\assets\n"
     ]
    },
    {
     "name": "stderr",
     "output_type": "stream",
     "text": [
      "INFO:tensorflow:Assets written to: model_init_2023-05-1714_15_12.881747\\assets\n"
     ]
    },
    {
     "name": "stdout",
     "output_type": "stream",
     "text": [
      "14/34 [===========>..................] - ETA: 9:15 - loss: 1.3614 - categorical_accuracy: 0.5304\n",
      "Epoch 3: saving model to model_init_2023-05-1714_15_12.881747\\\n",
      "INFO:tensorflow:Assets written to: model_init_2023-05-1714_15_12.881747\\assets\n"
     ]
    },
    {
     "name": "stderr",
     "output_type": "stream",
     "text": [
      "INFO:tensorflow:Assets written to: model_init_2023-05-1714_15_12.881747\\assets\n"
     ]
    },
    {
     "name": "stdout",
     "output_type": "stream",
     "text": [
      "15/34 [============>.................] - ETA: 8:47 - loss: 1.3488 - categorical_accuracy: 0.5367\n",
      "Epoch 3: saving model to model_init_2023-05-1714_15_12.881747\\\n",
      "INFO:tensorflow:Assets written to: model_init_2023-05-1714_15_12.881747\\assets\n"
     ]
    },
    {
     "name": "stderr",
     "output_type": "stream",
     "text": [
      "INFO:tensorflow:Assets written to: model_init_2023-05-1714_15_12.881747\\assets\n"
     ]
    },
    {
     "name": "stdout",
     "output_type": "stream",
     "text": [
      "16/34 [=============>................] - ETA: 8:20 - loss: 1.3638 - categorical_accuracy: 0.5344\n",
      "Epoch 3: saving model to model_init_2023-05-1714_15_12.881747\\\n",
      "INFO:tensorflow:Assets written to: model_init_2023-05-1714_15_12.881747\\assets\n"
     ]
    },
    {
     "name": "stderr",
     "output_type": "stream",
     "text": [
      "INFO:tensorflow:Assets written to: model_init_2023-05-1714_15_12.881747\\assets\n"
     ]
    },
    {
     "name": "stdout",
     "output_type": "stream",
     "text": [
      "17/34 [==============>...............] - ETA: 7:52 - loss: 1.3536 - categorical_accuracy: 0.5397\n",
      "Epoch 3: saving model to model_init_2023-05-1714_15_12.881747\\\n",
      "INFO:tensorflow:Assets written to: model_init_2023-05-1714_15_12.881747\\assets\n"
     ]
    },
    {
     "name": "stderr",
     "output_type": "stream",
     "text": [
      "INFO:tensorflow:Assets written to: model_init_2023-05-1714_15_12.881747\\assets\n"
     ]
    },
    {
     "name": "stdout",
     "output_type": "stream",
     "text": [
      "18/34 [==============>...............] - ETA: 7:24 - loss: 1.3228 - categorical_accuracy: 0.5458\n",
      "Epoch 3: saving model to model_init_2023-05-1714_15_12.881747\\\n",
      "INFO:tensorflow:Assets written to: model_init_2023-05-1714_15_12.881747\\assets\n"
     ]
    },
    {
     "name": "stderr",
     "output_type": "stream",
     "text": [
      "INFO:tensorflow:Assets written to: model_init_2023-05-1714_15_12.881747\\assets\n"
     ]
    },
    {
     "name": "stdout",
     "output_type": "stream",
     "text": [
      "19/34 [===============>..............] - ETA: 6:56 - loss: 1.2987 - categorical_accuracy: 0.5500\n",
      "Epoch 3: saving model to model_init_2023-05-1714_15_12.881747\\\n",
      "INFO:tensorflow:Assets written to: model_init_2023-05-1714_15_12.881747\\assets\n"
     ]
    },
    {
     "name": "stderr",
     "output_type": "stream",
     "text": [
      "INFO:tensorflow:Assets written to: model_init_2023-05-1714_15_12.881747\\assets\n"
     ]
    },
    {
     "name": "stdout",
     "output_type": "stream",
     "text": [
      "20/34 [================>.............] - ETA: 6:28 - loss: 1.2925 - categorical_accuracy: 0.5512\n",
      "Epoch 3: saving model to model_init_2023-05-1714_15_12.881747\\\n",
      "INFO:tensorflow:Assets written to: model_init_2023-05-1714_15_12.881747\\assets\n"
     ]
    },
    {
     "name": "stderr",
     "output_type": "stream",
     "text": [
      "INFO:tensorflow:Assets written to: model_init_2023-05-1714_15_12.881747\\assets\n"
     ]
    },
    {
     "name": "stdout",
     "output_type": "stream",
     "text": [
      "21/34 [=================>............] - ETA: 6:01 - loss: 1.2792 - categorical_accuracy: 0.5536\n",
      "Epoch 3: saving model to model_init_2023-05-1714_15_12.881747\\\n",
      "INFO:tensorflow:Assets written to: model_init_2023-05-1714_15_12.881747\\assets\n"
     ]
    },
    {
     "name": "stderr",
     "output_type": "stream",
     "text": [
      "INFO:tensorflow:Assets written to: model_init_2023-05-1714_15_12.881747\\assets\n"
     ]
    },
    {
     "name": "stdout",
     "output_type": "stream",
     "text": [
      "22/34 [==================>...........] - ETA: 5:33 - loss: 1.2654 - categorical_accuracy: 0.5534\n",
      "Epoch 3: saving model to model_init_2023-05-1714_15_12.881747\\\n",
      "INFO:tensorflow:Assets written to: model_init_2023-05-1714_15_12.881747\\assets\n"
     ]
    },
    {
     "name": "stderr",
     "output_type": "stream",
     "text": [
      "INFO:tensorflow:Assets written to: model_init_2023-05-1714_15_12.881747\\assets\n"
     ]
    },
    {
     "name": "stdout",
     "output_type": "stream",
     "text": [
      "23/34 [===================>..........] - ETA: 5:05 - loss: 1.2507 - categorical_accuracy: 0.5576\n",
      "Epoch 3: saving model to model_init_2023-05-1714_15_12.881747\\\n",
      "INFO:tensorflow:Assets written to: model_init_2023-05-1714_15_12.881747\\assets\n"
     ]
    },
    {
     "name": "stderr",
     "output_type": "stream",
     "text": [
      "INFO:tensorflow:Assets written to: model_init_2023-05-1714_15_12.881747\\assets\n"
     ]
    },
    {
     "name": "stdout",
     "output_type": "stream",
     "text": [
      "24/34 [====================>.........] - ETA: 4:37 - loss: 1.2524 - categorical_accuracy: 0.5552\n",
      "Epoch 3: saving model to model_init_2023-05-1714_15_12.881747\\\n",
      "INFO:tensorflow:Assets written to: model_init_2023-05-1714_15_12.881747\\assets\n"
     ]
    },
    {
     "name": "stderr",
     "output_type": "stream",
     "text": [
      "INFO:tensorflow:Assets written to: model_init_2023-05-1714_15_12.881747\\assets\n"
     ]
    },
    {
     "name": "stdout",
     "output_type": "stream",
     "text": [
      "25/34 [=====================>........] - ETA: 4:10 - loss: 1.2495 - categorical_accuracy: 0.5590\n",
      "Epoch 3: saving model to model_init_2023-05-1714_15_12.881747\\\n",
      "INFO:tensorflow:Assets written to: model_init_2023-05-1714_15_12.881747\\assets\n"
     ]
    },
    {
     "name": "stderr",
     "output_type": "stream",
     "text": [
      "INFO:tensorflow:Assets written to: model_init_2023-05-1714_15_12.881747\\assets\n"
     ]
    },
    {
     "name": "stdout",
     "output_type": "stream",
     "text": [
      "26/34 [=====================>........] - ETA: 3:42 - loss: 1.2369 - categorical_accuracy: 0.5606\n",
      "Epoch 3: saving model to model_init_2023-05-1714_15_12.881747\\\n",
      "INFO:tensorflow:Assets written to: model_init_2023-05-1714_15_12.881747\\assets\n"
     ]
    },
    {
     "name": "stderr",
     "output_type": "stream",
     "text": [
      "INFO:tensorflow:Assets written to: model_init_2023-05-1714_15_12.881747\\assets\n"
     ]
    },
    {
     "name": "stdout",
     "output_type": "stream",
     "text": [
      "27/34 [======================>.......] - ETA: 3:14 - loss: 1.2315 - categorical_accuracy: 0.5602\n",
      "Epoch 3: saving model to model_init_2023-05-1714_15_12.881747\\\n",
      "INFO:tensorflow:Assets written to: model_init_2023-05-1714_15_12.881747\\assets\n"
     ]
    },
    {
     "name": "stderr",
     "output_type": "stream",
     "text": [
      "INFO:tensorflow:Assets written to: model_init_2023-05-1714_15_12.881747\\assets\n"
     ]
    },
    {
     "name": "stdout",
     "output_type": "stream",
     "text": [
      "28/34 [=======================>......] - ETA: 2:46 - loss: 1.2140 - categorical_accuracy: 0.5634\n",
      "Epoch 3: saving model to model_init_2023-05-1714_15_12.881747\\\n",
      "INFO:tensorflow:Assets written to: model_init_2023-05-1714_15_12.881747\\assets\n"
     ]
    },
    {
     "name": "stderr",
     "output_type": "stream",
     "text": [
      "INFO:tensorflow:Assets written to: model_init_2023-05-1714_15_12.881747\\assets\n"
     ]
    },
    {
     "name": "stdout",
     "output_type": "stream",
     "text": [
      "29/34 [========================>.....] - ETA: 2:18 - loss: 1.2099 - categorical_accuracy: 0.5612\n",
      "Epoch 3: saving model to model_init_2023-05-1714_15_12.881747\\\n",
      "INFO:tensorflow:Assets written to: model_init_2023-05-1714_15_12.881747\\assets\n"
     ]
    },
    {
     "name": "stderr",
     "output_type": "stream",
     "text": [
      "INFO:tensorflow:Assets written to: model_init_2023-05-1714_15_12.881747\\assets\n"
     ]
    },
    {
     "name": "stdout",
     "output_type": "stream",
     "text": [
      "30/34 [=========================>....] - ETA: 1:51 - loss: 1.2112 - categorical_accuracy: 0.5625\n",
      "Epoch 3: saving model to model_init_2023-05-1714_15_12.881747\\\n",
      "INFO:tensorflow:Assets written to: model_init_2023-05-1714_15_12.881747\\assets\n"
     ]
    },
    {
     "name": "stderr",
     "output_type": "stream",
     "text": [
      "INFO:tensorflow:Assets written to: model_init_2023-05-1714_15_12.881747\\assets\n"
     ]
    },
    {
     "name": "stdout",
     "output_type": "stream",
     "text": [
      "31/34 [==========================>...] - ETA: 1:23 - loss: 1.2011 - categorical_accuracy: 0.5669\n",
      "Epoch 3: saving model to model_init_2023-05-1714_15_12.881747\\\n",
      "INFO:tensorflow:Assets written to: model_init_2023-05-1714_15_12.881747\\assets\n"
     ]
    },
    {
     "name": "stderr",
     "output_type": "stream",
     "text": [
      "INFO:tensorflow:Assets written to: model_init_2023-05-1714_15_12.881747\\assets\n"
     ]
    },
    {
     "name": "stdout",
     "output_type": "stream",
     "text": [
      "32/34 [===========================>..] - ETA: 55s - loss: 1.2093 - categorical_accuracy: 0.5633 \n",
      "Epoch 3: saving model to model_init_2023-05-1714_15_12.881747\\\n",
      "INFO:tensorflow:Assets written to: model_init_2023-05-1714_15_12.881747\\assets\n"
     ]
    },
    {
     "name": "stderr",
     "output_type": "stream",
     "text": [
      "INFO:tensorflow:Assets written to: model_init_2023-05-1714_15_12.881747\\assets\n"
     ]
    },
    {
     "name": "stdout",
     "output_type": "stream",
     "text": [
      "33/34 [============================>.] - ETA: 27s - loss: 1.1945 - categorical_accuracy: 0.5674\n",
      "Epoch 3: saving model to model_init_2023-05-1714_15_12.881747\\\n",
      "INFO:tensorflow:Assets written to: model_init_2023-05-1714_15_12.881747\\assets\n"
     ]
    },
    {
     "name": "stderr",
     "output_type": "stream",
     "text": [
      "INFO:tensorflow:Assets written to: model_init_2023-05-1714_15_12.881747\\assets\n"
     ]
    },
    {
     "name": "stdout",
     "output_type": "stream",
     "text": [
      "34/34 [==============================] - 936s 28s/step - loss: 1.1955 - categorical_accuracy: 0.5679 - val_loss: 4.7935 - val_categorical_accuracy: 0.2100 - lr: 0.0010\n",
      "Epoch 4/20\n",
      "\n",
      "Epoch 4: saving model to model_init_2023-05-1714_15_12.881747\\\n",
      "INFO:tensorflow:Assets written to: model_init_2023-05-1714_15_12.881747\\assets\n"
     ]
    },
    {
     "name": "stderr",
     "output_type": "stream",
     "text": [
      "INFO:tensorflow:Assets written to: model_init_2023-05-1714_15_12.881747\\assets\n"
     ]
    },
    {
     "name": "stdout",
     "output_type": "stream",
     "text": [
      " 1/34 [..............................] - ETA: 15:14 - loss: 1.0455 - categorical_accuracy: 0.6250\n",
      "Epoch 4: saving model to model_init_2023-05-1714_15_12.881747\\\n",
      "INFO:tensorflow:Assets written to: model_init_2023-05-1714_15_12.881747\\assets\n"
     ]
    },
    {
     "name": "stderr",
     "output_type": "stream",
     "text": [
      "INFO:tensorflow:Assets written to: model_init_2023-05-1714_15_12.881747\\assets\n"
     ]
    },
    {
     "name": "stdout",
     "output_type": "stream",
     "text": [
      " 2/34 [>.............................] - ETA: 14:47 - loss: 1.1739 - categorical_accuracy: 0.6125\n",
      "Epoch 4: saving model to model_init_2023-05-1714_15_12.881747\\\n",
      "INFO:tensorflow:Assets written to: model_init_2023-05-1714_15_12.881747\\assets\n"
     ]
    },
    {
     "name": "stderr",
     "output_type": "stream",
     "text": [
      "INFO:tensorflow:Assets written to: model_init_2023-05-1714_15_12.881747\\assets\n"
     ]
    },
    {
     "name": "stdout",
     "output_type": "stream",
     "text": [
      " 3/34 [=>............................] - ETA: 14:21 - loss: 1.2026 - categorical_accuracy: 0.5917\n",
      "Epoch 4: saving model to model_init_2023-05-1714_15_12.881747\\\n",
      "INFO:tensorflow:Assets written to: model_init_2023-05-1714_15_12.881747\\assets\n"
     ]
    },
    {
     "name": "stderr",
     "output_type": "stream",
     "text": [
      "INFO:tensorflow:Assets written to: model_init_2023-05-1714_15_12.881747\\assets\n"
     ]
    },
    {
     "name": "stdout",
     "output_type": "stream",
     "text": [
      " 4/34 [==>...........................] - ETA: 13:52 - loss: 1.0963 - categorical_accuracy: 0.6250\n",
      "Epoch 4: saving model to model_init_2023-05-1714_15_12.881747\\\n",
      "INFO:tensorflow:Assets written to: model_init_2023-05-1714_15_12.881747\\assets\n"
     ]
    },
    {
     "name": "stderr",
     "output_type": "stream",
     "text": [
      "INFO:tensorflow:Assets written to: model_init_2023-05-1714_15_12.881747\\assets\n"
     ]
    },
    {
     "name": "stdout",
     "output_type": "stream",
     "text": [
      " 5/34 [===>..........................] - ETA: 13:25 - loss: 1.0870 - categorical_accuracy: 0.6300\n",
      "Epoch 4: saving model to model_init_2023-05-1714_15_12.881747\\\n",
      "INFO:tensorflow:Assets written to: model_init_2023-05-1714_15_12.881747\\assets\n"
     ]
    },
    {
     "name": "stderr",
     "output_type": "stream",
     "text": [
      "INFO:tensorflow:Assets written to: model_init_2023-05-1714_15_12.881747\\assets\n"
     ]
    },
    {
     "name": "stdout",
     "output_type": "stream",
     "text": [
      " 6/34 [====>.........................] - ETA: 12:57 - loss: 1.0298 - categorical_accuracy: 0.6500\n",
      "Epoch 4: saving model to model_init_2023-05-1714_15_12.881747\\\n",
      "INFO:tensorflow:Assets written to: model_init_2023-05-1714_15_12.881747\\assets\n"
     ]
    },
    {
     "name": "stderr",
     "output_type": "stream",
     "text": [
      "INFO:tensorflow:Assets written to: model_init_2023-05-1714_15_12.881747\\assets\n"
     ]
    },
    {
     "name": "stdout",
     "output_type": "stream",
     "text": [
      " 7/34 [=====>........................] - ETA: 12:28 - loss: 1.0911 - categorical_accuracy: 0.6286\n",
      "Epoch 4: saving model to model_init_2023-05-1714_15_12.881747\\\n",
      "INFO:tensorflow:Assets written to: model_init_2023-05-1714_15_12.881747\\assets\n"
     ]
    },
    {
     "name": "stderr",
     "output_type": "stream",
     "text": [
      "INFO:tensorflow:Assets written to: model_init_2023-05-1714_15_12.881747\\assets\n"
     ]
    },
    {
     "name": "stdout",
     "output_type": "stream",
     "text": [
      " 8/34 [======>.......................] - ETA: 12:03 - loss: 1.0607 - categorical_accuracy: 0.6313\n",
      "Epoch 4: saving model to model_init_2023-05-1714_15_12.881747\\\n",
      "INFO:tensorflow:Assets written to: model_init_2023-05-1714_15_12.881747\\assets\n"
     ]
    },
    {
     "name": "stderr",
     "output_type": "stream",
     "text": [
      "INFO:tensorflow:Assets written to: model_init_2023-05-1714_15_12.881747\\assets\n"
     ]
    },
    {
     "name": "stdout",
     "output_type": "stream",
     "text": [
      " 9/34 [======>.......................] - ETA: 11:35 - loss: 1.0529 - categorical_accuracy: 0.6194\n",
      "Epoch 4: saving model to model_init_2023-05-1714_15_12.881747\\\n",
      "INFO:tensorflow:Assets written to: model_init_2023-05-1714_15_12.881747\\assets\n"
     ]
    },
    {
     "name": "stderr",
     "output_type": "stream",
     "text": [
      "INFO:tensorflow:Assets written to: model_init_2023-05-1714_15_12.881747\\assets\n"
     ]
    },
    {
     "name": "stdout",
     "output_type": "stream",
     "text": [
      "10/34 [=======>......................] - ETA: 11:08 - loss: 1.0370 - categorical_accuracy: 0.6300\n",
      "Epoch 4: saving model to model_init_2023-05-1714_15_12.881747\\\n",
      "INFO:tensorflow:Assets written to: model_init_2023-05-1714_15_12.881747\\assets\n"
     ]
    },
    {
     "name": "stderr",
     "output_type": "stream",
     "text": [
      "INFO:tensorflow:Assets written to: model_init_2023-05-1714_15_12.881747\\assets\n"
     ]
    },
    {
     "name": "stdout",
     "output_type": "stream",
     "text": [
      "11/34 [========>.....................] - ETA: 10:40 - loss: 1.0310 - categorical_accuracy: 0.6295\n",
      "Epoch 4: saving model to model_init_2023-05-1714_15_12.881747\\\n",
      "INFO:tensorflow:Assets written to: model_init_2023-05-1714_15_12.881747\\assets\n"
     ]
    },
    {
     "name": "stderr",
     "output_type": "stream",
     "text": [
      "INFO:tensorflow:Assets written to: model_init_2023-05-1714_15_12.881747\\assets\n"
     ]
    },
    {
     "name": "stdout",
     "output_type": "stream",
     "text": [
      "12/34 [=========>....................] - ETA: 10:12 - loss: 1.0445 - categorical_accuracy: 0.6313\n",
      "Epoch 4: saving model to model_init_2023-05-1714_15_12.881747\\\n",
      "INFO:tensorflow:Assets written to: model_init_2023-05-1714_15_12.881747\\assets\n"
     ]
    },
    {
     "name": "stderr",
     "output_type": "stream",
     "text": [
      "INFO:tensorflow:Assets written to: model_init_2023-05-1714_15_12.881747\\assets\n"
     ]
    },
    {
     "name": "stdout",
     "output_type": "stream",
     "text": [
      "13/34 [==========>...................] - ETA: 9:44 - loss: 1.0586 - categorical_accuracy: 0.6288 \n",
      "Epoch 4: saving model to model_init_2023-05-1714_15_12.881747\\\n",
      "INFO:tensorflow:Assets written to: model_init_2023-05-1714_15_12.881747\\assets\n"
     ]
    },
    {
     "name": "stderr",
     "output_type": "stream",
     "text": [
      "INFO:tensorflow:Assets written to: model_init_2023-05-1714_15_12.881747\\assets\n"
     ]
    },
    {
     "name": "stdout",
     "output_type": "stream",
     "text": [
      "14/34 [===========>..................] - ETA: 9:16 - loss: 1.0807 - categorical_accuracy: 0.6232\n",
      "Epoch 4: saving model to model_init_2023-05-1714_15_12.881747\\\n",
      "INFO:tensorflow:Assets written to: model_init_2023-05-1714_15_12.881747\\assets\n"
     ]
    },
    {
     "name": "stderr",
     "output_type": "stream",
     "text": [
      "INFO:tensorflow:Assets written to: model_init_2023-05-1714_15_12.881747\\assets\n"
     ]
    },
    {
     "name": "stdout",
     "output_type": "stream",
     "text": [
      "15/34 [============>.................] - ETA: 8:49 - loss: 1.0859 - categorical_accuracy: 0.6233\n",
      "Epoch 4: saving model to model_init_2023-05-1714_15_12.881747\\\n",
      "INFO:tensorflow:Assets written to: model_init_2023-05-1714_15_12.881747\\assets\n"
     ]
    },
    {
     "name": "stderr",
     "output_type": "stream",
     "text": [
      "INFO:tensorflow:Assets written to: model_init_2023-05-1714_15_12.881747\\assets\n"
     ]
    },
    {
     "name": "stdout",
     "output_type": "stream",
     "text": [
      "16/34 [=============>................] - ETA: 8:21 - loss: 1.0840 - categorical_accuracy: 0.6250\n",
      "Epoch 4: saving model to model_init_2023-05-1714_15_12.881747\\\n",
      "INFO:tensorflow:Assets written to: model_init_2023-05-1714_15_12.881747\\assets\n"
     ]
    },
    {
     "name": "stderr",
     "output_type": "stream",
     "text": [
      "INFO:tensorflow:Assets written to: model_init_2023-05-1714_15_12.881747\\assets\n"
     ]
    },
    {
     "name": "stdout",
     "output_type": "stream",
     "text": [
      "17/34 [==============>...............] - ETA: 7:53 - loss: 1.0810 - categorical_accuracy: 0.6176\n",
      "Epoch 4: saving model to model_init_2023-05-1714_15_12.881747\\\n",
      "INFO:tensorflow:Assets written to: model_init_2023-05-1714_15_12.881747\\assets\n"
     ]
    },
    {
     "name": "stderr",
     "output_type": "stream",
     "text": [
      "INFO:tensorflow:Assets written to: model_init_2023-05-1714_15_12.881747\\assets\n"
     ]
    },
    {
     "name": "stdout",
     "output_type": "stream",
     "text": [
      "18/34 [==============>...............] - ETA: 7:25 - loss: 1.0566 - categorical_accuracy: 0.6222\n",
      "Epoch 4: saving model to model_init_2023-05-1714_15_12.881747\\\n",
      "INFO:tensorflow:Assets written to: model_init_2023-05-1714_15_12.881747\\assets\n"
     ]
    },
    {
     "name": "stderr",
     "output_type": "stream",
     "text": [
      "INFO:tensorflow:Assets written to: model_init_2023-05-1714_15_12.881747\\assets\n"
     ]
    },
    {
     "name": "stdout",
     "output_type": "stream",
     "text": [
      "19/34 [===============>..............] - ETA: 6:57 - loss: 1.0534 - categorical_accuracy: 0.6197\n",
      "Epoch 4: saving model to model_init_2023-05-1714_15_12.881747\\\n",
      "INFO:tensorflow:Assets written to: model_init_2023-05-1714_15_12.881747\\assets\n"
     ]
    },
    {
     "name": "stderr",
     "output_type": "stream",
     "text": [
      "INFO:tensorflow:Assets written to: model_init_2023-05-1714_15_12.881747\\assets\n"
     ]
    },
    {
     "name": "stdout",
     "output_type": "stream",
     "text": [
      "20/34 [================>.............] - ETA: 6:29 - loss: 1.0472 - categorical_accuracy: 0.6225\n",
      "Epoch 4: saving model to model_init_2023-05-1714_15_12.881747\\\n",
      "INFO:tensorflow:Assets written to: model_init_2023-05-1714_15_12.881747\\assets\n"
     ]
    },
    {
     "name": "stderr",
     "output_type": "stream",
     "text": [
      "INFO:tensorflow:Assets written to: model_init_2023-05-1714_15_12.881747\\assets\n"
     ]
    },
    {
     "name": "stdout",
     "output_type": "stream",
     "text": [
      "21/34 [=================>............] - ETA: 6:01 - loss: 1.0483 - categorical_accuracy: 0.6226\n",
      "Epoch 4: saving model to model_init_2023-05-1714_15_12.881747\\\n",
      "INFO:tensorflow:Assets written to: model_init_2023-05-1714_15_12.881747\\assets\n"
     ]
    },
    {
     "name": "stderr",
     "output_type": "stream",
     "text": [
      "INFO:tensorflow:Assets written to: model_init_2023-05-1714_15_12.881747\\assets\n"
     ]
    },
    {
     "name": "stdout",
     "output_type": "stream",
     "text": [
      "22/34 [==================>...........] - ETA: 5:33 - loss: 1.0616 - categorical_accuracy: 0.6193\n",
      "Epoch 4: saving model to model_init_2023-05-1714_15_12.881747\\\n",
      "INFO:tensorflow:Assets written to: model_init_2023-05-1714_15_12.881747\\assets\n"
     ]
    },
    {
     "name": "stderr",
     "output_type": "stream",
     "text": [
      "INFO:tensorflow:Assets written to: model_init_2023-05-1714_15_12.881747\\assets\n"
     ]
    },
    {
     "name": "stdout",
     "output_type": "stream",
     "text": [
      "23/34 [===================>..........] - ETA: 5:05 - loss: 1.0613 - categorical_accuracy: 0.6207\n",
      "Epoch 4: saving model to model_init_2023-05-1714_15_12.881747\\\n",
      "INFO:tensorflow:Assets written to: model_init_2023-05-1714_15_12.881747\\assets\n"
     ]
    },
    {
     "name": "stderr",
     "output_type": "stream",
     "text": [
      "INFO:tensorflow:Assets written to: model_init_2023-05-1714_15_12.881747\\assets\n"
     ]
    },
    {
     "name": "stdout",
     "output_type": "stream",
     "text": [
      "24/34 [====================>.........] - ETA: 4:37 - loss: 1.0621 - categorical_accuracy: 0.6229\n",
      "Epoch 4: saving model to model_init_2023-05-1714_15_12.881747\\\n",
      "INFO:tensorflow:Assets written to: model_init_2023-05-1714_15_12.881747\\assets\n"
     ]
    },
    {
     "name": "stderr",
     "output_type": "stream",
     "text": [
      "INFO:tensorflow:Assets written to: model_init_2023-05-1714_15_12.881747\\assets\n"
     ]
    },
    {
     "name": "stdout",
     "output_type": "stream",
     "text": [
      "25/34 [=====================>........] - ETA: 4:10 - loss: 1.0693 - categorical_accuracy: 0.6200\n",
      "Epoch 4: saving model to model_init_2023-05-1714_15_12.881747\\\n",
      "INFO:tensorflow:Assets written to: model_init_2023-05-1714_15_12.881747\\assets\n"
     ]
    },
    {
     "name": "stderr",
     "output_type": "stream",
     "text": [
      "INFO:tensorflow:Assets written to: model_init_2023-05-1714_15_12.881747\\assets\n"
     ]
    },
    {
     "name": "stdout",
     "output_type": "stream",
     "text": [
      "26/34 [=====================>........] - ETA: 3:42 - loss: 1.0691 - categorical_accuracy: 0.6240\n",
      "Epoch 4: saving model to model_init_2023-05-1714_15_12.881747\\\n",
      "INFO:tensorflow:Assets written to: model_init_2023-05-1714_15_12.881747\\assets\n"
     ]
    },
    {
     "name": "stderr",
     "output_type": "stream",
     "text": [
      "INFO:tensorflow:Assets written to: model_init_2023-05-1714_15_12.881747\\assets\n"
     ]
    },
    {
     "name": "stdout",
     "output_type": "stream",
     "text": [
      "27/34 [======================>.......] - ETA: 3:14 - loss: 1.0621 - categorical_accuracy: 0.6287\n",
      "Epoch 4: saving model to model_init_2023-05-1714_15_12.881747\\\n",
      "INFO:tensorflow:Assets written to: model_init_2023-05-1714_15_12.881747\\assets\n"
     ]
    },
    {
     "name": "stderr",
     "output_type": "stream",
     "text": [
      "INFO:tensorflow:Assets written to: model_init_2023-05-1714_15_12.881747\\assets\n"
     ]
    },
    {
     "name": "stdout",
     "output_type": "stream",
     "text": [
      "28/34 [=======================>......] - ETA: 2:46 - loss: 1.0447 - categorical_accuracy: 0.6330\n",
      "Epoch 4: saving model to model_init_2023-05-1714_15_12.881747\\\n",
      "INFO:tensorflow:Assets written to: model_init_2023-05-1714_15_12.881747\\assets\n"
     ]
    },
    {
     "name": "stderr",
     "output_type": "stream",
     "text": [
      "INFO:tensorflow:Assets written to: model_init_2023-05-1714_15_12.881747\\assets\n"
     ]
    },
    {
     "name": "stdout",
     "output_type": "stream",
     "text": [
      "29/34 [========================>.....] - ETA: 2:18 - loss: 1.0333 - categorical_accuracy: 0.6379\n",
      "Epoch 4: saving model to model_init_2023-05-1714_15_12.881747\\\n",
      "INFO:tensorflow:Assets written to: model_init_2023-05-1714_15_12.881747\\assets\n"
     ]
    },
    {
     "name": "stderr",
     "output_type": "stream",
     "text": [
      "INFO:tensorflow:Assets written to: model_init_2023-05-1714_15_12.881747\\assets\n"
     ]
    },
    {
     "name": "stdout",
     "output_type": "stream",
     "text": [
      "30/34 [=========================>....] - ETA: 1:51 - loss: 1.0490 - categorical_accuracy: 0.6350\n",
      "Epoch 4: saving model to model_init_2023-05-1714_15_12.881747\\\n",
      "INFO:tensorflow:Assets written to: model_init_2023-05-1714_15_12.881747\\assets\n"
     ]
    },
    {
     "name": "stderr",
     "output_type": "stream",
     "text": [
      "INFO:tensorflow:Assets written to: model_init_2023-05-1714_15_12.881747\\assets\n"
     ]
    },
    {
     "name": "stdout",
     "output_type": "stream",
     "text": [
      "31/34 [==========================>...] - ETA: 1:23 - loss: 1.0458 - categorical_accuracy: 0.6347\n",
      "Epoch 4: saving model to model_init_2023-05-1714_15_12.881747\\\n",
      "INFO:tensorflow:Assets written to: model_init_2023-05-1714_15_12.881747\\assets\n"
     ]
    },
    {
     "name": "stderr",
     "output_type": "stream",
     "text": [
      "INFO:tensorflow:Assets written to: model_init_2023-05-1714_15_12.881747\\assets\n"
     ]
    },
    {
     "name": "stdout",
     "output_type": "stream",
     "text": [
      "32/34 [===========================>..] - ETA: 55s - loss: 1.0512 - categorical_accuracy: 0.6352 \n",
      "Epoch 4: saving model to model_init_2023-05-1714_15_12.881747\\\n",
      "INFO:tensorflow:Assets written to: model_init_2023-05-1714_15_12.881747\\assets\n"
     ]
    },
    {
     "name": "stderr",
     "output_type": "stream",
     "text": [
      "INFO:tensorflow:Assets written to: model_init_2023-05-1714_15_12.881747\\assets\n"
     ]
    },
    {
     "name": "stdout",
     "output_type": "stream",
     "text": [
      "33/34 [============================>.] - ETA: 27s - loss: 1.0442 - categorical_accuracy: 0.6356\n",
      "Epoch 4: saving model to model_init_2023-05-1714_15_12.881747\\\n",
      "INFO:tensorflow:Assets written to: model_init_2023-05-1714_15_12.881747\\assets\n"
     ]
    },
    {
     "name": "stderr",
     "output_type": "stream",
     "text": [
      "INFO:tensorflow:Assets written to: model_init_2023-05-1714_15_12.881747\\assets\n"
     ]
    },
    {
     "name": "stdout",
     "output_type": "stream",
     "text": [
      "34/34 [==============================] - 935s 27s/step - loss: 1.0475 - categorical_accuracy: 0.6357 - val_loss: 5.7294 - val_categorical_accuracy: 0.2100 - lr: 0.0010\n",
      "Epoch 5/20\n"
     ]
    },
    {
     "ename": "KeyboardInterrupt",
     "evalue": "",
     "output_type": "error",
     "traceback": [
      "\u001b[1;31m---------------------------------------------------------------------------\u001b[0m",
      "\u001b[1;31mKeyboardInterrupt\u001b[0m                         Traceback (most recent call last)",
      "Cell \u001b[1;32mIn[19], line 2\u001b[0m\n\u001b[0;32m      1\u001b[0m \u001b[38;5;28mprint\u001b[39m(\u001b[38;5;124m\"\u001b[39m\u001b[38;5;124mTotal Params:\u001b[39m\u001b[38;5;124m\"\u001b[39m, conv_3d2_model\u001b[38;5;241m.\u001b[39mcount_params())\n\u001b[1;32m----> 2\u001b[0m history_model2\u001b[38;5;241m=\u001b[39m\u001b[43mconv_3d2\u001b[49m\u001b[38;5;241;43m.\u001b[39;49m\u001b[43mtrain_model\u001b[49m\u001b[43m(\u001b[49m\u001b[43mconv_3d2_model\u001b[49m\u001b[43m,\u001b[49m\u001b[43maugment_data\u001b[49m\u001b[38;5;241;43m=\u001b[39;49m\u001b[38;5;28;43;01mTrue\u001b[39;49;00m\u001b[43m)\u001b[49m\n",
      "Cell \u001b[1;32mIn[9], line 123\u001b[0m, in \u001b[0;36mModelBuilder.train_model\u001b[1;34m(self, model, augment_data)\u001b[0m\n\u001b[0;32m    120\u001b[0m     validation_steps \u001b[38;5;241m=\u001b[39m (\u001b[38;5;28mself\u001b[39m\u001b[38;5;241m.\u001b[39mnum_val_sequences\u001b[38;5;241m/\u001b[39m\u001b[38;5;241m/\u001b[39m\u001b[38;5;28mself\u001b[39m\u001b[38;5;241m.\u001b[39mbatch_size) \u001b[38;5;241m+\u001b[39m \u001b[38;5;241m1\u001b[39m\n\u001b[0;32m    122\u001b[0m \u001b[38;5;66;03m#history=model.fit(train_generator, steps_per_epoch=steps_per_epoch, epochs=self.num_epochs, verbose=1,callbacks=callbacks_list, validation_data=val_generator,validation_steps=validation_steps, class_weight=None, workers=1, initial_epoch=0)\u001b[39;00m\n\u001b[1;32m--> 123\u001b[0m history\u001b[38;5;241m=\u001b[39m\u001b[43mmodel\u001b[49m\u001b[38;5;241;43m.\u001b[39;49m\u001b[43mfit\u001b[49m\u001b[43m(\u001b[49m\u001b[43mtrain_generator\u001b[49m\u001b[43m,\u001b[49m\u001b[43m \u001b[49m\u001b[43msteps_per_epoch\u001b[49m\u001b[38;5;241;43m=\u001b[39;49m\u001b[43msteps_per_epoch\u001b[49m\u001b[43m,\u001b[49m\u001b[43m \u001b[49m\u001b[43mepochs\u001b[49m\u001b[38;5;241;43m=\u001b[39;49m\u001b[38;5;28;43mself\u001b[39;49m\u001b[38;5;241;43m.\u001b[39;49m\u001b[43mnum_epochs\u001b[49m\u001b[43m,\u001b[49m\u001b[43m \u001b[49m\u001b[43mverbose\u001b[49m\u001b[38;5;241;43m=\u001b[39;49m\u001b[38;5;241;43m1\u001b[39;49m\u001b[43m,\u001b[49m\u001b[43mcallbacks\u001b[49m\u001b[38;5;241;43m=\u001b[39;49m\u001b[43mcallbacks_list\u001b[49m\u001b[43m,\u001b[49m\u001b[43m \u001b[49m\u001b[43mvalidation_data\u001b[49m\u001b[38;5;241;43m=\u001b[39;49m\u001b[43mval_generator\u001b[49m\u001b[43m,\u001b[49m\u001b[43mvalidation_steps\u001b[49m\u001b[38;5;241;43m=\u001b[39;49m\u001b[43mvalidation_steps\u001b[49m\u001b[43m)\u001b[49m\n\u001b[0;32m    125\u001b[0m \u001b[38;5;28;01mreturn\u001b[39;00m history\n",
      "File \u001b[1;32m~\\AppData\\Roaming\\Python\\Python310\\site-packages\\keras\\utils\\traceback_utils.py:65\u001b[0m, in \u001b[0;36mfilter_traceback.<locals>.error_handler\u001b[1;34m(*args, **kwargs)\u001b[0m\n\u001b[0;32m     63\u001b[0m filtered_tb \u001b[38;5;241m=\u001b[39m \u001b[38;5;28;01mNone\u001b[39;00m\n\u001b[0;32m     64\u001b[0m \u001b[38;5;28;01mtry\u001b[39;00m:\n\u001b[1;32m---> 65\u001b[0m     \u001b[38;5;28;01mreturn\u001b[39;00m fn(\u001b[38;5;241m*\u001b[39margs, \u001b[38;5;241m*\u001b[39m\u001b[38;5;241m*\u001b[39mkwargs)\n\u001b[0;32m     66\u001b[0m \u001b[38;5;28;01mexcept\u001b[39;00m \u001b[38;5;167;01mException\u001b[39;00m \u001b[38;5;28;01mas\u001b[39;00m e:\n\u001b[0;32m     67\u001b[0m     filtered_tb \u001b[38;5;241m=\u001b[39m _process_traceback_frames(e\u001b[38;5;241m.\u001b[39m__traceback__)\n",
      "File \u001b[1;32m~\\AppData\\Roaming\\Python\\Python310\\site-packages\\keras\\engine\\training.py:1685\u001b[0m, in \u001b[0;36mModel.fit\u001b[1;34m(self, x, y, batch_size, epochs, verbose, callbacks, validation_split, validation_data, shuffle, class_weight, sample_weight, initial_epoch, steps_per_epoch, validation_steps, validation_batch_size, validation_freq, max_queue_size, workers, use_multiprocessing)\u001b[0m\n\u001b[0;32m   1677\u001b[0m \u001b[38;5;28;01mwith\u001b[39;00m tf\u001b[38;5;241m.\u001b[39mprofiler\u001b[38;5;241m.\u001b[39mexperimental\u001b[38;5;241m.\u001b[39mTrace(\n\u001b[0;32m   1678\u001b[0m     \u001b[38;5;124m\"\u001b[39m\u001b[38;5;124mtrain\u001b[39m\u001b[38;5;124m\"\u001b[39m,\n\u001b[0;32m   1679\u001b[0m     epoch_num\u001b[38;5;241m=\u001b[39mepoch,\n\u001b[1;32m   (...)\u001b[0m\n\u001b[0;32m   1682\u001b[0m     _r\u001b[38;5;241m=\u001b[39m\u001b[38;5;241m1\u001b[39m,\n\u001b[0;32m   1683\u001b[0m ):\n\u001b[0;32m   1684\u001b[0m     callbacks\u001b[38;5;241m.\u001b[39mon_train_batch_begin(step)\n\u001b[1;32m-> 1685\u001b[0m     tmp_logs \u001b[38;5;241m=\u001b[39m \u001b[38;5;28;43mself\u001b[39;49m\u001b[38;5;241;43m.\u001b[39;49m\u001b[43mtrain_function\u001b[49m\u001b[43m(\u001b[49m\u001b[43miterator\u001b[49m\u001b[43m)\u001b[49m\n\u001b[0;32m   1686\u001b[0m     \u001b[38;5;28;01mif\u001b[39;00m data_handler\u001b[38;5;241m.\u001b[39mshould_sync:\n\u001b[0;32m   1687\u001b[0m         context\u001b[38;5;241m.\u001b[39masync_wait()\n",
      "File \u001b[1;32m~\\AppData\\Roaming\\Python\\Python310\\site-packages\\tensorflow\\python\\util\\traceback_utils.py:150\u001b[0m, in \u001b[0;36mfilter_traceback.<locals>.error_handler\u001b[1;34m(*args, **kwargs)\u001b[0m\n\u001b[0;32m    148\u001b[0m filtered_tb \u001b[38;5;241m=\u001b[39m \u001b[38;5;28;01mNone\u001b[39;00m\n\u001b[0;32m    149\u001b[0m \u001b[38;5;28;01mtry\u001b[39;00m:\n\u001b[1;32m--> 150\u001b[0m   \u001b[38;5;28;01mreturn\u001b[39;00m fn(\u001b[38;5;241m*\u001b[39margs, \u001b[38;5;241m*\u001b[39m\u001b[38;5;241m*\u001b[39mkwargs)\n\u001b[0;32m    151\u001b[0m \u001b[38;5;28;01mexcept\u001b[39;00m \u001b[38;5;167;01mException\u001b[39;00m \u001b[38;5;28;01mas\u001b[39;00m e:\n\u001b[0;32m    152\u001b[0m   filtered_tb \u001b[38;5;241m=\u001b[39m _process_traceback_frames(e\u001b[38;5;241m.\u001b[39m__traceback__)\n",
      "File \u001b[1;32m~\\AppData\\Roaming\\Python\\Python310\\site-packages\\tensorflow\\python\\eager\\polymorphic_function\\polymorphic_function.py:894\u001b[0m, in \u001b[0;36mFunction.__call__\u001b[1;34m(self, *args, **kwds)\u001b[0m\n\u001b[0;32m    891\u001b[0m compiler \u001b[38;5;241m=\u001b[39m \u001b[38;5;124m\"\u001b[39m\u001b[38;5;124mxla\u001b[39m\u001b[38;5;124m\"\u001b[39m \u001b[38;5;28;01mif\u001b[39;00m \u001b[38;5;28mself\u001b[39m\u001b[38;5;241m.\u001b[39m_jit_compile \u001b[38;5;28;01melse\u001b[39;00m \u001b[38;5;124m\"\u001b[39m\u001b[38;5;124mnonXla\u001b[39m\u001b[38;5;124m\"\u001b[39m\n\u001b[0;32m    893\u001b[0m \u001b[38;5;28;01mwith\u001b[39;00m OptionalXlaContext(\u001b[38;5;28mself\u001b[39m\u001b[38;5;241m.\u001b[39m_jit_compile):\n\u001b[1;32m--> 894\u001b[0m   result \u001b[38;5;241m=\u001b[39m \u001b[38;5;28mself\u001b[39m\u001b[38;5;241m.\u001b[39m_call(\u001b[38;5;241m*\u001b[39margs, \u001b[38;5;241m*\u001b[39m\u001b[38;5;241m*\u001b[39mkwds)\n\u001b[0;32m    896\u001b[0m new_tracing_count \u001b[38;5;241m=\u001b[39m \u001b[38;5;28mself\u001b[39m\u001b[38;5;241m.\u001b[39mexperimental_get_tracing_count()\n\u001b[0;32m    897\u001b[0m without_tracing \u001b[38;5;241m=\u001b[39m (tracing_count \u001b[38;5;241m==\u001b[39m new_tracing_count)\n",
      "File \u001b[1;32m~\\AppData\\Roaming\\Python\\Python310\\site-packages\\tensorflow\\python\\eager\\polymorphic_function\\polymorphic_function.py:926\u001b[0m, in \u001b[0;36mFunction._call\u001b[1;34m(self, *args, **kwds)\u001b[0m\n\u001b[0;32m    923\u001b[0m   \u001b[38;5;28mself\u001b[39m\u001b[38;5;241m.\u001b[39m_lock\u001b[38;5;241m.\u001b[39mrelease()\n\u001b[0;32m    924\u001b[0m   \u001b[38;5;66;03m# In this case we have created variables on the first call, so we run the\u001b[39;00m\n\u001b[0;32m    925\u001b[0m   \u001b[38;5;66;03m# defunned version which is guaranteed to never create variables.\u001b[39;00m\n\u001b[1;32m--> 926\u001b[0m   \u001b[38;5;28;01mreturn\u001b[39;00m \u001b[38;5;28mself\u001b[39m\u001b[38;5;241m.\u001b[39m_no_variable_creation_fn(\u001b[38;5;241m*\u001b[39margs, \u001b[38;5;241m*\u001b[39m\u001b[38;5;241m*\u001b[39mkwds)  \u001b[38;5;66;03m# pylint: disable=not-callable\u001b[39;00m\n\u001b[0;32m    927\u001b[0m \u001b[38;5;28;01melif\u001b[39;00m \u001b[38;5;28mself\u001b[39m\u001b[38;5;241m.\u001b[39m_variable_creation_fn \u001b[38;5;129;01mis\u001b[39;00m \u001b[38;5;129;01mnot\u001b[39;00m \u001b[38;5;28;01mNone\u001b[39;00m:\n\u001b[0;32m    928\u001b[0m   \u001b[38;5;66;03m# Release the lock early so that multiple threads can perform the call\u001b[39;00m\n\u001b[0;32m    929\u001b[0m   \u001b[38;5;66;03m# in parallel.\u001b[39;00m\n\u001b[0;32m    930\u001b[0m   \u001b[38;5;28mself\u001b[39m\u001b[38;5;241m.\u001b[39m_lock\u001b[38;5;241m.\u001b[39mrelease()\n",
      "File \u001b[1;32m~\\AppData\\Roaming\\Python\\Python310\\site-packages\\tensorflow\\python\\eager\\polymorphic_function\\tracing_compiler.py:143\u001b[0m, in \u001b[0;36mTracingCompiler.__call__\u001b[1;34m(self, *args, **kwargs)\u001b[0m\n\u001b[0;32m    140\u001b[0m \u001b[38;5;28;01mwith\u001b[39;00m \u001b[38;5;28mself\u001b[39m\u001b[38;5;241m.\u001b[39m_lock:\n\u001b[0;32m    141\u001b[0m   (concrete_function,\n\u001b[0;32m    142\u001b[0m    filtered_flat_args) \u001b[38;5;241m=\u001b[39m \u001b[38;5;28mself\u001b[39m\u001b[38;5;241m.\u001b[39m_maybe_define_function(args, kwargs)\n\u001b[1;32m--> 143\u001b[0m \u001b[38;5;28;01mreturn\u001b[39;00m \u001b[43mconcrete_function\u001b[49m\u001b[38;5;241;43m.\u001b[39;49m\u001b[43m_call_flat\u001b[49m\u001b[43m(\u001b[49m\n\u001b[0;32m    144\u001b[0m \u001b[43m    \u001b[49m\u001b[43mfiltered_flat_args\u001b[49m\u001b[43m,\u001b[49m\u001b[43m \u001b[49m\u001b[43mcaptured_inputs\u001b[49m\u001b[38;5;241;43m=\u001b[39;49m\u001b[43mconcrete_function\u001b[49m\u001b[38;5;241;43m.\u001b[39;49m\u001b[43mcaptured_inputs\u001b[49m\u001b[43m)\u001b[49m\n",
      "File \u001b[1;32m~\\AppData\\Roaming\\Python\\Python310\\site-packages\\tensorflow\\python\\eager\\polymorphic_function\\monomorphic_function.py:1757\u001b[0m, in \u001b[0;36mConcreteFunction._call_flat\u001b[1;34m(self, args, captured_inputs, cancellation_manager)\u001b[0m\n\u001b[0;32m   1753\u001b[0m possible_gradient_type \u001b[38;5;241m=\u001b[39m gradients_util\u001b[38;5;241m.\u001b[39mPossibleTapeGradientTypes(args)\n\u001b[0;32m   1754\u001b[0m \u001b[38;5;28;01mif\u001b[39;00m (possible_gradient_type \u001b[38;5;241m==\u001b[39m gradients_util\u001b[38;5;241m.\u001b[39mPOSSIBLE_GRADIENT_TYPES_NONE\n\u001b[0;32m   1755\u001b[0m     \u001b[38;5;129;01mand\u001b[39;00m executing_eagerly):\n\u001b[0;32m   1756\u001b[0m   \u001b[38;5;66;03m# No tape is watching; skip to running the function.\u001b[39;00m\n\u001b[1;32m-> 1757\u001b[0m   \u001b[38;5;28;01mreturn\u001b[39;00m \u001b[38;5;28mself\u001b[39m\u001b[38;5;241m.\u001b[39m_build_call_outputs(\u001b[38;5;28;43mself\u001b[39;49m\u001b[38;5;241;43m.\u001b[39;49m\u001b[43m_inference_function\u001b[49m\u001b[38;5;241;43m.\u001b[39;49m\u001b[43mcall\u001b[49m\u001b[43m(\u001b[49m\n\u001b[0;32m   1758\u001b[0m \u001b[43m      \u001b[49m\u001b[43mctx\u001b[49m\u001b[43m,\u001b[49m\u001b[43m \u001b[49m\u001b[43margs\u001b[49m\u001b[43m,\u001b[49m\u001b[43m \u001b[49m\u001b[43mcancellation_manager\u001b[49m\u001b[38;5;241;43m=\u001b[39;49m\u001b[43mcancellation_manager\u001b[49m\u001b[43m)\u001b[49m)\n\u001b[0;32m   1759\u001b[0m forward_backward \u001b[38;5;241m=\u001b[39m \u001b[38;5;28mself\u001b[39m\u001b[38;5;241m.\u001b[39m_select_forward_and_backward_functions(\n\u001b[0;32m   1760\u001b[0m     args,\n\u001b[0;32m   1761\u001b[0m     possible_gradient_type,\n\u001b[0;32m   1762\u001b[0m     executing_eagerly)\n\u001b[0;32m   1763\u001b[0m forward_function, args_with_tangents \u001b[38;5;241m=\u001b[39m forward_backward\u001b[38;5;241m.\u001b[39mforward()\n",
      "File \u001b[1;32m~\\AppData\\Roaming\\Python\\Python310\\site-packages\\tensorflow\\python\\eager\\polymorphic_function\\monomorphic_function.py:381\u001b[0m, in \u001b[0;36m_EagerDefinedFunction.call\u001b[1;34m(self, ctx, args, cancellation_manager)\u001b[0m\n\u001b[0;32m    379\u001b[0m \u001b[38;5;28;01mwith\u001b[39;00m _InterpolateFunctionError(\u001b[38;5;28mself\u001b[39m):\n\u001b[0;32m    380\u001b[0m   \u001b[38;5;28;01mif\u001b[39;00m cancellation_manager \u001b[38;5;129;01mis\u001b[39;00m \u001b[38;5;28;01mNone\u001b[39;00m:\n\u001b[1;32m--> 381\u001b[0m     outputs \u001b[38;5;241m=\u001b[39m \u001b[43mexecute\u001b[49m\u001b[38;5;241;43m.\u001b[39;49m\u001b[43mexecute\u001b[49m\u001b[43m(\u001b[49m\n\u001b[0;32m    382\u001b[0m \u001b[43m        \u001b[49m\u001b[38;5;28;43mstr\u001b[39;49m\u001b[43m(\u001b[49m\u001b[38;5;28;43mself\u001b[39;49m\u001b[38;5;241;43m.\u001b[39;49m\u001b[43msignature\u001b[49m\u001b[38;5;241;43m.\u001b[39;49m\u001b[43mname\u001b[49m\u001b[43m)\u001b[49m\u001b[43m,\u001b[49m\n\u001b[0;32m    383\u001b[0m \u001b[43m        \u001b[49m\u001b[43mnum_outputs\u001b[49m\u001b[38;5;241;43m=\u001b[39;49m\u001b[38;5;28;43mself\u001b[39;49m\u001b[38;5;241;43m.\u001b[39;49m\u001b[43m_num_outputs\u001b[49m\u001b[43m,\u001b[49m\n\u001b[0;32m    384\u001b[0m \u001b[43m        \u001b[49m\u001b[43minputs\u001b[49m\u001b[38;5;241;43m=\u001b[39;49m\u001b[43margs\u001b[49m\u001b[43m,\u001b[49m\n\u001b[0;32m    385\u001b[0m \u001b[43m        \u001b[49m\u001b[43mattrs\u001b[49m\u001b[38;5;241;43m=\u001b[39;49m\u001b[43mattrs\u001b[49m\u001b[43m,\u001b[49m\n\u001b[0;32m    386\u001b[0m \u001b[43m        \u001b[49m\u001b[43mctx\u001b[49m\u001b[38;5;241;43m=\u001b[39;49m\u001b[43mctx\u001b[49m\u001b[43m)\u001b[49m\n\u001b[0;32m    387\u001b[0m   \u001b[38;5;28;01melse\u001b[39;00m:\n\u001b[0;32m    388\u001b[0m     outputs \u001b[38;5;241m=\u001b[39m execute\u001b[38;5;241m.\u001b[39mexecute_with_cancellation(\n\u001b[0;32m    389\u001b[0m         \u001b[38;5;28mstr\u001b[39m(\u001b[38;5;28mself\u001b[39m\u001b[38;5;241m.\u001b[39msignature\u001b[38;5;241m.\u001b[39mname),\n\u001b[0;32m    390\u001b[0m         num_outputs\u001b[38;5;241m=\u001b[39m\u001b[38;5;28mself\u001b[39m\u001b[38;5;241m.\u001b[39m_num_outputs,\n\u001b[1;32m   (...)\u001b[0m\n\u001b[0;32m    393\u001b[0m         ctx\u001b[38;5;241m=\u001b[39mctx,\n\u001b[0;32m    394\u001b[0m         cancellation_manager\u001b[38;5;241m=\u001b[39mcancellation_manager)\n",
      "File \u001b[1;32m~\\AppData\\Roaming\\Python\\Python310\\site-packages\\tensorflow\\python\\eager\\execute.py:52\u001b[0m, in \u001b[0;36mquick_execute\u001b[1;34m(op_name, num_outputs, inputs, attrs, ctx, name)\u001b[0m\n\u001b[0;32m     50\u001b[0m \u001b[38;5;28;01mtry\u001b[39;00m:\n\u001b[0;32m     51\u001b[0m   ctx\u001b[38;5;241m.\u001b[39mensure_initialized()\n\u001b[1;32m---> 52\u001b[0m   tensors \u001b[38;5;241m=\u001b[39m \u001b[43mpywrap_tfe\u001b[49m\u001b[38;5;241;43m.\u001b[39;49m\u001b[43mTFE_Py_Execute\u001b[49m\u001b[43m(\u001b[49m\u001b[43mctx\u001b[49m\u001b[38;5;241;43m.\u001b[39;49m\u001b[43m_handle\u001b[49m\u001b[43m,\u001b[49m\u001b[43m \u001b[49m\u001b[43mdevice_name\u001b[49m\u001b[43m,\u001b[49m\u001b[43m \u001b[49m\u001b[43mop_name\u001b[49m\u001b[43m,\u001b[49m\n\u001b[0;32m     53\u001b[0m \u001b[43m                                      \u001b[49m\u001b[43minputs\u001b[49m\u001b[43m,\u001b[49m\u001b[43m \u001b[49m\u001b[43mattrs\u001b[49m\u001b[43m,\u001b[49m\u001b[43m \u001b[49m\u001b[43mnum_outputs\u001b[49m\u001b[43m)\u001b[49m\n\u001b[0;32m     54\u001b[0m \u001b[38;5;28;01mexcept\u001b[39;00m core\u001b[38;5;241m.\u001b[39m_NotOkStatusException \u001b[38;5;28;01mas\u001b[39;00m e:\n\u001b[0;32m     55\u001b[0m   \u001b[38;5;28;01mif\u001b[39;00m name \u001b[38;5;129;01mis\u001b[39;00m \u001b[38;5;129;01mnot\u001b[39;00m \u001b[38;5;28;01mNone\u001b[39;00m:\n",
      "\u001b[1;31mKeyboardInterrupt\u001b[0m: "
     ]
    }
   ],
   "source": [
    "print(\"Total Params:\", conv_3d2_model.count_params())\n",
    "history_model2=conv_3d2.train_model(conv_3d2_model,augment_data=True)"
   ]
  },
  {
   "cell_type": "code",
   "execution_count": 20,
   "id": "335177fd",
   "metadata": {},
   "outputs": [
    {
     "ename": "NameError",
     "evalue": "name 'history_model2' is not defined",
     "output_type": "error",
     "traceback": [
      "\u001b[1;31m---------------------------------------------------------------------------\u001b[0m",
      "\u001b[1;31mNameError\u001b[0m                                 Traceback (most recent call last)",
      "Cell \u001b[1;32mIn[20], line 1\u001b[0m\n\u001b[1;32m----> 1\u001b[0m plot(\u001b[43mhistory_model2\u001b[49m)\n",
      "\u001b[1;31mNameError\u001b[0m: name 'history_model2' is not defined"
     ]
    }
   ],
   "source": [
    "plot(history_model2)"
   ]
  },
  {
   "cell_type": "markdown",
   "id": "98d9c310",
   "metadata": {},
   "source": [
    "##### Model is not overfitting and we get a best validation accuracy of 85% and training accuracy of 91%. Next we will try to reduce the filter size and image resolution and see if get better results. Moreover since we see minor oscillations  in loss, let's try lowering the learning rate to 0.0002"
   ]
  },
  {
   "cell_type": "markdown",
   "id": "9e4a5ce7",
   "metadata": {},
   "source": [
    "# Model 3 - reducing the number of parameters"
   ]
  },
  {
   "cell_type": "code",
   "execution_count": null,
   "id": "686c706c",
   "metadata": {},
   "outputs": [],
   "source": [
    "class ModelConv3D3(ModelBuilder):\n",
    "    \n",
    "    def define_model(self,dense_neurons=64,dropout=0.25):\n",
    "\n",
    "        model = Sequential()\n",
    "        model.add(Conv3D(16, (3, 3, 3), padding='same',\n",
    "                 input_shape=(self.frames_to_sample,self.image_height,self.image_width,self.channels)))\n",
    "        model.add(Activation('relu'))\n",
    "        model.add(BatchNormalization())\n",
    "        model.add(MaxPooling3D(pool_size=(2, 2, 2)))\n",
    "\n",
    "        model.add(Conv3D(32, (3, 3, 3), padding='same'))\n",
    "        model.add(Activation('relu'))\n",
    "        model.add(BatchNormalization())\n",
    "        model.add(MaxPooling3D(pool_size=(2, 2, 2)))\n",
    "\n",
    "        model.add(Conv3D(64, (2, 2, 2), padding='same'))\n",
    "        model.add(Activation('relu'))\n",
    "        model.add(BatchNormalization())\n",
    "        model.add(MaxPooling3D(pool_size=(2, 2, 2)))\n",
    "\n",
    "        model.add(Conv3D(128, (2, 2, 2), padding='same'))\n",
    "        model.add(Activation('relu'))\n",
    "        model.add(BatchNormalization())\n",
    "        model.add(MaxPooling3D(pool_size=(2, 2, 2)))\n",
    "        \n",
    "        model.add(Flatten())\n",
    "        model.add(Dense(dense_neurons,activation='relu'))\n",
    "        model.add(BatchNormalization())\n",
    "        model.add(Dropout(dropout))\n",
    "\n",
    "        model.add(Dense(dense_neurons,activation='relu'))\n",
    "        model.add(BatchNormalization())\n",
    "        model.add(Dropout(dropout))\n",
    "\n",
    "        model.add(Dense(self.num_classes,activation='softmax'))\n",
    "\n",
    "        optimiser = optimizers.Adam(lr=0.0002)\n",
    "        model.compile(optimizer=optimiser, loss='categorical_crossentropy', metrics=['categorical_accuracy'])\n",
    "        return model"
   ]
  },
  {
   "cell_type": "code",
   "execution_count": null,
   "id": "0cd332f1",
   "metadata": {},
   "outputs": [],
   "source": [
    "conv_3d3=ModelConv3D3()\n",
    "conv_3d3.initialize_path(project_folder)\n",
    "conv_3d3.initialize_image_properties(image_height=120,image_width=120)\n",
    "conv_3d3.initialize_hyperparams(frames_to_sample=16,batch_size=20,num_epochs=25)\n",
    "conv_3d3_model=conv_3d3.define_model(dense_neurons=64,dropout=0.25)\n",
    "conv_3d3_model.summary()"
   ]
  },
  {
   "cell_type": "code",
   "execution_count": null,
   "id": "c5a9bbf8",
   "metadata": {},
   "outputs": [],
   "source": [
    "print(\"Total Params:\", conv_3d3_model.count_params())\n",
    "history_model3=conv_3d3.train_model(conv_3d3_model,augment_data=True)"
   ]
  },
  {
   "cell_type": "code",
   "execution_count": null,
   "id": "16bff4c2",
   "metadata": {},
   "outputs": [],
   "source": [
    "plot(history_model3)"
   ]
  },
  {
   "cell_type": "markdown",
   "id": "599d1c62",
   "metadata": {},
   "source": [
    "###### For the above low memory foot print model the best validation accuracy of 77%"
   ]
  },
  {
   "cell_type": "markdown",
   "id": "d1f60ee9",
   "metadata": {},
   "source": [
    "# Model 4 - CNN- LSTM Model"
   ]
  },
  {
   "cell_type": "code",
   "execution_count": 21,
   "id": "b3509b1a",
   "metadata": {},
   "outputs": [],
   "source": [
    "class RNNCNN1(ModelBuilder):\n",
    "    \n",
    "    def define_model(self,lstm_cells=64,dense_neurons=64,dropout=0.25):\n",
    "\n",
    "        model = Sequential()\n",
    "\n",
    "        model.add(TimeDistributed(Conv2D(16, (3, 3) , padding='same', activation='relu'),\n",
    "                                  input_shape=(self.frames_to_sample,self.image_height,self.image_width,self.channels)))\n",
    "        model.add(TimeDistributed(BatchNormalization()))\n",
    "        model.add(TimeDistributed(MaxPooling2D((2, 2))))\n",
    "        \n",
    "        model.add(TimeDistributed(Conv2D(32, (3, 3) , padding='same', activation='relu')))\n",
    "        model.add(TimeDistributed(BatchNormalization()))\n",
    "        model.add(TimeDistributed(MaxPooling2D((2, 2))))\n",
    "        \n",
    "        model.add(TimeDistributed(Conv2D(64, (3, 3) , padding='same', activation='relu')))\n",
    "        model.add(TimeDistributed(BatchNormalization()))\n",
    "        model.add(TimeDistributed(MaxPooling2D((2, 2))))\n",
    "        \n",
    "        model.add(TimeDistributed(Conv2D(128, (3, 3) , padding='same', activation='relu')))\n",
    "        model.add(TimeDistributed(BatchNormalization()))\n",
    "        model.add(TimeDistributed(MaxPooling2D((2, 2))))\n",
    "        \n",
    "        model.add(TimeDistributed(Conv2D(256, (3, 3) , padding='same', activation='relu')))\n",
    "        model.add(TimeDistributed(BatchNormalization()))\n",
    "        model.add(TimeDistributed(MaxPooling2D((2, 2))))\n",
    "        \n",
    "        #model.add(TimeDistributed(Conv2D(512, (2, 2) , padding='valid', activation='relu')))\n",
    "       # model.add(TimeDistributed(BatchNormalization()))\n",
    "       # model.add(TimeDistributed(MaxPooling2D((2, 2))))\n",
    "\n",
    "        model.add(TimeDistributed(Flatten()))\n",
    "\n",
    "\n",
    "        model.add(LSTM(lstm_cells))\n",
    "        model.add(Dropout(dropout))\n",
    "        \n",
    "        model.add(Dense(dense_neurons,activation='relu'))\n",
    "        model.add(Dropout(dropout))\n",
    "        \n",
    "        model.add(Dense(self.num_classes, activation='softmax'))\n",
    "        optimiser = optimizers.Adam()\n",
    "        model.compile(optimizer=optimiser, loss='categorical_crossentropy', metrics=['categorical_accuracy'])\n",
    "        return model"
   ]
  },
  {
   "cell_type": "code",
   "execution_count": 22,
   "id": "edc09605",
   "metadata": {},
   "outputs": [
    {
     "name": "stdout",
     "output_type": "stream",
     "text": [
      "Model: \"sequential_3\"\n",
      "_________________________________________________________________\n",
      " Layer (type)                Output Shape              Param #   \n",
      "=================================================================\n",
      " time_distributed (TimeDistr  (None, 18, 120, 120, 16)  448      \n",
      " ibuted)                                                         \n",
      "                                                                 \n",
      " time_distributed_1 (TimeDis  (None, 18, 120, 120, 16)  64       \n",
      " tributed)                                                       \n",
      "                                                                 \n",
      " time_distributed_2 (TimeDis  (None, 18, 60, 60, 16)   0         \n",
      " tributed)                                                       \n",
      "                                                                 \n",
      " time_distributed_3 (TimeDis  (None, 18, 60, 60, 32)   4640      \n",
      " tributed)                                                       \n",
      "                                                                 \n",
      " time_distributed_4 (TimeDis  (None, 18, 60, 60, 32)   128       \n",
      " tributed)                                                       \n",
      "                                                                 \n",
      " time_distributed_5 (TimeDis  (None, 18, 30, 30, 32)   0         \n",
      " tributed)                                                       \n",
      "                                                                 \n",
      " time_distributed_6 (TimeDis  (None, 18, 30, 30, 64)   18496     \n",
      " tributed)                                                       \n",
      "                                                                 \n",
      " time_distributed_7 (TimeDis  (None, 18, 30, 30, 64)   256       \n",
      " tributed)                                                       \n",
      "                                                                 \n",
      " time_distributed_8 (TimeDis  (None, 18, 15, 15, 64)   0         \n",
      " tributed)                                                       \n",
      "                                                                 \n",
      " time_distributed_9 (TimeDis  (None, 18, 15, 15, 128)  73856     \n",
      " tributed)                                                       \n",
      "                                                                 \n",
      " time_distributed_10 (TimeDi  (None, 18, 15, 15, 128)  512       \n",
      " stributed)                                                      \n",
      "                                                                 \n",
      " time_distributed_11 (TimeDi  (None, 18, 7, 7, 128)    0         \n",
      " stributed)                                                      \n",
      "                                                                 \n",
      " time_distributed_12 (TimeDi  (None, 18, 7, 7, 256)    295168    \n",
      " stributed)                                                      \n",
      "                                                                 \n",
      " time_distributed_13 (TimeDi  (None, 18, 7, 7, 256)    1024      \n",
      " stributed)                                                      \n",
      "                                                                 \n",
      " time_distributed_14 (TimeDi  (None, 18, 3, 3, 256)    0         \n",
      " stributed)                                                      \n",
      "                                                                 \n",
      " time_distributed_15 (TimeDi  (None, 18, 2304)         0         \n",
      " stributed)                                                      \n",
      "                                                                 \n",
      " lstm (LSTM)                 (None, 128)               1245696   \n",
      "                                                                 \n",
      " dropout_6 (Dropout)         (None, 128)               0         \n",
      "                                                                 \n",
      " dense_9 (Dense)             (None, 128)               16512     \n",
      "                                                                 \n",
      " dropout_7 (Dropout)         (None, 128)               0         \n",
      "                                                                 \n",
      " dense_10 (Dense)            (None, 5)                 645       \n",
      "                                                                 \n",
      "=================================================================\n",
      "Total params: 1,657,445\n",
      "Trainable params: 1,656,453\n",
      "Non-trainable params: 992\n",
      "_________________________________________________________________\n"
     ]
    }
   ],
   "source": [
    "rnn_cnn1=RNNCNN1()\n",
    "rnn_cnn1.initialize_path(project_folder)\n",
    "rnn_cnn1.initialize_image_properties(image_height=120,image_width=120)\n",
    "rnn_cnn1.initialize_hyperparams(frames_to_sample=18,batch_size=20,num_epochs=20)\n",
    "rnn_cnn1_model=rnn_cnn1.define_model(lstm_cells=128,dense_neurons=128,dropout=0.25)\n",
    "rnn_cnn1_model.summary()"
   ]
  },
  {
   "cell_type": "code",
   "execution_count": null,
   "id": "e172a8fb",
   "metadata": {},
   "outputs": [
    {
     "name": "stdout",
     "output_type": "stream",
     "text": [
      "Total Params: 1657445\n",
      "Epoch 1/20\n",
      "\n",
      "Epoch 1: saving model to model_init_2023-05-1715_18_55.563885\\\n",
      "INFO:tensorflow:Assets written to: model_init_2023-05-1715_18_55.563885\\assets\n"
     ]
    },
    {
     "name": "stderr",
     "output_type": "stream",
     "text": [
      "INFO:tensorflow:Assets written to: model_init_2023-05-1715_18_55.563885\\assets\n"
     ]
    },
    {
     "name": "stdout",
     "output_type": "stream",
     "text": [
      " 1/34 [..............................] - ETA: 25:39 - loss: 1.6708 - categorical_accuracy: 0.1500\n",
      "Epoch 1: saving model to model_init_2023-05-1715_18_55.563885\\\n",
      "INFO:tensorflow:Assets written to: model_init_2023-05-1715_18_55.563885\\assets\n"
     ]
    },
    {
     "name": "stderr",
     "output_type": "stream",
     "text": [
      "INFO:tensorflow:Assets written to: model_init_2023-05-1715_18_55.563885\\assets\n"
     ]
    },
    {
     "name": "stdout",
     "output_type": "stream",
     "text": [
      " 2/34 [>.............................] - ETA: 6:02 - loss: 1.6039 - categorical_accuracy: 0.2375 \n",
      "Epoch 1: saving model to model_init_2023-05-1715_18_55.563885\\\n",
      "INFO:tensorflow:Assets written to: model_init_2023-05-1715_18_55.563885\\assets\n"
     ]
    },
    {
     "name": "stderr",
     "output_type": "stream",
     "text": [
      "INFO:tensorflow:Assets written to: model_init_2023-05-1715_18_55.563885\\assets\n"
     ]
    },
    {
     "name": "stdout",
     "output_type": "stream",
     "text": [
      " 3/34 [=>............................] - ETA: 5:50 - loss: 1.6284 - categorical_accuracy: 0.2333\n",
      "Epoch 1: saving model to model_init_2023-05-1715_18_55.563885\\\n",
      "INFO:tensorflow:Assets written to: model_init_2023-05-1715_18_55.563885\\assets\n"
     ]
    },
    {
     "name": "stderr",
     "output_type": "stream",
     "text": [
      "INFO:tensorflow:Assets written to: model_init_2023-05-1715_18_55.563885\\assets\n"
     ]
    },
    {
     "name": "stdout",
     "output_type": "stream",
     "text": [
      " 4/34 [==>...........................] - ETA: 5:33 - loss: 1.6553 - categorical_accuracy: 0.2375\n",
      "Epoch 1: saving model to model_init_2023-05-1715_18_55.563885\\\n",
      "INFO:tensorflow:Assets written to: model_init_2023-05-1715_18_55.563885\\assets\n"
     ]
    },
    {
     "name": "stderr",
     "output_type": "stream",
     "text": [
      "INFO:tensorflow:Assets written to: model_init_2023-05-1715_18_55.563885\\assets\n"
     ]
    },
    {
     "name": "stdout",
     "output_type": "stream",
     "text": [
      " 5/34 [===>..........................] - ETA: 5:21 - loss: 1.6556 - categorical_accuracy: 0.2500\n",
      "Epoch 1: saving model to model_init_2023-05-1715_18_55.563885\\\n",
      "INFO:tensorflow:Assets written to: model_init_2023-05-1715_18_55.563885\\assets\n"
     ]
    },
    {
     "name": "stderr",
     "output_type": "stream",
     "text": [
      "INFO:tensorflow:Assets written to: model_init_2023-05-1715_18_55.563885\\assets\n"
     ]
    },
    {
     "name": "stdout",
     "output_type": "stream",
     "text": [
      " 6/34 [====>.........................] - ETA: 5:11 - loss: 1.6322 - categorical_accuracy: 0.2625\n",
      "Epoch 1: saving model to model_init_2023-05-1715_18_55.563885\\\n",
      "INFO:tensorflow:Assets written to: model_init_2023-05-1715_18_55.563885\\assets\n"
     ]
    },
    {
     "name": "stderr",
     "output_type": "stream",
     "text": [
      "INFO:tensorflow:Assets written to: model_init_2023-05-1715_18_55.563885\\assets\n"
     ]
    },
    {
     "name": "stdout",
     "output_type": "stream",
     "text": [
      " 7/34 [=====>........................] - ETA: 5:00 - loss: 1.6126 - categorical_accuracy: 0.2857\n",
      "Epoch 1: saving model to model_init_2023-05-1715_18_55.563885\\\n",
      "INFO:tensorflow:Assets written to: model_init_2023-05-1715_18_55.563885\\assets\n"
     ]
    },
    {
     "name": "stderr",
     "output_type": "stream",
     "text": [
      "INFO:tensorflow:Assets written to: model_init_2023-05-1715_18_55.563885\\assets\n"
     ]
    },
    {
     "name": "stdout",
     "output_type": "stream",
     "text": [
      " 8/34 [======>.......................] - ETA: 4:49 - loss: 1.5906 - categorical_accuracy: 0.2937\n",
      "Epoch 1: saving model to model_init_2023-05-1715_18_55.563885\\\n",
      "INFO:tensorflow:Assets written to: model_init_2023-05-1715_18_55.563885\\assets\n"
     ]
    },
    {
     "name": "stderr",
     "output_type": "stream",
     "text": [
      "INFO:tensorflow:Assets written to: model_init_2023-05-1715_18_55.563885\\assets\n"
     ]
    },
    {
     "name": "stdout",
     "output_type": "stream",
     "text": [
      " 9/34 [======>.......................] - ETA: 4:38 - loss: 1.5770 - categorical_accuracy: 0.3083\n",
      "Epoch 1: saving model to model_init_2023-05-1715_18_55.563885\\\n",
      "INFO:tensorflow:Assets written to: model_init_2023-05-1715_18_55.563885\\assets\n"
     ]
    },
    {
     "name": "stderr",
     "output_type": "stream",
     "text": [
      "INFO:tensorflow:Assets written to: model_init_2023-05-1715_18_55.563885\\assets\n"
     ]
    },
    {
     "name": "stdout",
     "output_type": "stream",
     "text": [
      "10/34 [=======>......................] - ETA: 4:27 - loss: 1.5577 - categorical_accuracy: 0.3250\n",
      "Epoch 1: saving model to model_init_2023-05-1715_18_55.563885\\\n",
      "INFO:tensorflow:Assets written to: model_init_2023-05-1715_18_55.563885\\assets\n"
     ]
    },
    {
     "name": "stderr",
     "output_type": "stream",
     "text": [
      "INFO:tensorflow:Assets written to: model_init_2023-05-1715_18_55.563885\\assets\n"
     ]
    },
    {
     "name": "stdout",
     "output_type": "stream",
     "text": [
      "11/34 [========>.....................] - ETA: 4:16 - loss: 1.5527 - categorical_accuracy: 0.3182\n",
      "Epoch 1: saving model to model_init_2023-05-1715_18_55.563885\\\n",
      "INFO:tensorflow:Assets written to: model_init_2023-05-1715_18_55.563885\\assets\n"
     ]
    },
    {
     "name": "stderr",
     "output_type": "stream",
     "text": [
      "INFO:tensorflow:Assets written to: model_init_2023-05-1715_18_55.563885\\assets\n"
     ]
    },
    {
     "name": "stdout",
     "output_type": "stream",
     "text": [
      "12/34 [=========>....................] - ETA: 4:04 - loss: 1.5395 - categorical_accuracy: 0.3271\n",
      "Epoch 1: saving model to model_init_2023-05-1715_18_55.563885\\\n",
      "INFO:tensorflow:Assets written to: model_init_2023-05-1715_18_55.563885\\assets\n"
     ]
    },
    {
     "name": "stderr",
     "output_type": "stream",
     "text": [
      "INFO:tensorflow:Assets written to: model_init_2023-05-1715_18_55.563885\\assets\n"
     ]
    },
    {
     "name": "stdout",
     "output_type": "stream",
     "text": [
      "13/34 [==========>...................] - ETA: 3:53 - loss: 1.5310 - categorical_accuracy: 0.3346\n",
      "Epoch 1: saving model to model_init_2023-05-1715_18_55.563885\\\n",
      "INFO:tensorflow:Assets written to: model_init_2023-05-1715_18_55.563885\\assets\n"
     ]
    },
    {
     "name": "stderr",
     "output_type": "stream",
     "text": [
      "INFO:tensorflow:Assets written to: model_init_2023-05-1715_18_55.563885\\assets\n"
     ]
    },
    {
     "name": "stdout",
     "output_type": "stream",
     "text": [
      "14/34 [===========>..................] - ETA: 3:42 - loss: 1.5123 - categorical_accuracy: 0.3446\n",
      "Epoch 1: saving model to model_init_2023-05-1715_18_55.563885\\\n",
      "INFO:tensorflow:Assets written to: model_init_2023-05-1715_18_55.563885\\assets\n"
     ]
    },
    {
     "name": "stderr",
     "output_type": "stream",
     "text": [
      "INFO:tensorflow:Assets written to: model_init_2023-05-1715_18_55.563885\\assets\n"
     ]
    },
    {
     "name": "stdout",
     "output_type": "stream",
     "text": [
      "15/34 [============>.................] - ETA: 3:31 - loss: 1.5139 - categorical_accuracy: 0.3433\n",
      "Epoch 1: saving model to model_init_2023-05-1715_18_55.563885\\\n",
      "INFO:tensorflow:Assets written to: model_init_2023-05-1715_18_55.563885\\assets\n"
     ]
    },
    {
     "name": "stderr",
     "output_type": "stream",
     "text": [
      "INFO:tensorflow:Assets written to: model_init_2023-05-1715_18_55.563885\\assets\n"
     ]
    },
    {
     "name": "stdout",
     "output_type": "stream",
     "text": [
      "16/34 [=============>................] - ETA: 3:20 - loss: 1.5067 - categorical_accuracy: 0.3500\n",
      "Epoch 1: saving model to model_init_2023-05-1715_18_55.563885\\\n",
      "INFO:tensorflow:Assets written to: model_init_2023-05-1715_18_55.563885\\assets\n"
     ]
    },
    {
     "name": "stderr",
     "output_type": "stream",
     "text": [
      "INFO:tensorflow:Assets written to: model_init_2023-05-1715_18_55.563885\\assets\n"
     ]
    },
    {
     "name": "stdout",
     "output_type": "stream",
     "text": [
      "17/34 [==============>...............] - ETA: 3:09 - loss: 1.5041 - categorical_accuracy: 0.3456\n",
      "Epoch 1: saving model to model_init_2023-05-1715_18_55.563885\\\n",
      "INFO:tensorflow:Assets written to: model_init_2023-05-1715_18_55.563885\\assets\n"
     ]
    },
    {
     "name": "stderr",
     "output_type": "stream",
     "text": [
      "INFO:tensorflow:Assets written to: model_init_2023-05-1715_18_55.563885\\assets\n"
     ]
    },
    {
     "name": "stdout",
     "output_type": "stream",
     "text": [
      "18/34 [==============>...............] - ETA: 2:58 - loss: 1.4973 - categorical_accuracy: 0.3486\n",
      "Epoch 1: saving model to model_init_2023-05-1715_18_55.563885\\\n",
      "INFO:tensorflow:Assets written to: model_init_2023-05-1715_18_55.563885\\assets\n"
     ]
    },
    {
     "name": "stderr",
     "output_type": "stream",
     "text": [
      "INFO:tensorflow:Assets written to: model_init_2023-05-1715_18_55.563885\\assets\n"
     ]
    },
    {
     "name": "stdout",
     "output_type": "stream",
     "text": [
      "19/34 [===============>..............] - ETA: 2:47 - loss: 1.4879 - categorical_accuracy: 0.3539\n",
      "Epoch 1: saving model to model_init_2023-05-1715_18_55.563885\\\n",
      "INFO:tensorflow:Assets written to: model_init_2023-05-1715_18_55.563885\\assets\n"
     ]
    },
    {
     "name": "stderr",
     "output_type": "stream",
     "text": [
      "INFO:tensorflow:Assets written to: model_init_2023-05-1715_18_55.563885\\assets\n"
     ]
    },
    {
     "name": "stdout",
     "output_type": "stream",
     "text": [
      "20/34 [================>.............] - ETA: 2:36 - loss: 1.4696 - categorical_accuracy: 0.3638\n",
      "Epoch 1: saving model to model_init_2023-05-1715_18_55.563885\\\n",
      "INFO:tensorflow:Assets written to: model_init_2023-05-1715_18_55.563885\\assets\n"
     ]
    },
    {
     "name": "stderr",
     "output_type": "stream",
     "text": [
      "INFO:tensorflow:Assets written to: model_init_2023-05-1715_18_55.563885\\assets\n"
     ]
    },
    {
     "name": "stdout",
     "output_type": "stream",
     "text": [
      "21/34 [=================>............] - ETA: 2:25 - loss: 1.4528 - categorical_accuracy: 0.3726\n",
      "Epoch 1: saving model to model_init_2023-05-1715_18_55.563885\\\n",
      "INFO:tensorflow:Assets written to: model_init_2023-05-1715_18_55.563885\\assets\n"
     ]
    },
    {
     "name": "stderr",
     "output_type": "stream",
     "text": [
      "INFO:tensorflow:Assets written to: model_init_2023-05-1715_18_55.563885\\assets\n"
     ]
    },
    {
     "name": "stdout",
     "output_type": "stream",
     "text": [
      "22/34 [==================>...........] - ETA: 2:14 - loss: 1.4455 - categorical_accuracy: 0.3784\n",
      "Epoch 1: saving model to model_init_2023-05-1715_18_55.563885\\\n",
      "INFO:tensorflow:Assets written to: model_init_2023-05-1715_18_55.563885\\assets\n"
     ]
    },
    {
     "name": "stderr",
     "output_type": "stream",
     "text": [
      "INFO:tensorflow:Assets written to: model_init_2023-05-1715_18_55.563885\\assets\n"
     ]
    },
    {
     "name": "stdout",
     "output_type": "stream",
     "text": [
      "23/34 [===================>..........] - ETA: 2:03 - loss: 1.4351 - categorical_accuracy: 0.3848\n",
      "Epoch 1: saving model to model_init_2023-05-1715_18_55.563885\\\n",
      "INFO:tensorflow:Assets written to: model_init_2023-05-1715_18_55.563885\\assets\n"
     ]
    },
    {
     "name": "stderr",
     "output_type": "stream",
     "text": [
      "INFO:tensorflow:Assets written to: model_init_2023-05-1715_18_55.563885\\assets\n"
     ]
    },
    {
     "name": "stdout",
     "output_type": "stream",
     "text": [
      "24/34 [====================>.........] - ETA: 1:52 - loss: 1.4226 - categorical_accuracy: 0.3906\n",
      "Epoch 1: saving model to model_init_2023-05-1715_18_55.563885\\\n",
      "INFO:tensorflow:Assets written to: model_init_2023-05-1715_18_55.563885\\assets\n"
     ]
    },
    {
     "name": "stderr",
     "output_type": "stream",
     "text": [
      "INFO:tensorflow:Assets written to: model_init_2023-05-1715_18_55.563885\\assets\n"
     ]
    },
    {
     "name": "stdout",
     "output_type": "stream",
     "text": [
      "25/34 [=====================>........] - ETA: 1:41 - loss: 1.4091 - categorical_accuracy: 0.3980\n",
      "Epoch 1: saving model to model_init_2023-05-1715_18_55.563885\\\n",
      "INFO:tensorflow:Assets written to: model_init_2023-05-1715_18_55.563885\\assets\n"
     ]
    },
    {
     "name": "stderr",
     "output_type": "stream",
     "text": [
      "INFO:tensorflow:Assets written to: model_init_2023-05-1715_18_55.563885\\assets\n"
     ]
    },
    {
     "name": "stdout",
     "output_type": "stream",
     "text": [
      "26/34 [=====================>........] - ETA: 1:29 - loss: 1.4087 - categorical_accuracy: 0.3971\n",
      "Epoch 1: saving model to model_init_2023-05-1715_18_55.563885\\\n",
      "INFO:tensorflow:Assets written to: model_init_2023-05-1715_18_55.563885\\assets\n"
     ]
    },
    {
     "name": "stderr",
     "output_type": "stream",
     "text": [
      "INFO:tensorflow:Assets written to: model_init_2023-05-1715_18_55.563885\\assets\n"
     ]
    },
    {
     "name": "stdout",
     "output_type": "stream",
     "text": [
      "27/34 [======================>.......] - ETA: 1:18 - loss: 1.4011 - categorical_accuracy: 0.4037\n",
      "Epoch 1: saving model to model_init_2023-05-1715_18_55.563885\\\n",
      "INFO:tensorflow:Assets written to: model_init_2023-05-1715_18_55.563885\\assets\n"
     ]
    },
    {
     "name": "stderr",
     "output_type": "stream",
     "text": [
      "INFO:tensorflow:Assets written to: model_init_2023-05-1715_18_55.563885\\assets\n"
     ]
    },
    {
     "name": "stdout",
     "output_type": "stream",
     "text": [
      "28/34 [=======================>......] - ETA: 1:07 - loss: 1.3928 - categorical_accuracy: 0.4098\n",
      "Epoch 1: saving model to model_init_2023-05-1715_18_55.563885\\\n",
      "INFO:tensorflow:Assets written to: model_init_2023-05-1715_18_55.563885\\assets\n"
     ]
    },
    {
     "name": "stderr",
     "output_type": "stream",
     "text": [
      "INFO:tensorflow:Assets written to: model_init_2023-05-1715_18_55.563885\\assets\n"
     ]
    },
    {
     "name": "stdout",
     "output_type": "stream",
     "text": [
      "29/34 [========================>.....] - ETA: 56s - loss: 1.3784 - categorical_accuracy: 0.4216 \n",
      "Epoch 1: saving model to model_init_2023-05-1715_18_55.563885\\\n"
     ]
    },
    {
     "name": "stderr",
     "output_type": "stream",
     "text": [
      "C:\\Users\\fv1\\AppData\\Local\\Temp\\ipykernel_27376\\3543782872.py:56: DeprecationWarning: Starting with ImageIO v3 the behavior of this function will switch to that of iio.v3.imread. To keep the current behavior (and make this warning disappear) use `import imageio.v2 as imageio` or call `imageio.v2.imread` directly.\n",
      "  image = imageio.imread(source_path+'/'+ t[folder + (batch*batch_size)].strip().split(';')[0]+'/'+imgs[item]).astype(np.float32)\n"
     ]
    },
    {
     "name": "stdout",
     "output_type": "stream",
     "text": [
      "INFO:tensorflow:Assets written to: model_init_2023-05-1715_18_55.563885\\assets\n"
     ]
    },
    {
     "name": "stderr",
     "output_type": "stream",
     "text": [
      "INFO:tensorflow:Assets written to: model_init_2023-05-1715_18_55.563885\\assets\n"
     ]
    },
    {
     "name": "stdout",
     "output_type": "stream",
     "text": [
      "30/34 [=========================>....] - ETA: 45s - loss: 1.3659 - categorical_accuracy: 0.4283\n",
      "Epoch 1: saving model to model_init_2023-05-1715_18_55.563885\\\n",
      "INFO:tensorflow:Assets written to: model_init_2023-05-1715_18_55.563885\\assets\n"
     ]
    },
    {
     "name": "stderr",
     "output_type": "stream",
     "text": [
      "INFO:tensorflow:Assets written to: model_init_2023-05-1715_18_55.563885\\assets\n"
     ]
    },
    {
     "name": "stdout",
     "output_type": "stream",
     "text": [
      "31/34 [==========================>...] - ETA: 33s - loss: 1.3592 - categorical_accuracy: 0.4306\n",
      "Epoch 1: saving model to model_init_2023-05-1715_18_55.563885\\\n",
      "INFO:tensorflow:Assets written to: model_init_2023-05-1715_18_55.563885\\assets\n"
     ]
    },
    {
     "name": "stderr",
     "output_type": "stream",
     "text": [
      "INFO:tensorflow:Assets written to: model_init_2023-05-1715_18_55.563885\\assets\n"
     ]
    },
    {
     "name": "stdout",
     "output_type": "stream",
     "text": [
      "32/34 [===========================>..] - ETA: 22s - loss: 1.3562 - categorical_accuracy: 0.4328\n",
      "Epoch 1: saving model to model_init_2023-05-1715_18_55.563885\\\n",
      "INFO:tensorflow:Assets written to: model_init_2023-05-1715_18_55.563885\\assets\n"
     ]
    },
    {
     "name": "stderr",
     "output_type": "stream",
     "text": [
      "INFO:tensorflow:Assets written to: model_init_2023-05-1715_18_55.563885\\assets\n"
     ]
    },
    {
     "name": "stdout",
     "output_type": "stream",
     "text": [
      "33/34 [============================>.] - ETA: 11s - loss: 1.3476 - categorical_accuracy: 0.4386\n",
      "Epoch 1: saving model to model_init_2023-05-1715_18_55.563885\\\n",
      "INFO:tensorflow:Assets written to: model_init_2023-05-1715_18_55.563885\\assets\n"
     ]
    },
    {
     "name": "stderr",
     "output_type": "stream",
     "text": [
      "INFO:tensorflow:Assets written to: model_init_2023-05-1715_18_55.563885\\assets\n"
     ]
    },
    {
     "name": "stdout",
     "output_type": "stream",
     "text": [
      "34/34 [==============================] - 424s 11s/step - loss: 1.3468 - categorical_accuracy: 0.4397 - val_loss: 1.6086 - val_categorical_accuracy: 0.2200 - lr: 0.0010\n",
      "Epoch 2/20\n",
      "\n",
      "Epoch 2: saving model to model_init_2023-05-1715_18_55.563885\\\n",
      "INFO:tensorflow:Assets written to: model_init_2023-05-1715_18_55.563885\\assets\n"
     ]
    },
    {
     "name": "stderr",
     "output_type": "stream",
     "text": [
      "INFO:tensorflow:Assets written to: model_init_2023-05-1715_18_55.563885\\assets\n"
     ]
    },
    {
     "name": "stdout",
     "output_type": "stream",
     "text": [
      " 1/34 [..............................] - ETA: 6:23 - loss: 1.3332 - categorical_accuracy: 0.5000\n",
      "Epoch 2: saving model to model_init_2023-05-1715_18_55.563885\\\n",
      "INFO:tensorflow:Assets written to: model_init_2023-05-1715_18_55.563885\\assets\n"
     ]
    },
    {
     "name": "stderr",
     "output_type": "stream",
     "text": [
      "INFO:tensorflow:Assets written to: model_init_2023-05-1715_18_55.563885\\assets\n"
     ]
    },
    {
     "name": "stdout",
     "output_type": "stream",
     "text": [
      " 2/34 [>.............................] - ETA: 5:53 - loss: 1.0125 - categorical_accuracy: 0.6750\n",
      "Epoch 2: saving model to model_init_2023-05-1715_18_55.563885\\\n",
      "INFO:tensorflow:Assets written to: model_init_2023-05-1715_18_55.563885\\assets\n"
     ]
    },
    {
     "name": "stderr",
     "output_type": "stream",
     "text": [
      "INFO:tensorflow:Assets written to: model_init_2023-05-1715_18_55.563885\\assets\n"
     ]
    },
    {
     "name": "stdout",
     "output_type": "stream",
     "text": [
      " 3/34 [=>............................] - ETA: 5:52 - loss: 1.0132 - categorical_accuracy: 0.6667\n",
      "Epoch 2: saving model to model_init_2023-05-1715_18_55.563885\\\n",
      "INFO:tensorflow:Assets written to: model_init_2023-05-1715_18_55.563885\\assets\n"
     ]
    },
    {
     "name": "stderr",
     "output_type": "stream",
     "text": [
      "INFO:tensorflow:Assets written to: model_init_2023-05-1715_18_55.563885\\assets\n"
     ]
    },
    {
     "name": "stdout",
     "output_type": "stream",
     "text": [
      " 4/34 [==>...........................] - ETA: 5:42 - loss: 1.0084 - categorical_accuracy: 0.6313\n",
      "Epoch 2: saving model to model_init_2023-05-1715_18_55.563885\\\n",
      "INFO:tensorflow:Assets written to: model_init_2023-05-1715_18_55.563885\\assets\n"
     ]
    },
    {
     "name": "stderr",
     "output_type": "stream",
     "text": [
      "INFO:tensorflow:Assets written to: model_init_2023-05-1715_18_55.563885\\assets\n"
     ]
    },
    {
     "name": "stdout",
     "output_type": "stream",
     "text": [
      " 5/34 [===>..........................] - ETA: 5:30 - loss: 1.0953 - categorical_accuracy: 0.5750\n",
      "Epoch 2: saving model to model_init_2023-05-1715_18_55.563885\\\n",
      "INFO:tensorflow:Assets written to: model_init_2023-05-1715_18_55.563885\\assets\n"
     ]
    },
    {
     "name": "stderr",
     "output_type": "stream",
     "text": [
      "INFO:tensorflow:Assets written to: model_init_2023-05-1715_18_55.563885\\assets\n"
     ]
    },
    {
     "name": "stdout",
     "output_type": "stream",
     "text": [
      " 6/34 [====>.........................] - ETA: 5:21 - loss: 1.1411 - categorical_accuracy: 0.5375\n",
      "Epoch 2: saving model to model_init_2023-05-1715_18_55.563885\\\n",
      "INFO:tensorflow:Assets written to: model_init_2023-05-1715_18_55.563885\\assets\n"
     ]
    },
    {
     "name": "stderr",
     "output_type": "stream",
     "text": [
      "INFO:tensorflow:Assets written to: model_init_2023-05-1715_18_55.563885\\assets\n"
     ]
    },
    {
     "name": "stdout",
     "output_type": "stream",
     "text": [
      " 7/34 [=====>........................] - ETA: 5:11 - loss: 1.1378 - categorical_accuracy: 0.5464\n",
      "Epoch 2: saving model to model_init_2023-05-1715_18_55.563885\\\n",
      "INFO:tensorflow:Assets written to: model_init_2023-05-1715_18_55.563885\\assets\n"
     ]
    },
    {
     "name": "stderr",
     "output_type": "stream",
     "text": [
      "INFO:tensorflow:Assets written to: model_init_2023-05-1715_18_55.563885\\assets\n"
     ]
    },
    {
     "name": "stdout",
     "output_type": "stream",
     "text": [
      " 8/34 [======>.......................] - ETA: 4:58 - loss: 1.0966 - categorical_accuracy: 0.5625\n",
      "Epoch 2: saving model to model_init_2023-05-1715_18_55.563885\\\n",
      "INFO:tensorflow:Assets written to: model_init_2023-05-1715_18_55.563885\\assets\n"
     ]
    },
    {
     "name": "stderr",
     "output_type": "stream",
     "text": [
      "INFO:tensorflow:Assets written to: model_init_2023-05-1715_18_55.563885\\assets\n"
     ]
    },
    {
     "name": "stdout",
     "output_type": "stream",
     "text": [
      " 9/34 [======>.......................] - ETA: 4:48 - loss: 1.0652 - categorical_accuracy: 0.5833\n",
      "Epoch 2: saving model to model_init_2023-05-1715_18_55.563885\\\n",
      "INFO:tensorflow:Assets written to: model_init_2023-05-1715_18_55.563885\\assets\n"
     ]
    },
    {
     "name": "stderr",
     "output_type": "stream",
     "text": [
      "INFO:tensorflow:Assets written to: model_init_2023-05-1715_18_55.563885\\assets\n"
     ]
    },
    {
     "name": "stdout",
     "output_type": "stream",
     "text": [
      "10/34 [=======>......................] - ETA: 4:36 - loss: 1.0701 - categorical_accuracy: 0.5800\n",
      "Epoch 2: saving model to model_init_2023-05-1715_18_55.563885\\\n",
      "INFO:tensorflow:Assets written to: model_init_2023-05-1715_18_55.563885\\assets\n"
     ]
    },
    {
     "name": "stderr",
     "output_type": "stream",
     "text": [
      "INFO:tensorflow:Assets written to: model_init_2023-05-1715_18_55.563885\\assets\n"
     ]
    },
    {
     "name": "stdout",
     "output_type": "stream",
     "text": [
      "11/34 [========>.....................] - ETA: 4:16 - loss: 1.0668 - categorical_accuracy: 0.5818\n",
      "Epoch 2: saving model to model_init_2023-05-1715_18_55.563885\\\n",
      "INFO:tensorflow:Assets written to: model_init_2023-05-1715_18_55.563885\\assets\n"
     ]
    },
    {
     "name": "stderr",
     "output_type": "stream",
     "text": [
      "INFO:tensorflow:Assets written to: model_init_2023-05-1715_18_55.563885\\assets\n"
     ]
    },
    {
     "name": "stdout",
     "output_type": "stream",
     "text": [
      "12/34 [=========>....................] - ETA: 3:56 - loss: 1.0817 - categorical_accuracy: 0.5833\n",
      "Epoch 2: saving model to model_init_2023-05-1715_18_55.563885\\\n",
      "INFO:tensorflow:Assets written to: model_init_2023-05-1715_18_55.563885\\assets\n"
     ]
    },
    {
     "name": "stderr",
     "output_type": "stream",
     "text": [
      "INFO:tensorflow:Assets written to: model_init_2023-05-1715_18_55.563885\\assets\n"
     ]
    },
    {
     "name": "stdout",
     "output_type": "stream",
     "text": [
      "13/34 [==========>...................] - ETA: 3:39 - loss: 1.0937 - categorical_accuracy: 0.5827\n",
      "Epoch 2: saving model to model_init_2023-05-1715_18_55.563885\\\n",
      "INFO:tensorflow:Assets written to: model_init_2023-05-1715_18_55.563885\\assets\n"
     ]
    },
    {
     "name": "stderr",
     "output_type": "stream",
     "text": [
      "INFO:tensorflow:Assets written to: model_init_2023-05-1715_18_55.563885\\assets\n"
     ]
    },
    {
     "name": "stdout",
     "output_type": "stream",
     "text": [
      "14/34 [===========>..................] - ETA: 3:23 - loss: 1.0635 - categorical_accuracy: 0.6018\n",
      "Epoch 2: saving model to model_init_2023-05-1715_18_55.563885\\\n",
      "INFO:tensorflow:Assets written to: model_init_2023-05-1715_18_55.563885\\assets\n"
     ]
    },
    {
     "name": "stderr",
     "output_type": "stream",
     "text": [
      "INFO:tensorflow:Assets written to: model_init_2023-05-1715_18_55.563885\\assets\n"
     ]
    },
    {
     "name": "stdout",
     "output_type": "stream",
     "text": [
      "15/34 [============>.................] - ETA: 3:12 - loss: 1.0641 - categorical_accuracy: 0.6033\n",
      "Epoch 2: saving model to model_init_2023-05-1715_18_55.563885\\\n",
      "INFO:tensorflow:Assets written to: model_init_2023-05-1715_18_55.563885\\assets\n"
     ]
    },
    {
     "name": "stderr",
     "output_type": "stream",
     "text": [
      "INFO:tensorflow:Assets written to: model_init_2023-05-1715_18_55.563885\\assets\n"
     ]
    },
    {
     "name": "stdout",
     "output_type": "stream",
     "text": [
      "16/34 [=============>................] - ETA: 3:03 - loss: 1.0689 - categorical_accuracy: 0.6047\n",
      "Epoch 2: saving model to model_init_2023-05-1715_18_55.563885\\\n",
      "INFO:tensorflow:Assets written to: model_init_2023-05-1715_18_55.563885\\assets\n"
     ]
    },
    {
     "name": "stderr",
     "output_type": "stream",
     "text": [
      "INFO:tensorflow:Assets written to: model_init_2023-05-1715_18_55.563885\\assets\n"
     ]
    },
    {
     "name": "stdout",
     "output_type": "stream",
     "text": [
      "17/34 [==============>...............] - ETA: 2:54 - loss: 1.0642 - categorical_accuracy: 0.6074\n",
      "Epoch 2: saving model to model_init_2023-05-1715_18_55.563885\\\n",
      "INFO:tensorflow:Assets written to: model_init_2023-05-1715_18_55.563885\\assets\n"
     ]
    },
    {
     "name": "stderr",
     "output_type": "stream",
     "text": [
      "INFO:tensorflow:Assets written to: model_init_2023-05-1715_18_55.563885\\assets\n"
     ]
    },
    {
     "name": "stdout",
     "output_type": "stream",
     "text": [
      "18/34 [==============>...............] - ETA: 2:45 - loss: 1.0577 - categorical_accuracy: 0.6083\n",
      "Epoch 2: saving model to model_init_2023-05-1715_18_55.563885\\\n",
      "INFO:tensorflow:Assets written to: model_init_2023-05-1715_18_55.563885\\assets\n"
     ]
    },
    {
     "name": "stderr",
     "output_type": "stream",
     "text": [
      "INFO:tensorflow:Assets written to: model_init_2023-05-1715_18_55.563885\\assets\n"
     ]
    },
    {
     "name": "stdout",
     "output_type": "stream",
     "text": [
      "19/34 [===============>..............] - ETA: 2:35 - loss: 1.0589 - categorical_accuracy: 0.6092\n",
      "Epoch 2: saving model to model_init_2023-05-1715_18_55.563885\\\n",
      "INFO:tensorflow:Assets written to: model_init_2023-05-1715_18_55.563885\\assets\n"
     ]
    },
    {
     "name": "stderr",
     "output_type": "stream",
     "text": [
      "INFO:tensorflow:Assets written to: model_init_2023-05-1715_18_55.563885\\assets\n"
     ]
    },
    {
     "name": "stdout",
     "output_type": "stream",
     "text": [
      "20/34 [================>.............] - ETA: 2:26 - loss: 1.0575 - categorical_accuracy: 0.6125\n",
      "Epoch 2: saving model to model_init_2023-05-1715_18_55.563885\\\n",
      "INFO:tensorflow:Assets written to: model_init_2023-05-1715_18_55.563885\\assets\n"
     ]
    },
    {
     "name": "stderr",
     "output_type": "stream",
     "text": [
      "INFO:tensorflow:Assets written to: model_init_2023-05-1715_18_55.563885\\assets\n"
     ]
    },
    {
     "name": "stdout",
     "output_type": "stream",
     "text": [
      "21/34 [=================>............] - ETA: 2:16 - loss: 1.0569 - categorical_accuracy: 0.6155\n",
      "Epoch 2: saving model to model_init_2023-05-1715_18_55.563885\\\n",
      "INFO:tensorflow:Assets written to: model_init_2023-05-1715_18_55.563885\\assets\n"
     ]
    },
    {
     "name": "stderr",
     "output_type": "stream",
     "text": [
      "INFO:tensorflow:Assets written to: model_init_2023-05-1715_18_55.563885\\assets\n"
     ]
    },
    {
     "name": "stdout",
     "output_type": "stream",
     "text": [
      "22/34 [==================>...........] - ETA: 2:06 - loss: 1.0582 - categorical_accuracy: 0.6125\n",
      "Epoch 2: saving model to model_init_2023-05-1715_18_55.563885\\\n",
      "INFO:tensorflow:Assets written to: model_init_2023-05-1715_18_55.563885\\assets\n"
     ]
    },
    {
     "name": "stderr",
     "output_type": "stream",
     "text": [
      "INFO:tensorflow:Assets written to: model_init_2023-05-1715_18_55.563885\\assets\n"
     ]
    },
    {
     "name": "stdout",
     "output_type": "stream",
     "text": [
      "23/34 [===================>..........] - ETA: 1:56 - loss: 1.0419 - categorical_accuracy: 0.6174\n",
      "Epoch 2: saving model to model_init_2023-05-1715_18_55.563885\\\n",
      "INFO:tensorflow:Assets written to: model_init_2023-05-1715_18_55.563885\\assets\n"
     ]
    },
    {
     "name": "stderr",
     "output_type": "stream",
     "text": [
      "INFO:tensorflow:Assets written to: model_init_2023-05-1715_18_55.563885\\assets\n"
     ]
    },
    {
     "name": "stdout",
     "output_type": "stream",
     "text": [
      "24/34 [====================>.........] - ETA: 1:46 - loss: 1.0460 - categorical_accuracy: 0.6167\n",
      "Epoch 2: saving model to model_init_2023-05-1715_18_55.563885\\\n",
      "INFO:tensorflow:Assets written to: model_init_2023-05-1715_18_55.563885\\assets\n"
     ]
    },
    {
     "name": "stderr",
     "output_type": "stream",
     "text": [
      "INFO:tensorflow:Assets written to: model_init_2023-05-1715_18_55.563885\\assets\n"
     ]
    },
    {
     "name": "stdout",
     "output_type": "stream",
     "text": [
      "25/34 [=====================>........] - ETA: 1:36 - loss: 1.0401 - categorical_accuracy: 0.6170\n",
      "Epoch 2: saving model to model_init_2023-05-1715_18_55.563885\\\n",
      "INFO:tensorflow:Assets written to: model_init_2023-05-1715_18_55.563885\\assets\n"
     ]
    },
    {
     "name": "stderr",
     "output_type": "stream",
     "text": [
      "INFO:tensorflow:Assets written to: model_init_2023-05-1715_18_55.563885\\assets\n"
     ]
    },
    {
     "name": "stdout",
     "output_type": "stream",
     "text": [
      "26/34 [=====================>........] - ETA: 1:25 - loss: 1.0316 - categorical_accuracy: 0.6202\n",
      "Epoch 2: saving model to model_init_2023-05-1715_18_55.563885\\\n",
      "INFO:tensorflow:Assets written to: model_init_2023-05-1715_18_55.563885\\assets\n"
     ]
    },
    {
     "name": "stderr",
     "output_type": "stream",
     "text": [
      "INFO:tensorflow:Assets written to: model_init_2023-05-1715_18_55.563885\\assets\n"
     ]
    },
    {
     "name": "stdout",
     "output_type": "stream",
     "text": [
      "27/34 [======================>.......] - ETA: 1:15 - loss: 1.0185 - categorical_accuracy: 0.6259\n",
      "Epoch 2: saving model to model_init_2023-05-1715_18_55.563885\\\n",
      "INFO:tensorflow:Assets written to: model_init_2023-05-1715_18_55.563885\\assets\n"
     ]
    },
    {
     "name": "stderr",
     "output_type": "stream",
     "text": [
      "INFO:tensorflow:Assets written to: model_init_2023-05-1715_18_55.563885\\assets\n"
     ]
    },
    {
     "name": "stdout",
     "output_type": "stream",
     "text": [
      "28/34 [=======================>......] - ETA: 1:04 - loss: 1.0276 - categorical_accuracy: 0.6196\n",
      "Epoch 2: saving model to model_init_2023-05-1715_18_55.563885\\\n",
      "INFO:tensorflow:Assets written to: model_init_2023-05-1715_18_55.563885\\assets\n"
     ]
    },
    {
     "name": "stderr",
     "output_type": "stream",
     "text": [
      "INFO:tensorflow:Assets written to: model_init_2023-05-1715_18_55.563885\\assets\n"
     ]
    },
    {
     "name": "stdout",
     "output_type": "stream",
     "text": [
      "29/34 [========================>.....] - ETA: 54s - loss: 1.0297 - categorical_accuracy: 0.6164 \n",
      "Epoch 2: saving model to model_init_2023-05-1715_18_55.563885\\\n",
      "INFO:tensorflow:Assets written to: model_init_2023-05-1715_18_55.563885\\assets\n"
     ]
    },
    {
     "name": "stderr",
     "output_type": "stream",
     "text": [
      "INFO:tensorflow:Assets written to: model_init_2023-05-1715_18_55.563885\\assets\n"
     ]
    },
    {
     "name": "stdout",
     "output_type": "stream",
     "text": [
      "30/34 [=========================>....] - ETA: 43s - loss: 1.0282 - categorical_accuracy: 0.6167\n",
      "Epoch 2: saving model to model_init_2023-05-1715_18_55.563885\\\n",
      "INFO:tensorflow:Assets written to: model_init_2023-05-1715_18_55.563885\\assets\n"
     ]
    },
    {
     "name": "stderr",
     "output_type": "stream",
     "text": [
      "INFO:tensorflow:Assets written to: model_init_2023-05-1715_18_55.563885\\assets\n"
     ]
    },
    {
     "name": "stdout",
     "output_type": "stream",
     "text": [
      "31/34 [==========================>...] - ETA: 32s - loss: 1.0423 - categorical_accuracy: 0.6145\n",
      "Epoch 2: saving model to model_init_2023-05-1715_18_55.563885\\\n",
      "INFO:tensorflow:Assets written to: model_init_2023-05-1715_18_55.563885\\assets\n"
     ]
    },
    {
     "name": "stderr",
     "output_type": "stream",
     "text": [
      "INFO:tensorflow:Assets written to: model_init_2023-05-1715_18_55.563885\\assets\n"
     ]
    },
    {
     "name": "stdout",
     "output_type": "stream",
     "text": [
      "32/34 [===========================>..] - ETA: 21s - loss: 1.0425 - categorical_accuracy: 0.6156\n",
      "Epoch 2: saving model to model_init_2023-05-1715_18_55.563885\\\n",
      "INFO:tensorflow:Assets written to: model_init_2023-05-1715_18_55.563885\\assets\n"
     ]
    },
    {
     "name": "stderr",
     "output_type": "stream",
     "text": [
      "INFO:tensorflow:Assets written to: model_init_2023-05-1715_18_55.563885\\assets\n"
     ]
    },
    {
     "name": "stdout",
     "output_type": "stream",
     "text": [
      "33/34 [============================>.] - ETA: 10s - loss: 1.0440 - categorical_accuracy: 0.6129\n",
      "Epoch 2: saving model to model_init_2023-05-1715_18_55.563885\\\n",
      "INFO:tensorflow:Assets written to: model_init_2023-05-1715_18_55.563885\\assets\n"
     ]
    },
    {
     "name": "stderr",
     "output_type": "stream",
     "text": [
      "INFO:tensorflow:Assets written to: model_init_2023-05-1715_18_55.563885\\assets\n"
     ]
    },
    {
     "name": "stdout",
     "output_type": "stream",
     "text": [
      "34/34 [==============================] - 376s 11s/step - loss: 1.0478 - categorical_accuracy: 0.6116 - val_loss: 2.0280 - val_categorical_accuracy: 0.2100 - lr: 0.0010\n",
      "Epoch 3/20\n",
      "\n",
      "Epoch 3: saving model to model_init_2023-05-1715_18_55.563885\\\n",
      "INFO:tensorflow:Assets written to: model_init_2023-05-1715_18_55.563885\\assets\n"
     ]
    },
    {
     "name": "stderr",
     "output_type": "stream",
     "text": [
      "INFO:tensorflow:Assets written to: model_init_2023-05-1715_18_55.563885\\assets\n"
     ]
    },
    {
     "name": "stdout",
     "output_type": "stream",
     "text": [
      " 1/34 [..............................] - ETA: 6:17 - loss: 0.9887 - categorical_accuracy: 0.5250\n",
      "Epoch 3: saving model to model_init_2023-05-1715_18_55.563885\\\n",
      "INFO:tensorflow:Assets written to: model_init_2023-05-1715_18_55.563885\\assets\n"
     ]
    },
    {
     "name": "stderr",
     "output_type": "stream",
     "text": [
      "INFO:tensorflow:Assets written to: model_init_2023-05-1715_18_55.563885\\assets\n"
     ]
    },
    {
     "name": "stdout",
     "output_type": "stream",
     "text": [
      " 2/34 [>.............................] - ETA: 6:16 - loss: 0.8914 - categorical_accuracy: 0.6250\n",
      "Epoch 3: saving model to model_init_2023-05-1715_18_55.563885\\\n",
      "INFO:tensorflow:Assets written to: model_init_2023-05-1715_18_55.563885\\assets\n"
     ]
    },
    {
     "name": "stderr",
     "output_type": "stream",
     "text": [
      "INFO:tensorflow:Assets written to: model_init_2023-05-1715_18_55.563885\\assets\n"
     ]
    },
    {
     "name": "stdout",
     "output_type": "stream",
     "text": [
      " 3/34 [=>............................] - ETA: 5:58 - loss: 0.9328 - categorical_accuracy: 0.6083\n",
      "Epoch 3: saving model to model_init_2023-05-1715_18_55.563885\\\n",
      "INFO:tensorflow:Assets written to: model_init_2023-05-1715_18_55.563885\\assets\n"
     ]
    },
    {
     "name": "stderr",
     "output_type": "stream",
     "text": [
      "INFO:tensorflow:Assets written to: model_init_2023-05-1715_18_55.563885\\assets\n"
     ]
    },
    {
     "name": "stdout",
     "output_type": "stream",
     "text": [
      " 4/34 [==>...........................] - ETA: 5:52 - loss: 0.8866 - categorical_accuracy: 0.6313\n",
      "Epoch 3: saving model to model_init_2023-05-1715_18_55.563885\\\n",
      "INFO:tensorflow:Assets written to: model_init_2023-05-1715_18_55.563885\\assets\n"
     ]
    },
    {
     "name": "stderr",
     "output_type": "stream",
     "text": [
      "INFO:tensorflow:Assets written to: model_init_2023-05-1715_18_55.563885\\assets\n"
     ]
    },
    {
     "name": "stdout",
     "output_type": "stream",
     "text": [
      " 5/34 [===>..........................] - ETA: 5:39 - loss: 0.8640 - categorical_accuracy: 0.6400\n",
      "Epoch 3: saving model to model_init_2023-05-1715_18_55.563885\\\n",
      "INFO:tensorflow:Assets written to: model_init_2023-05-1715_18_55.563885\\assets\n"
     ]
    },
    {
     "name": "stderr",
     "output_type": "stream",
     "text": [
      "INFO:tensorflow:Assets written to: model_init_2023-05-1715_18_55.563885\\assets\n"
     ]
    },
    {
     "name": "stdout",
     "output_type": "stream",
     "text": [
      " 6/34 [====>.........................] - ETA: 5:27 - loss: 0.8724 - categorical_accuracy: 0.6458\n",
      "Epoch 3: saving model to model_init_2023-05-1715_18_55.563885\\\n",
      "INFO:tensorflow:Assets written to: model_init_2023-05-1715_18_55.563885\\assets\n"
     ]
    },
    {
     "name": "stderr",
     "output_type": "stream",
     "text": [
      "INFO:tensorflow:Assets written to: model_init_2023-05-1715_18_55.563885\\assets\n"
     ]
    },
    {
     "name": "stdout",
     "output_type": "stream",
     "text": [
      " 7/34 [=====>........................] - ETA: 5:15 - loss: 0.8475 - categorical_accuracy: 0.6714\n",
      "Epoch 3: saving model to model_init_2023-05-1715_18_55.563885\\\n",
      "INFO:tensorflow:Assets written to: model_init_2023-05-1715_18_55.563885\\assets\n"
     ]
    },
    {
     "name": "stderr",
     "output_type": "stream",
     "text": [
      "INFO:tensorflow:Assets written to: model_init_2023-05-1715_18_55.563885\\assets\n"
     ]
    },
    {
     "name": "stdout",
     "output_type": "stream",
     "text": [
      " 8/34 [======>.......................] - ETA: 5:03 - loss: 0.8394 - categorical_accuracy: 0.6750\n",
      "Epoch 3: saving model to model_init_2023-05-1715_18_55.563885\\\n",
      "INFO:tensorflow:Assets written to: model_init_2023-05-1715_18_55.563885\\assets\n"
     ]
    },
    {
     "name": "stderr",
     "output_type": "stream",
     "text": [
      "INFO:tensorflow:Assets written to: model_init_2023-05-1715_18_55.563885\\assets\n"
     ]
    },
    {
     "name": "stdout",
     "output_type": "stream",
     "text": [
      " 9/34 [======>.......................] - ETA: 4:51 - loss: 0.8568 - categorical_accuracy: 0.6556\n",
      "Epoch 3: saving model to model_init_2023-05-1715_18_55.563885\\\n",
      "INFO:tensorflow:Assets written to: model_init_2023-05-1715_18_55.563885\\assets\n"
     ]
    },
    {
     "name": "stderr",
     "output_type": "stream",
     "text": [
      "INFO:tensorflow:Assets written to: model_init_2023-05-1715_18_55.563885\\assets\n"
     ]
    },
    {
     "name": "stdout",
     "output_type": "stream",
     "text": [
      "10/34 [=======>......................] - ETA: 4:39 - loss: 0.8521 - categorical_accuracy: 0.6650\n",
      "Epoch 3: saving model to model_init_2023-05-1715_18_55.563885\\\n",
      "INFO:tensorflow:Assets written to: model_init_2023-05-1715_18_55.563885\\assets\n"
     ]
    },
    {
     "name": "stderr",
     "output_type": "stream",
     "text": [
      "INFO:tensorflow:Assets written to: model_init_2023-05-1715_18_55.563885\\assets\n"
     ]
    },
    {
     "name": "stdout",
     "output_type": "stream",
     "text": [
      "11/34 [========>.....................] - ETA: 4:26 - loss: 0.8575 - categorical_accuracy: 0.6636\n",
      "Epoch 3: saving model to model_init_2023-05-1715_18_55.563885\\\n",
      "INFO:tensorflow:Assets written to: model_init_2023-05-1715_18_55.563885\\assets\n"
     ]
    },
    {
     "name": "stderr",
     "output_type": "stream",
     "text": [
      "INFO:tensorflow:Assets written to: model_init_2023-05-1715_18_55.563885\\assets\n"
     ]
    },
    {
     "name": "stdout",
     "output_type": "stream",
     "text": [
      "12/34 [=========>....................] - ETA: 4:15 - loss: 0.8485 - categorical_accuracy: 0.6708\n",
      "Epoch 3: saving model to model_init_2023-05-1715_18_55.563885\\\n",
      "INFO:tensorflow:Assets written to: model_init_2023-05-1715_18_55.563885\\assets\n"
     ]
    },
    {
     "name": "stderr",
     "output_type": "stream",
     "text": [
      "INFO:tensorflow:Assets written to: model_init_2023-05-1715_18_55.563885\\assets\n"
     ]
    },
    {
     "name": "stdout",
     "output_type": "stream",
     "text": [
      "13/34 [==========>...................] - ETA: 4:03 - loss: 0.8403 - categorical_accuracy: 0.6692\n",
      "Epoch 3: saving model to model_init_2023-05-1715_18_55.563885\\\n",
      "INFO:tensorflow:Assets written to: model_init_2023-05-1715_18_55.563885\\assets\n"
     ]
    },
    {
     "name": "stderr",
     "output_type": "stream",
     "text": [
      "INFO:tensorflow:Assets written to: model_init_2023-05-1715_18_55.563885\\assets\n"
     ]
    },
    {
     "name": "stdout",
     "output_type": "stream",
     "text": [
      "14/34 [===========>..................] - ETA: 3:51 - loss: 0.8350 - categorical_accuracy: 0.6714\n",
      "Epoch 3: saving model to model_init_2023-05-1715_18_55.563885\\\n",
      "INFO:tensorflow:Assets written to: model_init_2023-05-1715_18_55.563885\\assets\n"
     ]
    },
    {
     "name": "stderr",
     "output_type": "stream",
     "text": [
      "INFO:tensorflow:Assets written to: model_init_2023-05-1715_18_55.563885\\assets\n"
     ]
    },
    {
     "name": "stdout",
     "output_type": "stream",
     "text": [
      "15/34 [============>.................] - ETA: 3:39 - loss: 0.8273 - categorical_accuracy: 0.6783\n",
      "Epoch 3: saving model to model_init_2023-05-1715_18_55.563885\\\n",
      "INFO:tensorflow:Assets written to: model_init_2023-05-1715_18_55.563885\\assets\n"
     ]
    },
    {
     "name": "stderr",
     "output_type": "stream",
     "text": [
      "INFO:tensorflow:Assets written to: model_init_2023-05-1715_18_55.563885\\assets\n"
     ]
    },
    {
     "name": "stdout",
     "output_type": "stream",
     "text": [
      "16/34 [=============>................] - ETA: 3:28 - loss: 0.8414 - categorical_accuracy: 0.6719\n",
      "Epoch 3: saving model to model_init_2023-05-1715_18_55.563885\\\n",
      "INFO:tensorflow:Assets written to: model_init_2023-05-1715_18_55.563885\\assets\n"
     ]
    },
    {
     "name": "stderr",
     "output_type": "stream",
     "text": [
      "INFO:tensorflow:Assets written to: model_init_2023-05-1715_18_55.563885\\assets\n"
     ]
    },
    {
     "name": "stdout",
     "output_type": "stream",
     "text": [
      "17/34 [==============>...............] - ETA: 3:16 - loss: 0.8382 - categorical_accuracy: 0.6706\n",
      "Epoch 3: saving model to model_init_2023-05-1715_18_55.563885\\\n",
      "INFO:tensorflow:Assets written to: model_init_2023-05-1715_18_55.563885\\assets\n"
     ]
    },
    {
     "name": "stderr",
     "output_type": "stream",
     "text": [
      "INFO:tensorflow:Assets written to: model_init_2023-05-1715_18_55.563885\\assets\n"
     ]
    },
    {
     "name": "stdout",
     "output_type": "stream",
     "text": [
      "18/34 [==============>...............] - ETA: 3:04 - loss: 0.8323 - categorical_accuracy: 0.6736\n",
      "Epoch 3: saving model to model_init_2023-05-1715_18_55.563885\\\n",
      "INFO:tensorflow:Assets written to: model_init_2023-05-1715_18_55.563885\\assets\n"
     ]
    },
    {
     "name": "stderr",
     "output_type": "stream",
     "text": [
      "INFO:tensorflow:Assets written to: model_init_2023-05-1715_18_55.563885\\assets\n"
     ]
    },
    {
     "name": "stdout",
     "output_type": "stream",
     "text": [
      "19/34 [===============>..............] - ETA: 2:53 - loss: 0.8304 - categorical_accuracy: 0.6763\n",
      "Epoch 3: saving model to model_init_2023-05-1715_18_55.563885\\\n",
      "INFO:tensorflow:Assets written to: model_init_2023-05-1715_18_55.563885\\assets\n"
     ]
    },
    {
     "name": "stderr",
     "output_type": "stream",
     "text": [
      "INFO:tensorflow:Assets written to: model_init_2023-05-1715_18_55.563885\\assets\n"
     ]
    },
    {
     "name": "stdout",
     "output_type": "stream",
     "text": [
      "20/34 [================>.............] - ETA: 2:42 - loss: 0.8302 - categorical_accuracy: 0.6775\n",
      "Epoch 3: saving model to model_init_2023-05-1715_18_55.563885\\\n",
      "INFO:tensorflow:Assets written to: model_init_2023-05-1715_18_55.563885\\assets\n"
     ]
    },
    {
     "name": "stderr",
     "output_type": "stream",
     "text": [
      "INFO:tensorflow:Assets written to: model_init_2023-05-1715_18_55.563885\\assets\n"
     ]
    },
    {
     "name": "stdout",
     "output_type": "stream",
     "text": [
      "21/34 [=================>............] - ETA: 2:30 - loss: 0.8325 - categorical_accuracy: 0.6786\n",
      "Epoch 3: saving model to model_init_2023-05-1715_18_55.563885\\\n",
      "INFO:tensorflow:Assets written to: model_init_2023-05-1715_18_55.563885\\assets\n"
     ]
    },
    {
     "name": "stderr",
     "output_type": "stream",
     "text": [
      "INFO:tensorflow:Assets written to: model_init_2023-05-1715_18_55.563885\\assets\n"
     ]
    },
    {
     "name": "stdout",
     "output_type": "stream",
     "text": [
      "22/34 [==================>...........] - ETA: 2:18 - loss: 0.8234 - categorical_accuracy: 0.6864\n",
      "Epoch 3: saving model to model_init_2023-05-1715_18_55.563885\\\n",
      "INFO:tensorflow:Assets written to: model_init_2023-05-1715_18_55.563885\\assets\n"
     ]
    },
    {
     "name": "stderr",
     "output_type": "stream",
     "text": [
      "INFO:tensorflow:Assets written to: model_init_2023-05-1715_18_55.563885\\assets\n"
     ]
    },
    {
     "name": "stdout",
     "output_type": "stream",
     "text": [
      "23/34 [===================>..........] - ETA: 2:07 - loss: 0.8147 - categorical_accuracy: 0.6902\n",
      "Epoch 3: saving model to model_init_2023-05-1715_18_55.563885\\\n",
      "INFO:tensorflow:Assets written to: model_init_2023-05-1715_18_55.563885\\assets\n"
     ]
    },
    {
     "name": "stderr",
     "output_type": "stream",
     "text": [
      "INFO:tensorflow:Assets written to: model_init_2023-05-1715_18_55.563885\\assets\n"
     ]
    },
    {
     "name": "stdout",
     "output_type": "stream",
     "text": [
      "24/34 [====================>.........] - ETA: 1:55 - loss: 0.8274 - categorical_accuracy: 0.6875\n",
      "Epoch 3: saving model to model_init_2023-05-1715_18_55.563885\\\n",
      "INFO:tensorflow:Assets written to: model_init_2023-05-1715_18_55.563885\\assets\n"
     ]
    },
    {
     "name": "stderr",
     "output_type": "stream",
     "text": [
      "INFO:tensorflow:Assets written to: model_init_2023-05-1715_18_55.563885\\assets\n"
     ]
    },
    {
     "name": "stdout",
     "output_type": "stream",
     "text": [
      "25/34 [=====================>........] - ETA: 1:44 - loss: 0.8357 - categorical_accuracy: 0.6860\n",
      "Epoch 3: saving model to model_init_2023-05-1715_18_55.563885\\\n",
      "INFO:tensorflow:Assets written to: model_init_2023-05-1715_18_55.563885\\assets\n"
     ]
    },
    {
     "name": "stderr",
     "output_type": "stream",
     "text": [
      "INFO:tensorflow:Assets written to: model_init_2023-05-1715_18_55.563885\\assets\n"
     ]
    },
    {
     "name": "stdout",
     "output_type": "stream",
     "text": [
      "26/34 [=====================>........] - ETA: 1:32 - loss: 0.8372 - categorical_accuracy: 0.6865\n",
      "Epoch 3: saving model to model_init_2023-05-1715_18_55.563885\\\n",
      "INFO:tensorflow:Assets written to: model_init_2023-05-1715_18_55.563885\\assets\n"
     ]
    },
    {
     "name": "stderr",
     "output_type": "stream",
     "text": [
      "INFO:tensorflow:Assets written to: model_init_2023-05-1715_18_55.563885\\assets\n"
     ]
    },
    {
     "name": "stdout",
     "output_type": "stream",
     "text": [
      "27/34 [======================>.......] - ETA: 1:21 - loss: 0.8348 - categorical_accuracy: 0.6880\n",
      "Epoch 3: saving model to model_init_2023-05-1715_18_55.563885\\\n",
      "INFO:tensorflow:Assets written to: model_init_2023-05-1715_18_55.563885\\assets\n"
     ]
    },
    {
     "name": "stderr",
     "output_type": "stream",
     "text": [
      "INFO:tensorflow:Assets written to: model_init_2023-05-1715_18_55.563885\\assets\n"
     ]
    },
    {
     "name": "stdout",
     "output_type": "stream",
     "text": [
      "28/34 [=======================>......] - ETA: 1:09 - loss: 0.8192 - categorical_accuracy: 0.6964\n",
      "Epoch 3: saving model to model_init_2023-05-1715_18_55.563885\\\n",
      "INFO:tensorflow:Assets written to: model_init_2023-05-1715_18_55.563885\\assets\n"
     ]
    },
    {
     "name": "stderr",
     "output_type": "stream",
     "text": [
      "INFO:tensorflow:Assets written to: model_init_2023-05-1715_18_55.563885\\assets\n"
     ]
    },
    {
     "name": "stdout",
     "output_type": "stream",
     "text": [
      "29/34 [========================>.....] - ETA: 57s - loss: 0.8250 - categorical_accuracy: 0.6897 \n",
      "Epoch 3: saving model to model_init_2023-05-1715_18_55.563885\\\n",
      "INFO:tensorflow:Assets written to: model_init_2023-05-1715_18_55.563885\\assets\n"
     ]
    },
    {
     "name": "stderr",
     "output_type": "stream",
     "text": [
      "INFO:tensorflow:Assets written to: model_init_2023-05-1715_18_55.563885\\assets\n"
     ]
    },
    {
     "name": "stdout",
     "output_type": "stream",
     "text": [
      "30/34 [=========================>....] - ETA: 46s - loss: 0.8152 - categorical_accuracy: 0.6933\n",
      "Epoch 3: saving model to model_init_2023-05-1715_18_55.563885\\\n",
      "INFO:tensorflow:Assets written to: model_init_2023-05-1715_18_55.563885\\assets\n"
     ]
    },
    {
     "name": "stderr",
     "output_type": "stream",
     "text": [
      "INFO:tensorflow:Assets written to: model_init_2023-05-1715_18_55.563885\\assets\n"
     ]
    },
    {
     "name": "stdout",
     "output_type": "stream",
     "text": [
      "31/34 [==========================>...] - ETA: 34s - loss: 0.8291 - categorical_accuracy: 0.6903\n",
      "Epoch 3: saving model to model_init_2023-05-1715_18_55.563885\\\n",
      "INFO:tensorflow:Assets written to: model_init_2023-05-1715_18_55.563885\\assets\n"
     ]
    },
    {
     "name": "stderr",
     "output_type": "stream",
     "text": [
      "INFO:tensorflow:Assets written to: model_init_2023-05-1715_18_55.563885\\assets\n"
     ]
    },
    {
     "name": "stdout",
     "output_type": "stream",
     "text": [
      "32/34 [===========================>..] - ETA: 23s - loss: 0.8341 - categorical_accuracy: 0.6883\n",
      "Epoch 3: saving model to model_init_2023-05-1715_18_55.563885\\\n",
      "INFO:tensorflow:Assets written to: model_init_2023-05-1715_18_55.563885\\assets\n"
     ]
    },
    {
     "name": "stderr",
     "output_type": "stream",
     "text": [
      "INFO:tensorflow:Assets written to: model_init_2023-05-1715_18_55.563885\\assets\n"
     ]
    },
    {
     "name": "stdout",
     "output_type": "stream",
     "text": [
      "33/34 [============================>.] - ETA: 11s - loss: 0.8280 - categorical_accuracy: 0.6909\n",
      "Epoch 3: saving model to model_init_2023-05-1715_18_55.563885\\\n",
      "INFO:tensorflow:Assets written to: model_init_2023-05-1715_18_55.563885\\assets\n"
     ]
    },
    {
     "name": "stderr",
     "output_type": "stream",
     "text": [
      "INFO:tensorflow:Assets written to: model_init_2023-05-1715_18_55.563885\\assets\n"
     ]
    },
    {
     "name": "stdout",
     "output_type": "stream",
     "text": [
      "34/34 [==============================] - 398s 12s/step - loss: 0.8249 - categorical_accuracy: 0.6923 - val_loss: 1.7586 - val_categorical_accuracy: 0.2200 - lr: 0.0010\n",
      "Epoch 4/20\n",
      "\n",
      "Epoch 4: saving model to model_init_2023-05-1715_18_55.563885\\\n",
      "INFO:tensorflow:Assets written to: model_init_2023-05-1715_18_55.563885\\assets\n"
     ]
    },
    {
     "name": "stderr",
     "output_type": "stream",
     "text": [
      "INFO:tensorflow:Assets written to: model_init_2023-05-1715_18_55.563885\\assets\n"
     ]
    },
    {
     "name": "stdout",
     "output_type": "stream",
     "text": [
      " 1/34 [..............................] - ETA: 6:14 - loss: 0.8007 - categorical_accuracy: 0.6500\n",
      "Epoch 4: saving model to model_init_2023-05-1715_18_55.563885\\\n",
      "INFO:tensorflow:Assets written to: model_init_2023-05-1715_18_55.563885\\assets\n"
     ]
    },
    {
     "name": "stderr",
     "output_type": "stream",
     "text": [
      "INFO:tensorflow:Assets written to: model_init_2023-05-1715_18_55.563885\\assets\n"
     ]
    },
    {
     "name": "stdout",
     "output_type": "stream",
     "text": [
      " 2/34 [>.............................] - ETA: 6:29 - loss: 0.9452 - categorical_accuracy: 0.6500\n",
      "Epoch 4: saving model to model_init_2023-05-1715_18_55.563885\\\n",
      "INFO:tensorflow:Assets written to: model_init_2023-05-1715_18_55.563885\\assets\n"
     ]
    },
    {
     "name": "stderr",
     "output_type": "stream",
     "text": [
      "INFO:tensorflow:Assets written to: model_init_2023-05-1715_18_55.563885\\assets\n"
     ]
    },
    {
     "name": "stdout",
     "output_type": "stream",
     "text": [
      " 3/34 [=>............................] - ETA: 6:11 - loss: 0.8580 - categorical_accuracy: 0.6750\n",
      "Epoch 4: saving model to model_init_2023-05-1715_18_55.563885\\\n",
      "INFO:tensorflow:Assets written to: model_init_2023-05-1715_18_55.563885\\assets\n"
     ]
    },
    {
     "name": "stderr",
     "output_type": "stream",
     "text": [
      "INFO:tensorflow:Assets written to: model_init_2023-05-1715_18_55.563885\\assets\n"
     ]
    },
    {
     "name": "stdout",
     "output_type": "stream",
     "text": [
      " 4/34 [==>...........................] - ETA: 5:58 - loss: 0.7900 - categorical_accuracy: 0.7063\n",
      "Epoch 4: saving model to model_init_2023-05-1715_18_55.563885\\\n",
      "INFO:tensorflow:Assets written to: model_init_2023-05-1715_18_55.563885\\assets\n"
     ]
    },
    {
     "name": "stderr",
     "output_type": "stream",
     "text": [
      "INFO:tensorflow:Assets written to: model_init_2023-05-1715_18_55.563885\\assets\n"
     ]
    },
    {
     "name": "stdout",
     "output_type": "stream",
     "text": [
      " 5/34 [===>..........................] - ETA: 5:45 - loss: 0.7287 - categorical_accuracy: 0.7200\n",
      "Epoch 4: saving model to model_init_2023-05-1715_18_55.563885\\\n",
      "INFO:tensorflow:Assets written to: model_init_2023-05-1715_18_55.563885\\assets\n"
     ]
    },
    {
     "name": "stderr",
     "output_type": "stream",
     "text": [
      "INFO:tensorflow:Assets written to: model_init_2023-05-1715_18_55.563885\\assets\n"
     ]
    },
    {
     "name": "stdout",
     "output_type": "stream",
     "text": [
      " 6/34 [====>.........................] - ETA: 5:32 - loss: 0.6753 - categorical_accuracy: 0.7458\n",
      "Epoch 4: saving model to model_init_2023-05-1715_18_55.563885\\\n",
      "INFO:tensorflow:Assets written to: model_init_2023-05-1715_18_55.563885\\assets\n"
     ]
    },
    {
     "name": "stderr",
     "output_type": "stream",
     "text": [
      "INFO:tensorflow:Assets written to: model_init_2023-05-1715_18_55.563885\\assets\n"
     ]
    },
    {
     "name": "stdout",
     "output_type": "stream",
     "text": [
      " 7/34 [=====>........................] - ETA: 5:21 - loss: 0.6545 - categorical_accuracy: 0.7464\n",
      "Epoch 4: saving model to model_init_2023-05-1715_18_55.563885\\\n",
      "INFO:tensorflow:Assets written to: model_init_2023-05-1715_18_55.563885\\assets\n"
     ]
    },
    {
     "name": "stderr",
     "output_type": "stream",
     "text": [
      "INFO:tensorflow:Assets written to: model_init_2023-05-1715_18_55.563885\\assets\n"
     ]
    },
    {
     "name": "stdout",
     "output_type": "stream",
     "text": [
      " 8/34 [======>.......................] - ETA: 5:09 - loss: 0.6182 - categorical_accuracy: 0.7625\n",
      "Epoch 4: saving model to model_init_2023-05-1715_18_55.563885\\\n",
      "INFO:tensorflow:Assets written to: model_init_2023-05-1715_18_55.563885\\assets\n"
     ]
    },
    {
     "name": "stderr",
     "output_type": "stream",
     "text": [
      "INFO:tensorflow:Assets written to: model_init_2023-05-1715_18_55.563885\\assets\n"
     ]
    },
    {
     "name": "stdout",
     "output_type": "stream",
     "text": [
      " 9/34 [======>.......................] - ETA: 4:58 - loss: 0.6189 - categorical_accuracy: 0.7639\n",
      "Epoch 4: saving model to model_init_2023-05-1715_18_55.563885\\\n",
      "INFO:tensorflow:Assets written to: model_init_2023-05-1715_18_55.563885\\assets\n"
     ]
    },
    {
     "name": "stderr",
     "output_type": "stream",
     "text": [
      "INFO:tensorflow:Assets written to: model_init_2023-05-1715_18_55.563885\\assets\n"
     ]
    },
    {
     "name": "stdout",
     "output_type": "stream",
     "text": [
      "10/34 [=======>......................] - ETA: 4:46 - loss: 0.6537 - categorical_accuracy: 0.7600\n",
      "Epoch 4: saving model to model_init_2023-05-1715_18_55.563885\\\n",
      "INFO:tensorflow:Assets written to: model_init_2023-05-1715_18_55.563885\\assets\n"
     ]
    },
    {
     "name": "stderr",
     "output_type": "stream",
     "text": [
      "INFO:tensorflow:Assets written to: model_init_2023-05-1715_18_55.563885\\assets\n"
     ]
    },
    {
     "name": "stdout",
     "output_type": "stream",
     "text": [
      "11/34 [========>.....................] - ETA: 4:34 - loss: 0.6802 - categorical_accuracy: 0.7500\n",
      "Epoch 4: saving model to model_init_2023-05-1715_18_55.563885\\\n",
      "INFO:tensorflow:Assets written to: model_init_2023-05-1715_18_55.563885\\assets\n"
     ]
    },
    {
     "name": "stderr",
     "output_type": "stream",
     "text": [
      "INFO:tensorflow:Assets written to: model_init_2023-05-1715_18_55.563885\\assets\n"
     ]
    },
    {
     "name": "stdout",
     "output_type": "stream",
     "text": [
      "12/34 [=========>....................] - ETA: 4:22 - loss: 0.6572 - categorical_accuracy: 0.7604\n",
      "Epoch 4: saving model to model_init_2023-05-1715_18_55.563885\\\n",
      "INFO:tensorflow:Assets written to: model_init_2023-05-1715_18_55.563885\\assets\n"
     ]
    },
    {
     "name": "stderr",
     "output_type": "stream",
     "text": [
      "INFO:tensorflow:Assets written to: model_init_2023-05-1715_18_55.563885\\assets\n"
     ]
    },
    {
     "name": "stdout",
     "output_type": "stream",
     "text": [
      "13/34 [==========>...................] - ETA: 4:09 - loss: 0.6642 - categorical_accuracy: 0.7500\n",
      "Epoch 4: saving model to model_init_2023-05-1715_18_55.563885\\\n",
      "INFO:tensorflow:Assets written to: model_init_2023-05-1715_18_55.563885\\assets\n"
     ]
    },
    {
     "name": "stderr",
     "output_type": "stream",
     "text": [
      "INFO:tensorflow:Assets written to: model_init_2023-05-1715_18_55.563885\\assets\n"
     ]
    },
    {
     "name": "stdout",
     "output_type": "stream",
     "text": [
      "14/34 [===========>..................] - ETA: 3:57 - loss: 0.6580 - categorical_accuracy: 0.7536\n",
      "Epoch 4: saving model to model_init_2023-05-1715_18_55.563885\\\n",
      "INFO:tensorflow:Assets written to: model_init_2023-05-1715_18_55.563885\\assets\n"
     ]
    },
    {
     "name": "stderr",
     "output_type": "stream",
     "text": [
      "INFO:tensorflow:Assets written to: model_init_2023-05-1715_18_55.563885\\assets\n"
     ]
    },
    {
     "name": "stdout",
     "output_type": "stream",
     "text": [
      "15/34 [============>.................] - ETA: 3:45 - loss: 0.6717 - categorical_accuracy: 0.7467\n",
      "Epoch 4: saving model to model_init_2023-05-1715_18_55.563885\\\n",
      "INFO:tensorflow:Assets written to: model_init_2023-05-1715_18_55.563885\\assets\n"
     ]
    },
    {
     "name": "stderr",
     "output_type": "stream",
     "text": [
      "INFO:tensorflow:Assets written to: model_init_2023-05-1715_18_55.563885\\assets\n"
     ]
    },
    {
     "name": "stdout",
     "output_type": "stream",
     "text": [
      "16/34 [=============>................] - ETA: 3:34 - loss: 0.6764 - categorical_accuracy: 0.7469\n",
      "Epoch 4: saving model to model_init_2023-05-1715_18_55.563885\\\n",
      "INFO:tensorflow:Assets written to: model_init_2023-05-1715_18_55.563885\\assets\n"
     ]
    },
    {
     "name": "stderr",
     "output_type": "stream",
     "text": [
      "INFO:tensorflow:Assets written to: model_init_2023-05-1715_18_55.563885\\assets\n"
     ]
    },
    {
     "name": "stdout",
     "output_type": "stream",
     "text": [
      "17/34 [==============>...............] - ETA: 3:21 - loss: 0.6875 - categorical_accuracy: 0.7441\n",
      "Epoch 4: saving model to model_init_2023-05-1715_18_55.563885\\\n",
      "INFO:tensorflow:Assets written to: model_init_2023-05-1715_18_55.563885\\assets\n"
     ]
    },
    {
     "name": "stderr",
     "output_type": "stream",
     "text": [
      "INFO:tensorflow:Assets written to: model_init_2023-05-1715_18_55.563885\\assets\n"
     ]
    },
    {
     "name": "stdout",
     "output_type": "stream",
     "text": [
      "18/34 [==============>...............] - ETA: 3:09 - loss: 0.6832 - categorical_accuracy: 0.7458\n",
      "Epoch 4: saving model to model_init_2023-05-1715_18_55.563885\\\n",
      "INFO:tensorflow:Assets written to: model_init_2023-05-1715_18_55.563885\\assets\n"
     ]
    },
    {
     "name": "stderr",
     "output_type": "stream",
     "text": [
      "INFO:tensorflow:Assets written to: model_init_2023-05-1715_18_55.563885\\assets\n"
     ]
    },
    {
     "name": "stdout",
     "output_type": "stream",
     "text": [
      "19/34 [===============>..............] - ETA: 2:57 - loss: 0.7024 - categorical_accuracy: 0.7382\n",
      "Epoch 4: saving model to model_init_2023-05-1715_18_55.563885\\\n",
      "INFO:tensorflow:Assets written to: model_init_2023-05-1715_18_55.563885\\assets\n"
     ]
    },
    {
     "name": "stderr",
     "output_type": "stream",
     "text": [
      "INFO:tensorflow:Assets written to: model_init_2023-05-1715_18_55.563885\\assets\n"
     ]
    },
    {
     "name": "stdout",
     "output_type": "stream",
     "text": [
      "20/34 [================>.............] - ETA: 2:45 - loss: 0.6976 - categorical_accuracy: 0.7387\n",
      "Epoch 4: saving model to model_init_2023-05-1715_18_55.563885\\\n",
      "INFO:tensorflow:Assets written to: model_init_2023-05-1715_18_55.563885\\assets\n"
     ]
    },
    {
     "name": "stderr",
     "output_type": "stream",
     "text": [
      "INFO:tensorflow:Assets written to: model_init_2023-05-1715_18_55.563885\\assets\n"
     ]
    },
    {
     "name": "stdout",
     "output_type": "stream",
     "text": [
      "21/34 [=================>............] - ETA: 2:33 - loss: 0.6942 - categorical_accuracy: 0.7393\n",
      "Epoch 4: saving model to model_init_2023-05-1715_18_55.563885\\\n",
      "INFO:tensorflow:Assets written to: model_init_2023-05-1715_18_55.563885\\assets\n"
     ]
    },
    {
     "name": "stderr",
     "output_type": "stream",
     "text": [
      "INFO:tensorflow:Assets written to: model_init_2023-05-1715_18_55.563885\\assets\n"
     ]
    },
    {
     "name": "stdout",
     "output_type": "stream",
     "text": [
      "22/34 [==================>...........] - ETA: 2:22 - loss: 0.6950 - categorical_accuracy: 0.7409\n",
      "Epoch 4: saving model to model_init_2023-05-1715_18_55.563885\\\n",
      "INFO:tensorflow:Assets written to: model_init_2023-05-1715_18_55.563885\\assets\n"
     ]
    },
    {
     "name": "stderr",
     "output_type": "stream",
     "text": [
      "INFO:tensorflow:Assets written to: model_init_2023-05-1715_18_55.563885\\assets\n"
     ]
    },
    {
     "name": "stdout",
     "output_type": "stream",
     "text": [
      "23/34 [===================>..........] - ETA: 2:10 - loss: 0.6961 - categorical_accuracy: 0.7402\n",
      "Epoch 4: saving model to model_init_2023-05-1715_18_55.563885\\\n",
      "INFO:tensorflow:Assets written to: model_init_2023-05-1715_18_55.563885\\assets\n"
     ]
    },
    {
     "name": "stderr",
     "output_type": "stream",
     "text": [
      "INFO:tensorflow:Assets written to: model_init_2023-05-1715_18_55.563885\\assets\n"
     ]
    },
    {
     "name": "stdout",
     "output_type": "stream",
     "text": [
      "24/34 [====================>.........] - ETA: 1:58 - loss: 0.6961 - categorical_accuracy: 0.7385\n",
      "Epoch 4: saving model to model_init_2023-05-1715_18_55.563885\\\n",
      "INFO:tensorflow:Assets written to: model_init_2023-05-1715_18_55.563885\\assets\n"
     ]
    },
    {
     "name": "stderr",
     "output_type": "stream",
     "text": [
      "INFO:tensorflow:Assets written to: model_init_2023-05-1715_18_55.563885\\assets\n"
     ]
    },
    {
     "name": "stdout",
     "output_type": "stream",
     "text": [
      "25/34 [=====================>........] - ETA: 1:46 - loss: 0.7101 - categorical_accuracy: 0.7330\n",
      "Epoch 4: saving model to model_init_2023-05-1715_18_55.563885\\\n",
      "INFO:tensorflow:Assets written to: model_init_2023-05-1715_18_55.563885\\assets\n"
     ]
    },
    {
     "name": "stderr",
     "output_type": "stream",
     "text": [
      "INFO:tensorflow:Assets written to: model_init_2023-05-1715_18_55.563885\\assets\n"
     ]
    },
    {
     "name": "stdout",
     "output_type": "stream",
     "text": [
      "26/34 [=====================>........] - ETA: 1:34 - loss: 0.7110 - categorical_accuracy: 0.7327\n",
      "Epoch 4: saving model to model_init_2023-05-1715_18_55.563885\\\n",
      "INFO:tensorflow:Assets written to: model_init_2023-05-1715_18_55.563885\\assets\n"
     ]
    },
    {
     "name": "stderr",
     "output_type": "stream",
     "text": [
      "INFO:tensorflow:Assets written to: model_init_2023-05-1715_18_55.563885\\assets\n"
     ]
    },
    {
     "name": "stdout",
     "output_type": "stream",
     "text": [
      "27/34 [======================>.......] - ETA: 1:22 - loss: 0.7114 - categorical_accuracy: 0.7315\n",
      "Epoch 4: saving model to model_init_2023-05-1715_18_55.563885\\\n",
      "INFO:tensorflow:Assets written to: model_init_2023-05-1715_18_55.563885\\assets\n"
     ]
    },
    {
     "name": "stderr",
     "output_type": "stream",
     "text": [
      "INFO:tensorflow:Assets written to: model_init_2023-05-1715_18_55.563885\\assets\n"
     ]
    },
    {
     "name": "stdout",
     "output_type": "stream",
     "text": [
      "28/34 [=======================>......] - ETA: 1:10 - loss: 0.7205 - categorical_accuracy: 0.7295\n",
      "Epoch 4: saving model to model_init_2023-05-1715_18_55.563885\\\n",
      "INFO:tensorflow:Assets written to: model_init_2023-05-1715_18_55.563885\\assets\n"
     ]
    },
    {
     "name": "stderr",
     "output_type": "stream",
     "text": [
      "INFO:tensorflow:Assets written to: model_init_2023-05-1715_18_55.563885\\assets\n"
     ]
    },
    {
     "name": "stdout",
     "output_type": "stream",
     "text": [
      "29/34 [========================>.....] - ETA: 58s - loss: 0.7203 - categorical_accuracy: 0.7310 \n",
      "Epoch 4: saving model to model_init_2023-05-1715_18_55.563885\\\n",
      "INFO:tensorflow:Assets written to: model_init_2023-05-1715_18_55.563885\\assets\n"
     ]
    },
    {
     "name": "stderr",
     "output_type": "stream",
     "text": [
      "INFO:tensorflow:Assets written to: model_init_2023-05-1715_18_55.563885\\assets\n"
     ]
    },
    {
     "name": "stdout",
     "output_type": "stream",
     "text": [
      "30/34 [=========================>....] - ETA: 47s - loss: 0.7168 - categorical_accuracy: 0.7317\n",
      "Epoch 4: saving model to model_init_2023-05-1715_18_55.563885\\\n",
      "INFO:tensorflow:Assets written to: model_init_2023-05-1715_18_55.563885\\assets\n"
     ]
    },
    {
     "name": "stderr",
     "output_type": "stream",
     "text": [
      "INFO:tensorflow:Assets written to: model_init_2023-05-1715_18_55.563885\\assets\n"
     ]
    },
    {
     "name": "stdout",
     "output_type": "stream",
     "text": [
      "31/34 [==========================>...] - ETA: 35s - loss: 0.7185 - categorical_accuracy: 0.7290\n",
      "Epoch 4: saving model to model_init_2023-05-1715_18_55.563885\\\n",
      "INFO:tensorflow:Assets written to: model_init_2023-05-1715_18_55.563885\\assets\n"
     ]
    },
    {
     "name": "stderr",
     "output_type": "stream",
     "text": [
      "INFO:tensorflow:Assets written to: model_init_2023-05-1715_18_55.563885\\assets\n"
     ]
    },
    {
     "name": "stdout",
     "output_type": "stream",
     "text": [
      "32/34 [===========================>..] - ETA: 23s - loss: 0.7257 - categorical_accuracy: 0.7258\n",
      "Epoch 4: saving model to model_init_2023-05-1715_18_55.563885\\\n",
      "INFO:tensorflow:Assets written to: model_init_2023-05-1715_18_55.563885\\assets\n"
     ]
    },
    {
     "name": "stderr",
     "output_type": "stream",
     "text": [
      "INFO:tensorflow:Assets written to: model_init_2023-05-1715_18_55.563885\\assets\n"
     ]
    },
    {
     "name": "stdout",
     "output_type": "stream",
     "text": [
      "33/34 [============================>.] - ETA: 11s - loss: 0.7175 - categorical_accuracy: 0.7288\n",
      "Epoch 4: saving model to model_init_2023-05-1715_18_55.563885\\\n",
      "INFO:tensorflow:Assets written to: model_init_2023-05-1715_18_55.563885\\assets\n"
     ]
    },
    {
     "name": "stderr",
     "output_type": "stream",
     "text": [
      "INFO:tensorflow:Assets written to: model_init_2023-05-1715_18_55.563885\\assets\n"
     ]
    },
    {
     "name": "stdout",
     "output_type": "stream",
     "text": [
      "34/34 [==============================] - 405s 12s/step - loss: 0.7164 - categorical_accuracy: 0.7285 - val_loss: 2.4791 - val_categorical_accuracy: 0.2200 - lr: 0.0010\n",
      "Epoch 5/20\n",
      "\n",
      "Epoch 5: saving model to model_init_2023-05-1715_18_55.563885\\\n",
      "INFO:tensorflow:Assets written to: model_init_2023-05-1715_18_55.563885\\assets\n"
     ]
    },
    {
     "name": "stderr",
     "output_type": "stream",
     "text": [
      "INFO:tensorflow:Assets written to: model_init_2023-05-1715_18_55.563885\\assets\n"
     ]
    },
    {
     "name": "stdout",
     "output_type": "stream",
     "text": [
      " 1/34 [..............................] - ETA: 6:35 - loss: 0.6048 - categorical_accuracy: 0.7250\n",
      "Epoch 5: saving model to model_init_2023-05-1715_18_55.563885\\\n",
      "INFO:tensorflow:Assets written to: model_init_2023-05-1715_18_55.563885\\assets\n"
     ]
    },
    {
     "name": "stderr",
     "output_type": "stream",
     "text": [
      "INFO:tensorflow:Assets written to: model_init_2023-05-1715_18_55.563885\\assets\n"
     ]
    },
    {
     "name": "stdout",
     "output_type": "stream",
     "text": [
      " 2/34 [>.............................] - ETA: 6:26 - loss: 0.6456 - categorical_accuracy: 0.6875\n",
      "Epoch 5: saving model to model_init_2023-05-1715_18_55.563885\\\n",
      "INFO:tensorflow:Assets written to: model_init_2023-05-1715_18_55.563885\\assets\n"
     ]
    },
    {
     "name": "stderr",
     "output_type": "stream",
     "text": [
      "INFO:tensorflow:Assets written to: model_init_2023-05-1715_18_55.563885\\assets\n"
     ]
    },
    {
     "name": "stdout",
     "output_type": "stream",
     "text": [
      " 3/34 [=>............................] - ETA: 6:08 - loss: 0.6623 - categorical_accuracy: 0.6750\n",
      "Epoch 5: saving model to model_init_2023-05-1715_18_55.563885\\\n",
      "INFO:tensorflow:Assets written to: model_init_2023-05-1715_18_55.563885\\assets\n"
     ]
    },
    {
     "name": "stderr",
     "output_type": "stream",
     "text": [
      "INFO:tensorflow:Assets written to: model_init_2023-05-1715_18_55.563885\\assets\n"
     ]
    },
    {
     "name": "stdout",
     "output_type": "stream",
     "text": [
      " 4/34 [==>...........................] - ETA: 5:59 - loss: 0.6390 - categorical_accuracy: 0.7000\n",
      "Epoch 5: saving model to model_init_2023-05-1715_18_55.563885\\\n",
      "INFO:tensorflow:Assets written to: model_init_2023-05-1715_18_55.563885\\assets\n"
     ]
    },
    {
     "name": "stderr",
     "output_type": "stream",
     "text": [
      "INFO:tensorflow:Assets written to: model_init_2023-05-1715_18_55.563885\\assets\n"
     ]
    },
    {
     "name": "stdout",
     "output_type": "stream",
     "text": [
      " 5/34 [===>..........................] - ETA: 5:47 - loss: 0.6808 - categorical_accuracy: 0.6800\n",
      "Epoch 5: saving model to model_init_2023-05-1715_18_55.563885\\\n",
      "INFO:tensorflow:Assets written to: model_init_2023-05-1715_18_55.563885\\assets\n"
     ]
    },
    {
     "name": "stderr",
     "output_type": "stream",
     "text": [
      "INFO:tensorflow:Assets written to: model_init_2023-05-1715_18_55.563885\\assets\n"
     ]
    },
    {
     "name": "stdout",
     "output_type": "stream",
     "text": [
      " 6/34 [====>.........................] - ETA: 5:34 - loss: 0.6348 - categorical_accuracy: 0.7042\n",
      "Epoch 5: saving model to model_init_2023-05-1715_18_55.563885\\\n",
      "INFO:tensorflow:Assets written to: model_init_2023-05-1715_18_55.563885\\assets\n"
     ]
    },
    {
     "name": "stderr",
     "output_type": "stream",
     "text": [
      "INFO:tensorflow:Assets written to: model_init_2023-05-1715_18_55.563885\\assets\n"
     ]
    },
    {
     "name": "stdout",
     "output_type": "stream",
     "text": [
      " 7/34 [=====>........................] - ETA: 5:21 - loss: 0.6400 - categorical_accuracy: 0.7107\n",
      "Epoch 5: saving model to model_init_2023-05-1715_18_55.563885\\\n",
      "INFO:tensorflow:Assets written to: model_init_2023-05-1715_18_55.563885\\assets\n"
     ]
    },
    {
     "name": "stderr",
     "output_type": "stream",
     "text": [
      "INFO:tensorflow:Assets written to: model_init_2023-05-1715_18_55.563885\\assets\n"
     ]
    },
    {
     "name": "stdout",
     "output_type": "stream",
     "text": [
      " 8/34 [======>.......................] - ETA: 5:07 - loss: 0.6076 - categorical_accuracy: 0.7281\n",
      "Epoch 5: saving model to model_init_2023-05-1715_18_55.563885\\\n",
      "INFO:tensorflow:Assets written to: model_init_2023-05-1715_18_55.563885\\assets\n"
     ]
    },
    {
     "name": "stderr",
     "output_type": "stream",
     "text": [
      "INFO:tensorflow:Assets written to: model_init_2023-05-1715_18_55.563885\\assets\n"
     ]
    },
    {
     "name": "stdout",
     "output_type": "stream",
     "text": [
      " 9/34 [======>.......................] - ETA: 4:56 - loss: 0.6032 - categorical_accuracy: 0.7389\n",
      "Epoch 5: saving model to model_init_2023-05-1715_18_55.563885\\\n",
      "INFO:tensorflow:Assets written to: model_init_2023-05-1715_18_55.563885\\assets\n"
     ]
    },
    {
     "name": "stderr",
     "output_type": "stream",
     "text": [
      "INFO:tensorflow:Assets written to: model_init_2023-05-1715_18_55.563885\\assets\n"
     ]
    },
    {
     "name": "stdout",
     "output_type": "stream",
     "text": [
      "10/34 [=======>......................] - ETA: 4:44 - loss: 0.6167 - categorical_accuracy: 0.7325\n",
      "Epoch 5: saving model to model_init_2023-05-1715_18_55.563885\\\n",
      "INFO:tensorflow:Assets written to: model_init_2023-05-1715_18_55.563885\\assets\n"
     ]
    },
    {
     "name": "stderr",
     "output_type": "stream",
     "text": [
      "INFO:tensorflow:Assets written to: model_init_2023-05-1715_18_55.563885\\assets\n"
     ]
    },
    {
     "name": "stdout",
     "output_type": "stream",
     "text": [
      "11/34 [========>.....................] - ETA: 4:32 - loss: 0.5957 - categorical_accuracy: 0.7409\n",
      "Epoch 5: saving model to model_init_2023-05-1715_18_55.563885\\\n",
      "INFO:tensorflow:Assets written to: model_init_2023-05-1715_18_55.563885\\assets\n"
     ]
    },
    {
     "name": "stderr",
     "output_type": "stream",
     "text": [
      "INFO:tensorflow:Assets written to: model_init_2023-05-1715_18_55.563885\\assets\n"
     ]
    },
    {
     "name": "stdout",
     "output_type": "stream",
     "text": [
      "12/34 [=========>....................] - ETA: 4:18 - loss: 0.5973 - categorical_accuracy: 0.7479\n",
      "Epoch 5: saving model to model_init_2023-05-1715_18_55.563885\\\n",
      "INFO:tensorflow:Assets written to: model_init_2023-05-1715_18_55.563885\\assets\n"
     ]
    },
    {
     "name": "stderr",
     "output_type": "stream",
     "text": [
      "INFO:tensorflow:Assets written to: model_init_2023-05-1715_18_55.563885\\assets\n"
     ]
    },
    {
     "name": "stdout",
     "output_type": "stream",
     "text": [
      "13/34 [==========>...................] - ETA: 4:07 - loss: 0.6005 - categorical_accuracy: 0.7481\n",
      "Epoch 5: saving model to model_init_2023-05-1715_18_55.563885\\\n",
      "INFO:tensorflow:Assets written to: model_init_2023-05-1715_18_55.563885\\assets\n"
     ]
    },
    {
     "name": "stderr",
     "output_type": "stream",
     "text": [
      "INFO:tensorflow:Assets written to: model_init_2023-05-1715_18_55.563885\\assets\n"
     ]
    },
    {
     "name": "stdout",
     "output_type": "stream",
     "text": [
      "14/34 [===========>..................] - ETA: 3:54 - loss: 0.5896 - categorical_accuracy: 0.7571\n",
      "Epoch 5: saving model to model_init_2023-05-1715_18_55.563885\\\n",
      "INFO:tensorflow:Assets written to: model_init_2023-05-1715_18_55.563885\\assets\n"
     ]
    },
    {
     "name": "stderr",
     "output_type": "stream",
     "text": [
      "INFO:tensorflow:Assets written to: model_init_2023-05-1715_18_55.563885\\assets\n"
     ]
    },
    {
     "name": "stdout",
     "output_type": "stream",
     "text": [
      "15/34 [============>.................] - ETA: 3:42 - loss: 0.5999 - categorical_accuracy: 0.7517\n",
      "Epoch 5: saving model to model_init_2023-05-1715_18_55.563885\\\n",
      "INFO:tensorflow:Assets written to: model_init_2023-05-1715_18_55.563885\\assets\n"
     ]
    },
    {
     "name": "stderr",
     "output_type": "stream",
     "text": [
      "INFO:tensorflow:Assets written to: model_init_2023-05-1715_18_55.563885\\assets\n"
     ]
    },
    {
     "name": "stdout",
     "output_type": "stream",
     "text": [
      "16/34 [=============>................] - ETA: 3:31 - loss: 0.6059 - categorical_accuracy: 0.7516\n",
      "Epoch 5: saving model to model_init_2023-05-1715_18_55.563885\\\n",
      "INFO:tensorflow:Assets written to: model_init_2023-05-1715_18_55.563885\\assets\n"
     ]
    },
    {
     "name": "stderr",
     "output_type": "stream",
     "text": [
      "INFO:tensorflow:Assets written to: model_init_2023-05-1715_18_55.563885\\assets\n"
     ]
    },
    {
     "name": "stdout",
     "output_type": "stream",
     "text": [
      "17/34 [==============>...............] - ETA: 3:19 - loss: 0.5888 - categorical_accuracy: 0.7603\n",
      "Epoch 5: saving model to model_init_2023-05-1715_18_55.563885\\\n",
      "INFO:tensorflow:Assets written to: model_init_2023-05-1715_18_55.563885\\assets\n"
     ]
    },
    {
     "name": "stderr",
     "output_type": "stream",
     "text": [
      "INFO:tensorflow:Assets written to: model_init_2023-05-1715_18_55.563885\\assets\n"
     ]
    },
    {
     "name": "stdout",
     "output_type": "stream",
     "text": [
      "18/34 [==============>...............] - ETA: 3:07 - loss: 0.5865 - categorical_accuracy: 0.7611\n",
      "Epoch 5: saving model to model_init_2023-05-1715_18_55.563885\\\n",
      "INFO:tensorflow:Assets written to: model_init_2023-05-1715_18_55.563885\\assets\n"
     ]
    },
    {
     "name": "stderr",
     "output_type": "stream",
     "text": [
      "INFO:tensorflow:Assets written to: model_init_2023-05-1715_18_55.563885\\assets\n"
     ]
    },
    {
     "name": "stdout",
     "output_type": "stream",
     "text": [
      "19/34 [===============>..............] - ETA: 2:56 - loss: 0.5808 - categorical_accuracy: 0.7645\n",
      "Epoch 5: saving model to model_init_2023-05-1715_18_55.563885\\\n",
      "INFO:tensorflow:Assets written to: model_init_2023-05-1715_18_55.563885\\assets\n"
     ]
    },
    {
     "name": "stderr",
     "output_type": "stream",
     "text": [
      "INFO:tensorflow:Assets written to: model_init_2023-05-1715_18_55.563885\\assets\n"
     ]
    },
    {
     "name": "stdout",
     "output_type": "stream",
     "text": [
      "20/34 [================>.............] - ETA: 2:44 - loss: 0.5759 - categorical_accuracy: 0.7675\n",
      "Epoch 5: saving model to model_init_2023-05-1715_18_55.563885\\\n",
      "INFO:tensorflow:Assets written to: model_init_2023-05-1715_18_55.563885\\assets\n"
     ]
    },
    {
     "name": "stderr",
     "output_type": "stream",
     "text": [
      "INFO:tensorflow:Assets written to: model_init_2023-05-1715_18_55.563885\\assets\n"
     ]
    },
    {
     "name": "stdout",
     "output_type": "stream",
     "text": [
      "21/34 [=================>............] - ETA: 2:32 - loss: 0.5802 - categorical_accuracy: 0.7655\n",
      "Epoch 5: saving model to model_init_2023-05-1715_18_55.563885\\\n",
      "INFO:tensorflow:Assets written to: model_init_2023-05-1715_18_55.563885\\assets\n"
     ]
    },
    {
     "name": "stderr",
     "output_type": "stream",
     "text": [
      "INFO:tensorflow:Assets written to: model_init_2023-05-1715_18_55.563885\\assets\n"
     ]
    },
    {
     "name": "stdout",
     "output_type": "stream",
     "text": [
      "22/34 [==================>...........] - ETA: 2:20 - loss: 0.5676 - categorical_accuracy: 0.7716\n",
      "Epoch 5: saving model to model_init_2023-05-1715_18_55.563885\\\n",
      "INFO:tensorflow:Assets written to: model_init_2023-05-1715_18_55.563885\\assets\n"
     ]
    },
    {
     "name": "stderr",
     "output_type": "stream",
     "text": [
      "INFO:tensorflow:Assets written to: model_init_2023-05-1715_18_55.563885\\assets\n"
     ]
    },
    {
     "name": "stdout",
     "output_type": "stream",
     "text": [
      "23/34 [===================>..........] - ETA: 2:08 - loss: 0.5607 - categorical_accuracy: 0.7761\n",
      "Epoch 5: saving model to model_init_2023-05-1715_18_55.563885\\\n",
      "INFO:tensorflow:Assets written to: model_init_2023-05-1715_18_55.563885\\assets\n"
     ]
    },
    {
     "name": "stderr",
     "output_type": "stream",
     "text": [
      "INFO:tensorflow:Assets written to: model_init_2023-05-1715_18_55.563885\\assets\n"
     ]
    },
    {
     "name": "stdout",
     "output_type": "stream",
     "text": [
      "24/34 [====================>.........] - ETA: 1:57 - loss: 0.5476 - categorical_accuracy: 0.7844\n",
      "Epoch 5: saving model to model_init_2023-05-1715_18_55.563885\\\n",
      "INFO:tensorflow:Assets written to: model_init_2023-05-1715_18_55.563885\\assets\n"
     ]
    },
    {
     "name": "stderr",
     "output_type": "stream",
     "text": [
      "INFO:tensorflow:Assets written to: model_init_2023-05-1715_18_55.563885\\assets\n"
     ]
    },
    {
     "name": "stdout",
     "output_type": "stream",
     "text": [
      "25/34 [=====================>........] - ETA: 1:45 - loss: 0.5652 - categorical_accuracy: 0.7780\n",
      "Epoch 5: saving model to model_init_2023-05-1715_18_55.563885\\\n",
      "INFO:tensorflow:Assets written to: model_init_2023-05-1715_18_55.563885\\assets\n"
     ]
    },
    {
     "name": "stderr",
     "output_type": "stream",
     "text": [
      "INFO:tensorflow:Assets written to: model_init_2023-05-1715_18_55.563885\\assets\n"
     ]
    },
    {
     "name": "stdout",
     "output_type": "stream",
     "text": [
      "26/34 [=====================>........] - ETA: 1:33 - loss: 0.5511 - categorical_accuracy: 0.7846\n",
      "Epoch 5: saving model to model_init_2023-05-1715_18_55.563885\\\n",
      "INFO:tensorflow:Assets written to: model_init_2023-05-1715_18_55.563885\\assets\n"
     ]
    },
    {
     "name": "stderr",
     "output_type": "stream",
     "text": [
      "INFO:tensorflow:Assets written to: model_init_2023-05-1715_18_55.563885\\assets\n"
     ]
    },
    {
     "name": "stdout",
     "output_type": "stream",
     "text": [
      "27/34 [======================>.......] - ETA: 1:22 - loss: 0.5426 - categorical_accuracy: 0.7880\n",
      "Epoch 5: saving model to model_init_2023-05-1715_18_55.563885\\\n",
      "INFO:tensorflow:Assets written to: model_init_2023-05-1715_18_55.563885\\assets\n"
     ]
    },
    {
     "name": "stderr",
     "output_type": "stream",
     "text": [
      "INFO:tensorflow:Assets written to: model_init_2023-05-1715_18_55.563885\\assets\n"
     ]
    },
    {
     "name": "stdout",
     "output_type": "stream",
     "text": [
      "28/34 [=======================>......] - ETA: 1:10 - loss: 0.5412 - categorical_accuracy: 0.7893\n",
      "Epoch 5: saving model to model_init_2023-05-1715_18_55.563885\\\n",
      "INFO:tensorflow:Assets written to: model_init_2023-05-1715_18_55.563885\\assets\n"
     ]
    },
    {
     "name": "stderr",
     "output_type": "stream",
     "text": [
      "INFO:tensorflow:Assets written to: model_init_2023-05-1715_18_55.563885\\assets\n"
     ]
    },
    {
     "name": "stdout",
     "output_type": "stream",
     "text": [
      "29/34 [========================>.....] - ETA: 58s - loss: 0.5368 - categorical_accuracy: 0.7905 \n",
      "Epoch 5: saving model to model_init_2023-05-1715_18_55.563885\\\n",
      "INFO:tensorflow:Assets written to: model_init_2023-05-1715_18_55.563885\\assets\n"
     ]
    },
    {
     "name": "stderr",
     "output_type": "stream",
     "text": [
      "INFO:tensorflow:Assets written to: model_init_2023-05-1715_18_55.563885\\assets\n"
     ]
    },
    {
     "name": "stdout",
     "output_type": "stream",
     "text": [
      "30/34 [=========================>....] - ETA: 46s - loss: 0.5354 - categorical_accuracy: 0.7933\n",
      "Epoch 5: saving model to model_init_2023-05-1715_18_55.563885\\\n",
      "INFO:tensorflow:Assets written to: model_init_2023-05-1715_18_55.563885\\assets\n"
     ]
    },
    {
     "name": "stderr",
     "output_type": "stream",
     "text": [
      "INFO:tensorflow:Assets written to: model_init_2023-05-1715_18_55.563885\\assets\n"
     ]
    },
    {
     "name": "stdout",
     "output_type": "stream",
     "text": [
      "31/34 [==========================>...] - ETA: 35s - loss: 0.5367 - categorical_accuracy: 0.7919\n",
      "Epoch 5: saving model to model_init_2023-05-1715_18_55.563885\\\n",
      "INFO:tensorflow:Assets written to: model_init_2023-05-1715_18_55.563885\\assets\n"
     ]
    },
    {
     "name": "stderr",
     "output_type": "stream",
     "text": [
      "INFO:tensorflow:Assets written to: model_init_2023-05-1715_18_55.563885\\assets\n"
     ]
    },
    {
     "name": "stdout",
     "output_type": "stream",
     "text": [
      "32/34 [===========================>..] - ETA: 23s - loss: 0.5360 - categorical_accuracy: 0.7922\n",
      "Epoch 5: saving model to model_init_2023-05-1715_18_55.563885\\\n",
      "INFO:tensorflow:Assets written to: model_init_2023-05-1715_18_55.563885\\assets\n"
     ]
    },
    {
     "name": "stderr",
     "output_type": "stream",
     "text": [
      "INFO:tensorflow:Assets written to: model_init_2023-05-1715_18_55.563885\\assets\n"
     ]
    },
    {
     "name": "stdout",
     "output_type": "stream",
     "text": [
      "33/34 [============================>.] - ETA: 11s - loss: 0.5327 - categorical_accuracy: 0.7955\n",
      "Epoch 5: saving model to model_init_2023-05-1715_18_55.563885\\\n",
      "INFO:tensorflow:Assets written to: model_init_2023-05-1715_18_55.563885\\assets\n"
     ]
    },
    {
     "name": "stderr",
     "output_type": "stream",
     "text": [
      "INFO:tensorflow:Assets written to: model_init_2023-05-1715_18_55.563885\\assets\n"
     ]
    },
    {
     "name": "stdout",
     "output_type": "stream",
     "text": [
      "34/34 [==============================] - ETA: 0s - loss: 0.5365 - categorical_accuracy: 0.7941 \n",
      "Epoch 5: ReduceLROnPlateau reducing learning rate to 0.00020000000949949026.\n",
      "34/34 [==============================] - 403s 12s/step - loss: 0.5365 - categorical_accuracy: 0.7941 - val_loss: 2.2229 - val_categorical_accuracy: 0.1800 - lr: 0.0010\n",
      "Epoch 6/20\n",
      "\n",
      "Epoch 6: saving model to model_init_2023-05-1715_18_55.563885\\\n",
      "INFO:tensorflow:Assets written to: model_init_2023-05-1715_18_55.563885\\assets\n"
     ]
    },
    {
     "name": "stderr",
     "output_type": "stream",
     "text": [
      "INFO:tensorflow:Assets written to: model_init_2023-05-1715_18_55.563885\\assets\n"
     ]
    },
    {
     "name": "stdout",
     "output_type": "stream",
     "text": [
      " 1/34 [..............................] - ETA: 6:15 - loss: 0.3934 - categorical_accuracy: 0.8750\n",
      "Epoch 6: saving model to model_init_2023-05-1715_18_55.563885\\\n",
      "INFO:tensorflow:Assets written to: model_init_2023-05-1715_18_55.563885\\assets\n"
     ]
    },
    {
     "name": "stderr",
     "output_type": "stream",
     "text": [
      "INFO:tensorflow:Assets written to: model_init_2023-05-1715_18_55.563885\\assets\n"
     ]
    },
    {
     "name": "stdout",
     "output_type": "stream",
     "text": [
      " 2/34 [>.............................] - ETA: 6:11 - loss: 0.5534 - categorical_accuracy: 0.7875\n",
      "Epoch 6: saving model to model_init_2023-05-1715_18_55.563885\\\n",
      "INFO:tensorflow:Assets written to: model_init_2023-05-1715_18_55.563885\\assets\n"
     ]
    },
    {
     "name": "stderr",
     "output_type": "stream",
     "text": [
      "INFO:tensorflow:Assets written to: model_init_2023-05-1715_18_55.563885\\assets\n"
     ]
    },
    {
     "name": "stdout",
     "output_type": "stream",
     "text": [
      " 3/34 [=>............................] - ETA: 5:59 - loss: 0.4733 - categorical_accuracy: 0.8333\n",
      "Epoch 6: saving model to model_init_2023-05-1715_18_55.563885\\\n",
      "INFO:tensorflow:Assets written to: model_init_2023-05-1715_18_55.563885\\assets\n"
     ]
    },
    {
     "name": "stderr",
     "output_type": "stream",
     "text": [
      "INFO:tensorflow:Assets written to: model_init_2023-05-1715_18_55.563885\\assets\n"
     ]
    },
    {
     "name": "stdout",
     "output_type": "stream",
     "text": [
      " 4/34 [==>...........................] - ETA: 5:52 - loss: 0.4611 - categorical_accuracy: 0.8562\n",
      "Epoch 6: saving model to model_init_2023-05-1715_18_55.563885\\\n",
      "INFO:tensorflow:Assets written to: model_init_2023-05-1715_18_55.563885\\assets\n"
     ]
    },
    {
     "name": "stderr",
     "output_type": "stream",
     "text": [
      "INFO:tensorflow:Assets written to: model_init_2023-05-1715_18_55.563885\\assets\n"
     ]
    },
    {
     "name": "stdout",
     "output_type": "stream",
     "text": [
      " 5/34 [===>..........................] - ETA: 5:38 - loss: 0.4194 - categorical_accuracy: 0.8750\n",
      "Epoch 6: saving model to model_init_2023-05-1715_18_55.563885\\\n",
      "INFO:tensorflow:Assets written to: model_init_2023-05-1715_18_55.563885\\assets\n"
     ]
    },
    {
     "name": "stderr",
     "output_type": "stream",
     "text": [
      "INFO:tensorflow:Assets written to: model_init_2023-05-1715_18_55.563885\\assets\n"
     ]
    },
    {
     "name": "stdout",
     "output_type": "stream",
     "text": [
      " 6/34 [====>.........................] - ETA: 5:25 - loss: 0.4443 - categorical_accuracy: 0.8625\n",
      "Epoch 6: saving model to model_init_2023-05-1715_18_55.563885\\\n",
      "INFO:tensorflow:Assets written to: model_init_2023-05-1715_18_55.563885\\assets\n"
     ]
    },
    {
     "name": "stderr",
     "output_type": "stream",
     "text": [
      "INFO:tensorflow:Assets written to: model_init_2023-05-1715_18_55.563885\\assets\n"
     ]
    },
    {
     "name": "stdout",
     "output_type": "stream",
     "text": [
      " 7/34 [=====>........................] - ETA: 5:13 - loss: 0.4617 - categorical_accuracy: 0.8571\n",
      "Epoch 6: saving model to model_init_2023-05-1715_18_55.563885\\\n",
      "INFO:tensorflow:Assets written to: model_init_2023-05-1715_18_55.563885\\assets\n"
     ]
    },
    {
     "name": "stderr",
     "output_type": "stream",
     "text": [
      "INFO:tensorflow:Assets written to: model_init_2023-05-1715_18_55.563885\\assets\n"
     ]
    },
    {
     "name": "stdout",
     "output_type": "stream",
     "text": [
      " 8/34 [======>.......................] - ETA: 5:04 - loss: 0.4435 - categorical_accuracy: 0.8625\n",
      "Epoch 6: saving model to model_init_2023-05-1715_18_55.563885\\\n",
      "INFO:tensorflow:Assets written to: model_init_2023-05-1715_18_55.563885\\assets\n"
     ]
    },
    {
     "name": "stderr",
     "output_type": "stream",
     "text": [
      "INFO:tensorflow:Assets written to: model_init_2023-05-1715_18_55.563885\\assets\n"
     ]
    },
    {
     "name": "stdout",
     "output_type": "stream",
     "text": [
      " 9/34 [======>.......................] - ETA: 4:52 - loss: 0.4554 - categorical_accuracy: 0.8528\n",
      "Epoch 6: saving model to model_init_2023-05-1715_18_55.563885\\\n",
      "INFO:tensorflow:Assets written to: model_init_2023-05-1715_18_55.563885\\assets\n"
     ]
    },
    {
     "name": "stderr",
     "output_type": "stream",
     "text": [
      "INFO:tensorflow:Assets written to: model_init_2023-05-1715_18_55.563885\\assets\n"
     ]
    },
    {
     "name": "stdout",
     "output_type": "stream",
     "text": [
      "10/34 [=======>......................] - ETA: 4:41 - loss: 0.4636 - categorical_accuracy: 0.8375\n",
      "Epoch 6: saving model to model_init_2023-05-1715_18_55.563885\\\n",
      "INFO:tensorflow:Assets written to: model_init_2023-05-1715_18_55.563885\\assets\n"
     ]
    },
    {
     "name": "stderr",
     "output_type": "stream",
     "text": [
      "INFO:tensorflow:Assets written to: model_init_2023-05-1715_18_55.563885\\assets\n"
     ]
    },
    {
     "name": "stdout",
     "output_type": "stream",
     "text": [
      "11/34 [========>.....................] - ETA: 4:30 - loss: 0.4482 - categorical_accuracy: 0.8409\n",
      "Epoch 6: saving model to model_init_2023-05-1715_18_55.563885\\\n",
      "INFO:tensorflow:Assets written to: model_init_2023-05-1715_18_55.563885\\assets\n"
     ]
    },
    {
     "name": "stderr",
     "output_type": "stream",
     "text": [
      "INFO:tensorflow:Assets written to: model_init_2023-05-1715_18_55.563885\\assets\n"
     ]
    },
    {
     "name": "stdout",
     "output_type": "stream",
     "text": [
      "12/34 [=========>....................] - ETA: 4:18 - loss: 0.4463 - categorical_accuracy: 0.8396\n",
      "Epoch 6: saving model to model_init_2023-05-1715_18_55.563885\\\n",
      "INFO:tensorflow:Assets written to: model_init_2023-05-1715_18_55.563885\\assets\n"
     ]
    },
    {
     "name": "stderr",
     "output_type": "stream",
     "text": [
      "INFO:tensorflow:Assets written to: model_init_2023-05-1715_18_55.563885\\assets\n"
     ]
    },
    {
     "name": "stdout",
     "output_type": "stream",
     "text": [
      "13/34 [==========>...................] - ETA: 4:06 - loss: 0.4416 - categorical_accuracy: 0.8423\n",
      "Epoch 6: saving model to model_init_2023-05-1715_18_55.563885\\\n",
      "INFO:tensorflow:Assets written to: model_init_2023-05-1715_18_55.563885\\assets\n"
     ]
    },
    {
     "name": "stderr",
     "output_type": "stream",
     "text": [
      "INFO:tensorflow:Assets written to: model_init_2023-05-1715_18_55.563885\\assets\n"
     ]
    },
    {
     "name": "stdout",
     "output_type": "stream",
     "text": [
      "14/34 [===========>..................] - ETA: 3:55 - loss: 0.4338 - categorical_accuracy: 0.8446\n",
      "Epoch 6: saving model to model_init_2023-05-1715_18_55.563885\\\n",
      "INFO:tensorflow:Assets written to: model_init_2023-05-1715_18_55.563885\\assets\n"
     ]
    },
    {
     "name": "stderr",
     "output_type": "stream",
     "text": [
      "INFO:tensorflow:Assets written to: model_init_2023-05-1715_18_55.563885\\assets\n"
     ]
    },
    {
     "name": "stdout",
     "output_type": "stream",
     "text": [
      "15/34 [============>.................] - ETA: 3:43 - loss: 0.4274 - categorical_accuracy: 0.8467\n",
      "Epoch 6: saving model to model_init_2023-05-1715_18_55.563885\\\n",
      "INFO:tensorflow:Assets written to: model_init_2023-05-1715_18_55.563885\\assets\n"
     ]
    },
    {
     "name": "stderr",
     "output_type": "stream",
     "text": [
      "INFO:tensorflow:Assets written to: model_init_2023-05-1715_18_55.563885\\assets\n"
     ]
    },
    {
     "name": "stdout",
     "output_type": "stream",
     "text": [
      "16/34 [=============>................] - ETA: 3:32 - loss: 0.4180 - categorical_accuracy: 0.8531\n",
      "Epoch 6: saving model to model_init_2023-05-1715_18_55.563885\\\n",
      "INFO:tensorflow:Assets written to: model_init_2023-05-1715_18_55.563885\\assets\n"
     ]
    },
    {
     "name": "stderr",
     "output_type": "stream",
     "text": [
      "INFO:tensorflow:Assets written to: model_init_2023-05-1715_18_55.563885\\assets\n"
     ]
    },
    {
     "name": "stdout",
     "output_type": "stream",
     "text": [
      "17/34 [==============>...............] - ETA: 3:21 - loss: 0.4139 - categorical_accuracy: 0.8559\n",
      "Epoch 6: saving model to model_init_2023-05-1715_18_55.563885\\\n",
      "INFO:tensorflow:Assets written to: model_init_2023-05-1715_18_55.563885\\assets\n"
     ]
    },
    {
     "name": "stderr",
     "output_type": "stream",
     "text": [
      "INFO:tensorflow:Assets written to: model_init_2023-05-1715_18_55.563885\\assets\n"
     ]
    },
    {
     "name": "stdout",
     "output_type": "stream",
     "text": [
      "18/34 [==============>...............] - ETA: 3:10 - loss: 0.4219 - categorical_accuracy: 0.8514\n",
      "Epoch 6: saving model to model_init_2023-05-1715_18_55.563885\\\n",
      "INFO:tensorflow:Assets written to: model_init_2023-05-1715_18_55.563885\\assets\n"
     ]
    },
    {
     "name": "stderr",
     "output_type": "stream",
     "text": [
      "INFO:tensorflow:Assets written to: model_init_2023-05-1715_18_55.563885\\assets\n"
     ]
    },
    {
     "name": "stdout",
     "output_type": "stream",
     "text": [
      "19/34 [===============>..............] - ETA: 2:59 - loss: 0.4174 - categorical_accuracy: 0.8500\n",
      "Epoch 6: saving model to model_init_2023-05-1715_18_55.563885\\\n",
      "INFO:tensorflow:Assets written to: model_init_2023-05-1715_18_55.563885\\assets\n"
     ]
    },
    {
     "name": "stderr",
     "output_type": "stream",
     "text": [
      "INFO:tensorflow:Assets written to: model_init_2023-05-1715_18_55.563885\\assets\n"
     ]
    },
    {
     "name": "stdout",
     "output_type": "stream",
     "text": [
      "20/34 [================>.............] - ETA: 2:47 - loss: 0.4141 - categorical_accuracy: 0.8525\n",
      "Epoch 6: saving model to model_init_2023-05-1715_18_55.563885\\\n",
      "INFO:tensorflow:Assets written to: model_init_2023-05-1715_18_55.563885\\assets\n"
     ]
    },
    {
     "name": "stderr",
     "output_type": "stream",
     "text": [
      "INFO:tensorflow:Assets written to: model_init_2023-05-1715_18_55.563885\\assets\n"
     ]
    },
    {
     "name": "stdout",
     "output_type": "stream",
     "text": [
      "21/34 [=================>............] - ETA: 2:35 - loss: 0.4101 - categorical_accuracy: 0.8536\n",
      "Epoch 6: saving model to model_init_2023-05-1715_18_55.563885\\\n",
      "INFO:tensorflow:Assets written to: model_init_2023-05-1715_18_55.563885\\assets\n"
     ]
    },
    {
     "name": "stderr",
     "output_type": "stream",
     "text": [
      "INFO:tensorflow:Assets written to: model_init_2023-05-1715_18_55.563885\\assets\n"
     ]
    },
    {
     "name": "stdout",
     "output_type": "stream",
     "text": [
      "22/34 [==================>...........] - ETA: 2:23 - loss: 0.3986 - categorical_accuracy: 0.8602\n",
      "Epoch 6: saving model to model_init_2023-05-1715_18_55.563885\\\n",
      "INFO:tensorflow:Assets written to: model_init_2023-05-1715_18_55.563885\\assets\n"
     ]
    },
    {
     "name": "stderr",
     "output_type": "stream",
     "text": [
      "INFO:tensorflow:Assets written to: model_init_2023-05-1715_18_55.563885\\assets\n"
     ]
    },
    {
     "name": "stdout",
     "output_type": "stream",
     "text": [
      "23/34 [===================>..........] - ETA: 2:11 - loss: 0.3926 - categorical_accuracy: 0.8630\n",
      "Epoch 6: saving model to model_init_2023-05-1715_18_55.563885\\\n",
      "INFO:tensorflow:Assets written to: model_init_2023-05-1715_18_55.563885\\assets\n"
     ]
    },
    {
     "name": "stderr",
     "output_type": "stream",
     "text": [
      "INFO:tensorflow:Assets written to: model_init_2023-05-1715_18_55.563885\\assets\n"
     ]
    },
    {
     "name": "stdout",
     "output_type": "stream",
     "text": [
      "24/34 [====================>.........] - ETA: 1:59 - loss: 0.3919 - categorical_accuracy: 0.8615\n",
      "Epoch 6: saving model to model_init_2023-05-1715_18_55.563885\\\n",
      "INFO:tensorflow:Assets written to: model_init_2023-05-1715_18_55.563885\\assets\n"
     ]
    },
    {
     "name": "stderr",
     "output_type": "stream",
     "text": [
      "INFO:tensorflow:Assets written to: model_init_2023-05-1715_18_55.563885\\assets\n"
     ]
    },
    {
     "name": "stdout",
     "output_type": "stream",
     "text": [
      "25/34 [=====================>........] - ETA: 1:47 - loss: 0.4084 - categorical_accuracy: 0.8560\n",
      "Epoch 6: saving model to model_init_2023-05-1715_18_55.563885\\\n",
      "INFO:tensorflow:Assets written to: model_init_2023-05-1715_18_55.563885\\assets\n"
     ]
    },
    {
     "name": "stderr",
     "output_type": "stream",
     "text": [
      "INFO:tensorflow:Assets written to: model_init_2023-05-1715_18_55.563885\\assets\n"
     ]
    },
    {
     "name": "stdout",
     "output_type": "stream",
     "text": [
      "26/34 [=====================>........] - ETA: 1:35 - loss: 0.4026 - categorical_accuracy: 0.8587\n",
      "Epoch 6: saving model to model_init_2023-05-1715_18_55.563885\\\n",
      "INFO:tensorflow:Assets written to: model_init_2023-05-1715_18_55.563885\\assets\n"
     ]
    },
    {
     "name": "stderr",
     "output_type": "stream",
     "text": [
      "INFO:tensorflow:Assets written to: model_init_2023-05-1715_18_55.563885\\assets\n"
     ]
    },
    {
     "name": "stdout",
     "output_type": "stream",
     "text": [
      "27/34 [======================>.......] - ETA: 1:23 - loss: 0.4052 - categorical_accuracy: 0.8593\n",
      "Epoch 6: saving model to model_init_2023-05-1715_18_55.563885\\\n",
      "INFO:tensorflow:Assets written to: model_init_2023-05-1715_18_55.563885\\assets\n"
     ]
    },
    {
     "name": "stderr",
     "output_type": "stream",
     "text": [
      "INFO:tensorflow:Assets written to: model_init_2023-05-1715_18_55.563885\\assets\n"
     ]
    },
    {
     "name": "stdout",
     "output_type": "stream",
     "text": [
      "28/34 [=======================>......] - ETA: 1:11 - loss: 0.3996 - categorical_accuracy: 0.8607\n",
      "Epoch 6: saving model to model_init_2023-05-1715_18_55.563885\\\n",
      "INFO:tensorflow:Assets written to: model_init_2023-05-1715_18_55.563885\\assets\n"
     ]
    },
    {
     "name": "stderr",
     "output_type": "stream",
     "text": [
      "INFO:tensorflow:Assets written to: model_init_2023-05-1715_18_55.563885\\assets\n"
     ]
    },
    {
     "name": "stdout",
     "output_type": "stream",
     "text": [
      "29/34 [========================>.....] - ETA: 59s - loss: 0.3916 - categorical_accuracy: 0.8647 \n",
      "Epoch 6: saving model to model_init_2023-05-1715_18_55.563885\\\n",
      "INFO:tensorflow:Assets written to: model_init_2023-05-1715_18_55.563885\\assets\n"
     ]
    },
    {
     "name": "stderr",
     "output_type": "stream",
     "text": [
      "INFO:tensorflow:Assets written to: model_init_2023-05-1715_18_55.563885\\assets\n"
     ]
    },
    {
     "name": "stdout",
     "output_type": "stream",
     "text": [
      "30/34 [=========================>....] - ETA: 47s - loss: 0.3928 - categorical_accuracy: 0.8617\n",
      "Epoch 6: saving model to model_init_2023-05-1715_18_55.563885\\\n",
      "INFO:tensorflow:Assets written to: model_init_2023-05-1715_18_55.563885\\assets\n"
     ]
    },
    {
     "name": "stderr",
     "output_type": "stream",
     "text": [
      "INFO:tensorflow:Assets written to: model_init_2023-05-1715_18_55.563885\\assets\n"
     ]
    },
    {
     "name": "stdout",
     "output_type": "stream",
     "text": [
      "31/34 [==========================>...] - ETA: 35s - loss: 0.3853 - categorical_accuracy: 0.8653\n",
      "Epoch 6: saving model to model_init_2023-05-1715_18_55.563885\\\n",
      "INFO:tensorflow:Assets written to: model_init_2023-05-1715_18_55.563885\\assets\n"
     ]
    },
    {
     "name": "stderr",
     "output_type": "stream",
     "text": [
      "INFO:tensorflow:Assets written to: model_init_2023-05-1715_18_55.563885\\assets\n"
     ]
    },
    {
     "name": "stdout",
     "output_type": "stream",
     "text": [
      "32/34 [===========================>..] - ETA: 23s - loss: 0.3781 - categorical_accuracy: 0.8680\n",
      "Epoch 6: saving model to model_init_2023-05-1715_18_55.563885\\\n",
      "INFO:tensorflow:Assets written to: model_init_2023-05-1715_18_55.563885\\assets\n"
     ]
    },
    {
     "name": "stderr",
     "output_type": "stream",
     "text": [
      "INFO:tensorflow:Assets written to: model_init_2023-05-1715_18_55.563885\\assets\n"
     ]
    },
    {
     "name": "stdout",
     "output_type": "stream",
     "text": [
      "33/34 [============================>.] - ETA: 11s - loss: 0.3777 - categorical_accuracy: 0.8674\n",
      "Epoch 6: saving model to model_init_2023-05-1715_18_55.563885\\\n",
      "INFO:tensorflow:Assets written to: model_init_2023-05-1715_18_55.563885\\assets\n"
     ]
    },
    {
     "name": "stderr",
     "output_type": "stream",
     "text": [
      "INFO:tensorflow:Assets written to: model_init_2023-05-1715_18_55.563885\\assets\n"
     ]
    },
    {
     "name": "stdout",
     "output_type": "stream",
     "text": [
      "34/34 [==============================] - 410s 12s/step - loss: 0.3769 - categorical_accuracy: 0.8680 - val_loss: 2.3537 - val_categorical_accuracy: 0.2200 - lr: 2.0000e-04\n",
      "Epoch 7/20\n",
      "\n",
      "Epoch 7: saving model to model_init_2023-05-1715_18_55.563885\\\n",
      "INFO:tensorflow:Assets written to: model_init_2023-05-1715_18_55.563885\\assets\n"
     ]
    },
    {
     "name": "stderr",
     "output_type": "stream",
     "text": [
      "INFO:tensorflow:Assets written to: model_init_2023-05-1715_18_55.563885\\assets\n"
     ]
    },
    {
     "name": "stdout",
     "output_type": "stream",
     "text": [
      " 1/34 [..............................] - ETA: 6:19 - loss: 0.5970 - categorical_accuracy: 0.7500\n",
      "Epoch 7: saving model to model_init_2023-05-1715_18_55.563885\\\n",
      "INFO:tensorflow:Assets written to: model_init_2023-05-1715_18_55.563885\\assets\n"
     ]
    },
    {
     "name": "stderr",
     "output_type": "stream",
     "text": [
      "INFO:tensorflow:Assets written to: model_init_2023-05-1715_18_55.563885\\assets\n"
     ]
    },
    {
     "name": "stdout",
     "output_type": "stream",
     "text": [
      " 2/34 [>.............................] - ETA: 6:14 - loss: 0.5453 - categorical_accuracy: 0.7625\n",
      "Epoch 7: saving model to model_init_2023-05-1715_18_55.563885\\\n",
      "INFO:tensorflow:Assets written to: model_init_2023-05-1715_18_55.563885\\assets\n"
     ]
    },
    {
     "name": "stderr",
     "output_type": "stream",
     "text": [
      "INFO:tensorflow:Assets written to: model_init_2023-05-1715_18_55.563885\\assets\n"
     ]
    },
    {
     "name": "stdout",
     "output_type": "stream",
     "text": [
      " 3/34 [=>............................] - ETA: 6:01 - loss: 0.4259 - categorical_accuracy: 0.8333\n",
      "Epoch 7: saving model to model_init_2023-05-1715_18_55.563885\\\n",
      "INFO:tensorflow:Assets written to: model_init_2023-05-1715_18_55.563885\\assets\n"
     ]
    },
    {
     "name": "stderr",
     "output_type": "stream",
     "text": [
      "INFO:tensorflow:Assets written to: model_init_2023-05-1715_18_55.563885\\assets\n"
     ]
    },
    {
     "name": "stdout",
     "output_type": "stream",
     "text": [
      " 4/34 [==>...........................] - ETA: 5:49 - loss: 0.3771 - categorical_accuracy: 0.8625\n",
      "Epoch 7: saving model to model_init_2023-05-1715_18_55.563885\\\n",
      "INFO:tensorflow:Assets written to: model_init_2023-05-1715_18_55.563885\\assets\n"
     ]
    },
    {
     "name": "stderr",
     "output_type": "stream",
     "text": [
      "INFO:tensorflow:Assets written to: model_init_2023-05-1715_18_55.563885\\assets\n"
     ]
    },
    {
     "name": "stdout",
     "output_type": "stream",
     "text": [
      " 5/34 [===>..........................] - ETA: 5:42 - loss: 0.3795 - categorical_accuracy: 0.8550\n",
      "Epoch 7: saving model to model_init_2023-05-1715_18_55.563885\\\n",
      "INFO:tensorflow:Assets written to: model_init_2023-05-1715_18_55.563885\\assets\n"
     ]
    },
    {
     "name": "stderr",
     "output_type": "stream",
     "text": [
      "INFO:tensorflow:Assets written to: model_init_2023-05-1715_18_55.563885\\assets\n"
     ]
    },
    {
     "name": "stdout",
     "output_type": "stream",
     "text": [
      " 6/34 [====>.........................] - ETA: 5:30 - loss: 0.3747 - categorical_accuracy: 0.8667\n",
      "Epoch 7: saving model to model_init_2023-05-1715_18_55.563885\\\n",
      "INFO:tensorflow:Assets written to: model_init_2023-05-1715_18_55.563885\\assets\n"
     ]
    },
    {
     "name": "stderr",
     "output_type": "stream",
     "text": [
      "INFO:tensorflow:Assets written to: model_init_2023-05-1715_18_55.563885\\assets\n"
     ]
    },
    {
     "name": "stdout",
     "output_type": "stream",
     "text": [
      " 7/34 [=====>........................] - ETA: 5:18 - loss: 0.3707 - categorical_accuracy: 0.8607\n",
      "Epoch 7: saving model to model_init_2023-05-1715_18_55.563885\\\n",
      "INFO:tensorflow:Assets written to: model_init_2023-05-1715_18_55.563885\\assets\n"
     ]
    },
    {
     "name": "stderr",
     "output_type": "stream",
     "text": [
      "INFO:tensorflow:Assets written to: model_init_2023-05-1715_18_55.563885\\assets\n"
     ]
    },
    {
     "name": "stdout",
     "output_type": "stream",
     "text": [
      " 8/34 [======>.......................] - ETA: 5:05 - loss: 0.3590 - categorical_accuracy: 0.8719\n",
      "Epoch 7: saving model to model_init_2023-05-1715_18_55.563885\\\n",
      "INFO:tensorflow:Assets written to: model_init_2023-05-1715_18_55.563885\\assets\n"
     ]
    },
    {
     "name": "stderr",
     "output_type": "stream",
     "text": [
      "INFO:tensorflow:Assets written to: model_init_2023-05-1715_18_55.563885\\assets\n"
     ]
    },
    {
     "name": "stdout",
     "output_type": "stream",
     "text": [
      " 9/34 [======>.......................] - ETA: 4:54 - loss: 0.3536 - categorical_accuracy: 0.8750\n",
      "Epoch 7: saving model to model_init_2023-05-1715_18_55.563885\\\n",
      "INFO:tensorflow:Assets written to: model_init_2023-05-1715_18_55.563885\\assets\n"
     ]
    },
    {
     "name": "stderr",
     "output_type": "stream",
     "text": [
      "INFO:tensorflow:Assets written to: model_init_2023-05-1715_18_55.563885\\assets\n"
     ]
    },
    {
     "name": "stdout",
     "output_type": "stream",
     "text": [
      "10/34 [=======>......................] - ETA: 4:42 - loss: 0.3353 - categorical_accuracy: 0.8850\n",
      "Epoch 7: saving model to model_init_2023-05-1715_18_55.563885\\\n",
      "INFO:tensorflow:Assets written to: model_init_2023-05-1715_18_55.563885\\assets\n"
     ]
    },
    {
     "name": "stderr",
     "output_type": "stream",
     "text": [
      "INFO:tensorflow:Assets written to: model_init_2023-05-1715_18_55.563885\\assets\n"
     ]
    },
    {
     "name": "stdout",
     "output_type": "stream",
     "text": [
      "11/34 [========>.....................] - ETA: 4:30 - loss: 0.3239 - categorical_accuracy: 0.8909\n",
      "Epoch 7: saving model to model_init_2023-05-1715_18_55.563885\\\n",
      "INFO:tensorflow:Assets written to: model_init_2023-05-1715_18_55.563885\\assets\n"
     ]
    },
    {
     "name": "stderr",
     "output_type": "stream",
     "text": [
      "INFO:tensorflow:Assets written to: model_init_2023-05-1715_18_55.563885\\assets\n"
     ]
    },
    {
     "name": "stdout",
     "output_type": "stream",
     "text": [
      "12/34 [=========>....................] - ETA: 4:20 - loss: 0.3103 - categorical_accuracy: 0.8979\n",
      "Epoch 7: saving model to model_init_2023-05-1715_18_55.563885\\\n",
      "INFO:tensorflow:Assets written to: model_init_2023-05-1715_18_55.563885\\assets\n"
     ]
    },
    {
     "name": "stderr",
     "output_type": "stream",
     "text": [
      "INFO:tensorflow:Assets written to: model_init_2023-05-1715_18_55.563885\\assets\n"
     ]
    },
    {
     "name": "stdout",
     "output_type": "stream",
     "text": [
      "13/34 [==========>...................] - ETA: 4:09 - loss: 0.3219 - categorical_accuracy: 0.8923\n",
      "Epoch 7: saving model to model_init_2023-05-1715_18_55.563885\\\n",
      "INFO:tensorflow:Assets written to: model_init_2023-05-1715_18_55.563885\\assets\n"
     ]
    },
    {
     "name": "stderr",
     "output_type": "stream",
     "text": [
      "INFO:tensorflow:Assets written to: model_init_2023-05-1715_18_55.563885\\assets\n"
     ]
    },
    {
     "name": "stdout",
     "output_type": "stream",
     "text": [
      "14/34 [===========>..................] - ETA: 4:02 - loss: 0.3232 - categorical_accuracy: 0.8875\n",
      "Epoch 7: saving model to model_init_2023-05-1715_18_55.563885\\\n",
      "INFO:tensorflow:Assets written to: model_init_2023-05-1715_18_55.563885\\assets\n"
     ]
    },
    {
     "name": "stderr",
     "output_type": "stream",
     "text": [
      "INFO:tensorflow:Assets written to: model_init_2023-05-1715_18_55.563885\\assets\n"
     ]
    },
    {
     "name": "stdout",
     "output_type": "stream",
     "text": [
      "15/34 [============>.................] - ETA: 3:49 - loss: 0.3143 - categorical_accuracy: 0.8917\n",
      "Epoch 7: saving model to model_init_2023-05-1715_18_55.563885\\\n",
      "INFO:tensorflow:Assets written to: model_init_2023-05-1715_18_55.563885\\assets\n"
     ]
    },
    {
     "name": "stderr",
     "output_type": "stream",
     "text": [
      "INFO:tensorflow:Assets written to: model_init_2023-05-1715_18_55.563885\\assets\n"
     ]
    },
    {
     "name": "stdout",
     "output_type": "stream",
     "text": [
      "16/34 [=============>................] - ETA: 3:37 - loss: 0.3079 - categorical_accuracy: 0.8969\n",
      "Epoch 7: saving model to model_init_2023-05-1715_18_55.563885\\\n",
      "INFO:tensorflow:Assets written to: model_init_2023-05-1715_18_55.563885\\assets\n"
     ]
    },
    {
     "name": "stderr",
     "output_type": "stream",
     "text": [
      "INFO:tensorflow:Assets written to: model_init_2023-05-1715_18_55.563885\\assets\n"
     ]
    },
    {
     "name": "stdout",
     "output_type": "stream",
     "text": [
      "17/34 [==============>...............] - ETA: 3:25 - loss: 0.3028 - categorical_accuracy: 0.8985\n",
      "Epoch 7: saving model to model_init_2023-05-1715_18_55.563885\\\n",
      "INFO:tensorflow:Assets written to: model_init_2023-05-1715_18_55.563885\\assets\n"
     ]
    },
    {
     "name": "stderr",
     "output_type": "stream",
     "text": [
      "INFO:tensorflow:Assets written to: model_init_2023-05-1715_18_55.563885\\assets\n"
     ]
    },
    {
     "name": "stdout",
     "output_type": "stream",
     "text": [
      "18/34 [==============>...............] - ETA: 3:12 - loss: 0.3019 - categorical_accuracy: 0.9014\n",
      "Epoch 7: saving model to model_init_2023-05-1715_18_55.563885\\\n",
      "INFO:tensorflow:Assets written to: model_init_2023-05-1715_18_55.563885\\assets\n"
     ]
    },
    {
     "name": "stderr",
     "output_type": "stream",
     "text": [
      "INFO:tensorflow:Assets written to: model_init_2023-05-1715_18_55.563885\\assets\n"
     ]
    },
    {
     "name": "stdout",
     "output_type": "stream",
     "text": [
      "19/34 [===============>..............] - ETA: 3:01 - loss: 0.3009 - categorical_accuracy: 0.9000\n",
      "Epoch 7: saving model to model_init_2023-05-1715_18_55.563885\\\n",
      "INFO:tensorflow:Assets written to: model_init_2023-05-1715_18_55.563885\\assets\n"
     ]
    },
    {
     "name": "stderr",
     "output_type": "stream",
     "text": [
      "INFO:tensorflow:Assets written to: model_init_2023-05-1715_18_55.563885\\assets\n"
     ]
    },
    {
     "name": "stdout",
     "output_type": "stream",
     "text": [
      "20/34 [================>.............] - ETA: 2:48 - loss: 0.3076 - categorical_accuracy: 0.8963\n",
      "Epoch 7: saving model to model_init_2023-05-1715_18_55.563885\\\n",
      "INFO:tensorflow:Assets written to: model_init_2023-05-1715_18_55.563885\\assets\n"
     ]
    },
    {
     "name": "stderr",
     "output_type": "stream",
     "text": [
      "INFO:tensorflow:Assets written to: model_init_2023-05-1715_18_55.563885\\assets\n"
     ]
    },
    {
     "name": "stdout",
     "output_type": "stream",
     "text": [
      "21/34 [=================>............] - ETA: 2:36 - loss: 0.3128 - categorical_accuracy: 0.8929\n",
      "Epoch 7: saving model to model_init_2023-05-1715_18_55.563885\\\n",
      "INFO:tensorflow:Assets written to: model_init_2023-05-1715_18_55.563885\\assets\n"
     ]
    },
    {
     "name": "stderr",
     "output_type": "stream",
     "text": [
      "INFO:tensorflow:Assets written to: model_init_2023-05-1715_18_55.563885\\assets\n"
     ]
    },
    {
     "name": "stdout",
     "output_type": "stream",
     "text": [
      "22/34 [==================>...........] - ETA: 2:24 - loss: 0.3145 - categorical_accuracy: 0.8932\n",
      "Epoch 7: saving model to model_init_2023-05-1715_18_55.563885\\\n",
      "INFO:tensorflow:Assets written to: model_init_2023-05-1715_18_55.563885\\assets\n"
     ]
    },
    {
     "name": "stderr",
     "output_type": "stream",
     "text": [
      "INFO:tensorflow:Assets written to: model_init_2023-05-1715_18_55.563885\\assets\n"
     ]
    },
    {
     "name": "stdout",
     "output_type": "stream",
     "text": [
      "23/34 [===================>..........] - ETA: 2:12 - loss: 0.3092 - categorical_accuracy: 0.8946\n",
      "Epoch 7: saving model to model_init_2023-05-1715_18_55.563885\\\n",
      "INFO:tensorflow:Assets written to: model_init_2023-05-1715_18_55.563885\\assets\n"
     ]
    },
    {
     "name": "stderr",
     "output_type": "stream",
     "text": [
      "INFO:tensorflow:Assets written to: model_init_2023-05-1715_18_55.563885\\assets\n"
     ]
    },
    {
     "name": "stdout",
     "output_type": "stream",
     "text": [
      "24/34 [====================>.........] - ETA: 2:00 - loss: 0.3104 - categorical_accuracy: 0.8917\n",
      "Epoch 7: saving model to model_init_2023-05-1715_18_55.563885\\\n",
      "INFO:tensorflow:Assets written to: model_init_2023-05-1715_18_55.563885\\assets\n"
     ]
    },
    {
     "name": "stderr",
     "output_type": "stream",
     "text": [
      "INFO:tensorflow:Assets written to: model_init_2023-05-1715_18_55.563885\\assets\n"
     ]
    },
    {
     "name": "stdout",
     "output_type": "stream",
     "text": [
      "25/34 [=====================>........] - ETA: 1:48 - loss: 0.3028 - categorical_accuracy: 0.8960\n",
      "Epoch 7: saving model to model_init_2023-05-1715_18_55.563885\\\n",
      "INFO:tensorflow:Assets written to: model_init_2023-05-1715_18_55.563885\\assets\n"
     ]
    },
    {
     "name": "stderr",
     "output_type": "stream",
     "text": [
      "INFO:tensorflow:Assets written to: model_init_2023-05-1715_18_55.563885\\assets\n"
     ]
    },
    {
     "name": "stdout",
     "output_type": "stream",
     "text": [
      "26/34 [=====================>........] - ETA: 1:36 - loss: 0.3016 - categorical_accuracy: 0.8952\n",
      "Epoch 7: saving model to model_init_2023-05-1715_18_55.563885\\\n",
      "INFO:tensorflow:Assets written to: model_init_2023-05-1715_18_55.563885\\assets\n"
     ]
    },
    {
     "name": "stderr",
     "output_type": "stream",
     "text": [
      "INFO:tensorflow:Assets written to: model_init_2023-05-1715_18_55.563885\\assets\n"
     ]
    },
    {
     "name": "stdout",
     "output_type": "stream",
     "text": [
      "27/34 [======================>.......] - ETA: 1:24 - loss: 0.2956 - categorical_accuracy: 0.8972\n",
      "Epoch 7: saving model to model_init_2023-05-1715_18_55.563885\\\n",
      "INFO:tensorflow:Assets written to: model_init_2023-05-1715_18_55.563885\\assets\n"
     ]
    },
    {
     "name": "stderr",
     "output_type": "stream",
     "text": [
      "INFO:tensorflow:Assets written to: model_init_2023-05-1715_18_55.563885\\assets\n"
     ]
    },
    {
     "name": "stdout",
     "output_type": "stream",
     "text": [
      "28/34 [=======================>......] - ETA: 1:12 - loss: 0.2949 - categorical_accuracy: 0.8964\n",
      "Epoch 7: saving model to model_init_2023-05-1715_18_55.563885\\\n",
      "INFO:tensorflow:Assets written to: model_init_2023-05-1715_18_55.563885\\assets\n"
     ]
    },
    {
     "name": "stderr",
     "output_type": "stream",
     "text": [
      "INFO:tensorflow:Assets written to: model_init_2023-05-1715_18_55.563885\\assets\n"
     ]
    },
    {
     "name": "stdout",
     "output_type": "stream",
     "text": [
      "29/34 [========================>.....] - ETA: 1:00 - loss: 0.2886 - categorical_accuracy: 0.9000\n",
      "Epoch 7: saving model to model_init_2023-05-1715_18_55.563885\\\n",
      "INFO:tensorflow:Assets written to: model_init_2023-05-1715_18_55.563885\\assets\n"
     ]
    },
    {
     "name": "stderr",
     "output_type": "stream",
     "text": [
      "INFO:tensorflow:Assets written to: model_init_2023-05-1715_18_55.563885\\assets\n"
     ]
    },
    {
     "name": "stdout",
     "output_type": "stream",
     "text": [
      "30/34 [=========================>....] - ETA: 48s - loss: 0.2952 - categorical_accuracy: 0.8958 \n",
      "Epoch 7: saving model to model_init_2023-05-1715_18_55.563885\\\n",
      "INFO:tensorflow:Assets written to: model_init_2023-05-1715_18_55.563885\\assets\n"
     ]
    },
    {
     "name": "stderr",
     "output_type": "stream",
     "text": [
      "INFO:tensorflow:Assets written to: model_init_2023-05-1715_18_55.563885\\assets\n"
     ]
    },
    {
     "name": "stdout",
     "output_type": "stream",
     "text": [
      "31/34 [==========================>...] - ETA: 36s - loss: 0.2923 - categorical_accuracy: 0.8976\n",
      "Epoch 7: saving model to model_init_2023-05-1715_18_55.563885\\\n",
      "INFO:tensorflow:Assets written to: model_init_2023-05-1715_18_55.563885\\assets\n"
     ]
    },
    {
     "name": "stderr",
     "output_type": "stream",
     "text": [
      "INFO:tensorflow:Assets written to: model_init_2023-05-1715_18_55.563885\\assets\n"
     ]
    },
    {
     "name": "stdout",
     "output_type": "stream",
     "text": [
      "32/34 [===========================>..] - ETA: 24s - loss: 0.2938 - categorical_accuracy: 0.8969\n",
      "Epoch 7: saving model to model_init_2023-05-1715_18_55.563885\\\n",
      "INFO:tensorflow:Assets written to: model_init_2023-05-1715_18_55.563885\\assets\n"
     ]
    },
    {
     "name": "stderr",
     "output_type": "stream",
     "text": [
      "INFO:tensorflow:Assets written to: model_init_2023-05-1715_18_55.563885\\assets\n"
     ]
    },
    {
     "name": "stdout",
     "output_type": "stream",
     "text": [
      "33/34 [============================>.] - ETA: 12s - loss: 0.2911 - categorical_accuracy: 0.8985\n",
      "Epoch 7: saving model to model_init_2023-05-1715_18_55.563885\\\n",
      "INFO:tensorflow:Assets written to: model_init_2023-05-1715_18_55.563885\\assets\n"
     ]
    },
    {
     "name": "stderr",
     "output_type": "stream",
     "text": [
      "INFO:tensorflow:Assets written to: model_init_2023-05-1715_18_55.563885\\assets\n"
     ]
    },
    {
     "name": "stdout",
     "output_type": "stream",
     "text": [
      "34/34 [==============================] - 413s 12s/step - loss: 0.2945 - categorical_accuracy: 0.8974 - val_loss: 2.2655 - val_categorical_accuracy: 0.2400 - lr: 2.0000e-04\n",
      "Epoch 8/20\n",
      "\n",
      "Epoch 8: saving model to model_init_2023-05-1715_18_55.563885\\\n",
      "INFO:tensorflow:Assets written to: model_init_2023-05-1715_18_55.563885\\assets\n"
     ]
    },
    {
     "name": "stderr",
     "output_type": "stream",
     "text": [
      "INFO:tensorflow:Assets written to: model_init_2023-05-1715_18_55.563885\\assets\n"
     ]
    },
    {
     "name": "stdout",
     "output_type": "stream",
     "text": [
      " 1/34 [..............................] - ETA: 6:40 - loss: 0.2351 - categorical_accuracy: 0.9000\n",
      "Epoch 8: saving model to model_init_2023-05-1715_18_55.563885\\\n",
      "INFO:tensorflow:Assets written to: model_init_2023-05-1715_18_55.563885\\assets\n"
     ]
    },
    {
     "name": "stderr",
     "output_type": "stream",
     "text": [
      "INFO:tensorflow:Assets written to: model_init_2023-05-1715_18_55.563885\\assets\n"
     ]
    },
    {
     "name": "stdout",
     "output_type": "stream",
     "text": [
      " 2/34 [>.............................] - ETA: 6:25 - loss: 0.3356 - categorical_accuracy: 0.8375\n",
      "Epoch 8: saving model to model_init_2023-05-1715_18_55.563885\\\n",
      "INFO:tensorflow:Assets written to: model_init_2023-05-1715_18_55.563885\\assets\n"
     ]
    },
    {
     "name": "stderr",
     "output_type": "stream",
     "text": [
      "INFO:tensorflow:Assets written to: model_init_2023-05-1715_18_55.563885\\assets\n"
     ]
    },
    {
     "name": "stdout",
     "output_type": "stream",
     "text": [
      " 3/34 [=>............................] - ETA: 6:19 - loss: 0.3088 - categorical_accuracy: 0.8583\n",
      "Epoch 8: saving model to model_init_2023-05-1715_18_55.563885\\\n",
      "INFO:tensorflow:Assets written to: model_init_2023-05-1715_18_55.563885\\assets\n"
     ]
    },
    {
     "name": "stderr",
     "output_type": "stream",
     "text": [
      "INFO:tensorflow:Assets written to: model_init_2023-05-1715_18_55.563885\\assets\n"
     ]
    },
    {
     "name": "stdout",
     "output_type": "stream",
     "text": [
      " 4/34 [==>...........................] - ETA: 6:04 - loss: 0.3317 - categorical_accuracy: 0.8562\n",
      "Epoch 8: saving model to model_init_2023-05-1715_18_55.563885\\\n",
      "INFO:tensorflow:Assets written to: model_init_2023-05-1715_18_55.563885\\assets\n"
     ]
    },
    {
     "name": "stderr",
     "output_type": "stream",
     "text": [
      "INFO:tensorflow:Assets written to: model_init_2023-05-1715_18_55.563885\\assets\n"
     ]
    },
    {
     "name": "stdout",
     "output_type": "stream",
     "text": [
      " 5/34 [===>..........................] - ETA: 5:50 - loss: 0.3443 - categorical_accuracy: 0.8550\n",
      "Epoch 8: saving model to model_init_2023-05-1715_18_55.563885\\\n",
      "INFO:tensorflow:Assets written to: model_init_2023-05-1715_18_55.563885\\assets\n"
     ]
    },
    {
     "name": "stderr",
     "output_type": "stream",
     "text": [
      "INFO:tensorflow:Assets written to: model_init_2023-05-1715_18_55.563885\\assets\n"
     ]
    },
    {
     "name": "stdout",
     "output_type": "stream",
     "text": [
      " 6/34 [====>.........................] - ETA: 5:37 - loss: 0.3295 - categorical_accuracy: 0.8625\n",
      "Epoch 8: saving model to model_init_2023-05-1715_18_55.563885\\\n",
      "INFO:tensorflow:Assets written to: model_init_2023-05-1715_18_55.563885\\assets\n"
     ]
    },
    {
     "name": "stderr",
     "output_type": "stream",
     "text": [
      "INFO:tensorflow:Assets written to: model_init_2023-05-1715_18_55.563885\\assets\n"
     ]
    },
    {
     "name": "stdout",
     "output_type": "stream",
     "text": [
      " 7/34 [=====>........................] - ETA: 5:22 - loss: 0.3088 - categorical_accuracy: 0.8786\n",
      "Epoch 8: saving model to model_init_2023-05-1715_18_55.563885\\\n",
      "INFO:tensorflow:Assets written to: model_init_2023-05-1715_18_55.563885\\assets\n"
     ]
    },
    {
     "name": "stderr",
     "output_type": "stream",
     "text": [
      "INFO:tensorflow:Assets written to: model_init_2023-05-1715_18_55.563885\\assets\n"
     ]
    },
    {
     "name": "stdout",
     "output_type": "stream",
     "text": [
      " 8/34 [======>.......................] - ETA: 5:11 - loss: 0.3056 - categorical_accuracy: 0.8844\n",
      "Epoch 8: saving model to model_init_2023-05-1715_18_55.563885\\\n",
      "INFO:tensorflow:Assets written to: model_init_2023-05-1715_18_55.563885\\assets\n"
     ]
    },
    {
     "name": "stderr",
     "output_type": "stream",
     "text": [
      "INFO:tensorflow:Assets written to: model_init_2023-05-1715_18_55.563885\\assets\n"
     ]
    },
    {
     "name": "stdout",
     "output_type": "stream",
     "text": [
      " 9/34 [======>.......................] - ETA: 4:59 - loss: 0.2940 - categorical_accuracy: 0.8889\n",
      "Epoch 8: saving model to model_init_2023-05-1715_18_55.563885\\\n",
      "INFO:tensorflow:Assets written to: model_init_2023-05-1715_18_55.563885\\assets\n"
     ]
    },
    {
     "name": "stderr",
     "output_type": "stream",
     "text": [
      "INFO:tensorflow:Assets written to: model_init_2023-05-1715_18_55.563885\\assets\n"
     ]
    },
    {
     "name": "stdout",
     "output_type": "stream",
     "text": [
      "10/34 [=======>......................] - ETA: 4:47 - loss: 0.2993 - categorical_accuracy: 0.8850\n",
      "Epoch 8: saving model to model_init_2023-05-1715_18_55.563885\\\n"
     ]
    },
    {
     "name": "stderr",
     "output_type": "stream",
     "text": [
      "C:\\Users\\fv1\\AppData\\Local\\Temp\\ipykernel_27376\\3543782872.py:56: DeprecationWarning: Starting with ImageIO v3 the behavior of this function will switch to that of iio.v3.imread. To keep the current behavior (and make this warning disappear) use `import imageio.v2 as imageio` or call `imageio.v2.imread` directly.\n",
      "  image = imageio.imread(source_path+'/'+ t[folder + (batch*batch_size)].strip().split(';')[0]+'/'+imgs[item]).astype(np.float32)\n"
     ]
    },
    {
     "name": "stdout",
     "output_type": "stream",
     "text": [
      "INFO:tensorflow:Assets written to: model_init_2023-05-1715_18_55.563885\\assets\n"
     ]
    },
    {
     "name": "stderr",
     "output_type": "stream",
     "text": [
      "INFO:tensorflow:Assets written to: model_init_2023-05-1715_18_55.563885\\assets\n"
     ]
    },
    {
     "name": "stdout",
     "output_type": "stream",
     "text": [
      "11/34 [========>.....................] - ETA: 4:35 - loss: 0.2864 - categorical_accuracy: 0.8909\n",
      "Epoch 8: saving model to model_init_2023-05-1715_18_55.563885\\\n",
      "INFO:tensorflow:Assets written to: model_init_2023-05-1715_18_55.563885\\assets\n"
     ]
    },
    {
     "name": "stderr",
     "output_type": "stream",
     "text": [
      "INFO:tensorflow:Assets written to: model_init_2023-05-1715_18_55.563885\\assets\n"
     ]
    },
    {
     "name": "stdout",
     "output_type": "stream",
     "text": [
      "12/34 [=========>....................] - ETA: 4:22 - loss: 0.2859 - categorical_accuracy: 0.8938\n",
      "Epoch 8: saving model to model_init_2023-05-1715_18_55.563885\\\n",
      "INFO:tensorflow:Assets written to: model_init_2023-05-1715_18_55.563885\\assets\n"
     ]
    },
    {
     "name": "stderr",
     "output_type": "stream",
     "text": [
      "INFO:tensorflow:Assets written to: model_init_2023-05-1715_18_55.563885\\assets\n"
     ]
    },
    {
     "name": "stdout",
     "output_type": "stream",
     "text": [
      "13/34 [==========>...................] - ETA: 4:11 - loss: 0.2850 - categorical_accuracy: 0.8942\n",
      "Epoch 8: saving model to model_init_2023-05-1715_18_55.563885\\\n",
      "INFO:tensorflow:Assets written to: model_init_2023-05-1715_18_55.563885\\assets\n"
     ]
    },
    {
     "name": "stderr",
     "output_type": "stream",
     "text": [
      "INFO:tensorflow:Assets written to: model_init_2023-05-1715_18_55.563885\\assets\n"
     ]
    },
    {
     "name": "stdout",
     "output_type": "stream",
     "text": [
      "14/34 [===========>..................] - ETA: 3:59 - loss: 0.2848 - categorical_accuracy: 0.8982\n",
      "Epoch 8: saving model to model_init_2023-05-1715_18_55.563885\\\n",
      "INFO:tensorflow:Assets written to: model_init_2023-05-1715_18_55.563885\\assets\n"
     ]
    },
    {
     "name": "stderr",
     "output_type": "stream",
     "text": [
      "INFO:tensorflow:Assets written to: model_init_2023-05-1715_18_55.563885\\assets\n"
     ]
    },
    {
     "name": "stdout",
     "output_type": "stream",
     "text": [
      "15/34 [============>.................] - ETA: 3:46 - loss: 0.2757 - categorical_accuracy: 0.9000\n",
      "Epoch 8: saving model to model_init_2023-05-1715_18_55.563885\\\n",
      "INFO:tensorflow:Assets written to: model_init_2023-05-1715_18_55.563885\\assets\n"
     ]
    },
    {
     "name": "stderr",
     "output_type": "stream",
     "text": [
      "INFO:tensorflow:Assets written to: model_init_2023-05-1715_18_55.563885\\assets\n"
     ]
    },
    {
     "name": "stdout",
     "output_type": "stream",
     "text": [
      "16/34 [=============>................] - ETA: 3:34 - loss: 0.2683 - categorical_accuracy: 0.9047\n",
      "Epoch 8: saving model to model_init_2023-05-1715_18_55.563885\\\n",
      "INFO:tensorflow:Assets written to: model_init_2023-05-1715_18_55.563885\\assets\n"
     ]
    },
    {
     "name": "stderr",
     "output_type": "stream",
     "text": [
      "INFO:tensorflow:Assets written to: model_init_2023-05-1715_18_55.563885\\assets\n"
     ]
    },
    {
     "name": "stdout",
     "output_type": "stream",
     "text": [
      "17/34 [==============>...............] - ETA: 3:25 - loss: 0.2696 - categorical_accuracy: 0.9044\n",
      "Epoch 8: saving model to model_init_2023-05-1715_18_55.563885\\\n",
      "INFO:tensorflow:Assets written to: model_init_2023-05-1715_18_55.563885\\assets\n"
     ]
    },
    {
     "name": "stderr",
     "output_type": "stream",
     "text": [
      "INFO:tensorflow:Assets written to: model_init_2023-05-1715_18_55.563885\\assets\n"
     ]
    },
    {
     "name": "stdout",
     "output_type": "stream",
     "text": [
      "18/34 [==============>...............] - ETA: 3:15 - loss: 0.2649 - categorical_accuracy: 0.9042\n",
      "Epoch 8: saving model to model_init_2023-05-1715_18_55.563885\\\n",
      "INFO:tensorflow:Assets written to: model_init_2023-05-1715_18_55.563885\\assets\n"
     ]
    },
    {
     "name": "stderr",
     "output_type": "stream",
     "text": [
      "INFO:tensorflow:Assets written to: model_init_2023-05-1715_18_55.563885\\assets\n"
     ]
    },
    {
     "name": "stdout",
     "output_type": "stream",
     "text": [
      "19/34 [===============>..............] - ETA: 3:03 - loss: 0.2684 - categorical_accuracy: 0.9039\n",
      "Epoch 8: saving model to model_init_2023-05-1715_18_55.563885\\\n",
      "INFO:tensorflow:Assets written to: model_init_2023-05-1715_18_55.563885\\assets\n"
     ]
    },
    {
     "name": "stderr",
     "output_type": "stream",
     "text": [
      "INFO:tensorflow:Assets written to: model_init_2023-05-1715_18_55.563885\\assets\n"
     ]
    },
    {
     "name": "stdout",
     "output_type": "stream",
     "text": [
      "20/34 [================>.............] - ETA: 2:50 - loss: 0.2794 - categorical_accuracy: 0.9025\n",
      "Epoch 8: saving model to model_init_2023-05-1715_18_55.563885\\\n",
      "INFO:tensorflow:Assets written to: model_init_2023-05-1715_18_55.563885\\assets\n"
     ]
    },
    {
     "name": "stderr",
     "output_type": "stream",
     "text": [
      "INFO:tensorflow:Assets written to: model_init_2023-05-1715_18_55.563885\\assets\n"
     ]
    },
    {
     "name": "stdout",
     "output_type": "stream",
     "text": [
      "21/34 [=================>............] - ETA: 2:38 - loss: 0.2743 - categorical_accuracy: 0.9060\n",
      "Epoch 8: saving model to model_init_2023-05-1715_18_55.563885\\\n",
      "INFO:tensorflow:Assets written to: model_init_2023-05-1715_18_55.563885\\assets\n"
     ]
    },
    {
     "name": "stderr",
     "output_type": "stream",
     "text": [
      "INFO:tensorflow:Assets written to: model_init_2023-05-1715_18_55.563885\\assets\n"
     ]
    },
    {
     "name": "stdout",
     "output_type": "stream",
     "text": [
      "22/34 [==================>...........] - ETA: 2:25 - loss: 0.2718 - categorical_accuracy: 0.9091\n",
      "Epoch 8: saving model to model_init_2023-05-1715_18_55.563885\\\n",
      "INFO:tensorflow:Assets written to: model_init_2023-05-1715_18_55.563885\\assets\n"
     ]
    },
    {
     "name": "stderr",
     "output_type": "stream",
     "text": [
      "INFO:tensorflow:Assets written to: model_init_2023-05-1715_18_55.563885\\assets\n"
     ]
    },
    {
     "name": "stdout",
     "output_type": "stream",
     "text": [
      "23/34 [===================>..........] - ETA: 2:13 - loss: 0.2684 - categorical_accuracy: 0.9120\n",
      "Epoch 8: saving model to model_init_2023-05-1715_18_55.563885\\\n",
      "INFO:tensorflow:Assets written to: model_init_2023-05-1715_18_55.563885\\assets\n"
     ]
    },
    {
     "name": "stderr",
     "output_type": "stream",
     "text": [
      "INFO:tensorflow:Assets written to: model_init_2023-05-1715_18_55.563885\\assets\n"
     ]
    },
    {
     "name": "stdout",
     "output_type": "stream",
     "text": [
      "24/34 [====================>.........] - ETA: 2:01 - loss: 0.2713 - categorical_accuracy: 0.9083\n",
      "Epoch 8: saving model to model_init_2023-05-1715_18_55.563885\\\n",
      "INFO:tensorflow:Assets written to: model_init_2023-05-1715_18_55.563885\\assets\n"
     ]
    },
    {
     "name": "stderr",
     "output_type": "stream",
     "text": [
      "INFO:tensorflow:Assets written to: model_init_2023-05-1715_18_55.563885\\assets\n"
     ]
    },
    {
     "name": "stdout",
     "output_type": "stream",
     "text": [
      "25/34 [=====================>........] - ETA: 1:49 - loss: 0.2677 - categorical_accuracy: 0.9110\n",
      "Epoch 8: saving model to model_init_2023-05-1715_18_55.563885\\\n",
      "INFO:tensorflow:Assets written to: model_init_2023-05-1715_18_55.563885\\assets\n"
     ]
    },
    {
     "name": "stderr",
     "output_type": "stream",
     "text": [
      "INFO:tensorflow:Assets written to: model_init_2023-05-1715_18_55.563885\\assets\n"
     ]
    },
    {
     "name": "stdout",
     "output_type": "stream",
     "text": [
      "26/34 [=====================>........] - ETA: 1:36 - loss: 0.2634 - categorical_accuracy: 0.9125\n",
      "Epoch 8: saving model to model_init_2023-05-1715_18_55.563885\\\n",
      "INFO:tensorflow:Assets written to: model_init_2023-05-1715_18_55.563885\\assets\n"
     ]
    },
    {
     "name": "stderr",
     "output_type": "stream",
     "text": [
      "INFO:tensorflow:Assets written to: model_init_2023-05-1715_18_55.563885\\assets\n"
     ]
    },
    {
     "name": "stdout",
     "output_type": "stream",
     "text": [
      "27/34 [======================>.......] - ETA: 1:24 - loss: 0.2601 - categorical_accuracy: 0.9130\n",
      "Epoch 8: saving model to model_init_2023-05-1715_18_55.563885\\\n",
      "INFO:tensorflow:Assets written to: model_init_2023-05-1715_18_55.563885\\assets\n"
     ]
    },
    {
     "name": "stderr",
     "output_type": "stream",
     "text": [
      "INFO:tensorflow:Assets written to: model_init_2023-05-1715_18_55.563885\\assets\n"
     ]
    },
    {
     "name": "stdout",
     "output_type": "stream",
     "text": [
      "28/34 [=======================>......] - ETA: 1:12 - loss: 0.2569 - categorical_accuracy: 0.9143\n",
      "Epoch 8: saving model to model_init_2023-05-1715_18_55.563885\\\n",
      "INFO:tensorflow:Assets written to: model_init_2023-05-1715_18_55.563885\\assets\n"
     ]
    },
    {
     "name": "stderr",
     "output_type": "stream",
     "text": [
      "INFO:tensorflow:Assets written to: model_init_2023-05-1715_18_55.563885\\assets\n"
     ]
    },
    {
     "name": "stdout",
     "output_type": "stream",
     "text": [
      "29/34 [========================>.....] - ETA: 1:00 - loss: 0.2543 - categorical_accuracy: 0.9155\n",
      "Epoch 8: saving model to model_init_2023-05-1715_18_55.563885\\\n",
      "INFO:tensorflow:Assets written to: model_init_2023-05-1715_18_55.563885\\assets\n"
     ]
    },
    {
     "name": "stderr",
     "output_type": "stream",
     "text": [
      "INFO:tensorflow:Assets written to: model_init_2023-05-1715_18_55.563885\\assets\n"
     ]
    },
    {
     "name": "stdout",
     "output_type": "stream",
     "text": [
      "30/34 [=========================>....] - ETA: 48s - loss: 0.2558 - categorical_accuracy: 0.9133 \n",
      "Epoch 8: saving model to model_init_2023-05-1715_18_55.563885\\\n",
      "INFO:tensorflow:Assets written to: model_init_2023-05-1715_18_55.563885\\assets\n"
     ]
    },
    {
     "name": "stderr",
     "output_type": "stream",
     "text": [
      "INFO:tensorflow:Assets written to: model_init_2023-05-1715_18_55.563885\\assets\n"
     ]
    },
    {
     "name": "stdout",
     "output_type": "stream",
     "text": [
      "31/34 [==========================>...] - ETA: 36s - loss: 0.2567 - categorical_accuracy: 0.9137\n",
      "Epoch 8: saving model to model_init_2023-05-1715_18_55.563885\\\n",
      "INFO:tensorflow:Assets written to: model_init_2023-05-1715_18_55.563885\\assets\n"
     ]
    },
    {
     "name": "stderr",
     "output_type": "stream",
     "text": [
      "INFO:tensorflow:Assets written to: model_init_2023-05-1715_18_55.563885\\assets\n"
     ]
    },
    {
     "name": "stdout",
     "output_type": "stream",
     "text": [
      "32/34 [===========================>..] - ETA: 24s - loss: 0.2521 - categorical_accuracy: 0.9156\n",
      "Epoch 8: saving model to model_init_2023-05-1715_18_55.563885\\\n",
      "INFO:tensorflow:Assets written to: model_init_2023-05-1715_18_55.563885\\assets\n"
     ]
    },
    {
     "name": "stderr",
     "output_type": "stream",
     "text": [
      "INFO:tensorflow:Assets written to: model_init_2023-05-1715_18_55.563885\\assets\n"
     ]
    },
    {
     "name": "stdout",
     "output_type": "stream",
     "text": [
      "33/34 [============================>.] - ETA: 12s - loss: 0.2513 - categorical_accuracy: 0.9167\n",
      "Epoch 8: saving model to model_init_2023-05-1715_18_55.563885\\\n",
      "INFO:tensorflow:Assets written to: model_init_2023-05-1715_18_55.563885\\assets\n"
     ]
    },
    {
     "name": "stderr",
     "output_type": "stream",
     "text": [
      "INFO:tensorflow:Assets written to: model_init_2023-05-1715_18_55.563885\\assets\n"
     ]
    },
    {
     "name": "stdout",
     "output_type": "stream",
     "text": [
      "34/34 [==============================] - 418s 12s/step - loss: 0.2508 - categorical_accuracy: 0.9170 - val_loss: 2.2044 - val_categorical_accuracy: 0.2200 - lr: 2.0000e-04\n",
      "Epoch 9/20\n",
      "\n",
      "Epoch 9: saving model to model_init_2023-05-1715_18_55.563885\\\n",
      "INFO:tensorflow:Assets written to: model_init_2023-05-1715_18_55.563885\\assets\n"
     ]
    },
    {
     "name": "stderr",
     "output_type": "stream",
     "text": [
      "INFO:tensorflow:Assets written to: model_init_2023-05-1715_18_55.563885\\assets\n"
     ]
    },
    {
     "name": "stdout",
     "output_type": "stream",
     "text": [
      " 1/34 [..............................] - ETA: 6:24 - loss: 0.3209 - categorical_accuracy: 0.8500\n",
      "Epoch 9: saving model to model_init_2023-05-1715_18_55.563885\\\n",
      "INFO:tensorflow:Assets written to: model_init_2023-05-1715_18_55.563885\\assets\n"
     ]
    },
    {
     "name": "stderr",
     "output_type": "stream",
     "text": [
      "INFO:tensorflow:Assets written to: model_init_2023-05-1715_18_55.563885\\assets\n"
     ]
    },
    {
     "name": "stdout",
     "output_type": "stream",
     "text": [
      " 2/34 [>.............................] - ETA: 6:32 - loss: 0.2397 - categorical_accuracy: 0.9000\n",
      "Epoch 9: saving model to model_init_2023-05-1715_18_55.563885\\\n",
      "INFO:tensorflow:Assets written to: model_init_2023-05-1715_18_55.563885\\assets\n"
     ]
    },
    {
     "name": "stderr",
     "output_type": "stream",
     "text": [
      "INFO:tensorflow:Assets written to: model_init_2023-05-1715_18_55.563885\\assets\n"
     ]
    },
    {
     "name": "stdout",
     "output_type": "stream",
     "text": [
      " 3/34 [=>............................] - ETA: 6:15 - loss: 0.1934 - categorical_accuracy: 0.9250\n",
      "Epoch 9: saving model to model_init_2023-05-1715_18_55.563885\\\n",
      "INFO:tensorflow:Assets written to: model_init_2023-05-1715_18_55.563885\\assets\n"
     ]
    },
    {
     "name": "stderr",
     "output_type": "stream",
     "text": [
      "INFO:tensorflow:Assets written to: model_init_2023-05-1715_18_55.563885\\assets\n"
     ]
    },
    {
     "name": "stdout",
     "output_type": "stream",
     "text": [
      " 4/34 [==>...........................] - ETA: 5:54 - loss: 0.2490 - categorical_accuracy: 0.9125\n",
      "Epoch 9: saving model to model_init_2023-05-1715_18_55.563885\\\n",
      "INFO:tensorflow:Assets written to: model_init_2023-05-1715_18_55.563885\\assets\n"
     ]
    },
    {
     "name": "stderr",
     "output_type": "stream",
     "text": [
      "INFO:tensorflow:Assets written to: model_init_2023-05-1715_18_55.563885\\assets\n"
     ]
    },
    {
     "name": "stdout",
     "output_type": "stream",
     "text": [
      " 5/34 [===>..........................] - ETA: 5:42 - loss: 0.2425 - categorical_accuracy: 0.9150\n",
      "Epoch 9: saving model to model_init_2023-05-1715_18_55.563885\\\n",
      "INFO:tensorflow:Assets written to: model_init_2023-05-1715_18_55.563885\\assets\n"
     ]
    },
    {
     "name": "stderr",
     "output_type": "stream",
     "text": [
      "INFO:tensorflow:Assets written to: model_init_2023-05-1715_18_55.563885\\assets\n"
     ]
    },
    {
     "name": "stdout",
     "output_type": "stream",
     "text": [
      " 6/34 [====>.........................] - ETA: 5:28 - loss: 0.2237 - categorical_accuracy: 0.9250\n",
      "Epoch 9: saving model to model_init_2023-05-1715_18_55.563885\\\n",
      "INFO:tensorflow:Assets written to: model_init_2023-05-1715_18_55.563885\\assets\n"
     ]
    },
    {
     "name": "stderr",
     "output_type": "stream",
     "text": [
      "INFO:tensorflow:Assets written to: model_init_2023-05-1715_18_55.563885\\assets\n"
     ]
    },
    {
     "name": "stdout",
     "output_type": "stream",
     "text": [
      " 7/34 [=====>........................] - ETA: 5:14 - loss: 0.2477 - categorical_accuracy: 0.9214\n",
      "Epoch 9: saving model to model_init_2023-05-1715_18_55.563885\\\n",
      "INFO:tensorflow:Assets written to: model_init_2023-05-1715_18_55.563885\\assets\n"
     ]
    },
    {
     "name": "stderr",
     "output_type": "stream",
     "text": [
      "INFO:tensorflow:Assets written to: model_init_2023-05-1715_18_55.563885\\assets\n"
     ]
    },
    {
     "name": "stdout",
     "output_type": "stream",
     "text": [
      " 8/34 [======>.......................] - ETA: 5:06 - loss: 0.2332 - categorical_accuracy: 0.9250\n",
      "Epoch 9: saving model to model_init_2023-05-1715_18_55.563885\\\n",
      "INFO:tensorflow:Assets written to: model_init_2023-05-1715_18_55.563885\\assets\n"
     ]
    },
    {
     "name": "stderr",
     "output_type": "stream",
     "text": [
      "INFO:tensorflow:Assets written to: model_init_2023-05-1715_18_55.563885\\assets\n"
     ]
    },
    {
     "name": "stdout",
     "output_type": "stream",
     "text": [
      " 9/34 [======>.......................] - ETA: 4:54 - loss: 0.2278 - categorical_accuracy: 0.9278\n",
      "Epoch 9: saving model to model_init_2023-05-1715_18_55.563885\\\n",
      "INFO:tensorflow:Assets written to: model_init_2023-05-1715_18_55.563885\\assets\n"
     ]
    },
    {
     "name": "stderr",
     "output_type": "stream",
     "text": [
      "INFO:tensorflow:Assets written to: model_init_2023-05-1715_18_55.563885\\assets\n"
     ]
    },
    {
     "name": "stdout",
     "output_type": "stream",
     "text": [
      "10/34 [=======>......................] - ETA: 4:41 - loss: 0.2287 - categorical_accuracy: 0.9300\n",
      "Epoch 9: saving model to model_init_2023-05-1715_18_55.563885\\\n",
      "INFO:tensorflow:Assets written to: model_init_2023-05-1715_18_55.563885\\assets\n"
     ]
    },
    {
     "name": "stderr",
     "output_type": "stream",
     "text": [
      "INFO:tensorflow:Assets written to: model_init_2023-05-1715_18_55.563885\\assets\n"
     ]
    },
    {
     "name": "stdout",
     "output_type": "stream",
     "text": [
      "11/34 [========>.....................] - ETA: 4:30 - loss: 0.2165 - categorical_accuracy: 0.9364\n",
      "Epoch 9: saving model to model_init_2023-05-1715_18_55.563885\\\n",
      "INFO:tensorflow:Assets written to: model_init_2023-05-1715_18_55.563885\\assets\n"
     ]
    },
    {
     "name": "stderr",
     "output_type": "stream",
     "text": [
      "INFO:tensorflow:Assets written to: model_init_2023-05-1715_18_55.563885\\assets\n"
     ]
    },
    {
     "name": "stdout",
     "output_type": "stream",
     "text": [
      "12/34 [=========>....................] - ETA: 4:19 - loss: 0.2082 - categorical_accuracy: 0.9396\n",
      "Epoch 9: saving model to model_init_2023-05-1715_18_55.563885\\\n",
      "INFO:tensorflow:Assets written to: model_init_2023-05-1715_18_55.563885\\assets\n"
     ]
    },
    {
     "name": "stderr",
     "output_type": "stream",
     "text": [
      "INFO:tensorflow:Assets written to: model_init_2023-05-1715_18_55.563885\\assets\n"
     ]
    },
    {
     "name": "stdout",
     "output_type": "stream",
     "text": [
      "13/34 [==========>...................] - ETA: 4:06 - loss: 0.2097 - categorical_accuracy: 0.9365\n",
      "Epoch 9: saving model to model_init_2023-05-1715_18_55.563885\\\n",
      "INFO:tensorflow:Assets written to: model_init_2023-05-1715_18_55.563885\\assets\n"
     ]
    },
    {
     "name": "stderr",
     "output_type": "stream",
     "text": [
      "INFO:tensorflow:Assets written to: model_init_2023-05-1715_18_55.563885\\assets\n"
     ]
    },
    {
     "name": "stdout",
     "output_type": "stream",
     "text": [
      "14/34 [===========>..................] - ETA: 3:55 - loss: 0.2004 - categorical_accuracy: 0.9411\n",
      "Epoch 9: saving model to model_init_2023-05-1715_18_55.563885\\\n",
      "INFO:tensorflow:Assets written to: model_init_2023-05-1715_18_55.563885\\assets\n"
     ]
    },
    {
     "name": "stderr",
     "output_type": "stream",
     "text": [
      "INFO:tensorflow:Assets written to: model_init_2023-05-1715_18_55.563885\\assets\n"
     ]
    },
    {
     "name": "stdout",
     "output_type": "stream",
     "text": [
      "15/34 [============>.................] - ETA: 3:43 - loss: 0.1988 - categorical_accuracy: 0.9417\n",
      "Epoch 9: saving model to model_init_2023-05-1715_18_55.563885\\\n",
      "INFO:tensorflow:Assets written to: model_init_2023-05-1715_18_55.563885\\assets\n"
     ]
    },
    {
     "name": "stderr",
     "output_type": "stream",
     "text": [
      "INFO:tensorflow:Assets written to: model_init_2023-05-1715_18_55.563885\\assets\n"
     ]
    },
    {
     "name": "stdout",
     "output_type": "stream",
     "text": [
      "16/34 [=============>................] - ETA: 3:31 - loss: 0.1914 - categorical_accuracy: 0.9453\n",
      "Epoch 9: saving model to model_init_2023-05-1715_18_55.563885\\\n",
      "INFO:tensorflow:Assets written to: model_init_2023-05-1715_18_55.563885\\assets\n"
     ]
    },
    {
     "name": "stderr",
     "output_type": "stream",
     "text": [
      "INFO:tensorflow:Assets written to: model_init_2023-05-1715_18_55.563885\\assets\n"
     ]
    },
    {
     "name": "stdout",
     "output_type": "stream",
     "text": [
      "17/34 [==============>...............] - ETA: 3:19 - loss: 0.2031 - categorical_accuracy: 0.9382\n",
      "Epoch 9: saving model to model_init_2023-05-1715_18_55.563885\\\n",
      "INFO:tensorflow:Assets written to: model_init_2023-05-1715_18_55.563885\\assets\n"
     ]
    },
    {
     "name": "stderr",
     "output_type": "stream",
     "text": [
      "INFO:tensorflow:Assets written to: model_init_2023-05-1715_18_55.563885\\assets\n"
     ]
    },
    {
     "name": "stdout",
     "output_type": "stream",
     "text": [
      "18/34 [==============>...............] - ETA: 3:07 - loss: 0.2086 - categorical_accuracy: 0.9347\n",
      "Epoch 9: saving model to model_init_2023-05-1715_18_55.563885\\\n",
      "INFO:tensorflow:Assets written to: model_init_2023-05-1715_18_55.563885\\assets\n"
     ]
    },
    {
     "name": "stderr",
     "output_type": "stream",
     "text": [
      "INFO:tensorflow:Assets written to: model_init_2023-05-1715_18_55.563885\\assets\n"
     ]
    },
    {
     "name": "stdout",
     "output_type": "stream",
     "text": [
      "19/34 [===============>..............] - ETA: 2:55 - loss: 0.2139 - categorical_accuracy: 0.9316\n",
      "Epoch 9: saving model to model_init_2023-05-1715_18_55.563885\\\n",
      "INFO:tensorflow:Assets written to: model_init_2023-05-1715_18_55.563885\\assets\n"
     ]
    },
    {
     "name": "stderr",
     "output_type": "stream",
     "text": [
      "INFO:tensorflow:Assets written to: model_init_2023-05-1715_18_55.563885\\assets\n"
     ]
    },
    {
     "name": "stdout",
     "output_type": "stream",
     "text": [
      "20/34 [================>.............] - ETA: 2:44 - loss: 0.2090 - categorical_accuracy: 0.9350\n",
      "Epoch 9: saving model to model_init_2023-05-1715_18_55.563885\\\n",
      "INFO:tensorflow:Assets written to: model_init_2023-05-1715_18_55.563885\\assets\n"
     ]
    },
    {
     "name": "stderr",
     "output_type": "stream",
     "text": [
      "INFO:tensorflow:Assets written to: model_init_2023-05-1715_18_55.563885\\assets\n"
     ]
    },
    {
     "name": "stdout",
     "output_type": "stream",
     "text": [
      "21/34 [=================>............] - ETA: 2:32 - loss: 0.2052 - categorical_accuracy: 0.9369\n",
      "Epoch 9: saving model to model_init_2023-05-1715_18_55.563885\\\n",
      "INFO:tensorflow:Assets written to: model_init_2023-05-1715_18_55.563885\\assets\n"
     ]
    },
    {
     "name": "stderr",
     "output_type": "stream",
     "text": [
      "INFO:tensorflow:Assets written to: model_init_2023-05-1715_18_55.563885\\assets\n"
     ]
    },
    {
     "name": "stdout",
     "output_type": "stream",
     "text": [
      "22/34 [==================>...........] - ETA: 2:20 - loss: 0.2073 - categorical_accuracy: 0.9364\n",
      "Epoch 9: saving model to model_init_2023-05-1715_18_55.563885\\\n",
      "INFO:tensorflow:Assets written to: model_init_2023-05-1715_18_55.563885\\assets\n"
     ]
    },
    {
     "name": "stderr",
     "output_type": "stream",
     "text": [
      "INFO:tensorflow:Assets written to: model_init_2023-05-1715_18_55.563885\\assets\n"
     ]
    },
    {
     "name": "stdout",
     "output_type": "stream",
     "text": [
      "23/34 [===================>..........] - ETA: 2:08 - loss: 0.2045 - categorical_accuracy: 0.9359\n",
      "Epoch 9: saving model to model_init_2023-05-1715_18_55.563885\\\n",
      "INFO:tensorflow:Assets written to: model_init_2023-05-1715_18_55.563885\\assets\n"
     ]
    },
    {
     "name": "stderr",
     "output_type": "stream",
     "text": [
      "INFO:tensorflow:Assets written to: model_init_2023-05-1715_18_55.563885\\assets\n"
     ]
    },
    {
     "name": "stdout",
     "output_type": "stream",
     "text": [
      "24/34 [====================>.........] - ETA: 1:57 - loss: 0.2059 - categorical_accuracy: 0.9354\n",
      "Epoch 9: saving model to model_init_2023-05-1715_18_55.563885\\\n",
      "INFO:tensorflow:Assets written to: model_init_2023-05-1715_18_55.563885\\assets\n"
     ]
    },
    {
     "name": "stderr",
     "output_type": "stream",
     "text": [
      "INFO:tensorflow:Assets written to: model_init_2023-05-1715_18_55.563885\\assets\n"
     ]
    },
    {
     "name": "stdout",
     "output_type": "stream",
     "text": [
      "25/34 [=====================>........] - ETA: 1:45 - loss: 0.2020 - categorical_accuracy: 0.9380\n",
      "Epoch 9: saving model to model_init_2023-05-1715_18_55.563885\\\n",
      "INFO:tensorflow:Assets written to: model_init_2023-05-1715_18_55.563885\\assets\n"
     ]
    },
    {
     "name": "stderr",
     "output_type": "stream",
     "text": [
      "INFO:tensorflow:Assets written to: model_init_2023-05-1715_18_55.563885\\assets\n"
     ]
    },
    {
     "name": "stdout",
     "output_type": "stream",
     "text": [
      "26/34 [=====================>........] - ETA: 1:33 - loss: 0.1982 - categorical_accuracy: 0.9394\n",
      "Epoch 9: saving model to model_init_2023-05-1715_18_55.563885\\\n",
      "INFO:tensorflow:Assets written to: model_init_2023-05-1715_18_55.563885\\assets\n"
     ]
    },
    {
     "name": "stderr",
     "output_type": "stream",
     "text": [
      "INFO:tensorflow:Assets written to: model_init_2023-05-1715_18_55.563885\\assets\n"
     ]
    },
    {
     "name": "stdout",
     "output_type": "stream",
     "text": [
      "27/34 [======================>.......] - ETA: 1:22 - loss: 0.1971 - categorical_accuracy: 0.9389\n",
      "Epoch 9: saving model to model_init_2023-05-1715_18_55.563885\\\n",
      "INFO:tensorflow:Assets written to: model_init_2023-05-1715_18_55.563885\\assets\n"
     ]
    },
    {
     "name": "stderr",
     "output_type": "stream",
     "text": [
      "INFO:tensorflow:Assets written to: model_init_2023-05-1715_18_55.563885\\assets\n"
     ]
    },
    {
     "name": "stdout",
     "output_type": "stream",
     "text": [
      "28/34 [=======================>......] - ETA: 1:10 - loss: 0.1997 - categorical_accuracy: 0.9384\n",
      "Epoch 9: saving model to model_init_2023-05-1715_18_55.563885\\\n"
     ]
    }
   ],
   "source": [
    "print(\"Total Params:\", rnn_cnn1_model.count_params())\n",
    "history_model4=rnn_cnn1.train_model(rnn_cnn1_model,augment_data=True)"
   ]
  },
  {
   "cell_type": "code",
   "execution_count": null,
   "id": "a2aad8de",
   "metadata": {},
   "outputs": [],
   "source": [
    "plot(history_model4)"
   ]
  },
  {
   "cell_type": "markdown",
   "id": "29a5babc",
   "metadata": {},
   "source": [
    "##### For CNN - LSTM model we get a best validation accuracy of 75%"
   ]
  },
  {
   "cell_type": "markdown",
   "id": "686462ea",
   "metadata": {},
   "source": [
    "### As we see more cases of overfitting, lets augment the data with slight rotation as well and run the same set of models again"
   ]
  },
  {
   "cell_type": "markdown",
   "id": "9584d4c7",
   "metadata": {},
   "source": [
    "# Model 5 - CNN LSTM with GRU - Similar to Model 9"
   ]
  },
  {
   "cell_type": "code",
   "execution_count": null,
   "id": "828bf63f",
   "metadata": {},
   "outputs": [],
   "source": [
    "class RNNCNN2(ModelBuilderMoreAugmentation):\n",
    "    \n",
    "    def define_model(self,lstm_cells=64,dense_neurons=64,dropout=0.25):\n",
    "\n",
    "        model = Sequential()\n",
    "\n",
    "        model.add(TimeDistributed(Conv2D(16, (3, 3) , padding='same', activation='relu'),\n",
    "                                  input_shape=(self.frames_to_sample,self.image_height,self.image_width,self.channels)))\n",
    "        model.add(TimeDistributed(BatchNormalization()))\n",
    "        model.add(TimeDistributed(MaxPooling2D((2, 2))))\n",
    "        \n",
    "        model.add(TimeDistributed(Conv2D(32, (3, 3) , padding='same', activation='relu')))\n",
    "        model.add(TimeDistributed(BatchNormalization()))\n",
    "        model.add(TimeDistributed(MaxPooling2D((2, 2))))\n",
    "        \n",
    "        model.add(TimeDistributed(Conv2D(64, (3, 3) , padding='same', activation='relu')))\n",
    "        model.add(TimeDistributed(BatchNormalization()))\n",
    "        model.add(TimeDistributed(MaxPooling2D((2, 2))))\n",
    "        \n",
    "        model.add(TimeDistributed(Conv2D(128, (3, 3) , padding='same', activation='relu')))\n",
    "        model.add(TimeDistributed(BatchNormalization()))\n",
    "        model.add(TimeDistributed(MaxPooling2D((2, 2))))\n",
    "        \n",
    "\n",
    "        model.add(TimeDistributed(Flatten()))\n",
    "\n",
    "\n",
    "        model.add(GRU(lstm_cells))\n",
    "        model.add(Dropout(dropout))\n",
    "        \n",
    "        model.add(Dense(dense_neurons,activation='relu'))\n",
    "        model.add(Dropout(dropout))\n",
    "        \n",
    "        model.add(Dense(self.num_classes, activation='softmax'))\n",
    "        optimiser = optimizers.Adam(lr=0.0002)\n",
    "        model.compile(optimizer=optimiser, loss='categorical_crossentropy', metrics=['categorical_accuracy'])\n",
    "        return model"
   ]
  },
  {
   "cell_type": "code",
   "execution_count": null,
   "id": "40d80f45",
   "metadata": {},
   "outputs": [],
   "source": [
    "rnn_cnn2=RNNCNN2()\n",
    "rnn_cnn2.initialize_path(project_folder)\n",
    "rnn_cnn2.initialize_image_properties(image_height=120,image_width=120)\n",
    "rnn_cnn2.initialize_hyperparams(frames_to_sample=18,batch_size=20,num_epochs=20)\n",
    "rnn_cnn2_model=rnn_cnn2.define_model(lstm_cells=128,dense_neurons=128,dropout=0.25)\n",
    "rnn_cnn2_model.summary()"
   ]
  },
  {
   "cell_type": "code",
   "execution_count": null,
   "id": "86d13246",
   "metadata": {},
   "outputs": [],
   "source": [
    "print(\"Total Params:\", rnn_cnn2_model.count_params())\n",
    "history_model5=rnn_cnn2.train_model(rnn_cnn2_model,augment_data=True)"
   ]
  },
  {
   "cell_type": "code",
   "execution_count": null,
   "id": "20ce86b9",
   "metadata": {},
   "outputs": [],
   "source": [
    "plot(history_model5)"
   ]
  },
  {
   "cell_type": "markdown",
   "id": "a6ffa919",
   "metadata": {},
   "source": [
    "### We see that overfitting is considerably less when we do more augmentation. However there is not much improvement on accuracy"
   ]
  },
  {
   "cell_type": "code",
   "execution_count": null,
   "id": "de7e44b0",
   "metadata": {},
   "outputs": [],
   "source": [
    "from keras.applications import mobilenet"
   ]
  },
  {
   "cell_type": "markdown",
   "id": "bd679be2",
   "metadata": {},
   "source": [
    "# Model 6 - Transfer Learning with GRU and training all weights"
   ]
  },
  {
   "cell_type": "code",
   "execution_count": null,
   "id": "5017cffa",
   "metadata": {},
   "outputs": [],
   "source": [
    "from keras.applications import mobilenet\n",
    "\n",
    "mobilenet_transfer = mobilenet.MobileNet(weights='imagenet', include_top=False)\n",
    "\n",
    "class RNNCNN_TL2(ModelBuilderMoreAugmentation):\n",
    "    \n",
    "    def define_model(self,gru_cells=64,dense_neurons=64,dropout=0.25):\n",
    "        \n",
    "        model = Sequential()\n",
    "        model.add(TimeDistributed(mobilenet_transfer,input_shape=(self.frames_to_sample,self.image_height,self.image_width,self.channels)))\n",
    " \n",
    "        \n",
    "        model.add(TimeDistributed(BatchNormalization()))\n",
    "        model.add(TimeDistributed(MaxPooling2D((2, 2))))\n",
    "        model.add(TimeDistributed(Flatten()))\n",
    "\n",
    "        model.add(GRU(gru_cells))\n",
    "        model.add(Dropout(dropout))\n",
    "        \n",
    "        model.add(Dense(dense_neurons,activation='relu'))\n",
    "        model.add(Dropout(dropout))\n",
    "        \n",
    "        model.add(Dense(self.num_classes, activation='softmax'))\n",
    "        \n",
    "        \n",
    "        optimiser = optimizers.Adam()\n",
    "        model.compile(optimizer=optimiser, loss='categorical_crossentropy', metrics=['categorical_accuracy'])\n",
    "        return model"
   ]
  },
  {
   "cell_type": "code",
   "execution_count": null,
   "id": "1c17320c",
   "metadata": {},
   "outputs": [],
   "source": [
    "rnn_cnn_tl2=RNNCNN_TL2()\n",
    "rnn_cnn_tl2.initialize_path(project_folder)\n",
    "rnn_cnn_tl2.initialize_image_properties(image_height=120,image_width=120)\n",
    "rnn_cnn_tl2.initialize_hyperparams(frames_to_sample=16,batch_size=5,num_epochs=20)\n",
    "rnn_cnn_tl2_model=rnn_cnn_tl2.define_model(gru_cells=128,dense_neurons=128,dropout=0.25)\n",
    "rnn_cnn_tl2_model.summary()"
   ]
  },
  {
   "cell_type": "code",
   "execution_count": null,
   "id": "2e250ec6",
   "metadata": {},
   "outputs": [],
   "source": [
    "print(\"Total Params:\", rnn_cnn_tl2_model.count_params())\n",
    "history_model6=rnn_cnn_tl2.train_model(rnn_cnn_tl2_model,augment_data=True)"
   ]
  },
  {
   "cell_type": "code",
   "execution_count": null,
   "id": "d9035a84",
   "metadata": {},
   "outputs": [],
   "source": [
    "plot(history_model6)"
   ]
  },
  {
   "cell_type": "markdown",
   "id": "d997c611",
   "metadata": {},
   "source": [
    "# Consolidated Final Models"
   ]
  },
  {
   "cell_type": "code",
   "execution_count": null,
   "id": "2032b31e",
   "metadata": {},
   "outputs": [],
   "source": [
    "##add tablr of all model"
   ]
  },
  {
   "cell_type": "markdown",
   "id": "2759e35f",
   "metadata": {},
   "source": [
    "# Loading model and Testing"
   ]
  },
  {
   "cell_type": "code",
   "execution_count": null,
   "id": "1393cd25",
   "metadata": {},
   "outputs": [],
   "source": [
    "import time\n",
    "from keras.models import load_model\n",
    "model = load_model('conv3d_model-10-0.39118-0.86425-0.59927-0.86000.h5')"
   ]
  },
  {
   "cell_type": "code",
   "execution_count": null,
   "id": "d34f3501",
   "metadata": {},
   "outputs": [],
   "source": [
    "test_generator=ModelConv3D2()\n",
    "test_generator.initialize_path(project_folder)\n",
    "test_generator.initialize_image_properties(image_height=160,image_width=160)\n",
    "test_generator.initialize_hyperparams(frames_to_sample=20,batch_size=5,num_epochs=1)\n",
    "\n",
    "g=test_generator.generator(test_generator.val_path,test_generator.val_doc,augment=False)\n",
    "batch_data, batch_labels=next(g)"
   ]
  },
  {
   "cell_type": "code",
   "execution_count": null,
   "id": "1c3da335",
   "metadata": {},
   "outputs": [],
   "source": [
    "batch_labels"
   ]
  },
  {
   "cell_type": "code",
   "execution_count": null,
   "id": "8d110a8f",
   "metadata": {},
   "outputs": [],
   "source": [
    "print(np.argmax(model.predict(batch_data[:,:,:,:,:]),axis=1))"
   ]
  },
  {
   "cell_type": "markdown",
   "id": "aa962557",
   "metadata": {},
   "source": [
    "## Model Overview\n",
    "\n",
    "| Model Name     | Model Type | Number of parameters | Augment Data | Model Size(in MB) | Highest Validation accuracy | Corres-ponding Training accuracy | Observations                                                                                                                                                               |\n",
    "|----------------|------------|----------------------|--------------|-------------------|-----------------------------|----------------------------------|----------------------------------------------------------------------------------------------------------------------------------------------------------------------------|\n",
    "| conv_3d1_model | Conv3D     | 1,117,061            | No           | NA                | 78%                         | 99%                              | Model is over-fitting. Augment data using cropping                                                                                                                         |\n",
    "| conv_3d2_model | Conv3D     | 3,638,981            | Yes          | 43.8              | 85%                         | 91%                              | Model is not over-fitting. Next we will try to reduce the parameter size. Moreover since we see minor oscillations in loss, let's try lowering the learning rate to 0.0002 |\n",
    "\n",
    "| conv_3d3_model | Conv3D     | 504,709              | Yes          | 6.15              | 77%                         | 85%                              |                                                                                                                                                                    \n",
    "| rnn_cnn1_model | CNN-LSTM   | 1,657,445            | Yes          | 20                | 75%                         | 92%                              | Model is over-fitting. Let’s try reducing the number of layers in next iteration                                                                                           |\n",
    "\n",
    "## Models with More Data Augmentation\n",
    "## Transfer Learning Models (CNN + RNN)\n",
    "### Mobilenet model is considered as its parameter size is less compared to Inception and Resnet models\n",
    "\n",
    "| Model Name        | Number of parameters | Augment Data | Model Size(in MB) | Highest validation accuracy | Corres-ponding Training accuracy | Observations                                                                                                                                     |\n",
    "|-------------------|----------------------|--------------|-------------------|-----------------------------|----------------------------------|--------------------------------------------------------------------------------------------------------------------------------------------------|\n",
    "| rnn_cnn_tl_model  | 3,840,453            | Yes          | 20.4              | 56%                         | 85%                              | For this experiment, Mobilenet layer weights are not trained. Validation accuracy is very poor. So let’s train mobilenet layer’s weights as well |\n",
    "| rnn_cnn_tl2_model | 3,692,869            | Yes          | 42.3              | 97%                         | 99%                              | We get a better accuracy on training mobilenet layer’s weights as well.                                                                          |\n"
   ]
  }
 ],
 "metadata": {
  "kernelspec": {
   "display_name": "Python 3",
   "language": "python",
   "name": "python3"
  },
  "language_info": {
   "codemirror_mode": {
    "name": "ipython",
    "version": 3
   },
   "file_extension": ".py",
   "mimetype": "text/x-python",
   "name": "python",
   "nbconvert_exporter": "python",
   "pygments_lexer": "ipython3",
   "version": "3.6.13"
  }
 },
 "nbformat": 4,
 "nbformat_minor": 5
}
